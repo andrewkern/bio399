{
 "cells": [
  {
   "cell_type": "markdown",
   "metadata": {},
   "source": [
    "# Week 3-- Dynamic programming, alignment, sequences\n",
    "In this week we will turn our attention to a slightly more meaty computational topic-- sequence alignment. Our goal through the end of week three is to create a multiple alignment from a set of SARS-CoV-2 genomes that we might play with in coming weeks.\n",
    "\n",
    "As we talked about in lecture, the problem of sequence alignment arises because of the need for us to be comparing apples to apples between genomes. That is to say that we want to try to ensure that we are considering *homologous* traits, in this case basepairs of the genome, when we start to consider the evolutionary relationships among DNA sequences. \n",
    "\n",
    "Consider the number of ways in which two DNA sequences can be aligned one to another. It's easy enough to imagine that as these sequences themselves get longer, so too does the number of possible alignments. To figure out which alignment among all of these possibilities is the best will be a challenge, so we're gonna need a clever algorithm that allows us to compute stuff cheaply.\n",
    "\n",
    "Our solution comes from family of algorithms called Dynamic Programming. Dynamic programming exploits the fact that many problems can actually be decomposed into smaller subproblems, that when combined can solve a larger whole problem. This substructure solution comes from what we call _recursion_.\n"
   ]
  },
  {
   "cell_type": "markdown",
   "metadata": {},
   "source": [
    "## The Fibonacci sequence\n",
    "The Fibonacci sequence was famously introduced by a 13th Century Italian mathematician of the same name to describe the growth of rabbit populations. The sequence of Fibonacci numbers goes like this:\n",
    "\n",
    "$F_0 = 0, F_1 = 1$ and $F_n = F_{n-1} + F_{n-2}$\n",
    "\n",
    "**Exercise 1:**\n",
    "In class, write a function to compute all of the Fibonacci series up to some defined $i$th term. Your function should take $i$, the last number in the series to calculate as input and return $F_i$\n",
    "\n",
    "## Recursive functions\n",
    "In mathematics recursive equations are those which are defined on the basis of previous terms of the same equation. For instance the Fibonacci series above is _recursive_ in that $F_n$ is calculated from $F_{n-1}$ and $F_{n-2}$. In computer programming the analog is a _recursive function_ that calls itself to achieve the desired output.\n",
    "\n",
    "As a very simple example check out the recursive function below `recFunc()`"
   ]
  },
  {
   "cell_type": "code",
   "execution_count": 1,
   "metadata": {},
   "outputs": [
    {
     "name": "stdout",
     "output_type": "stream",
     "text": [
      "3\n",
      "2\n",
      "1\n",
      "0\n"
     ]
    }
   ],
   "source": [
    "def recFunc(anInt):\n",
    "    print(anInt)\n",
    "    if anInt > 0:\n",
    "        anInt -= 1\n",
    "        recFunc(anInt)\n",
    "        \n",
    "recFunc(3)"
   ]
  },
  {
   "cell_type": "markdown",
   "metadata": {},
   "source": [
    "here `recFunc()` is making calls to `recFunc()` from within it's own code until something happens! Can you follow the logic here? If you can the next thing to do is switch the order of the `if` block and the `print` statement. Now what's happening? "
   ]
  },
  {
   "cell_type": "code",
   "execution_count": 2,
   "metadata": {},
   "outputs": [
    {
     "name": "stdout",
     "output_type": "stream",
     "text": [
      "0\n",
      "0\n",
      "1\n",
      "2\n"
     ]
    }
   ],
   "source": [
    " def recFunc(anInt):\n",
    "    if anInt > 0:\n",
    "        anInt -= 1\n",
    "        recFunc(anInt)\n",
    "    print(anInt)\n",
    "        \n",
    "recFunc(3)"
   ]
  },
  {
   "cell_type": "markdown",
   "metadata": {},
   "source": [
    "**Exercise 2:** In class, write a new Fibonacci function that outputs the $i$th term, but this time do it using a recursive function."
   ]
  },
  {
   "cell_type": "markdown",
   "metadata": {},
   "source": [
    "## Dynamic Programming version\n",
    "So let's say that we were writing a program that had to pull out lots of Fibonacci numbers over and over again, what would be a good way to do this efficient? Well what if we fill in a table to do this for us?\n",
    "\n",
    "**Exercise 3:** Write a new Fibonacci function, but this one will take as input $i$ the last term to be computed but will return a numpy array of Fibonacci numbers up to and including $F_i$. Can you think of a clever way to do this that uses the structure of the problem?\n",
    "\n"
   ]
  },
  {
   "cell_type": "markdown",
   "metadata": {},
   "source": [
    "## Efficiency comparison\n",
    "Let's see how long a naive implementation of the function which returns the list of Fibonacci numbers is versus a Dynamic programming implementation. To do this I'll use a jupyter built in trick called `%timeit` which will return the amount of time used by the computer to evaluate a block of code"
   ]
  },
  {
   "cell_type": "code",
   "execution_count": 3,
   "metadata": {},
   "outputs": [],
   "source": [
    "import numpy as np\n",
    "\n",
    "def F(anInt):\n",
    "    if anInt == 0 or anInt == 1:\n",
    "        return 1\n",
    "    else:\n",
    "        return F(anInt - 1) + F(anInt - 2)"
   ]
  },
  {
   "cell_type": "code",
   "execution_count": 4,
   "metadata": {},
   "outputs": [
    {
     "name": "stdout",
     "output_type": "stream",
     "text": [
      "5.19 ms ± 228 µs per loop (mean ± std. dev. of 7 runs, 100 loops each)\n"
     ]
    }
   ],
   "source": [
    "%%timeit\n",
    "n = 20\n",
    "fs = np.zeros(n)\n",
    "for i in range(n):\n",
    "    fs[i] = F(i)\n",
    "fs"
   ]
  },
  {
   "cell_type": "code",
   "execution_count": 5,
   "metadata": {},
   "outputs": [],
   "source": [
    "def F_dp(aInt):\n",
    "    res = np.ones(aInt)\n",
    "    if aInt > 1:\n",
    "        for i in range(2,aInt):\n",
    "            res[i] = res[i-1] + res[i-2]\n",
    "    return(res)"
   ]
  },
  {
   "cell_type": "code",
   "execution_count": 6,
   "metadata": {},
   "outputs": [
    {
     "name": "stdout",
     "output_type": "stream",
     "text": [
      "12.9 µs ± 1.38 µs per loop (mean ± std. dev. of 7 runs, 100000 loops each)\n"
     ]
    }
   ],
   "source": [
    "%%timeit\n",
    "F_dp(20)"
   ]
  },
  {
   "cell_type": "markdown",
   "metadata": {},
   "source": [
    "## Tower of Hanoi Game\n",
    "Okay let's look at a slightly more difficult dynamic programming problem-- solving for the minimum number of moves necessary to win the Tower of Hanoi game. Recall that the game consist of three rods (call them A, B, and C), onto which $n$ disks of increasing size sit. At the start of the game all $n$ disks are on the A rod. The objective is to move the $n$ disks to another rod (B or C). The rules are that \n",
    "1. Only 1 disk can be moved at a time\n",
    "2. Each move consists of moving the upper disk on a rod to the top of the pile on a different rod\n",
    "3. No larger disk may be placed on a smaller disk. \n",
    "\n",
    "Here's what an animation of the game looks like start from 6 disks\n",
    "\n",
    "<img src=imgs/Tower_of_Hanoi.gif>\n",
    "\n",
    "What's cool about this, seemingly hard problem is that we can break it up into the optimal move to do from any position, using a simple recursion. Here's what it looks like. Let's spend a bit of time analyzing it."
   ]
  },
  {
   "cell_type": "code",
   "execution_count": 7,
   "metadata": {},
   "outputs": [
    {
     "name": "stdout",
     "output_type": "stream",
     "text": [
      "Move disk 1 from rod A to rod C\n",
      "Move disk 2 from rod A to rod B\n",
      "Move disk 1 from rod C to rod B\n",
      "Move disk 3 from rod A to rod C\n",
      "Move disk 1 from rod B to rod A\n",
      "Move disk 2 from rod B to rod C\n",
      "Move disk 1 from rod A to rod C\n"
     ]
    }
   ],
   "source": [
    "def TowerOfHanoi(n , from_rod, to_rod, aux_rod): \n",
    "    if n == 1: \n",
    "        print(f\"Move disk 1 from rod {from_rod} to rod {to_rod}\") \n",
    "        return\n",
    "    TowerOfHanoi(n-1, from_rod, aux_rod, to_rod) \n",
    "    print(f\"Move disk {n} from rod {from_rod} to rod {to_rod}\")\n",
    "    TowerOfHanoi(n-1, aux_rod, to_rod, from_rod) \n",
    "    \n",
    "TowerOfHanoi(3 , \"A\", \"C\", \"B\")"
   ]
  },
  {
   "cell_type": "markdown",
   "metadata": {},
   "source": [
    "**Exercise:** change the starting value of n (= the number of disks) to 2. Does this make sense? Now try a larger number"
   ]
  },
  {
   "cell_type": "markdown",
   "metadata": {},
   "source": [
    "## Sequence Alignment\n",
    "Now that we've spent a bit of time learning the context for dynamic programming, let's dig in to a more germane (and complex!) model-- that of global alignment of two sequences. The alignment method we will look at, the so-called Needleman-Wunsch algorithm, was developed by Saul B. Needleman and Christian D. Wunsch and published in 1970 in a [landmark publication](https://www.sciencedirect.com/science/article/abs/pii/0022283670900574?via%3Dihub). A key innovation here was that they represent a sequence alignment as a matrix, and fill in scores within that matrix using a dynamic programming approach, essentially breaking the large problem (global alignment) into a repeated series of smaller problems (should the next state be a gap, a match, or a mismatch). \n",
    "\n",
    "As we spent time thinking about this in class I won't belabor my description too much \n"
   ]
  },
  {
   "cell_type": "code",
   "execution_count": 8,
   "metadata": {},
   "outputs": [
    {
     "name": "stdout",
     "output_type": "stream",
     "text": [
      "Dynamic programming matrix:\n",
      "[[  0  -2  -4  -6  -8 -10 -12 -14 -16 -18]\n",
      " [ -2   4   2   0  -2  -4  -6  -8 -10 -12]\n",
      " [ -4   2   8   6   4   2   0  -2  -4  -6]\n",
      " [ -6   0   6   5  10   8   6   4   2   0]\n",
      " [ -8  -2   4   3   8   7  12  10   8   6]\n",
      " [-10  -4   2   8   6   5  10  16  14  12]\n",
      " [-12  -6   0   6   5   3   8  14  13  11]\n",
      " [-14  -8  -2   4   3   2   7  12  11  10]]\n",
      "\n",
      " traceback pointers:\n",
      "[[-9  0  0  0  0  0  0  0  0  0]\n",
      " [ 2  1  0  0  0  0  0  0  0  0]\n",
      " [ 2  2  1  0  0  0  1  0  0  0]\n",
      " [ 2  2  2  1  1  1  0  0  1  1]\n",
      " [ 2  2  2  2  2  1  1  0  0  0]\n",
      " [ 2  2  2  1  2  2  2  1  0  0]\n",
      " [ 2  2  2  2  1  2  2  2  1  1]\n",
      " [ 2  2  2  2  2  1  1  2  2  1]]\n",
      "\n",
      "Alignment:\n",
      "TA--GACTA\n",
      "TACGGACGG\n"
     ]
    }
   ],
   "source": [
    "import numpy as np\n",
    "\n",
    "# set sequences\n",
    "seq_1 = \"TAGACTA\"\n",
    "seq_2 = \"TACGGACGG\"\n",
    "\n",
    "# define penalties for alignment\n",
    "match = 4\n",
    "m_match = -3\n",
    "gap_penalty = -2\n",
    "\n",
    "subst_matrix = {\n",
    "'A': {'A': match,'C':m_match,'G':m_match,'T':m_match}, \n",
    "'C': {'A':m_match,'C': match,'G':m_match,'T':m_match}, \n",
    "'G': {'A':m_match,'C':m_match,'G': match,'T':m_match},\n",
    "'T': {'A':m_match,'C':m_match,'G':m_match,'T': match},\n",
    "}\n",
    "\n",
    "\n",
    "# this will store our dynamic programming matrix\n",
    "dp_matrix = np.ndarray(shape=(len(seq_1)+1,len(seq_2)+1), dtype=int)\n",
    "dp_matrix.fill(0)\n",
    "\n",
    "# storage for trace back matrix\n",
    "# 0 for up, 1 for diag, 2 for left\n",
    "back_ptr = np.ndarray(shape=(len(seq_1)+1,len(seq_2)+1), dtype=int)\n",
    "back_ptr.fill(-9)\n",
    "\n",
    "# fill the DP matrix\n",
    "for i in range(len(seq_1)+1):\n",
    "    for j in range(len(seq_2)+1):\n",
    "        if i==0 and j==0: continue # skip the first cell\n",
    "\n",
    "        char_1 = seq_1[i-1] # current character at seq 1\n",
    "        char_2 = seq_2[j-1] # current character at seq 2\n",
    "\n",
    "        scores = np.array([-999,-999,-999])\n",
    "        if( i>0 and j>0 ):  \n",
    "            # score diagonal\n",
    "            scores[1] = subst_matrix[char_1][char_2] + dp_matrix[i-1][j-1]\n",
    "            pass\n",
    "        if( i>0 ): \n",
    "            # score up: gap in sequence 2\n",
    "            scores[2] = gap_penalty + dp_matrix[i-1][j]\n",
    "            pass\n",
    "        if( j>0 ): \n",
    "            # score left: gap in sequence 1\n",
    "            scores[0] = gap_penalty + dp_matrix[i][j-1]\n",
    "            pass\n",
    "\n",
    "        # select the best previous cell\n",
    "        best = np.max(scores)\n",
    "        dp_matrix[i,j]=best\n",
    "        # record which move it was, choices\n",
    "        # are 0->left, 1->diagonal, 2->up\n",
    "        for k in range(3):\n",
    "            if scores[k] == best:\n",
    "                back_ptr[i,j] = k\n",
    "\n",
    "print(\"Dynamic programming matrix:\")\n",
    "print(dp_matrix)\n",
    "print(\"\\n traceback pointers:\")\n",
    "print(back_ptr)\n",
    "\n",
    "# read out the backtrace to get the best alignment\n",
    "aln_1 = \"\"\n",
    "aln_2 = \"\"\n",
    "i=len(seq_1)\n",
    "j=len(seq_2)\n",
    "\n",
    "while i>0 or j>0:\n",
    "    if back_ptr[i,j] == 0: # left\n",
    "        aln_1 += \"-\"\n",
    "        aln_2 += seq_2[j-1]\n",
    "        j -= 1\n",
    "    if back_ptr[i,j] == 1: # diag\n",
    "        aln_1 += seq_1[i-1]\n",
    "        aln_2 += seq_2[j-1]\n",
    "        i -= 1\n",
    "        j -= 1\n",
    "    if back_ptr[i,j] == 2: # up\n",
    "        aln_1 += seq_1[i-1]\n",
    "        aln_2 += \"-\"\n",
    "        i -= 1\n",
    "\n",
    "aln_1 = aln_1[::-1] # reverses the string\n",
    "aln_2 = aln_2[::-1]\n",
    "\n",
    "print(\"\\nAlignment:\")\n",
    "print(aln_1)\n",
    "print(aln_2)\n",
    "\n"
   ]
  },
  {
   "cell_type": "markdown",
   "metadata": {},
   "source": [
    "**Exercise:** change the `gap_penalty` parameter above to equal 0. What is the reported alignment that you get out? Next return the `gap_penalty` to -2 but increase the mismatch penalty. Now what do you see?"
   ]
  },
  {
   "cell_type": "markdown",
   "metadata": {},
   "source": [
    "the Needleman-Wunsch algorithm above performs _global_ alignment, i.e. it seeks the best alignment of all the bases in the two sequences. If we want to instead find the best alignment of subsequences between the two sequences we can use the related [Smith-Waterman algorithm](https://en.wikipedia.org/wiki/Smith%E2%80%93Waterman_algorithm). Recall from lecture that the only real differences here are that in Smith-Waterman scores in our DP matrix can't go below zero, and that the traceback starts at the *max* value cell and goes back until it encounters the first zero. "
   ]
  },
  {
   "cell_type": "markdown",
   "metadata": {},
   "source": [
    "# Biopython \n",
    "Now that we know something about sequence alignment we are ready to move on to our case study for the week-- aligning SARS-CoV-2 genome data. To do this we will rely on the python package `biopython`.\n",
    "\n",
    "For anyone working with DNA or protein sequence information, `biopython` provides an extremely helpful set of tools. biopython gives the user the ability to programatically interact with biological sequence data and includes plugins to popular alignment and homology search algorithms such as BLAST or CLUSTAL, phylogenetic packages, and much more. We will barely scratch the surface in the kinds of things that one can accomplish, so if you are interested you can start reading the documentation [here](https://biopython.org/wiki/Documentation).\n",
    "\n",
    "\n",
    "## Working with sequences\n",
    "The first use case for us will be working with DNA sequences using biopython. biopython provides for us a `Seq` object, that contains at it's heart a string of biological sequence but that \"knows\" how to do certain tricks"
   ]
  },
  {
   "cell_type": "code",
   "execution_count": 9,
   "metadata": {},
   "outputs": [
    {
     "name": "stdout",
     "output_type": "stream",
     "text": [
      "AGTATCTTTGGT\n",
      "TCATAGAAACCA\n",
      "ACCAAAGATACT\n"
     ]
    }
   ],
   "source": [
    "from Bio.Seq import Seq\n",
    "my_seq = Seq(\"AGTATCTTTGGT\")\n",
    "print(my_seq)\n",
    "\n",
    "print(my_seq.complement())\n",
    "print(my_seq.reverse_complement())"
   ]
  },
  {
   "cell_type": "markdown",
   "metadata": {
    "tags": []
   },
   "source": [
    "sequences generally behave as strings, meaning that you can index them and iterate over them, etc."
   ]
  },
  {
   "cell_type": "code",
   "execution_count": 10,
   "metadata": {
    "tags": []
   },
   "outputs": [
    {
     "name": "stdout",
     "output_type": "stream",
     "text": [
      "A\n",
      "G\n",
      "T\n",
      "A\n",
      "T\n",
      "C\n",
      "T\n",
      "T\n",
      "T\n",
      "G\n",
      "G\n",
      "T\n",
      "here is my_seq[0]:  A\n"
     ]
    }
   ],
   "source": [
    "for c in my_seq:\n",
    "    print(c)\n",
    "    \n",
    "print(\"here is my_seq[0]: \",my_seq[0])"
   ]
  },
  {
   "cell_type": "markdown",
   "metadata": {},
   "source": [
    "these sequences know a lot of different tricks of course. for instance if we have gaps inserted into a sequence we can remove them"
   ]
  },
  {
   "cell_type": "code",
   "execution_count": 11,
   "metadata": {},
   "outputs": [
    {
     "name": "stdout",
     "output_type": "stream",
     "text": [
      "AGTAT----CTTTGG----T\n",
      "AGTATCTTTGGT\n"
     ]
    }
   ],
   "source": [
    "my_seq = Seq(\"AGTAT----CTTTGG----T\")\n",
    "print(my_seq) # original seq\n",
    "print(my_seq.ungap()) # ungapped version"
   ]
  },
  {
   "cell_type": "markdown",
   "metadata": {},
   "source": [
    "We can ostuff like like transcribe and translate DNA. Let's program the central dogma real quick"
   ]
  },
  {
   "cell_type": "code",
   "execution_count": 12,
   "metadata": {},
   "outputs": [
    {
     "name": "stdout",
     "output_type": "stream",
     "text": [
      "DNA:  ATGAAAGGAGGGAGGTAG\n",
      "mRNA:  AUGAAAGGAGGGAGGUAG\n",
      "protein:  MKGGR*\n"
     ]
    }
   ],
   "source": [
    "dna = Seq(\"ATGAAAGGAGGGAGGTAG\")\n",
    "mrna = dna.transcribe()\n",
    "prot = mrna.translate()\n",
    "print(\"DNA: \",dna)\n",
    "print(\"mRNA: \",mrna)\n",
    "print(\"protein: \",prot)\n"
   ]
  },
  {
   "cell_type": "code",
   "execution_count": 13,
   "metadata": {},
   "outputs": [
    {
     "name": "stdout",
     "output_type": "stream",
     "text": [
      "ATGAAAGGAGGGAGGTAG\n",
      "percent GC  50.0\n",
      "\n",
      "\n",
      "GC_Frame: a:7 t:2 g:9 c:0 \n",
      "Sequence: atgaaaggagggaggtag, 18 nt, 50.00 %GC\n",
      "\n",
      "\n",
      "1/1\n",
      "  E  R  R  E  V\n",
      " *  K  E  G  G\n",
      "M  K  G  G  R  *\n",
      "atgaaaggagggaggtag   50 %\n",
      "tactttcctccctccatc\n",
      "F  P  P  L  Y \n",
      " H  F  S  P  P  L\n",
      "  S  L  L  S  T\n",
      "\n",
      "\n"
     ]
    }
   ],
   "source": [
    "#compute GC percentage / 6-frame tx\n",
    "from Bio.SeqUtils import GC,six_frame_translations\n",
    "print(dna)\n",
    "print(\"percent GC \",GC(dna))\n",
    "print(\"\\n\")\n",
    "print(six_frame_translations(dna))"
   ]
  },
  {
   "cell_type": "markdown",
   "metadata": {},
   "source": [
    "there are many other basic sequence utilities that biopython provides. you have to wade through the sequtils documentation a bit to find out everything that it can do out of the box.\n",
    "\n",
    "## Reading in sequences\n",
    "Perhaps the single most useful thing that biopython provides is basic utilities to read and write from common data formats such as fasta and fastq. These parsers really aid in our ability to quickly make headway on even sophisticated datasets. We will work with a set of SARS-CoV-2 genomes that I have provided in a data directory\n",
    "\n"
   ]
  },
  {
   "cell_type": "code",
   "execution_count": 14,
   "metadata": {},
   "outputs": [
    {
     "name": "stdout",
     "output_type": "stream",
     "text": [
      "id:  hCoV-19/Wuhan/WIV06/2019|EPI_ISL_402129|2019-12-30 length:  29854\n",
      "id:  hCoV-19/Wuhan/WIV07/2019|EPI_ISL_402130|2019-12-30 length:  29857\n",
      "id:  hCoV-19/Guangdong/20SF012/2020|EPI_ISL_403932|2020-01-14 length:  29845\n",
      "id:  hCoV-19/Guangdong/20SF013/2020|EPI_ISL_403933|2020-01-15 length:  29845\n",
      "id:  hCoV-19/Guangdong/20SF014/2020|EPI_ISL_403934|2020-01-15 length:  29845\n",
      "id:  hCoV-19/Guangdong/20SF025/2020|EPI_ISL_403935|2020-01-15 length:  29845\n",
      "id:  hCoV-19/Guangdong/20SF028/2020|EPI_ISL_403936|2020-01-17 length:  29845\n",
      "id:  hCoV-19/Guangdong/20SF040/2020|EPI_ISL_403937|2020-01-18 length:  29845\n",
      "id:  hCoV-19/Wuhan/IPBCAMS-WH-03/2019|EPI_ISL_403930|2019-12-30 length:  29899\n",
      "id:  hCoV-19/Wuhan/HBCDC-HB-01/2019|EPI_ISL_402132|2019-12-30 length:  29848\n",
      "id:  hCoV-19/Zhejiang/WZ-01/2020|EPI_ISL_404227|2020-01-16 length:  29839\n",
      "id:  hCoV-19/Zhejiang/WZ-02/2020|EPI_ISL_404228|2020-01-17 length:  29859\n",
      "id:  hCoV-19/USA/WA1/2020|EPI_ISL_404895|2020-01-19 length:  29882\n",
      "id:  hCoV-19/Shenzhen/HKU-SZ-005/2020|EPI_ISL_405839|2020-01-11 length:  29891\n",
      "id:  hCoV-19/Shenzhen/HKU-SZ-002/2020|EPI_ISL_406030|2020-01-10 length:  29838\n",
      "id:  hCoV-19/USA/IL1/2020|EPI_ISL_404253|2020-01-21 length:  29882\n",
      "id:  hCoV-19/USA/CA1/2020|EPI_ISL_406034|2020-01-23 length:  29882\n",
      "id:  hCoV-19/USA/CA2/2020|EPI_ISL_406036|2020-01-22 length:  29883\n",
      "id:  hCoV-19/USA/AZ1/2020|EPI_ISL_406223|2020-01-22 length:  29882\n",
      "id:  hCoV-19/Guangdong/20SF174/2020|EPI_ISL_406531|2020-01-22 length:  29808\n",
      "id:  hCoV-19/Guangzhou/20SF206/2020|EPI_ISL_406533|2020-01-22 length:  29839\n",
      "id:  hCoV-19/Foshan/20SF207/2020|EPI_ISL_406534|2020-01-22 length:  29839\n",
      "id:  hCoV-19/Foshan/20SF210/2020|EPI_ISL_406535|2020-01-22 length:  29839\n",
      "id:  hCoV-19/Foshan/20SF211/2020|EPI_ISL_406536|2020-01-22 length:  29803\n",
      "id:  hCoV-19/Guangdong/20SF201/2020|EPI_ISL_406538|2020-01-23 length:  29839\n",
      "id:  hCoV-19/Shenzhen/SZTH-001/2020|EPI_ISL_406592|2020-01-13 length:  29891\n",
      "id:  hCoV-19/Shenzhen/SZTH-002/2020|EPI_ISL_406593|2020-01-13 length:  29891\n",
      "id:  hCoV-19/Shenzhen/SZTH-003/2020|EPI_ISL_406594|2020-01-16 length:  29898\n",
      "id:  hCoV-19/France/IDF0373/2020|EPI_ISL_406597|2020-01-23 length:  29809\n",
      "id:  hCoV-19/France/IDF0372/2020|EPI_ISL_406596|2020-01-23 length:  29853\n",
      "id:  hCoV-19/Germany/BavPat1/2020|EPI_ISL_406862|2020-01-28 length:  29782\n",
      "id:  hCoV-19/China/WHU01/2020|EPI_ISL_406716|2020-01-02 length:  29881\n",
      "id:  hCoV-19/China/WHU02/2020|EPI_ISL_406717|2020-01-02 length:  29881\n",
      "id:  hCoV-19/Wuhan/WH03/2020|EPI_ISL_406800|2020-01-01 length:  29868\n",
      "id:  hCoV-19/Wuhan/WH04/2020|EPI_ISL_406801|2020-01-05 length:  29872\n",
      "id:  hCoV-19/Hangzhou/HZ-1/2020|EPI_ISL_406970|2020-01-20 length:  29833\n",
      "id:  hCoV-19/Singapore/1/2020|EPI_ISL_406973|2020-01-23 length:  29845\n",
      "id:  hCoV-19/USA/WA1-A12/2020|EPI_ISL_407214|2020-01-25 length:  29882\n",
      "id:  hCoV-19/Hangzhou/HZCDC0001/2020|EPI_ISL_407313|2020-01-19 length:  29836\n",
      "id:  hCoV-19/Australia/NSW01/2020|EPI_ISL_407893|2020-01-24 length:  29782\n",
      "id:  hCoV-19/Belgium/GHB-03021/2020|EPI_ISL_407976|2020-02-03 length:  29882\n",
      "id:  hCoV-19/Singapore/3/2020|EPI_ISL_407988|2020-02-01 length:  29843\n",
      "id:  hCoV-19/Singapore/2/2020|EPI_ISL_407987|2020-01-25 length:  29844\n",
      "id:  hCoV-19/USA/CA5/2020|EPI_ISL_408010|2020-01-29 length:  29882\n",
      "id:  hCoV-19/USA/CA4/2020|EPI_ISL_408009|2020-01-29 length:  29882\n",
      "id:  hCoV-19/USA/CA3/2020|EPI_ISL_408008|2020-01-29 length:  29882\n",
      "id:  hCoV-19/France/IDF0515/2020|EPI_ISL_408430|2020-01-29 length:  29863\n",
      "id:  hCoV-19/Yunnan/IVDC-YN-003/2020|EPI_ISL_408480|2020-01-17 length:  29891\n",
      "id:  hCoV-19/Chongqing/IVDC-CQ-001/2020|EPI_ISL_408481|2020-01-18 length:  29891\n",
      "id:  hCoV-19/Shandong/IVDC-SD-001/2020|EPI_ISL_408482|2020-01-19 length:  29891\n",
      "id:  hCoV-19/Sichuan/IVDC-SC-001/2020|EPI_ISL_408484|2020-01-15 length:  29891\n",
      "id:  hCoV-19/Jiangxi/IVDC-JX-002/2020|EPI_ISL_408486|2020-01-11 length:  29891\n",
      "id:  hCoV-19/Jiangsu/IVDC-JS-001/2020|EPI_ISL_408488|2020-01-19 length:  29890\n",
      "id:  hCoV-19/Taiwan/NTU01/2020|EPI_ISL_408489|2020-01-31 length:  29473\n",
      "id:  hCoV-19/Japan/TY-WK-012/2020|EPI_ISL_408665|2020-01-29 length:  29878\n",
      "id:  hCoV-19/Japan/TY-WK-501/2020|EPI_ISL_408666|2020-01-31 length:  29878\n",
      "id:  hCoV-19/Japan/TY-WK-521/2020|EPI_ISL_408667|2020-01-31 length:  29878\n",
      "id:  hCoV-19/Japan/KY-V-029/2020|EPI_ISL_408669|2020-01-29 length:  29878\n",
      "id:  hCoV-19/Japan/AI/I-004/2020|EPI_ISL_407084|2020-01-25 length:  29848\n",
      "id:  hCoV-19/Wuhan/IPBCAMS-WH-02/2019|EPI_ISL_403931|2019-12-30 length:  29889\n",
      "id:  hCoV-19/Wuhan/IPBCAMS-WH-04/2019|EPI_ISL_403929|2019-12-30 length:  29890\n",
      "id:  hCoV-19/Wuhan/IPBCAMS-WH-05/2020|EPI_ISL_403928|2020-01-01 length:  29883\n",
      "id:  hCoV-19/USA/WI1/2020|EPI_ISL_408670|2020-01-31 length:  29879\n",
      "id:  hCoV-19/Shenzhen/SZTH-004/2020|EPI_ISL_406595|2020-01-16 length:  29898\n",
      "id:  hCoV-19/Taiwan/2/2020|EPI_ISL_406031|2020-01-23 length:  29878\n",
      "id:  hCoV-19/Sydney/2/2020|EPI_ISL_408976|2020-01-22 length:  29741\n",
      "id:  hCoV-19/Sydney/3/2020|EPI_ISL_408977|2020-01-25 length:  29782\n",
      "id:  hCoV-19/USA/IL2/2020|EPI_ISL_410045|2020-01-28 length:  29882\n",
      "id:  hCoV-19/USA/CA6/2020|EPI_ISL_410044|2020-01-27 length:  29858\n",
      "id:  hCoV-19/USA/MA1/2020|EPI_ISL_409067|2020-01-29 length:  29882\n",
      "id:  hCoV-19/Chongqing/YC01/2020|EPI_ISL_408478|2020-01-21 length:  29891\n",
      "id:  hCoV-19/Chongqing/ZX01/2020|EPI_ISL_408479|2020-01-23 length:  29891\n",
      "id:  hCoV-19/France/RA739/2020|EPI_ISL_410486|2020-02-08 length:  29768\n",
      "id:  hCoV-19/Nepal/61/2020|EPI_ISL_410301|2020-01-13 length:  29811\n",
      "id:  hCoV-19/Japan/OS-20-07-1/2020|EPI_ISL_410532|2020-01-23 length:  29878\n",
      "id:  hCoV-19/Japan/NA-20-05-1/2020|EPI_ISL_410531|2020-01-25 length:  29878\n",
      "id:  hCoV-19/Singapore/4/2020|EPI_ISL_410535|2020-02-03 length:  29409\n",
      "id:  hCoV-19/Singapore/6/2020|EPI_ISL_410537|2020-02-09 length:  29829\n",
      "id:  hCoV-19/Singapore/5/2020|EPI_ISL_410536|2020-02-06 length:  29843\n",
      "id:  hCoV-19/USA/WA1-F6/2020|EPI_ISL_407215|2020-01-25 length:  29882\n",
      "id:  hCoV-19/Australia/QLD03/2020|EPI_ISL_410717|2020-02-05 length:  29865\n",
      "id:  hCoV-19/Australia/QLD04/2020|EPI_ISL_410718|2020-02-05 length:  29865\n",
      "id:  hCoV-19/Singapore/7/2020|EPI_ISL_410713|2020-01-27 length:  29891\n",
      "id:  hCoV-19/Singapore/10/2020|EPI_ISL_410716|2020-02-04 length:  29889\n",
      "id:  hCoV-19/Australia/QLD01/2020|EPI_ISL_407894|2020-01-28 length:  29842\n",
      "id:  hCoV-19/Australia/QLD02/2020|EPI_ISL_407896|2020-01-30 length:  29864\n",
      "id:  hCoV-19/Singapore/8/2020|EPI_ISL_410714|2020-02-03 length:  29758\n",
      "id:  hCoV-19/Singapore/9/2020|EPI_ISL_410715|2020-02-04 length:  29891\n",
      "id:  hCoV-19/Singapore/11/2020|EPI_ISL_410719|2020-02-02 length:  29845\n",
      "id:  hCoV-19/Italy/INMI1-isl/2020|EPI_ISL_410545|2020-01-29 length:  29867\n",
      "id:  hCoV-19/Italy/INMI1-cs/2020|EPI_ISL_410546|2020-01-31 length:  29785\n",
      "id:  hCoV-19/France/IDF0372-isl/2020|EPI_ISL_410720|2020-01-23 length:  29874\n",
      "id:  hCoV-19/France/IDF0515-isl/2020|EPI_ISL_410984|2020-01-29 length:  29903\n",
      "id:  hCoV-19/Fujian/8/2020|EPI_ISL_411060|2020-01-21 length:  29871\n",
      "id:  hCoV-19/Fujian/13/2020|EPI_ISL_411066|2020-01-22 length:  29891\n",
      "id:  hCoV-19/France/IDF0571/2020|EPI_ISL_411218|2020-02-02 length:  29873\n",
      "id:  hCoV-19/France/IDF0386-islP1/2020|EPI_ISL_411219|2020-01-28 length:  29872\n",
      "id:  hCoV-19/France/IDF0386-islP3/2020|EPI_ISL_411220|2020-01-28 length:  29878\n",
      "id:  hCoV-19/Cambodia/0012/2020|EPI_ISL_411902|2020-01-27 length:  29873\n",
      "id:  hCoV-19/Taiwan/CGMH-CGU-01/2020|EPI_ISL_411915|2020-01-25 length:  29862\n",
      "id:  hCoV-19/Taiwan/3/2020|EPI_ISL_411926|2020-01-24 length:  29891\n",
      "id:  hCoV-19/Taiwan/4/2020|EPI_ISL_411927|2020-01-28 length:  29890\n",
      "id:  hCoV-19/South length:  29818\n",
      "id:  hCoV-19/Jiangsu/JS01/2020|EPI_ISL_411950|2020-01-23 length:  29891\n",
      "id:  hCoV-19/Jiangsu/JS03/2020|EPI_ISL_411953|2020-01-24 length:  29891\n",
      "id:  hCoV-19/Jiangsu/JS02/2020|EPI_ISL_411952|2020-01-24 length:  29891\n",
      "id:  hCoV-19/South length:  29903\n",
      "id:  hCoV-19/USA/CA7/2020|EPI_ISL_411954|2020-02-06 length:  29882\n",
      "id:  hCoV-19/USA/CA8/2020|EPI_ISL_411955|2020-02-10 length:  29882\n",
      "id:  hCoV-19/USA/TX1/2020|EPI_ISL_411956|2020-02-11 length:  29882\n",
      "id:  hCoV-19/Sweden/01/2020|EPI_ISL_411951|2020-02-07 length:  29886\n",
      "id:  hCoV-19/China/WH-09/2020|EPI_ISL_411957|2020-01-08 length:  29911\n",
      "id:  hCoV-19/Hefei/2/2020|EPI_ISL_412026|2020-02-23 length:  29870\n",
      "id:  hCoV-19/Hong length:  29851\n",
      "id:  hCoV-19/Hong length:  29843\n",
      "id:  hCoV-19/Vietnam/VR03-38142/2020|EPI_ISL_408668|2020-01-24 length:  29889\n",
      "id:  hCoV-19/Jingzhou/HBCDC-HB-01/2020|EPI_ISL_412459|2020-01-08 length:  29848\n",
      "id:  hCoV-19/USA/CA9/2020|EPI_ISL_412862|2020-02-23 length:  29882\n",
      "id:  hCoV-19/Wuhan/HBCDC-HB-02/2019|EPI_ISL_412898|2019-12-30 length:  29848\n",
      "id:  hCoV-19/Wuhan/HBCDC-HB-03/2019|EPI_ISL_412899|2019-12-30 length:  29848\n",
      "id:  hCoV-19/Wuhan/HBCDC-HB-04/2019|EPI_ISL_412900|2019-12-30 length:  29201\n",
      "id:  hCoV-19/Germany/Baden-Wuerttemberg-1/2020|EPI_ISL_412912|2020-02-25 length:  29756\n",
      "id:  hCoV-19/Brazil/SPBR-01/2020|EPI_ISL_412964|2020-02-25 length:  29870\n",
      "id:  hCoV-19/China/IQTC01/2020|EPI_ISL_412966|2020-02-05 length:  29891\n",
      "id:  hCoV-19/China/IQTC02/2020|EPI_ISL_412967|2020-01-29 length:  29927\n",
      "id:  hCoV-19/Japan/Hu_DP_Kng_19-020/2020|EPI_ISL_412968|2020-02-10 length:  29902\n",
      "id:  hCoV-19/Japan/Hu_DP_Kng_19-027/2020|EPI_ISL_412969|2020-02-10 length:  29902\n",
      "id:  hCoV-19/Finland/FIN-25/2020|EPI_ISL_412971|2020-02-25 length:  29806\n",
      "id:  hCoV-19/USA/WA2/2020|EPI_ISL_412970|2020-02-24 length:  29903\n",
      "id:  hCoV-19/Italy/CDG1/2020|EPI_ISL_412973|2020-02-20 length:  29903\n",
      "id:  hCoV-19/Mexico/CDMX/InDRE_01/2020|EPI_ISL_412972|2020-02-27 length:  29865\n",
      "id:  hCoV-19/Italy/SPL1/2020|EPI_ISL_412974|2020-01-29 length:  29903\n",
      "id:  hCoV-19/Australia/NSW05/2020|EPI_ISL_412975|2020-02-28 length:  29782\n",
      "id:  hCoV-19/Wuhan/HBCDC-HB-02/2020|EPI_ISL_412978|2020-01-17 length:  29846\n",
      "id:  hCoV-19/Wuhan/HBCDC-HB-03/2020|EPI_ISL_412979|2020-01-18 length:  29848\n",
      "id:  hCoV-19/Wuhan/HBCDC-HB-04/2020|EPI_ISL_412980|2020-01-18 length:  29845\n",
      "id:  hCoV-19/Wuhan/HBCDC-HB-05/2020|EPI_ISL_412981|2020-01-18 length:  29843\n",
      "id:  hCoV-19/Wuhan/HBCDC-HB-06/2020|EPI_ISL_412982|2020-02-07 length:  29838\n",
      "id:  hCoV-19/Tianmen/HBCDC-HB-07/2020|EPI_ISL_412983|2020-02-08 length:  29697\n",
      "id:  hCoV-19/Canada/ON-PHL2445/2020|EPI_ISL_413014|2020-01-25 length:  29851\n",
      "id:  hCoV-19/South length:  29903\n",
      "id:  hCoV-19/South length:  29858\n",
      "id:  hCoV-19/Switzerland/1000477102/2020|EPI_ISL_413019|2020-02-26 length:  29879\n",
      "id:  hCoV-19/Switzerland/1000477377/2020|EPI_ISL_413020|2020-02-27 length:  29864\n",
      "id:  hCoV-19/Switzerland/1000477757/2020|EPI_ISL_413021|2020-02-29 length:  29875\n",
      "id:  hCoV-19/Switzerland/1000477796/2020|EPI_ISL_413022|2020-02-29 length:  29845\n",
      "id:  hCoV-19/Switzerland/1000477797/2020|EPI_ISL_413023|2020-02-29 length:  29788\n",
      "id:  hCoV-19/Switzerland/1000477806/2020|EPI_ISL_413024|2020-02-29 length:  29871\n",
      "id:  hCoV-19/Australia/NSW06/2020|EPI_ISL_413213|2020-02-29 length:  29782\n",
      "id:  hCoV-19/Australia/NSW07/2020|EPI_ISL_413214|2020-02-29 length:  29782\n",
      "id:  hCoV-19/USA/WA-S2/2020|EPI_ISL_413456|2020-02-20 length:  29903\n",
      "id:  hCoV-19/Canada/ON-VIDO-01/2020|EPI_ISL_413015|2020-01-23 length:  29879\n",
      "id:  hCoV-19/Japan/TK/20-31-3/2020|EPI_ISL_413459|2020-02-20 length:  29635\n",
      "id:  hCoV-19/Anhui/SZ005/2020|EPI_ISL_413485|2020-01-24 length:  29860\n",
      "id:  hCoV-19/New length:  29903\n",
      "id:  hCoV-19/Italy/UniSR1/2020|EPI_ISL_413489|2020-03-03 length:  29887\n",
      "id:  hCoV-19/Australia/VIC01/2020|EPI_ISL_406844|2020-01-25 length:  29893\n",
      "id:  hCoV-19/France/IDF0626/2020|EPI_ISL_408431|2020-01-29 length:  29851\n",
      "id:  hCoV-19/Taiwan/NTU02/2020|EPI_ISL_410218|2020-02-05 length:  29870\n",
      "id:  hCoV-19/Wuhan/WH01/2019|EPI_ISL_406798|2019-12-26 length:  29866\n",
      "id:  hCoV-19/India/1-27/2020|EPI_ISL_413522|2020-01-27 length:  29854\n",
      "id:  hCoV-19/India/1-31/2020|EPI_ISL_413523|2020-01-31 length:  29851\n",
      "id:  hCoV-19/Wales/PHW1/2020|EPI_ISL_413555|2020-02-27 length:  29782\n",
      "id:  hCoV-19/Wales/PHW2/2020|EPI_ISL_413556|2020-03-04 length:  29782\n",
      "id:  hCoV-19/USA/CA-CDPH-UC2/2020|EPI_ISL_413558|2020-02-27 length:  29903\n",
      "id:  hCoV-19/USA/CA-CDPH-UC3/2020|EPI_ISL_413559|2020-02-27 length:  29903\n",
      "id:  hCoV-19/USA/WA-S3/2020|EPI_ISL_413560|2020-02-28 length:  29903\n",
      "id:  hCoV-19/USA/CA-CDPH-UC4/2020|EPI_ISL_413561|2020-02-27 length:  29903\n",
      "id:  hCoV-19/Beijing/235/2020|EPI_ISL_413521|2020-01-28 length:  29903\n",
      "id:  hCoV-19/Beijing/233/2020|EPI_ISL_413520|2020-01-28 length:  29903\n",
      "id:  hCoV-19/Beijing/231/2020|EPI_ISL_413519|2020-01-28 length:  29903\n",
      "id:  hCoV-19/Beijing/105/2020|EPI_ISL_413518|2020-01-26 length:  29903\n",
      "id:  hCoV-19/South length:  29858\n",
      "id:  hCoV-19/South length:  29858\n",
      "id:  hCoV-19/South length:  29858\n",
      "id:  hCoV-19/South length:  29858\n",
      "id:  hCoV-19/Netherlands/Haarlem_1363688/2020|EPI_ISL_413572|2020-03-01 length:  29786\n",
      "id:  hCoV-19/Netherlands/Blaricum_1364780/2020|EPI_ISL_413566|2020-03-02 length:  29786\n",
      "id:  hCoV-19/Netherlands/Hardinxveld_Giessendam_1364806/2020|EPI_ISL_413573|2020-03-02 length:  29783\n",
      "id:  hCoV-19/Netherlands/Naarden_1364774/2020|EPI_ISL_413577|2020-03-02 length:  29783\n",
      "id:  hCoV-19/Netherlands/Utrecht_1364066/2020|EPI_ISL_413590|2020-03-02 length:  29783\n",
      "id:  hCoV-19/Netherlands/Zeewolde_1365080/2020|EPI_ISL_413591|2020-03-02 length:  29786\n",
      "id:  hCoV-19/Netherlands/Utrecht_1363628/2020|EPI_ISL_413589|2020-03-01 length:  29786\n",
      "id:  hCoV-19/Netherlands/Nootdorp_1364222/2020|EPI_ISL_413579|2020-03-03 length:  29786\n",
      "id:  hCoV-19/Netherlands/Oisterwijk_1364072/2020|EPI_ISL_413580|2020-03-02 length:  29783\n",
      "id:  hCoV-19/Netherlands/Tilburg_1364286/2020|EPI_ISL_413587|2020-03-03 length:  29786\n",
      "id:  hCoV-19/Netherlands/Oss_1363500/2020|EPI_ISL_413581|2020-02-29 length:  29783\n",
      "id:  hCoV-19/Netherlands/Rotterdam_1363790/2020|EPI_ISL_413582|2020-03-01 length:  29783\n",
      "id:  hCoV-19/Netherlands/Rotterdam_1364040/2020|EPI_ISL_413583|2020-03-02 length:  29783\n",
      "id:  hCoV-19/Netherlands/Rotterdam_1364740/2020|EPI_ISL_413584|2020-03-03 length:  29786\n",
      "id:  hCoV-19/USA/CA-CDPH-UC1/2020|EPI_ISL_413557|2020 length:  29903\n",
      "id:  hCoV-19/Australia/NSW08/2020|EPI_ISL_413594|2020-02-28 length:  29409\n",
      "id:  hCoV-19/Australia/NSW10/2020|EPI_ISL_413596|2020-02-28 length:  29409\n",
      "id:  hCoV-19/Australia/NSW11/2020|EPI_ISL_413597|2020-03-02 length:  29409\n",
      "id:  hCoV-19/Australia/NSW12/2020|EPI_ISL_413598|2020-03-04 length:  29409\n",
      "id:  hCoV-19/Australia/NSW13/2020|EPI_ISL_413599|2020-03-04 length:  29409\n",
      "id:  hCoV-19/Australia/NSW09/2020|EPI_ISL_413595|2020-02-28 length:  29409\n",
      "id:  hCoV-19/Australia/NSW14/2020|EPI_ISL_413600|2020-03-03 length:  29409\n",
      "id:  hCoV-19/Finland/FIN03032020C/2020|EPI_ISL_413604|2020-03-03 length:  29807\n",
      "id:  hCoV-19/Finland/FIN03032020B/2020|EPI_ISL_413603|2020-03-03 length:  29835\n",
      "id:  hCoV-19/Finland/FIN03032020A/2020|EPI_ISL_413602|2020-03-03 length:  29808\n",
      "id:  hCoV-19/Finland/FIN01032020/2020|EPI_ISL_413605|2020-03-01 length:  29809\n",
      "id:  hCoV-19/USA/CruiseA-1/2020|EPI_ISL_413606|2020-02-17 length:  29882\n",
      "id:  hCoV-19/USA/CruiseA-2/2020|EPI_ISL_413607|2020-02-18 length:  29882\n",
      "id:  hCoV-19/USA/CruiseA-3/2020|EPI_ISL_413608|2020-02-18 length:  29882\n",
      "id:  hCoV-19/USA/CruiseA-4/2020|EPI_ISL_413609|2020-02-21 length:  29882\n",
      "id:  hCoV-19/USA/CruiseA-5/2020|EPI_ISL_413610|2020-02-21 length:  29882\n",
      "id:  hCoV-19/USA/CruiseA-6/2020|EPI_ISL_413611|2020-02-21 length:  29882\n",
      "id:  hCoV-19/USA/CruiseA-7/2020|EPI_ISL_413612|2020-02-17 length:  29882\n",
      "id:  hCoV-19/USA/CruiseA-8/2020|EPI_ISL_413613|2020-02-17 length:  29882\n",
      "id:  hCoV-19/USA/CruiseA-9/2020|EPI_ISL_413614|2020-02-17 length:  29882\n",
      "id:  hCoV-19/USA/CruiseA-10/2020|EPI_ISL_413615|2020-02-17 length:  29882\n",
      "id:  hCoV-19/USA/CruiseA-11/2020|EPI_ISL_413616|2020-02-17 length:  29882\n",
      "id:  hCoV-19/USA/CruiseA-12/2020|EPI_ISL_413617|2020-02-20 length:  29882\n",
      "id:  hCoV-19/USA/CruiseA-13/2020|EPI_ISL_413618|2020-02-20 length:  29882\n",
      "id:  hCoV-19/USA/CruiseA-14/2020|EPI_ISL_413619|2020-02-25 length:  29882\n",
      "id:  hCoV-19/USA/CruiseA-15/2020|EPI_ISL_413620|2020-02-18 length:  29882\n",
      "id:  hCoV-19/USA/CruiseA-16/2020|EPI_ISL_413621|2020-02-18 length:  29882\n",
      "id:  hCoV-19/USA/CruiseA-17/2020|EPI_ISL_413622|2020-02-24 length:  29882\n",
      "id:  hCoV-19/Luxembourg/Lux1/2020|EPI_ISL_413593|2020-02-29 length:  29786\n",
      "id:  hCoV-19/USA/CruiseA-18/2020|EPI_ISL_413623|2020-02-24 length:  29867\n",
      "id:  hCoV-19/Portugal/CV63/2020|EPI_ISL_413648|2020-03-01 length:  29903\n",
      "id:  hCoV-19/Portugal/CV62/2020|EPI_ISL_413647|2020-03-01 length:  29903\n",
      "id:  hCoV-19/USA/UC-CDPH-UC11/2020|EPI_ISL_413931|2020-03-05 length:  29903\n",
      "id:  hCoV-19/USA/CA-CDPH-UC9/2020|EPI_ISL_413928|2020-03-05 length:  29903\n",
      "id:  hCoV-19/USA/CA-CDPH-UC6/2020|EPI_ISL_413924|2020-03-05 length:  29903\n",
      "id:  hCoV-19/USA/CA-CDPH-UC7/2020|EPI_ISL_413925|2020-03-05 length:  29903\n",
      "id:  hCoV-19/Switzerland/GE3895/2020|EPI_ISL_413997|2020-02-26 length:  29890\n",
      "id:  hCoV-19/Switzerland/AG0361/2020|EPI_ISL_413999|2020-02-27 length:  29887\n",
      "id:  hCoV-19/Brazil/SPBR-02/2020|EPI_ISL_413016|2020-02-28 length:  29903\n",
      "id:  hCoV-19/Switzerland/VD5615/2020|EPI_ISL_414023|2020-03-01 length:  29891\n",
      "id:  hCoV-19/Switzerland/GE9586/2020|EPI_ISL_414022|2020-02-27 length:  29870\n",
      "id:  hCoV-19/Switzerland/BL0902/2020|EPI_ISL_414021|2020-02-27 length:  29890\n",
      "id:  hCoV-19/Switzerland/GE5373/2020|EPI_ISL_414020|2020-02-27 length:  29865\n",
      "id:  hCoV-19/Switzerland/GE3121/2020|EPI_ISL_414019|2020-02-27 length:  29871\n",
      "id:  hCoV-19/England/200940527/2020|EPI_ISL_414005|2020-02-25 length:  29903\n",
      "id:  hCoV-19/England/200990724/2020|EPI_ISL_414006|2020-02-28 length:  29903\n",
      "id:  hCoV-19/England/200990725/2020|EPI_ISL_414007|2020-02-28 length:  29903\n",
      "id:  hCoV-19/England/200960041/2020|EPI_ISL_414008|2020-02-27 length:  29903\n",
      "id:  hCoV-19/England/200960515/2020|EPI_ISL_414009|2020-02-25 length:  29903\n",
      "id:  hCoV-19/Brazil/SPBR-04/2020|EPI_ISL_414017|2020-03-04 length:  29799\n",
      "id:  hCoV-19/England/200981386/2020|EPI_ISL_414010|2020-02-26 length:  29903\n",
      "id:  hCoV-19/England/200990006/2020|EPI_ISL_414011|2020-02-26 length:  29903\n",
      "id:  hCoV-19/Brazil/SPBR-06/2020|EPI_ISL_414015|2020-02-29 length:  29853\n",
      "id:  hCoV-19/England/200990723/2020|EPI_ISL_414012|2020-02-27 length:  29903\n",
      "id:  hCoV-19/England/201000003/2020|EPI_ISL_414013|2020-03-01 length:  29903\n",
      "id:  hCoV-19/Brazil/SPBR-03/2020|EPI_ISL_414014|2020-03-02 length:  29676\n",
      "id:  hCoV-19/Brazil/SPBR-05/2020|EPI_ISL_414016|2020-02-29 length:  29833\n",
      "id:  hCoV-19/Switzerland/TI9486/2020|EPI_ISL_413996|2020-02-24 length:  29872\n",
      "id:  hCoV-19/China/WF0001/2020|EPI_ISL_413691|2020-01 length:  29856\n",
      "id:  hCoV-19/China/WF0002/2020|EPI_ISL_413692|2020-01 length:  29860\n",
      "id:  hCoV-19/China/WF0003/2020|EPI_ISL_413693|2020-01 length:  29850\n",
      "id:  hCoV-19/China/WF0004/2020|EPI_ISL_413694|2020-01 length:  29867\n",
      "id:  hCoV-19/China/WF0012/2020|EPI_ISL_413697|2020-02 length:  29852\n",
      "id:  hCoV-19/China/WF0014/2020|EPI_ISL_413711|2020-02 length:  29861\n",
      "id:  hCoV-19/China/WF0015/2020|EPI_ISL_413729|2020-02 length:  29879\n",
      "id:  hCoV-19/China/WF0018/2020|EPI_ISL_413748|2020-02 length:  29851\n",
      "id:  hCoV-19/China/WF0019/2020|EPI_ISL_413749|2020-02 length:  29862\n",
      "id:  hCoV-19/China/WF0020/2020|EPI_ISL_413750|2020-02 length:  29882\n",
      "id:  hCoV-19/China/WF0021/2020|EPI_ISL_413751|2020-02 length:  29850\n",
      "id:  hCoV-19/China/WF0024/2020|EPI_ISL_413753|2020-02 length:  29873\n",
      "id:  hCoV-19/China/WF0026/2020|EPI_ISL_413761|2020-02 length:  29852\n",
      "id:  hCoV-19/China/WF0028/2020|EPI_ISL_413791|2020-02 length:  29859\n",
      "id:  hCoV-19/China/WF0029/2020|EPI_ISL_413809|2020-02 length:  29856\n",
      "id:  hCoV-19/China/WF0023/2020|EPI_ISL_413752|2020-02 length:  29358\n",
      "id:  hCoV-19/Guangdong/GD2020087-P0008/2020|EPI_ISL_413863|2020-02-01 length:  29903\n",
      "id:  hCoV-19/Guangdong/GD2020086-P0021/2020|EPI_ISL_413862|2020-02-01 length:  29903\n",
      "id:  hCoV-19/Guangdong/GD2020080-P0010/2020|EPI_ISL_413861|2020-02-01 length:  29903\n",
      "id:  hCoV-19/Guangdong/2020XN4273-P0036/2020|EPI_ISL_413860|2020-01-30 length:  29903\n",
      "id:  hCoV-19/Guangdong/2020XN4459-P0041/2020|EPI_ISL_413858|2020-01-30 length:  29903\n",
      "id:  hCoV-19/Guangdong/2020XN4448-P0002/2020|EPI_ISL_413857|2020-01-31 length:  29903\n",
      "id:  hCoV-19/Guangdong/GD2020233-P0027/2020|EPI_ISL_413856|2020-02-07 length:  29903\n",
      "id:  hCoV-19/Guangdong/2020XN4475-P0042/2020|EPI_ISL_413854|2020-01-30 length:  29903\n",
      "id:  hCoV-19/Guangdong/2020XN4243-P0035/2020|EPI_ISL_413853|2020-01-30 length:  29903\n",
      "id:  hCoV-19/Guangdong/2020XN4433-P0040/2020|EPI_ISL_413852|2020-01-30 length:  29903\n",
      "id:  hCoV-19/Guangdong/GDFS2020052-P0025/2020|EPI_ISL_413875|2020-02-10 length:  29903\n",
      "id:  hCoV-19/Guangdong/GD2020115-P0009/2020|EPI_ISL_413884|2020-02-01 length:  29903\n",
      "id:  hCoV-19/USA/CA-CDPH-UC5/2020|EPI_ISL_413922|2020-03-05 length:  29903\n",
      "id:  hCoV-19/USA/CA-CDPH-UC8/2020|EPI_ISL_413926|2020-03-05 length:  29903\n",
      "id:  hCoV-19/Guangdong/SZ-N59-P0049/2020|EPI_ISL_413872|2020-02-28 length:  29903\n",
      "id:  hCoV-19/Guangdong/GDFS2020127-P0026/2020|EPI_ISL_413874|2020-02-12 length:  29903\n",
      "id:  hCoV-19/Guangdong/GD2020139-P0007/2020|EPI_ISL_413882|2020-02-02 length:  29903\n",
      "id:  hCoV-19/Guangdong/2020XN4239-P0034/2020|EPI_ISL_413888|2020-01-30 length:  29903\n",
      "id:  hCoV-19/Guangdong/2020XN4291-P0038/2020|EPI_ISL_413889|2020-01-30 length:  29903\n",
      "id:  hCoV-19/Guangdong/GDSZ202008-P0020/2020|EPI_ISL_413866|2020-02-05 length:  29903\n",
      "id:  hCoV-19/Guangdong/GDFS2020054-P0005/2020|EPI_ISL_413850|2020-02-10 length:  29903\n",
      "id:  hCoV-19/Guangdong/2020XN4276-P0037/2020|EPI_ISL_413859|2020-01-31 length:  29903\n",
      "id:  hCoV-19/Guangdong/FS-S42-P0046/2020|EPI_ISL_413869|2020-02-28 length:  29903\n",
      "id:  hCoV-19/Guangdong/GD2020234-P0023/2020|EPI_ISL_413855|2020-02-07 length:  29903\n",
      "id:  hCoV-19/Guangdong/GD2020246-P0028/2020|EPI_ISL_413864|2020-02-09 length:  29903\n",
      "id:  hCoV-19/Guangdong/GDSZ202015-P0019/2020|EPI_ISL_413867|2020-02-05 length:  29903\n",
      "id:  hCoV-19/Guangdong/2020XN4373-P0039/2020|EPI_ISL_413851|2020-01-30 length:  29903\n",
      "id:  hCoV-19/Netherlands/Tilburg_/2020|EPI_ISL_413585|2020 length:  29783\n",
      "id:  hCoV-19/Netherlands/Tilburg_1363354/2020|EPI_ISL_413586|2020-02-27 length:  29783\n",
      "id:  hCoV-19/Netherlands/Nieuwendijk_1363582/2020|EPI_ISL_413578|2020-03-01 length:  29783\n",
      "id:  hCoV-19/Netherlands/Loon_op_zand_1363512/2020|EPI_ISL_413576|2020-02-29 length:  29783\n",
      "id:  hCoV-19/NetherlandsL/Houten_1363498/2020|EPI_ISL_413575|2020-02-29 length:  29786\n",
      "id:  hCoV-19/Netherlands/Eindhoven_1363782/2020|EPI_ISL_413571|2020-03-02 length:  29786\n",
      "id:  hCoV-19/Netherlands/Delft_1363424/2020|EPI_ISL_413569|2020-02-28 length:  29786\n",
      "id:  hCoV-19/Netherlands/Dalen_1363624/2020|EPI_ISL_413568|2020-03-01 length:  29783\n",
      "id:  hCoV-19/Netherlands/Helmond_1363548/2020|EPI_ISL_413574|2020-02-29 length:  29786\n",
      "id:  hCoV-19/Netherlands/Coevorden_1363618/2020|EPI_ISL_413567|2020 length:  29783\n",
      "id:  hCoV-19/Netherlands/Berlicum_1363564/2020|EPI_ISL_413565|2020-02-24 length:  29786\n",
      "id:  hCoV-19/Netherlands/Diemen_1363454/2020|EPI_ISL_413570|2020-02-28 length:  29786\n",
      "id:  hCoV-19/Netherlands/Andel_1365066/2020|EPI_ISL_413564|2020-03-01 length:  29783\n",
      "id:  hCoV-19/Netherlands/Utrecht_1363564/2020|EPI_ISL_413588|2020-03-01 length:  29786\n",
      "id:  hCoV-19/Nigeria/Lagos01/2020|EPI_ISL_413550|2020-02-27 length:  29759\n",
      "id:  hCoV-19/England/200641094/2020|EPI_ISL_414040|2020-02-05 length:  29900\n",
      "id:  hCoV-19/England/200690245/2020|EPI_ISL_414041|2020-02-08 length:  29900\n",
      "id:  hCoV-19/England/200690300/2020|EPI_ISL_414042|2020-02-08 length:  29900\n",
      "id:  hCoV-19/England/200690306/2020|EPI_ISL_414043|2020-02-07 length:  29900\n",
      "id:  hCoV-19/England/200690756/2020|EPI_ISL_414044|2020-02-08 length:  29900\n",
      "id:  hCoV-19/Taiwan/NTU03/2020|EPI_ISL_413592|2020-03-02 length:  29870\n",
      "id:  hCoV-19/Canada/BC_37_0-2/2020|EPI_ISL_412965|2020-02-16 length:  29903\n",
      "id:  hCoV-19/Beijing/IVDC-BJ-005/2020|EPI_ISL_408485|2020-01-18 length:  29890\n",
      "id:  hCoV-19/Shanghai/IVDC-SH-001/2020|EPI_ISL_408483|2020-01-20 length:  29893\n",
      "id:  hCoV-19/Henan/IVDC-HeN-002/2020|EPI_ISL_408487|2020-01-20 length:  29892\n",
      "id:  hCoV-19/Wuhan/WIV04/2019|EPI_ISL_402124|2019-12-30 length:  29891\n",
      "id:  hCoV-19/Wuhan/IPBCAMS-WH-01/2019|EPI_ISL_402123|2019-12-24 length:  29899\n",
      "id:  hCoV-19/Wuhan/IVDC-HB-04/2020|EPI_ISL_402120|2020-01-01 length:  29896\n",
      "id:  hCoV-19/Wuhan/IVDC-HB-01/2019|EPI_ISL_402119|2019-12-30 length:  29891\n",
      "id:  hCoV-19/Wuhan/IVDC-HB-05/2019|EPI_ISL_402121|2019-12-30 length:  29891\n",
      "id:  hCoV-19/Wuhan/WIV05/2019|EPI_ISL_402128|2019-12-30 length:  29852\n",
      "id:  hCoV-19/Wuhan-Hu-1/2019|EPI_ISL_402125|2019-12-31 length:  29903\n",
      "id:  hCoV-19/Nonthaburi/61/2020|EPI_ISL_403962|2020-01-08 length:  29848\n",
      "id:  hCoV-19/Nonthaburi/74/2020|EPI_ISL_403963|2020-01-13 length:  29859\n",
      "id:  hCoV-19/Wuhan/WIV02/2019|EPI_ISL_402127|2019-12-30 length:  29825\n",
      "id:  hCoV-19/Singapore/12/2020|EPI_ISL_414378|2020-02-17 length:  29463\n",
      "id:  hCoV-19/Singapore/13/2020|EPI_ISL_414379|2020-02-18 length:  29462\n",
      "id:  hCoV-19/Singapore/14/2020|EPI_ISL_414380|2020-02-19 length:  29463\n",
      "id:  hCoV-19/Netherlands/ZuidHolland_11/2020|EPI_ISL_414469|2020-03-04 length:  29786\n",
      "id:  hCoV-19/Netherlands/ZuidHolland_14/2020|EPI_ISL_414471|2020-03-05 length:  29775\n",
      "id:  hCoV-19/Netherlands/ZuidHolland_13/2020|EPI_ISL_414470|2020-03-06 length:  29786\n",
      "id:  hCoV-19/Netherlands/ZuidHolland_6/2020|EPI_ISL_414466|2020-03-04 length:  29786\n",
      "id:  hCoV-19/Netherlands/ZuidHolland_7/2020|EPI_ISL_414467|2020-03-05 length:  29780\n",
      "id:  hCoV-19/Netherlands/ZuidHolland_8/2020|EPI_ISL_414468|2020-03-06 length:  29786\n",
      "id:  hCoV-19/Netherlands/ZuidHolland_5/2020|EPI_ISL_414465|2020-03-04 length:  29786\n",
      "id:  hCoV-19/Netherlands/Utrecht_14/2020|EPI_ISL_414464|2020-03-04 length:  29786\n",
      "id:  hCoV-19/Netherlands/Utrecht_13/2020|EPI_ISL_414463|2020-03-04 length:  29786\n",
      "id:  hCoV-19/Netherlands/Utrecht_6/2020|EPI_ISL_414461|2020-03-04 length:  29786\n",
      "id:  hCoV-19/Netherlands/Utrecht_12/2020|EPI_ISL_414462|2020-03-04 length:  29783\n",
      "id:  hCoV-19/Netherlands/Overijssel_2/2020|EPI_ISL_414460|2020-03-03 length:  29786\n",
      "id:  hCoV-19/Netherlands/NoordBrabant_19/2020|EPI_ISL_414459|2020-03-06 length:  29783\n",
      "id:  hCoV-19/Netherlands/NoordBrabant_16/2020|EPI_ISL_414456|2020-03-04 length:  29786\n",
      "id:  hCoV-19/Netherlands/NoordBrabant_18/2020|EPI_ISL_414458|2020-03-05 length:  29783\n",
      "id:  hCoV-19/Netherlands/NoordBrabant_17/2020|EPI_ISL_414457|2020-03-06 length:  29786\n",
      "id:  hCoV-19/Netherlands/NoordBrabant_13/2020|EPI_ISL_414453|2020-03-06 length:  29786\n",
      "id:  hCoV-19/Netherlands/NoordBrabant_15/2020|EPI_ISL_414455|2020-03-06 length:  29786\n",
      "id:  hCoV-19/Netherlands/NoordBrabant_14/2020|EPI_ISL_414454|2020-03-05 length:  29786\n",
      "id:  hCoV-19/Netherlands/NoordBrabant_4/2020|EPI_ISL_414450|2020-03-06 length:  29786\n",
      "id:  hCoV-19/Netherlands/NoordBrabant_12/2020|EPI_ISL_414452|2020-03-06 length:  29783\n",
      "id:  hCoV-19/Netherlands/NoordBrabant_6/2020|EPI_ISL_414451|2020-03-06 length:  29786\n",
      "id:  hCoV-19/Netherlands/NoordBrabant_2/2020|EPI_ISL_414449|2020-03-03 length:  29786\n",
      "id:  hCoV-19/Netherlands/Limburg_5/2020|EPI_ISL_414448|2020-03-04 length:  29786\n",
      "id:  hCoV-19/Netherlands/ZuidHolland_10/2020|EPI_ISL_414446|2020-03-03 length:  29786\n",
      "id:  hCoV-19/Netherlands/ZuidHolland_1/2020|EPI_ISL_414444|2020-03-02 length:  29786\n",
      "id:  hCoV-19/Netherlands/Utrecht_10/2020|EPI_ISL_414442|2020-03-03 length:  29786\n",
      "id:  hCoV-19/Netherlands/ZuidHolland_9/2020|EPI_ISL_414445|2020-03-03 length:  29786\n",
      "id:  hCoV-19/Netherlands/Utrecht_11/2020|EPI_ISL_414443|2020-03-03 length:  29786\n",
      "id:  hCoV-19/Netherlands/Utrecht_8/2020|EPI_ISL_414441|2020-03-03 length:  29786\n",
      "id:  hCoV-19/Netherlands/Utrecht_7/2020|EPI_ISL_414440|2020-03-03 length:  29786\n",
      "id:  hCoV-19/Netherlands/Utrecht_5/2020|EPI_ISL_414439|2020-03-02 length:  29786\n",
      "id:  hCoV-19/Netherlands/Utrecht_4/2020|EPI_ISL_414438|2020-03-03 length:  29786\n",
      "id:  hCoV-19/Netherlands/Utrecht_3/2020|EPI_ISL_414437|2020-03-03 length:  29786\n",
      "id:  hCoV-19/Netherlands/Utrecht_2/2020|EPI_ISL_414436|2020-03-03 length:  29786\n",
      "id:  hCoV-19/Netherlands/Overijssel_1/2020|EPI_ISL_414434|2020-03-03 length:  29786\n",
      "id:  hCoV-19/Netherlands/Utrecht_1/2020|EPI_ISL_414435|2020-03-03 length:  29786\n",
      "id:  hCoV-19/Netherlands/NoordHolland_1/2020|EPI_ISL_414433|2020-03-03 length:  29786\n",
      "id:  hCoV-19/Netherlands/NoordBrabant_10/2020|EPI_ISL_414431|2020-03-02 length:  29783\n",
      "id:  hCoV-19/Netherlands/NoordBrabant_11/2020|EPI_ISL_414432|2020-03-02 length:  29783\n",
      "id:  hCoV-19/Netherlands/NoordBrabant_5/2020|EPI_ISL_414430|2020-03-05 length:  29786\n",
      "id:  hCoV-19/Netherlands/Limburg_6/2020|EPI_ISL_414427|2020-03-03 length:  29783\n",
      "id:  hCoV-19/Netherlands/NoordBrabant_3/2020|EPI_ISL_414429|2020-03-02 length:  29786\n",
      "id:  hCoV-19/Netherlands/NoordBrabant_1/2020|EPI_ISL_414428|2020-03-02 length:  29786\n",
      "id:  hCoV-19/Netherlands/Limburg_4/2020|EPI_ISL_414426|2020-03-03 length:  29786\n",
      "id:  hCoV-19/Netherlands/Limburg_3/2020|EPI_ISL_414425|2020-03-03 length:  29786\n",
      "id:  hCoV-19/Netherlands/Limburg_2/2020|EPI_ISL_414424|2020-03-03 length:  29786\n",
      "id:  hCoV-19/Netherlands/Gelderland_1/2020|EPI_ISL_414423|2020-03-02 length:  29786\n",
      "id:  hCoV-19/Australia/QLD09/2020|EPI_ISL_414414|2020-02-29 length:  29864\n",
      "id:  hCoV-19/USA/NY1-PV08001/2020|EPI_ISL_414476|2020-02-29 length:  29903\n",
      "id:  hCoV-19/Czech length:  29622\n",
      "id:  hCoV-19/USA/CruiseA-19/2020|EPI_ISL_414479|2020-02-18 length:  29882\n",
      "id:  hCoV-19/USA/CruiseA-21/2020|EPI_ISL_414480|2020-02-21 length:  29880\n",
      "id:  hCoV-19/USA/CruiseA-22/2020|EPI_ISL_414481|2020-02-21 length:  29882\n",
      "id:  hCoV-19/USA/CruiseA-23/2020|EPI_ISL_414482|2020-02-18 length:  29882\n",
      "id:  hCoV-19/USA/CruiseA-24/2020|EPI_ISL_414483|2020-02-17 length:  29882\n",
      "id:  hCoV-19/USA/CruiseA-25/2020|EPI_ISL_414484|2020-02-17 length:  29882\n",
      "id:  hCoV-19/USA/CruiseA-26/2020|EPI_ISL_414485|2020-02-24 length:  29882\n",
      "id:  hCoV-19/USA/WA4-UW2/2020|EPI_ISL_413455|2020-02-28 length:  29897\n",
      "id:  hCoV-19/USA/WA3-UW1/2020|EPI_ISL_413025|2020-02-27 length:  29903\n",
      "id:  hCoV-19/USA/WA6-UW3/2020|EPI_ISL_413457|2020-02-29 length:  29903\n",
      "id:  hCoV-19/USA/WA7-UW4/2020|EPI_ISL_413458|2020-03-01 length:  29903\n",
      "id:  hCoV-19/USA/WA8-UW5/2020|EPI_ISL_413486|2020-03-01 length:  29732\n",
      "id:  hCoV-19/USA/WA9-UW6/2020|EPI_ISL_413487|2020-03-01 length:  29325\n",
      "id:  hCoV-19/USA/WA12-UW8/2020|EPI_ISL_413563|2020-03-03 length:  29897\n",
      "id:  hCoV-19/USA/WA13-UW9/2020|EPI_ISL_413601|2020-03-02 length:  29563\n",
      "id:  hCoV-19/USA/WA14-UW10/2020|EPI_ISL_413649|2020-03-05 length:  29579\n",
      "id:  hCoV-19/USA/WA15-UW11/2020|EPI_ISL_413650|2020-03-05 length:  29903\n",
      "id:  hCoV-19/USA/WA16-UW12/2020|EPI_ISL_413651|2020-03-05 length:  29903\n",
      "id:  hCoV-19/USA/WA17-UW13/2020|EPI_ISL_413652|2020-03-05 length:  29750\n",
      "id:  hCoV-19/USA/WA18-UW14/2020|EPI_ISL_413653|2020-03-05 length:  29903\n",
      "id:  hCoV-19/USA/WA11-UW7/2020|EPI_ISL_413562|2020-03-02 length:  29739\n",
      "id:  hCoV-19/USA/WA-UW18/2020|EPI_ISL_414366|2020-03-05 length:  29897\n",
      "id:  hCoV-19/USA/WA-UW15/2020|EPI_ISL_414363|2020-03-04 length:  29903\n",
      "id:  hCoV-19/USA/WA-UW21/2020|EPI_ISL_414369|2020-03-05 length:  29890\n",
      "id:  hCoV-19/USA/WA-UW20/2020|EPI_ISL_414368|2020-03-05 length:  29890\n",
      "id:  hCoV-19/USA/WA-UW19/2020|EPI_ISL_414367|2020-03-05 length:  29745\n",
      "id:  hCoV-19/USA/WA-UW17/2020|EPI_ISL_414365|2020-03-06 length:  29632\n",
      "id:  hCoV-19/USA/WA-UW16/2020|EPI_ISL_414364|2020-03-05 length:  29572\n",
      "id:  hCoV-19/England/01/2020|EPI_ISL_407071|2020-01-29 length:  29843\n",
      "id:  hCoV-19/England/02/2020|EPI_ISL_407073|2020-01-29 length:  29843\n",
      "id:  hCoV-19/England/09c/2020|EPI_ISL_412116|2020-02-09 length:  29903\n",
      "id:  hCoV-19/Scotland/CVR05/2020|EPI_ISL_414027|2020-03-04 length:  29903\n",
      "id:  hCoV-19/Scotland/CVR04/2020|EPI_ISL_414026|2020-03-04 length:  29903\n",
      "id:  hCoV-19/Scotland/CVR03/2020|EPI_ISL_414025|2020-03-01 length:  29903\n",
      "id:  hCoV-19/Scotland/CVR02/2020|EPI_ISL_414024|2020-03-02 length:  29903\n",
      "id:  hCoV-19/Scotland/CVR01/2020|EPI_ISL_413221|2020-03-02 length:  29903\n",
      "id:  hCoV-19/Spain/Valencia1/2020|EPI_ISL_414495|2020-03-08 length:  29849\n",
      "id:  hCoV-19/Spain/Valencia2/2020|EPI_ISL_414496|2020-03-04 length:  29611\n",
      "id:  hCoV-19/Wales/PHW05/2020|EPI_ISL_414488|2020-03-08 length:  29611\n",
      "id:  hCoV-19/Wales/PHW03/2020|EPI_ISL_414486|2020-03-07 length:  29782\n",
      "id:  hCoV-19/England/Sheff02/2020|EPI_ISL_414501|2020-03-03 length:  29782\n",
      "id:  hCoV-19/England/Sheff01/2020|EPI_ISL_414500|2020-03-04 length:  29782\n",
      "id:  hCoV-19/China/WF0016/2020|EPI_ISL_413746|2020-02 length:  29852\n",
      "id:  hCoV-19/Germany/NRW-011/2020|EPI_ISL_414507|2020-03-03 length:  29903\n",
      "id:  hCoV-19/Hong length:  29793\n",
      "id:  hCoV-19/Shanghai/SH01/2020|EPI_ISL_414510|2020-02-02 length:  29945\n",
      "id:  hCoV-19/Japan/TKYE6182/2020|EPI_ISL_414511|2020-01 length:  29903\n",
      "id:  hCoV-19/Hong length:  29764\n",
      "id:  hCoV-19/Hong length:  29764\n",
      "id:  hCoV-19/South length:  29789\n",
      "id:  hCoV-19/South length:  29789\n",
      "id:  hCoV-19/South length:  29789\n",
      "id:  hCoV-19/South length:  29789\n",
      "id:  hCoV-19/South length:  29789\n",
      "id:  hCoV-19/England/200990002/2020|EPI_ISL_414522|2020-02-28 length:  29903\n",
      "id:  hCoV-19/England/200990660/2020|EPI_ISL_414523|2020-02-27 length:  29903\n",
      "id:  hCoV-19/England/200991076/2020|EPI_ISL_414524|2020-03-01 length:  29903\n",
      "id:  hCoV-19/England/201040081/2020|EPI_ISL_414525|2020-03-02 length:  29903\n",
      "id:  hCoV-19/England/201040141/2020|EPI_ISL_414526|2020-03-03 length:  29903\n",
      "id:  hCoV-19/Netherlands/ZuidHolland_24/2020|EPI_ISL_414566|2020-03-06 length:  29775\n",
      "id:  hCoV-19/Netherlands/ZuidHolland_22/2020|EPI_ISL_414564|2020-03-08 length:  29775\n",
      "id:  hCoV-19/Netherlands/ZuidHolland_20/2020|EPI_ISL_414562|2020-03-03 length:  29775\n",
      "id:  hCoV-19/Netherlands/ZuidHolland_23/2020|EPI_ISL_414565|2020-03-09 length:  29775\n",
      "id:  hCoV-19/Netherlands/ZuidHolland_21/2020|EPI_ISL_414563|2020-03-03 length:  29772\n",
      "id:  hCoV-19/Netherlands/ZuidHolland_19/2020|EPI_ISL_414561|2020-03-05 length:  29775\n",
      "id:  hCoV-19/Netherlands/ZuidHolland_18/2020|EPI_ISL_414560|2020-03-03 length:  29775\n",
      "id:  hCoV-19/Germany/BavPat3/2020|EPI_ISL_414521|2020-03-02 length:  29875\n",
      "id:  hCoV-19/Netherlands/ZuidHolland_17/2020|EPI_ISL_414559|2020-03-07 length:  29775\n",
      "id:  hCoV-19/Netherlands/ZuidHolland_16/2020|EPI_ISL_414558|2020-03-06 length:  29775\n",
      "id:  hCoV-19/Netherlands/ZuidHolland_15/2020|EPI_ISL_414557|2020-03-08 length:  29775\n",
      "id:  hCoV-19/Germany/BavPat2/2020|EPI_ISL_414520|2020-03-02 length:  29874\n",
      "id:  hCoV-19/Netherlands/ZuidHolland_2/2020|EPI_ISL_414556|2020-03-06 length:  29775\n",
      "id:  hCoV-19/Netherlands/Utrecht_16/2020|EPI_ISL_414555|2020-03-08 length:  29775\n",
      "id:  hCoV-19/Netherlands/Utrecht_14/2020|EPI_ISL_414553|2020-03-09 length:  29772\n",
      "id:  hCoV-19/Netherlands/Utrecht_15/2020|EPI_ISL_414554|2020-03-08 length:  29775\n",
      "id:  hCoV-19/Netherlands/Utrecht_13/2020|EPI_ISL_414552|2020-03-07 length:  29775\n",
      "id:  hCoV-19/Netherlands/Overijssel_2/2020|EPI_ISL_414550|2020-03-06 length:  29772\n",
      "id:  hCoV-19/Netherlands/Utrecht_12/2020|EPI_ISL_414551|2020-03-07 length:  29772\n",
      "id:  hCoV-19/Netherlands/NoordHolland_2/2020|EPI_ISL_414549|2020-03-03 length:  29775\n",
      "id:  hCoV-19/Netherlands/NoordBrabant_39/2020|EPI_ISL_414548|2020-03-04 length:  29786\n",
      "id:  hCoV-19/Netherlands/NoordBrabant_38/2020|EPI_ISL_414547|2020-03-06 length:  29772\n",
      "id:  hCoV-19/Netherlands/NoordBrabant_37/2020|EPI_ISL_414546|2020-03-06 length:  29775\n",
      "id:  hCoV-19/Netherlands/NoordBrabant_36/2020|EPI_ISL_414545|2020-03-03 length:  29775\n",
      "id:  hCoV-19/Netherlands/NoordBrabant_35/2020|EPI_ISL_414544|2020-03-09 length:  29772\n",
      "id:  hCoV-19/Netherlands/NoordBrabant_34/2020|EPI_ISL_414543|2020-03 length:  29772\n",
      "id:  hCoV-19/Netherlands/NoordBrabant_33/2020|EPI_ISL_414542|2020-03 length:  29772\n",
      "id:  hCoV-19/Netherlands/NoordBrabant_31/2020|EPI_ISL_414540|2020-03-08 length:  29751\n",
      "id:  hCoV-19/Netherlands/NoordBrabant_32/2020|EPI_ISL_414541|2020-03-08 length:  29772\n",
      "id:  hCoV-19/Netherlands/NoordBrabant_30/2020|EPI_ISL_414539|2020-03-08 length:  29772\n",
      "id:  hCoV-19/Netherlands/NoordBrabant_29/2020|EPI_ISL_414538|2020-03-08 length:  29772\n",
      "id:  hCoV-19/Netherlands/NoordBrabant_28/2020|EPI_ISL_414537|2020-03-08 length:  29772\n",
      "id:  hCoV-19/Netherlands/NoordBrabant_27/2020|EPI_ISL_414536|2020-03-08 length:  29772\n",
      "id:  hCoV-19/Netherlands/NoordBrabant_24/2020|EPI_ISL_414533|2020-03-06 length:  29772\n",
      "id:  hCoV-19/Netherlands/NoordBrabant_26/2020|EPI_ISL_414535|2020-03-06 length:  29775\n",
      "id:  hCoV-19/Netherlands/NoordBrabant_25/2020|EPI_ISL_414534|2020-03-06 length:  29775\n",
      "id:  hCoV-19/Netherlands/NoordBrabant_23/2020|EPI_ISL_414532|2020-03-05 length:  29775\n",
      "id:  hCoV-19/Netherlands/NoordBrabant_22/2020|EPI_ISL_414531|2020-03-04 length:  29775\n",
      "id:  hCoV-19/Netherlands/NoordBrabant_21/2020|EPI_ISL_414530|2020-03-04 length:  29775\n",
      "id:  hCoV-19/Netherlands/NoordBrabant_20/2020|EPI_ISL_414529|2020-03-04 length:  29775\n",
      "id:  hCoV-19/Hong length:  29764\n",
      "id:  hCoV-19/Hong length:  29764\n",
      "id:  hCoV-19/Hong length:  29764\n",
      "id:  hCoV-19/Hong length:  29764\n",
      "id:  hCoV-19/Chile/Talca-1/2020|EPI_ISL_414577|2020-03-02 length:  29850\n",
      "id:  hCoV-19/Chile/Santiago-2/2020|EPI_ISL_414580|2020-03-05 length:  29796\n",
      "id:  hCoV-19/USA/MN1-MDH1/2020|EPI_ISL_414588|2020-03-05 length:  29835\n",
      "id:  hCoV-19/USA/MN2-MDH2/2020|EPI_ISL_414589|2020-03-07 length:  29845\n",
      "id:  hCoV-19/USA/MN3-MDH3/2020|EPI_ISL_414590|2020-03-09 length:  29783\n",
      "id:  hCoV-19/Ireland/Limerick-19933/2020|EPI_ISL_414585|2020-03-03 length:  29782\n",
      "id:  hCoV-19/Ireland/Dublin-19072/2020|EPI_ISL_414584|2020-03-02 length:  29782\n",
      "id:  hCoV-19/Ireland/Limerick-19934/2020|EPI_ISL_414586|2020-03-03 length:  29782\n",
      "id:  hCoV-19/Ireland/Limerick-19935/2020|EPI_ISL_414587|2020-03-03 length:  29782\n",
      "id:  hCoV-19/Germany/NRW-10/2020|EPI_ISL_414574|2020-02-28 length:  29903\n",
      "id:  hCoV-19/Germany/NRW-09/2020|EPI_ISL_414509|2020-02-28 length:  29903\n",
      "id:  hCoV-19/Germany/NRW-08/2020|EPI_ISL_414508|2020-02-27 length:  29903\n",
      "id:  hCoV-19/Germany/NRW-07/2020|EPI_ISL_414506|2020-02-27 length:  29903\n",
      "id:  hCoV-19/Germany/NRW-05/2020|EPI_ISL_414504|2020-02-26 length:  29903\n",
      "id:  hCoV-19/Germany/NRW-01/2020|EPI_ISL_413488|2020-02-28 length:  29903\n",
      "id:  hCoV-19/Germany/NRW-02-1/2020|EPI_ISL_414497|2020-02-25 length:  29903\n",
      "id:  hCoV-19/Germany/NRW-03/2020|EPI_ISL_414498|2020-02-26 length:  29903\n",
      "id:  hCoV-19/Germany/NRW-04/2020|EPI_ISL_414499|2020-02-26 length:  29903\n",
      "id:  hCoV-19/Germany/NRW-06/2020|EPI_ISL_414505|2020-02-27 length:  29903\n",
      "id:  hCoV-19/Chile/Talca-2/2020|EPI_ISL_414578|2020-03-04 length:  29789\n",
      "id:  hCoV-19/Chile/Santiago-1/2020|EPI_ISL_414579|2020-03-03 length:  29790\n",
      "id:  hCoV-19/USA/WA-UW28/2020|EPI_ISL_414597|2020-03-04 length:  29755\n",
      "id:  hCoV-19/USA/WA-UW22/2020|EPI_ISL_414591|2020-03-06 length:  29861\n",
      "id:  hCoV-19/USA/WA-UW23/2020|EPI_ISL_414592|2020-03-06 length:  29870\n",
      "id:  hCoV-19/USA/WA-UW24/2020|EPI_ISL_414593|2020-03-05 length:  29745\n",
      "id:  hCoV-19/USA/WA-UW25/2020|EPI_ISL_414594|2020-03-05 length:  29575\n",
      "id:  hCoV-19/USA/WA-UW26/2020|EPI_ISL_414595|2020-03-05 length:  29898\n",
      "id:  hCoV-19/USA/WA-UW27/2020|EPI_ISL_414596|2020-03-04 length:  29704\n",
      "id:  hCoV-19/France/GE1583/2020|EPI_ISL_414600|2020-02-26 length:  29862\n",
      "id:  hCoV-19/France/N1620/2020|EPI_ISL_414601|2020-02-27 length:  29860\n",
      "id:  hCoV-19/Ireland/COR-20134/2020|EPI_ISL_414487|2020-03-04 length:  29782\n",
      "id:  hCoV-19/Spain/Valencia3/2020|EPI_ISL_414598|2020-03-05 length:  29302\n",
      "id:  hCoV-19/USA/WA-UW29/2020|EPI_ISL_414616|2020-03-08 length:  29723\n",
      "id:  hCoV-19/USA/WA-UW34/2020|EPI_ISL_414621|2020-03-08 length:  29697\n",
      "id:  hCoV-19/USA/WA-UW35/2020|EPI_ISL_414622|2020-03-08 length:  29727\n",
      "id:  hCoV-19/France/HF1871/2020|EPI_ISL_414630|2020-03-03 length:  29903\n",
      "id:  hCoV-19/France/HF1870/2020|EPI_ISL_414629|2020-03-03 length:  29902\n",
      "id:  hCoV-19/France/HF1805/2020|EPI_ISL_414628|2020-03-02 length:  29902\n",
      "id:  hCoV-19/France/HF1795/2020|EPI_ISL_414627|2020-03-02 length:  29897\n",
      "id:  hCoV-19/France/GE1973/2020|EPI_ISL_414631|2020-03-04 length:  29903\n",
      "id:  hCoV-19/France/GE1977/2020|EPI_ISL_414632|2020-03-04 length:  29903\n",
      "id:  hCoV-19/France/IDF1980/2020|EPI_ISL_414633|2020-03-04 length:  29903\n",
      "id:  hCoV-19/France/HF1986/2020|EPI_ISL_414634|2020-03-04 length:  29902\n",
      "id:  hCoV-19/France/HF1988/2020|EPI_ISL_414635|2020-03-04 length:  29903\n",
      "id:  hCoV-19/France/HF1993/2020|EPI_ISL_414637|2020-03-04 length:  29903\n",
      "id:  hCoV-19/France/HF1989/2020|EPI_ISL_414636|2020-03-04 length:  29902\n",
      "id:  hCoV-19/France/HF1995/2020|EPI_ISL_414638|2020-03-04 length:  29903\n",
      "id:  hCoV-19/Brazil-RJ/314/2020|EPI_ISL_414045|2020-03-04 length:  29768\n",
      "id:  hCoV-19/Finland/FIN-313/2020|EPI_ISL_414641|2020-03-05 length:  29807\n",
      "id:  hCoV-19/Finland/FIN-455/2020|EPI_ISL_414642|2020-03-08 length:  29809\n",
      "id:  hCoV-19/Finland/FIN-508/2020|EPI_ISL_414643|2020-03-07 length:  29809\n",
      "id:  hCoV-19/Finland/FIN-266/2020|EPI_ISL_414646|2020-03-04 length:  29807\n",
      "id:  hCoV-19/Finland/FIN-114/2020|EPI_ISL_414640|2020-03-01 length:  29806\n",
      "id:  hCoV-19/Finland/FIN-274/2020|EPI_ISL_414645|2020-03-04 length:  29809\n",
      "id:  hCoV-19/Finland/FIN-318/2020|EPI_ISL_414644|2020-03-04 length:  29806\n",
      "id:  hCoV-19/USA/NY-NYUMC1/2020|EPI_ISL_414639|2020-03-04 length:  29903\n",
      "id:  hCoV-19/USA/WA-UW30/2020|EPI_ISL_414617|2020-03-08 length:  29855\n",
      "id:  hCoV-19/USA/WA-UW31/2020|EPI_ISL_414618|2020-03-08 length:  29903\n",
      "id:  hCoV-19/USA/WA-UW32/2020|EPI_ISL_414619|2020-03-07 length:  29633\n",
      "id:  hCoV-19/USA/WA-UW33/2020|EPI_ISL_414620|2020-03-08 length:  29644\n",
      "id:  hCoV-19/Congo/KN-13/2020|EPI_ISL_414647|2020-03-09 length:  29896\n"
     ]
    }
   ],
   "source": [
    "from Bio import SeqIO\n",
    "for seq_record in SeqIO.parse(\"data/gisaid_cov2020_sequences_15mar2020.fasta\", \"fasta\"):\n",
    "    print(\"id: \",seq_record.id,\"length: \",len(seq_record.seq))\n"
   ]
  },
  {
   "cell_type": "code",
   "execution_count": 15,
   "metadata": {},
   "outputs": [
    {
     "name": "stdout",
     "output_type": "stream",
     "text": [
      "25\n"
     ]
    }
   ],
   "source": [
    "# read in large number of sequences as list of SeqRecords\n",
    "covid_records = list(SeqIO.parse(\"data/gisaid_cov2020_sequences_15mar2020.fasta\", \"fasta\"))\n",
    "# write first 25 into small file\n",
    "SeqIO.write(covid_records[0:25], \"data/covid_small.fasta\", \"fasta\")\n",
    "# read small file\n",
    "covid_records = list(SeqIO.parse(\"data/covid_small.fasta\", \"fasta\"))\n",
    "print(len(covid_records))"
   ]
  },
  {
   "cell_type": "markdown",
   "metadata": {},
   "source": [
    "`SeqIO.parse()` actually returns a specific python object called an iterator that can be operated on in a different way, asking it to give you the next object over and over"
   ]
  },
  {
   "cell_type": "code",
   "execution_count": 16,
   "metadata": {},
   "outputs": [
    {
     "name": "stdout",
     "output_type": "stream",
     "text": [
      "hCoV-19/Wuhan/WIV06/2019|EPI_ISL_402129|2019-12-30\n",
      "hCoV-19/Wuhan/WIV06/2019|EPI_ISL_402129|2019-12-30\n",
      "hCoV-19/Wuhan/WIV07/2019|EPI_ISL_402130|2019-12-30\n",
      "hCoV-19/Wuhan/WIV07/2019|EPI_ISL_402130|2019-12-30\n"
     ]
    }
   ],
   "source": [
    "#a slightly different way to deal with the iterator that SeqIO.parse returns    \n",
    "record_iterator = SeqIO.parse(\"data/covid_small.fasta\", \"fasta\")\n",
    "first_record = next(record_iterator)\n",
    "print(first_record.id)\n",
    "print(first_record.description)\n",
    "\n",
    "second_record = next(record_iterator)\n",
    "print(second_record.id)\n",
    "print(second_record.description)"
   ]
  },
  {
   "cell_type": "markdown",
   "metadata": {},
   "source": [
    "### Getting sequences straight from Genbank\n",
    "biopython has code that allows us to download sequences directly from genbank and suck them up in to memory for doing stuff. this is particularly useful for snatching _reference sequences_, the an official representation of a sequence that is often well annotated. We will use this interface to grab a reference genome for SARS-CoV-2"
   ]
  },
  {
   "cell_type": "code",
   "execution_count": 17,
   "metadata": {},
   "outputs": [
    {
     "name": "stdout",
     "output_type": "stream",
     "text": [
      "NC_045512.2 NC_045512.2 Severe acute respiratory syndrome coronavirus 2 isolate Wuhan-Hu-1, complete genome\n"
     ]
    }
   ],
   "source": [
    "from Bio import Entrez\n",
    "from Bio import SeqIO\n",
    "# need this fake email for the service to work\n",
    "Entrez.email = \"fake_email@thanks.com\"\n",
    "with Entrez.efetch(db=\"nucleotide\", rettype=\"fasta\", retmode=\"text\", id=\"NC_045512.2\") as handle:\n",
    "    seq_record = SeqIO.read(handle, \"fasta\")\n",
    "print(seq_record.id, seq_record.description)"
   ]
  },
  {
   "cell_type": "markdown",
   "metadata": {},
   "source": [
    "## SeqRecords\n",
    "the workhorse here is a class called a `SeqRecord` that biopython provides to us. we can get a bunch of information here just be asking the object to print itself. these are smart. full documentation on these [here](https://biopython.org/wiki/SeqRecord)"
   ]
  },
  {
   "cell_type": "code",
   "execution_count": 18,
   "metadata": {},
   "outputs": [
    {
     "name": "stdout",
     "output_type": "stream",
     "text": [
      "ID: NC_045512.2\n",
      "Name: NC_045512.2\n",
      "Description: NC_045512.2 Severe acute respiratory syndrome coronavirus 2 isolate Wuhan-Hu-1, complete genome\n",
      "Number of features: 0\n",
      "Seq('ATTAAAGGTTTATACCTTCCCAGGTAACAAACCAACCAACTTTCGATCTCTTGT...AAA')\n"
     ]
    }
   ],
   "source": [
    "print(seq_record)"
   ]
  },
  {
   "cell_type": "markdown",
   "metadata": {},
   "source": [
    "we can get a bit more information if we retreive files in the so-called genbank format, in particular we will get annotation features associated with the sequence, if they exist in the genbank entry. The genbank page for this entry can be found [here](https://www.ncbi.nlm.nih.gov/nuccore/NC_045512.2), we can look it over in class together to see all the neat information that they include"
   ]
  },
  {
   "cell_type": "code",
   "execution_count": 19,
   "metadata": {},
   "outputs": [
    {
     "name": "stdout",
     "output_type": "stream",
     "text": [
      "NC_045512.2 Severe acute respiratory syndrome coronavirus 2 isolate Wuhan-Hu-1, complete genome\n"
     ]
    }
   ],
   "source": [
    "from Bio import Entrez\n",
    "from Bio import SeqIO\n",
    "Entrez.email = \"A.N.Other@example.com\"\n",
    "with Entrez.efetch(db=\"nucleotide\", rettype=\"gb\", retmode=\"text\", id=\"NC_045512.2\") as handle:\n",
    "    seq_record = SeqIO.read(handle, \"gb\")\n",
    "print(seq_record.id, seq_record.description)\n",
    "#gene_list = [ x  for x in seq_record.features if x.type == 'CDS']"
   ]
  },
  {
   "cell_type": "markdown",
   "metadata": {},
   "source": [
    "perhaps the biggest thing we get with the genbank file format is _annotations_, that is features of the genome that are represented and stored as so-called SeqFeatures. I can get these by looking at the `.features` attribute associated with my sequence records.\n",
    "\n",
    "Let's look at the first four features entry from our file"
   ]
  },
  {
   "cell_type": "code",
   "execution_count": 20,
   "metadata": {},
   "outputs": [
    {
     "name": "stdout",
     "output_type": "stream",
     "text": [
      "type: source\n",
      "location: [0:29903](+)\n",
      "qualifiers:\n",
      "    Key: collection_date, Value: ['Dec-2019']\n",
      "    Key: country, Value: ['China']\n",
      "    Key: db_xref, Value: ['taxon:2697049']\n",
      "    Key: host, Value: ['Homo sapiens']\n",
      "    Key: isolate, Value: ['Wuhan-Hu-1']\n",
      "    Key: mol_type, Value: ['genomic RNA']\n",
      "    Key: organism, Value: ['Severe acute respiratory syndrome coronavirus 2']\n",
      "\n",
      "type: 5'UTR\n",
      "location: [0:265](+)\n",
      "qualifiers:\n",
      "\n",
      "type: gene\n",
      "location: [265:21555](+)\n",
      "qualifiers:\n",
      "    Key: db_xref, Value: ['GeneID:43740578']\n",
      "    Key: gene, Value: ['ORF1ab']\n",
      "    Key: locus_tag, Value: ['GU280_gp01']\n",
      "\n",
      "type: CDS\n",
      "location: join{[265:13468](+), [13467:21555](+)}\n",
      "qualifiers:\n",
      "    Key: codon_start, Value: ['1']\n",
      "    Key: db_xref, Value: ['GeneID:43740578']\n",
      "    Key: gene, Value: ['ORF1ab']\n",
      "    Key: locus_tag, Value: ['GU280_gp01']\n",
      "    Key: note, Value: ['pp1ab; translated by -1 ribosomal frameshift']\n",
      "    Key: product, Value: ['ORF1ab polyprotein']\n",
      "    Key: protein_id, Value: ['YP_009724389.1']\n",
      "    Key: ribosomal_slippage, Value: ['']\n",
      "    Key: translation, Value: ['MESLVPGFNEKTHVQLSLPVLQVRDVLVRGFGDSVEEVLSEARQHLKDGTCGLVEVEKGVLPQLEQPYVFIKRSDARTAPHGHVMVELVAELEGIQYGRSGETLGVLVPHVGEIPVAYRKVLLRKNGNKGAGGHSYGADLKSFDLGDELGTDPYEDFQENWNTKHSSGVTRELMRELNGGAYTRYVDNNFCGPDGYPLECIKDLLARAGKASCTLSEQLDFIDTKRGVYCCREHEHEIAWYTERSEKSYELQTPFEIKLAKKFDTFNGECPNFVFPLNSIIKTIQPRVEKKKLDGFMGRIRSVYPVASPNECNQMCLSTLMKCDHCGETSWQTGDFVKATCEFCGTENLTKEGATTCGYLPQNAVVKIYCPACHNSEVGPEHSLAEYHNESGLKTILRKGGRTIAFGGCVFSYVGCHNKCAYWVPRASANIGCNHTGVVGEGSEGLNDNLLEILQKEKVNINIVGDFKLNEEIAIILASFSASTSAFVETVKGLDYKAFKQIVESCGNFKVTKGKAKKGAWNIGEQKSILSPLYAFASEAARVVRSIFSRTLETAQNSVRVLQKAAITILDGISQYSLRLIDAMMFTSDLATNNLVVMAYITGGVVQLTSQWLTNIFGTVYEKLKPVLDWLEEKFKEGVEFLRDGWEIVKFISTCACEIVGGQIVTCAKEIKESVQTFFKLVNKFLALCADSIIIGGAKLKALNLGETFVTHSKGLYRKCVKSREETGLLMPLKAPKEIIFLEGETLPTEVLTEEVVLKTGDLQPLEQPTSEAVEAPLVGTPVCINGLMLLEIKDTEKYCALAPNMMVTNNTFTLKGGAPTKVTFGDDTVIEVQGYKSVNITFELDERIDKVLNEKCSAYTVELGTEVNEFACVVADAVIKTLQPVSELLTPLGIDLDEWSMATYYLFDESGEFKLASHMYCSFYPPDEDEEEGDCEEEEFEPSTQYEYGTEDDYQGKPLEFGATSAALQPEEEQEEDWLDDDSQQTVGQQDGSEDNQTTTIQTIVEVQPQLEMELTPVVQTIEVNSFSGYLKLTDNVYIKNADIVEEAKKVKPTVVVNAANVYLKHGGGVAGALNKATNNAMQVESDDYIATNGPLKVGGSCVLSGHNLAKHCLHVVGPNVNKGEDIQLLKSAYENFNQHEVLLAPLLSAGIFGADPIHSLRVCVDTVRTNVYLAVFDKNLYDKLVSSFLEMKSEKQVEQKIAEIPKEEVKPFITESKPSVEQRKQDDKKIKACVEEVTTTLEETKFLTENLLLYIDINGNLHPDSATLVSDIDITFLKKDAPYIVGDVVQEGVLTAVVIPTKKAGGTTEMLAKALRKVPTDNYITTYPGQGLNGYTVEEAKTVLKKCKSAFYILPSIISNEKQEILGTVSWNLREMLAHAEETRKLMPVCVETKAIVSTIQRKYKGIKIQEGVVDYGARFYFYTSKTTVASLINTLNDLNETLVTMPLGYVTHGLNLEEAARYMRSLKVPATVSVSSPDAVTAYNGYLTSSSKTPEEHFIETISLAGSYKDWSYSGQSTQLGIEFLKRGDKSVYYTSNPTTFHLDGEVITFDNLKTLLSLREVRTIKVFTTVDNINLHTQVVDMSMTYGQQFGPTYLDGADVTKIKPHNSHEGKTFYVLPNDDTLRVEAFEYYHTTDPSFLGRYMSALNHTKKWKYPQVNGLTSIKWADNNCYLATALLTLQQIELKFNPPALQDAYYRARAGEAANFCALILAYCNKTVGELGDVRETMSYLFQHANLDSCKRVLNVVCKTCGQQQTTLKGVEAVMYMGTLSYEQFKKGVQIPCTCGKQATKYLVQQESPFVMMSAPPAQYELKHGTFTCASEYTGNYQCGHYKHITSKETLYCIDGALLTKSSEYKGPITDVFYKENSYTTTIKPVTYKLDGVVCTEIDPKLDNYYKKDNSYFTEQPIDLVPNQPYPNASFDNFKFVCDNIKFADDLNQLTGYKKPASRELKVTFFPDLNGDVVAIDYKHYTPSFKKGAKLLHKPIVWHVNNATNKATYKPNTWCIRCLWSTKPVETSNSFDVLKSEDAQGMDNLACEDLKPVSEEVVENPTIQKDVLECNVKTTEVVGDIILKPANNSLKITEEVGHTDLMAAYVDNSSLTIKKPNELSRVLGLKTLATHGLAAVNSVPWDTIANYAKPFLNKVVSTTTNIVTRCLNRVCTNYMPYFFTLLLQLCTFTRSTNSRIKASMPTTIAKNTVKSVGKFCLEASFNYLKSPNFSKLINIIIWFLLLSVCLGSLIYSTAALGVLMSNLGMPSYCTGYREGYLNSTNVTIATYCTGSIPCSVCLSGLDSLDTYPSLETIQITISSFKWDLTAFGLVAEWFLAYILFTRFFYVLGLAAIMQLFFSYFAVHFISNSWLMWLIINLVQMAPISAMVRMYIFFASFYYVWKSYVHVVDGCNSSTCMMCYKRNRATRVECTTIVNGVRRSFYVYANGGKGFCKLHNWNCVNCDTFCAGSTFISDEVARDLSLQFKRPINPTDQSSYIVDSVTVKNGSIHLYFDKAGQKTYERHSLSHFVNLDNLRANNTKGSLPINVIVFDGKSKCEESSAKSASVYYSQLMCQPILLLDQALVSDVGDSAEVAVKMFDAYVNTFSSTFNVPMEKLKTLVATAEAELAKNVSLDNVLSTFISAARQGFVDSDVETKDVVECLKLSHQSDIEVTGDSCNNYMLTYNKVENMTPRDLGACIDCSARHINAQVAKSHNIALIWNVKDFMSLSEQLRKQIRSAAKKNNLPFKLTCATTRQVVNVVTTKIALKGGKIVNNWLKQLIKVTLVFLFVAAIFYLITPVHVMSKHTDFSSEIIGYKAIDGGVTRDIASTDTCFANKHADFDTWFSQRGGSYTNDKACPLIAAVITREVGFVVPGLPGTILRTTNGDFLHFLPRVFSAVGNICYTPSKLIEYTDFATSACVLAAECTIFKDASGKPVPYCYDTNVLEGSVAYESLRPDTRYVLMDGSIIQFPNTYLEGSVRVVTTFDSEYCRHGTCERSEAGVCVSTSGRWVLNNDYYRSLPGVFCGVDAVNLLTNMFTPLIQPIGALDISASIVAGGIVAIVVTCLAYYFMRFRRAFGEYSHVVAFNTLLFLMSFTVLCLTPVYSFLPGVYSVIYLYLTFYLTNDVSFLAHIQWMVMFTPLVPFWITIAYIICISTKHFYWFFSNYLKRRVVFNGVSFSTFEEAALCTFLLNKEMYLKLRSDVLLPLTQYNRYLALYNKYKYFSGAMDTTSYREAACCHLAKALNDFSNSGSDVLYQPPQTSITSAVLQSGFRKMAFPSGKVEGCMVQVTCGTTTLNGLWLDDVVYCPRHVICTSEDMLNPNYEDLLIRKSNHNFLVQAGNVQLRVIGHSMQNCVLKLKVDTANPKTPKYKFVRIQPGQTFSVLACYNGSPSGVYQCAMRPNFTIKGSFLNGSCGSVGFNIDYDCVSFCYMHHMELPTGVHAGTDLEGNFYGPFVDRQTAQAAGTDTTITVNVLAWLYAAVINGDRWFLNRFTTTLNDFNLVAMKYNYEPLTQDHVDILGPLSAQTGIAVLDMCASLKELLQNGMNGRTILGSALLEDEFTPFDVVRQCSGVTFQSAVKRTIKGTHHWLLLTILTSLLVLVQSTQWSLFFFLYENAFLPFAMGIIAMSAFAMMFVKHKHAFLCLFLLPSLATVAYFNMVYMPASWVMRIMTWLDMVDTSLSGFKLKDCVMYASAVVLLILMTARTVYDDGARRVWTLMNVLTLVYKVYYGNALDQAISMWALIISVTSNYSGVVTTVMFLARGIVFMCVEYCPIFFITGNTLQCIMLVYCFLGYFCTCYFGLFCLLNRYFRLTLGVYDYLVSTQEFRYMNSQGLLPPKNSIDAFKLNIKLLGVGGKPCIKVATVQSKMSDVKCTSVVLLSVLQQLRVESSSKLWAQCVQLHNDILLAKDTTEAFEKMVSLLSVLLSMQGAVDINKLCEEMLDNRATLQAIASEFSSLPSYAAFATAQEAYEQAVANGDSEVVLKKLKKSLNVAKSEFDRDAAMQRKLEKMADQAMTQMYKQARSEDKRAKVTSAMQTMLFTMLRKLDNDALNNIINNARDGCVPLNIIPLTTAAKLMVVIPDYNTYKNTCDGTTFTYASALWEIQQVVDADSKIVQLSEISMDNSPNLAWPLIVTALRANSAVKLQNNELSPVALRQMSCAAGTTQTACTDDNALAYYNTTKGGRFVLALLSDLQDLKWARFPKSDGTGTIYTELEPPCRFVTDTPKGPKVKYLYFIKGLNNLNRGMVLGSLAATVRLQAGNATEVPANSTVLSFCAFAVDAAKAYKDYLASGGQPITNCVKMLCTHTGTGQAITVTPEANMDQESFGGASCCLYCRCHIDHPNPKGFCDLKGKYVQIPTTCANDPVGFTLKNTVCTVCGMWKGYGCSCDQLREPMLQSADAQSFLNRVCGVSAARLTPCGTGTSTDVVYRAFDIYNDKVAGFAKFLKTNCCRFQEKDEDDNLIDSYFVVKRHTFSNYQHEETIYNLLKDCPAVAKHDFFKFRIDGDMVPHISRQRLTKYTMADLVYALRHFDEGNCDTLKEILVTYNCCDDDYFNKKDWYDFVENPDILRVYANLGERVRQALLKTVQFCDAMRNAGIVGVLTLDNQDLNGNWYDFGDFIQTTPGSGVPVVDSYYSLLMPILTLTRALTAESHVDTDLTKPYIKWDLLKYDFTEERLKLFDRYFKYWDQTYHPNCVNCLDDRCILHCANFNVLFSTVFPPTSFGPLVRKIFVDGVPFVVSTGYHFRELGVVHNQDVNLHSSRLSFKELLVYAADPAMHAASGNLLLDKRTTCFSVAALTNNVAFQTVKPGNFNKDFYDFAVSKGFFKEGSSVELKHFFFAQDGNAAISDYDYYRYNLPTMCDIRQLLFVVEVVDKYFDCYDGGCINANQVIVNNLDKSAGFPFNKWGKARLYYDSMSYEDQDALFAYTKRNVIPTITQMNLKYAISAKNRARTVAGVSICSTMTNRQFHQKLLKSIAATRGATVVIGTSKFYGGWHNMLKTVYSDVENPHLMGWDYPKCDRAMPNMLRIMASLVLARKHTTCCSLSHRFYRLANECAQVLSEMVMCGGSLYVKPGGTSSGDATTAYANSVFNICQAVTANVNALLSTDGNKIADKYVRNLQHRLYECLYRNRDVDTDFVNEFYAYLRKHFSMMILSDDAVVCFNSTYASQGLVASIKNFKSVLYYQNNVFMSEAKCWTETDLTKGPHEFCSQHTMLVKQGDDYVYLPYPDPSRILGAGCFVDDIVKTDGTLMIERFVSLAIDAYPLTKHPNQEYADVFHLYLQYIRKLHDELTGHMLDMYSVMLTNDNTSRYWEPEFYEAMYTPHTVLQAVGACVLCNSQTSLRCGACIRRPFLCCKCCYDHVISTSHKLVLSVNPYVCNAPGCDVTDVTQLYLGGMSYYCKSHKPPISFPLCANGQVFGLYKNTCVGSDNVTDFNAIATCDWTNAGDYILANTCTERLKLFAAETLKATEETFKLSYGIATVREVLSDRELHLSWEVGKPRPPLNRNYVFTGYRVTKNSKVQIGEYTFEKGDYGDAVVYRGTTTYKLNVGDYFVLTSHTVMPLSAPTLVPQEHYVRITGLYPTLNISDEFSSNVANYQKVGMQKYSTLQGPPGTGKSHFAIGLALYYPSARIVYTACSHAAVDALCEKALKYLPIDKCSRIIPARARVECFDKFKVNSTLEQYVFCTVNALPETTADIVVFDEISMATNYDLSVVNARLRAKHYVYIGDPAQLPAPRTLLTKGTLEPEYFNSVCRLMKTIGPDMFLGTCRRCPAEIVDTVSALVYDNKLKAHKDKSAQCFKMFYKGVITHDVSSAINRPQIGVVREFLTRNPAWRKAVFISPYNSQNAVASKILGLPTQTVDSSQGSEYDYVIFTQTTETAHSCNVNRFNVAITRAKVGILCIMSDRDLYDKLQFTSLEIPRRNVATLQAENVTGLFKDCSKVITGLHPTQAPTHLSVDTKFKTEGLCVDIPGIPKDMTYRRLISMMGFKMNYQVNGYPNMFITREEAIRHVRAWIGFDVEGCHATREAVGTNLPLQLGFSTGVNLVAVPTGYVDTPNNTDFSRVSAKPPPGDQFKHLIPLMYKGLPWNVVRIKIVQMLSDTLKNLSDRVVFVLWAHGFELTSMKYFVKIGPERTCCLCDRRATCFSTASDTYACWHHSIGFDYVYNPFMIDVQQWGFTGNLQSNHDLYCQVHGNAHVASCDAIMTRCLAVHECFVKRVDWTIEYPIIGDELKINAACRKVQHMVVKAALLADKFPVLHDIGNPKAIKCVPQADVEWKFYDAQPCSDKAYKIEELFYSYATHSDKFTDGVCLFWNCNVDRYPANSIVCRFDTRVLSNLNLPGCDGGSLYVNKHAFHTPAFDKSAFVNLKQLPFFYYSDSPCESHGKQVVSDIDYVPLKSATCITRCNLGGAVCRHHANEYRLYLDAYNMMISAGFSLWVYKQFDTYNLWNTFTRLQSLENVAFNVVNKGHFDGQQGEVPVSIINNTVYTKVDGVDVELFENKTTLPVNVAFELWAKRNIKPVPEVKILNNLGVDIAANTVIWDYKRDAPAHISTIGVCSMTDIAKKPTETICAPLTVFFDGRVDGQVDLFRNARNGVLITEGSVKGLQPSVGPKQASLNGVTLIGEAVKTQFNYYKKVDGVVQQLPETYFTQSRNLQEFKPRSQMEIDFLELAMDEFIERYKLEGYAFEHIVYGDFSHSQLGGLHLLIGLAKRFKESPFELEDFIPMDSTVKNYFITDAQTGSSKCVCSVIDLLLDDFVEIIKSQDLSVVSKVVKVTIDYTEISFMLWCKDGHVETFYPKLQSSQAWQPGVAMPNLYKMQRMLLEKCDLQNYGDSATLPKGIMMNVAKYTQLCQYLNTLTLAVPYNMRVIHFGAGSDKGVAPGTAVLRQWLPTGTLLVDSDLNDFVSDADSTLIGDCATVHTANKWDLIISDMYDPKTKNVTKENDSKEGFFTYICGFIQQKLALGGSVAIKITEHSWNADLYKLMGHFAWWTAFVTNVNASSSEAFLIGCNYLGKPREQIDGYVMHANYIFWRNTNPIQLSSYSLFDMSKFPLKLRGTAVMSLKEGQINDMILSLLSKGRLIIRENNRVVISSDVLVNN']\n",
      "\n"
     ]
    }
   ],
   "source": [
    "for i,x in enumerate(seq_record.features):\n",
    "    if i < 4:\n",
    "        print(x)\n"
   ]
  },
  {
   "cell_type": "markdown",
   "metadata": {},
   "source": [
    "## What genes are in here? Grabbing feature sequences\n",
    "okay lets get a list of gene names from our features. One of the more interesting loci in the SARS-CoV-2 genome is the 'S' locus or Spike protein. The New York Times is running an [amazing visualization of the proteins in the SARS-CoV-2 genome right now](https://www.nytimes.com/interactive/2020/04/03/science/coronavirus-genome-bad-news-wrapped-in-protein.html). Let's quickly take a look at the Spike protein there."
   ]
  },
  {
   "cell_type": "code",
   "execution_count": 21,
   "metadata": {},
   "outputs": [
    {
     "name": "stdout",
     "output_type": "stream",
     "text": [
      "['ORF1ab']\n",
      "['ORF1ab']\n",
      "['S']\n",
      "['ORF3a']\n",
      "['E']\n",
      "['M']\n",
      "['ORF6']\n",
      "['ORF7a']\n",
      "['ORF7b']\n",
      "['ORF8']\n",
      "['N']\n",
      "['ORF10']\n"
     ]
    }
   ],
   "source": [
    "# get list of genes\n",
    "gene_list = [ x  for x in seq_record.features if x.type == 'CDS']\n",
    "for i,x in enumerate(gene_list):\n",
    "    print(x.qualifiers['gene'])"
   ]
  },
  {
   "cell_type": "markdown",
   "metadata": {},
   "source": [
    "okay that S protein is the one. Let's grab it out of our sequence then"
   ]
  },
  {
   "cell_type": "code",
   "execution_count": 22,
   "metadata": {},
   "outputs": [
    {
     "name": "stdout",
     "output_type": "stream",
     "text": [
      "ATGTTTGTTTTTCTTGTTTTATTGCCACTAGTCTCTAGTCAGTGTGTTAATCTTACAACCAGAACTCAATTACCCCCTGCATACACTAATTCTTTCACACGTGGTGTTTATTACCCTGACAAAGTTTTCAGATCCTCAGTTTTACATTCAACTCAGGACTTGTTCTTACCTTTCTTTTCCAATGTTACTTGGTTCCATGCTATACATGTCTCTGGGACCAATGGTACTAAGAGGTTTGATAACCCTGTCCTACCATTTAATGATGGTGTTTATTTTGCTTCCACTGAGAAGTCTAACATAATAAGAGGCTGGATTTTTGGTACTACTTTAGATTCGAAGACCCAGTCCCTACTTATTGTTAATAACGCTACTAATGTTGTTATTAAAGTCTGTGAATTTCAATTTTGTAATGATCCATTTTTGGGTGTTTATTACCACAAAAACAACAAAAGTTGGATGGAAAGTGAGTTCAGAGTTTATTCTAGTGCGAATAATTGCACTTTTGAATATGTCTCTCAGCCTTTTCTTATGGACCTTGAAGGAAAACAGGGTAATTTCAAAAATCTTAGGGAATTTGTGTTTAAGAATATTGATGGTTATTTTAAAATATATTCTAAGCACACGCCTATTAATTTAGTGCGTGATCTCCCTCAGGGTTTTTCGGCTTTAGAACCATTGGTAGATTTGCCAATAGGTATTAACATCACTAGGTTTCAAACTTTACTTGCTTTACATAGAAGTTATTTGACTCCTGGTGATTCTTCTTCAGGTTGGACAGCTGGTGCTGCAGCTTATTATGTGGGTTATCTTCAACCTAGGACTTTTCTATTAAAATATAATGAAAATGGAACCATTACAGATGCTGTAGACTGTGCACTTGACCCTCTCTCAGAAACAAAGTGTACGTTGAAATCCTTCACTGTAGAAAAAGGAATCTATCAAACTTCTAACTTTAGAGTCCAACCAACAGAATCTATTGTTAGATTTCCTAATATTACAAACTTGTGCCCTTTTGGTGAAGTTTTTAACGCCACCAGATTTGCATCTGTTTATGCTTGGAACAGGAAGAGAATCAGCAACTGTGTTGCTGATTATTCTGTCCTATATAATTCCGCATCATTTTCCACTTTTAAGTGTTATGGAGTGTCTCCTACTAAATTAAATGATCTCTGCTTTACTAATGTCTATGCAGATTCATTTGTAATTAGAGGTGATGAAGTCAGACAAATCGCTCCAGGGCAAACTGGAAAGATTGCTGATTATAATTATAAATTACCAGATGATTTTACAGGCTGCGTTATAGCTTGGAATTCTAACAATCTTGATTCTAAGGTTGGTGGTAATTATAATTACCTGTATAGATTGTTTAGGAAGTCTAATCTCAAACCTTTTGAGAGAGATATTTCAACTGAAATCTATCAGGCCGGTAGCACACCTTGTAATGGTGTTGAAGGTTTTAATTGTTACTTTCCTTTACAATCATATGGTTTCCAACCCACTAATGGTGTTGGTTACCAACCATACAGAGTAGTAGTACTTTCTTTTGAACTTCTACATGCACCAGCAACTGTTTGTGGACCTAAAAAGTCTACTAATTTGGTTAAAAACAAATGTGTCAATTTCAACTTCAATGGTTTAACAGGCACAGGTGTTCTTACTGAGTCTAACAAAAAGTTTCTGCCTTTCCAACAATTTGGCAGAGACATTGCTGACACTACTGATGCTGTCCGTGATCCACAGACACTTGAGATTCTTGACATTACACCATGTTCTTTTGGTGGTGTCAGTGTTATAACACCAGGAACAAATACTTCTAACCAGGTTGCTGTTCTTTATCAGGATGTTAACTGCACAGAAGTCCCTGTTGCTATTCATGCAGATCAACTTACTCCTACTTGGCGTGTTTATTCTACAGGTTCTAATGTTTTTCAAACACGTGCAGGCTGTTTAATAGGGGCTGAACATGTCAACAACTCATATGAGTGTGACATACCCATTGGTGCAGGTATATGCGCTAGTTATCAGACTCAGACTAATTCTCCTCGGCGGGCACGTAGTGTAGCTAGTCAATCCATCATTGCCTACACTATGTCACTTGGTGCAGAAAATTCAGTTGCTTACTCTAATAACTCTATTGCCATACCCACAAATTTTACTATTAGTGTTACCACAGAAATTCTACCAGTGTCTATGACCAAGACATCAGTAGATTGTACAATGTACATTTGTGGTGATTCAACTGAATGCAGCAATCTTTTGTTGCAATATGGCAGTTTTTGTACACAATTAAACCGTGCTTTAACTGGAATAGCTGTTGAACAAGACAAAAACACCCAAGAAGTTTTTGCACAAGTCAAACAAATTTACAAAACACCACCAATTAAAGATTTTGGTGGTTTTAATTTTTCACAAATATTACCAGATCCATCAAAACCAAGCAAGAGGTCATTTATTGAAGATCTACTTTTCAACAAAGTGACACTTGCAGATGCTGGCTTCATCAAACAATATGGTGATTGCCTTGGTGATATTGCTGCTAGAGACCTCATTTGTGCACAAAAGTTTAACGGCCTTACTGTTTTGCCACCTTTGCTCACAGATGAAATGATTGCTCAATACACTTCTGCACTGTTAGCGGGTACAATCACTTCTGGTTGGACCTTTGGTGCAGGTGCTGCATTACAAATACCATTTGCTATGCAAATGGCTTATAGGTTTAATGGTATTGGAGTTACACAGAATGTTCTCTATGAGAACCAAAAATTGATTGCCAACCAATTTAATAGTGCTATTGGCAAAATTCAAGACTCACTTTCTTCCACAGCAAGTGCACTTGGAAAACTTCAAGATGTGGTCAACCAAAATGCACAAGCTTTAAACACGCTTGTTAAACAACTTAGCTCCAATTTTGGTGCAATTTCAAGTGTTTTAAATGATATCCTTTCACGTCTTGACAAAGTTGAGGCTGAAGTGCAAATTGATAGGTTGATCACAGGCAGACTTCAAAGTTTGCAGACATATGTGACTCAACAATTAATTAGAGCTGCAGAAATCAGAGCTTCTGCTAATCTTGCTGCTACTAAAATGTCAGAGTGTGTACTTGGACAATCAAAAAGAGTTGATTTTTGTGGAAAGGGCTATCATCTTATGTCCTTCCCTCAGTCAGCACCTCATGGTGTAGTCTTCTTGCATGTGACTTATGTCCCTGCACAAGAAAAGAACTTCACAACTGCTCCTGCCATTTGTCATGATGGAAAAGCACACTTTCCTCGTGAAGGTGTCTTTGTTTCAAATGGCACACACTGGTTTGTAACACAAAGGAATTTTTATGAACCACAAATCATTACTACAGACAACACATTTGTGTCTGGTAACTGTGATGTTGTAATAGGAATTGTCAACAACACAGTTTATGATCCTTTGCAACCTGAATTAGACTCATTCAAGGAGGAGTTAGATAAATATTTTAAGAATCATACATCACCAGATGTTGATTTAGGTGACATCTCTGGCATTAATGCTTCAGTTGTAAACATTCAAAAAGAAATTGACCGCCTCAATGAGGTTGCCAAGAATTTAAATGAATCTCTCATCGATCTCCAAGAACTTGGAAAGTATGAGCAGTATATAAAATGGCCATGGTACATTTGGCTAGGTTTTATAGCTGGCTTGATTGCCATAGTAATGGTGACAATTATGCTTTGCTGTATGACCAGTTGCTGTAGTTGTCTCAAGGGCTGTTGTTCTTGTGGATCCTGCTGCAAATTTGATGAAGACGACTCTGAGCCAGTGCTCAAAGGAGTCAAATTACATTACACATAA\n"
     ]
    }
   ],
   "source": [
    "# grab the spike protein\n",
    "spike = gene_list[2].extract(seq_record)\n",
    "#print it's sequence\n",
    "print(spike.seq)"
   ]
  },
  {
   "cell_type": "markdown",
   "metadata": {},
   "source": [
    "we can even turn this into a protein translation with ease"
   ]
  },
  {
   "cell_type": "code",
   "execution_count": 23,
   "metadata": {},
   "outputs": [
    {
     "name": "stdout",
     "output_type": "stream",
     "text": [
      "MFVFLVLLPLVSSQCVNLTTRTQLPPAYTNSFTRGVYYPDKVFRSSVLHSTQDLFLPFFSNVTWFHAIHVSGTNGTKRFDNPVLPFNDGVYFASTEKSNIIRGWIFGTTLDSKTQSLLIVNNATNVVIKVCEFQFCNDPFLGVYYHKNNKSWMESEFRVYSSANNCTFEYVSQPFLMDLEGKQGNFKNLREFVFKNIDGYFKIYSKHTPINLVRDLPQGFSALEPLVDLPIGINITRFQTLLALHRSYLTPGDSSSGWTAGAAAYYVGYLQPRTFLLKYNENGTITDAVDCALDPLSETKCTLKSFTVEKGIYQTSNFRVQPTESIVRFPNITNLCPFGEVFNATRFASVYAWNRKRISNCVADYSVLYNSASFSTFKCYGVSPTKLNDLCFTNVYADSFVIRGDEVRQIAPGQTGKIADYNYKLPDDFTGCVIAWNSNNLDSKVGGNYNYLYRLFRKSNLKPFERDISTEIYQAGSTPCNGVEGFNCYFPLQSYGFQPTNGVGYQPYRVVVLSFELLHAPATVCGPKKSTNLVKNKCVNFNFNGLTGTGVLTESNKKFLPFQQFGRDIADTTDAVRDPQTLEILDITPCSFGGVSVITPGTNTSNQVAVLYQDVNCTEVPVAIHADQLTPTWRVYSTGSNVFQTRAGCLIGAEHVNNSYECDIPIGAGICASYQTQTNSPRRARSVASQSIIAYTMSLGAENSVAYSNNSIAIPTNFTISVTTEILPVSMTKTSVDCTMYICGDSTECSNLLLQYGSFCTQLNRALTGIAVEQDKNTQEVFAQVKQIYKTPPIKDFGGFNFSQILPDPSKPSKRSFIEDLLFNKVTLADAGFIKQYGDCLGDIAARDLICAQKFNGLTVLPPLLTDEMIAQYTSALLAGTITSGWTFGAGAALQIPFAMQMAYRFNGIGVTQNVLYENQKLIANQFNSAIGKIQDSLSSTASALGKLQDVVNQNAQALNTLVKQLSSNFGAISSVLNDILSRLDKVEAEVQIDRLITGRLQSLQTYVTQQLIRAAEIRASANLAATKMSECVLGQSKRVDFCGKGYHLMSFPQSAPHGVVFLHVTYVPAQEKNFTTAPAICHDGKAHFPREGVFVSNGTHWFVTQRNFYEPQIITTDNTFVSGNCDVVIGIVNNTVYDPLQPELDSFKEELDKYFKNHTSPDVDLGDISGINASVVNIQKEIDRLNEVAKNLNESLIDLQELGKYEQYIKWPWYIWLGFIAGLIAIVMVTIMLCCMTSCCSCLKGCCSCGSCCKFDEDDSEPVLKGVKLHYT*\n"
     ]
    }
   ],
   "source": [
    "print(spike.seq.translate())"
   ]
  },
  {
   "cell_type": "markdown",
   "metadata": {},
   "source": [
    "note that this starts with an 'M' and ends with a stop codon '*' just like we would expect. looks awesome!"
   ]
  },
  {
   "cell_type": "markdown",
   "metadata": {},
   "source": [
    "### Sequence files as dicts\n",
    "If you have a large number of sequences in a file, it's usually best not to read them all in to memory at once. biopython has you covered here functions that will open up a sequence file as sa dictionary that you can query by key\n",
    "\n"
   ]
  },
  {
   "cell_type": "code",
   "execution_count": 24,
   "metadata": {},
   "outputs": [
    {
     "name": "stdout",
     "output_type": "stream",
     "text": [
      "['hCoV-19/Wuhan/WIV06/2019|EPI_ISL_402129|2019-12-30', 'hCoV-19/Wuhan/WIV07/2019|EPI_ISL_402130|2019-12-30', 'hCoV-19/Guangdong/20SF012/2020|EPI_ISL_403932|2020-01-14', 'hCoV-19/Guangdong/20SF013/2020|EPI_ISL_403933|2020-01-15', 'hCoV-19/Guangdong/20SF014/2020|EPI_ISL_403934|2020-01-15']\n"
     ]
    }
   ],
   "source": [
    "covid_dict = SeqIO.index(\"data/covid_small.fasta\", \"fasta\")\n",
    "print(list(covid_dict.keys())[0:5])"
   ]
  },
  {
   "cell_type": "code",
   "execution_count": 25,
   "metadata": {},
   "outputs": [
    {
     "name": "stdout",
     "output_type": "stream",
     "text": [
      "hCoV-19/Wuhan/WIV07/2019|EPI_ISL_402130|2019-12-30\n",
      "ACCTTCCCAGGTAACAAACCAACCAACTTTCGATCTCTTGTAGATCTGTTCTCTAAACGAACTTTAAAATCTGTGTGGCTGTCACTCGGCTGCATGCTTA\n"
     ]
    }
   ],
   "source": [
    "seq_record = covid_dict['hCoV-19/Wuhan/WIV07/2019|EPI_ISL_402130|2019-12-30']\n",
    "print(seq_record.description)\n",
    "print(seq_record.seq[0:100])"
   ]
  },
  {
   "cell_type": "markdown",
   "metadata": {},
   "source": [
    "### Converting between file formats\n",
    "\n",
    "Again biopython has you covered for basic conversions between file formats. For instance"
   ]
  },
  {
   "cell_type": "code",
   "execution_count": 26,
   "metadata": {},
   "outputs": [
    {
     "name": "stdout",
     "output_type": "stream",
     "text": [
      "Converted 25 records\n"
     ]
    }
   ],
   "source": [
    "from Bio import SeqIO\n",
    "count = SeqIO.convert(\"data/covid_small.fasta\", \"fasta\", \"data/covid_small.pir\", \"pir\")\n",
    "print(\"Converted %i records\" % count)\n"
   ]
  },
  {
   "cell_type": "markdown",
   "metadata": {},
   "source": [
    "## Doing multiple sequence alignment\n",
    "not only can biopython read and write multiple sequence alignments (MSAs) and cleanly represent them in memory, but biopython can even help you create MSAs. \n",
    "biopython can work as glue that binds together familiar bioinformatics programs, allowing us to pass information from memory to programs and then back. This depends on having \"helper\" programs installed that will do the heavy lifting, for instance an alignment program. When we started off this lecture we installed the aligner mafft using conda. We will use the interface to mafft to demostrate this functionality.\n",
    "\n",
    "In particular we will do an alignment of the sequences in that SARS-CoV-2 fasta file we have been playing with"
   ]
  },
  {
   "cell_type": "code",
   "execution_count": 27,
   "metadata": {},
   "outputs": [],
   "source": [
    "import os\n",
    "\n",
    "from Bio.Align.Applications import MafftCommandline\n",
    "mafft_cline = MafftCommandline(\"mafft\", input=\"data/covid_small.fasta\")\n",
    "muscle_exe = \"/opt/tljh/user/bin/mafft\"\n",
    "muscle_exe = \"/Users/adk/miniconda3/bin/mafft\"\n",
    "\n",
    "assert os.path.isfile(muscle_exe), \"mafft executable missing\"\n",
    "stdout, stderr = mafft_cline()\n",
    "with open(\"aligned.fasta\", \"w\") as handle:\n",
    "    handle.write(stdout)\n",
    "# this will take a while\n",
    "# can print stderr if you want to see what happened"
   ]
  },
  {
   "cell_type": "code",
   "execution_count": 28,
   "metadata": {},
   "outputs": [
    {
     "name": "stdout",
     "output_type": "stream",
     "text": [
      "Alignment with 25 rows and 29899 columns\n",
      "--------------ccttcccaggtaacaaaccaaccaactttc...--- hCoV-19/Wuhan/WIV06/2019|EPI_ISL_402129|2019-12-30\n",
      "-------------accttcccaggtaacaaaccaaccaactttc...--- hCoV-19/Wuhan/WIV07/2019|EPI_ISL_402130|2019-12-30\n",
      "-----------ataccttcccaggtaacaaaccaaccaactttc...--- hCoV-19/Guangdong/20SF012/2020|EPI_ISL_403932|2020-01-14\n",
      "-----------ataccttcccaggtaacaaaccaaccaactttc...--- hCoV-19/Guangdong/20SF013/2020|EPI_ISL_403933|2020-01-15\n",
      "-----------ataccttcccaggtaacaaaccaaccaactttc...--- hCoV-19/Guangdong/20SF014/2020|EPI_ISL_403934|2020-01-15\n",
      "-----------ataccttcccaggtaacaaaccaaccaactttc...--- hCoV-19/Guangdong/20SF025/2020|EPI_ISL_403935|2020-01-15\n",
      "-----------ataccttcccaggtaacaaaccaaccaactttc...--- hCoV-19/Guangdong/20SF028/2020|EPI_ISL_403936|2020-01-17\n",
      "-----------ataccttcccaggtaacaaaccaaccaactttc...--- hCoV-19/Guangdong/20SF040/2020|EPI_ISL_403937|2020-01-18\n",
      "attaaaggtttataccttcccaggtaacaaaccaaccaactttc...aaa hCoV-19/Wuhan/IPBCAMS-WH-03/2019|EPI_ISL_403930|2019-12-30\n",
      "-----------ataccttcccaggtaacaaaccaaccaactttc...--- hCoV-19/Wuhan/HBCDC-HB-01/2019|EPI_ISL_402132|2019-12-30\n",
      "-------------------ccaggtaacaagccaaccaactttc...--- hCoV-19/Zhejiang/WZ-01/2020|EPI_ISL_404227|2020-01-16\n",
      "--------------------------acaaaccaaccaactttc...--- hCoV-19/Zhejiang/WZ-02/2020|EPI_ISL_404228|2020-01-17\n",
      "attaaaggtttataccttcccaggtaacaaaccaaccaactttc...--- hCoV-19/USA/WA1/2020|EPI_ISL_404895|2020-01-19\n",
      "attaaaggtttataccttcccaggtaacaaaccaaccaactttc...--- hCoV-19/Shenzhen/HKU-SZ-005/2020|EPI_ISL_405839|2020-01-11\n",
      "--------------------------------caaccaactttc...--- hCoV-19/Shenzhen/HKU-SZ-002/2020|EPI_ISL_406030|2020-01-10\n",
      "attaaaggtttataccttcccaggtaacaaaccaaccaactttc...--- hCoV-19/USA/IL1/2020|EPI_ISL_404253|2020-01-21\n",
      "attaaaggtttataccttcccaggtaacaaaccaaccaactttc...--- hCoV-19/USA/CA1/2020|EPI_ISL_406034|2020-01-23\n",
      "attaaaggtttataccttcccaggtaacaaaccaaccaactttc...--- hCoV-19/USA/CA2/2020|EPI_ISL_406036|2020-01-22\n",
      "...\n",
      "-----------------------gtaacaaaccaaccaactttc...--- hCoV-19/Guangdong/20SF201/2020|EPI_ISL_406538|2020-01-23\n"
     ]
    }
   ],
   "source": [
    "#now suck back in the file\n",
    "from Bio import AlignIO\n",
    "\n",
    "cov_align = AlignIO.read(\"aligned.fasta\",\"fasta\")\n",
    "print(cov_align)"
   ]
  },
  {
   "cell_type": "markdown",
   "metadata": {},
   "source": [
    "these alignment objects behave as you would expect. for instance we can slice them just as we would numpy arrays to get subsets of the aligned sequences, windows of the alignment, or both"
   ]
  },
  {
   "cell_type": "markdown",
   "metadata": {},
   "source": [
    "## Count number of differences\n",
    "let's write a function to count the number of differences between the two sequences in our alignments. we will do this by using a simple loop and asking if the characters are different"
   ]
  },
  {
   "cell_type": "code",
   "execution_count": 29,
   "metadata": {},
   "outputs": [
    {
     "name": "stdout",
     "output_type": "stream",
     "text": [
      "different at position 11 -> --------a---aa-aaaa------\n",
      "different at position 12 -> --------a---aa-aaaa------\n",
      "different at position 13 -> --------a---aa-aaaa------\n",
      "different at position 8781 -> --------a---aa-aaaa------\n",
      "different at position 28143 -> --------a---aa-aaaa------\n",
      "different at position 29094 -> --------a---aa-aaaa------\n",
      "different at position 29856 -> --------a---aa-aaaa------\n",
      "different at position 29857 -> --------a---aa-aaaa------\n",
      "different at position 29858 -> --------a---aa-aaaa------\n",
      "different at position 29859 -> --------a---aa-aaaa------\n",
      "different at position 29860 -> --------a---aa-aaaa------\n",
      "different at position 29861 -> --------a---aa-aaaa------\n",
      "different at position 29862 -> --------a---aa-aaaa------\n",
      "different at position 29863 -> --------a---aa-aaaa------\n",
      "different at position 29864 -> --------a---aa-aaaa------\n",
      "different at position 29865 -> --------a---aa-aaaa------\n",
      "different at position 29866 -> --------a---aa-aaaa------\n",
      "different at position 29867 -> --------a---aa-aaaa------\n",
      "number of diffs = 18\n",
      "percentage different = 0.0006020469596628537\n"
     ]
    }
   ],
   "source": [
    "def count_diffs(align, seq1, seq2):\n",
    "    diffs = 0\n",
    "    for i in range(len(align[0].seq)):\n",
    "        if align[seq1, i] != align[seq2, i]:\n",
    "            print(f'different at position {i} -> {align[:, seq1]}')\n",
    "            diffs += 1\n",
    "            \n",
    "    print(f'number of diffs = {diffs}')\n",
    "    print(f'percentage different = {diffs / i}')\n",
    "\n",
    "count_diffs(cov_align,0,2)"
   ]
  },
  {
   "cell_type": "markdown",
   "metadata": {},
   "source": [
    "**Exercise:** rewrite the above function to only count differences between sequences that do not include alignment gaps (i.e. \"-\"). "
   ]
  },
  {
   "cell_type": "markdown",
   "metadata": {},
   "source": [
    "## Add reference sequence and realign\n",
    "So the alignment above is great, but we don't have any of our annotations from the Genbank file on there. Let's now add the Genbank reference sequence into our alignment and realign the whole thing. The steps here will be to:\n",
    "1. add the reference to the alignment object\n",
    "2. write this out to a file\n",
    "3. rerun the alignment step from above with the new input"
   ]
  },
  {
   "cell_type": "code",
   "execution_count": 30,
   "metadata": {},
   "outputs": [
    {
     "name": "stdout",
     "output_type": "stream",
     "text": [
      "downloaded NC_045512.2 hCoV-19/Wuhan/WIV07/2019|EPI_ISL_402130|2019-12-30\n"
     ]
    }
   ],
   "source": [
    "from Bio import Entrez\n",
    "from Bio import SeqIO\n",
    "\n",
    "# get the reference seq\n",
    "# need this fake email for the service to work\n",
    "Entrez.email = \"fake_email@thanks.com\"\n",
    "with Entrez.efetch(db=\"nucleotide\", rettype=\"gb\", retmode=\"text\", id=\"NC_045512.2\") as handle:\n",
    "    refseq = SeqIO.read(handle, \"gb\")\n",
    "print(\"downloaded\", refseq.id, seq_record.description)\n",
    "\n"
   ]
  },
  {
   "cell_type": "code",
   "execution_count": 31,
   "metadata": {},
   "outputs": [],
   "source": [
    "# then make a list from cov_align and add refseq; write to temp.fasta\n",
    "longer_list = [x for x in cov_align]\n",
    "longer_list.append(refseq)\n",
    "SeqIO.write(longer_list, \"temp.fasta\", \"fasta\")\n",
    "\n",
    "#now run alignment\n",
    "mafft_cline = MafftCommandline(\"mafft\", input=\"temp.fasta\")\n",
    "assert os.path.isfile(muscle_exe), \"mafft executable missing\"\n",
    "stdout, stderr = mafft_cline()\n",
    "with open(\"temp.aligned.fasta\", \"w\") as handle:\n",
    "    handle.write(stdout)"
   ]
  },
  {
   "cell_type": "code",
   "execution_count": 32,
   "metadata": {},
   "outputs": [
    {
     "name": "stdout",
     "output_type": "stream",
     "text": [
      "Alignment with 26 rows and 29903 columns\n",
      "--------------ccttcccaggtaacaaaccaaccaactttc...--- hCoV-19/Wuhan/WIV06/2019|EPI_ISL_402129|2019-12-30\n",
      "-------------accttcccaggtaacaaaccaaccaactttc...--- hCoV-19/Wuhan/WIV07/2019|EPI_ISL_402130|2019-12-30\n",
      "-----------ataccttcccaggtaacaaaccaaccaactttc...--- hCoV-19/Guangdong/20SF012/2020|EPI_ISL_403932|2020-01-14\n",
      "-----------ataccttcccaggtaacaaaccaaccaactttc...--- hCoV-19/Guangdong/20SF013/2020|EPI_ISL_403933|2020-01-15\n",
      "-----------ataccttcccaggtaacaaaccaaccaactttc...--- hCoV-19/Guangdong/20SF014/2020|EPI_ISL_403934|2020-01-15\n",
      "-----------ataccttcccaggtaacaaaccaaccaactttc...--- hCoV-19/Guangdong/20SF025/2020|EPI_ISL_403935|2020-01-15\n",
      "-----------ataccttcccaggtaacaaaccaaccaactttc...--- hCoV-19/Guangdong/20SF028/2020|EPI_ISL_403936|2020-01-17\n",
      "-----------ataccttcccaggtaacaaaccaaccaactttc...--- hCoV-19/Guangdong/20SF040/2020|EPI_ISL_403937|2020-01-18\n",
      "attaaaggtttataccttcccaggtaacaaaccaaccaactttc...--- hCoV-19/Wuhan/IPBCAMS-WH-03/2019|EPI_ISL_403930|2019-12-30\n",
      "-----------ataccttcccaggtaacaaaccaaccaactttc...--- hCoV-19/Wuhan/HBCDC-HB-01/2019|EPI_ISL_402132|2019-12-30\n",
      "-------------------ccaggtaacaagccaaccaactttc...--- hCoV-19/Zhejiang/WZ-01/2020|EPI_ISL_404227|2020-01-16\n",
      "--------------------------acaaaccaaccaactttc...--- hCoV-19/Zhejiang/WZ-02/2020|EPI_ISL_404228|2020-01-17\n",
      "attaaaggtttataccttcccaggtaacaaaccaaccaactttc...--- hCoV-19/USA/WA1/2020|EPI_ISL_404895|2020-01-19\n",
      "attaaaggtttataccttcccaggtaacaaaccaaccaactttc...--- hCoV-19/Shenzhen/HKU-SZ-005/2020|EPI_ISL_405839|2020-01-11\n",
      "--------------------------------caaccaactttc...--- hCoV-19/Shenzhen/HKU-SZ-002/2020|EPI_ISL_406030|2020-01-10\n",
      "attaaaggtttataccttcccaggtaacaaaccaaccaactttc...--- hCoV-19/USA/IL1/2020|EPI_ISL_404253|2020-01-21\n",
      "attaaaggtttataccttcccaggtaacaaaccaaccaactttc...--- hCoV-19/USA/CA1/2020|EPI_ISL_406034|2020-01-23\n",
      "attaaaggtttataccttcccaggtaacaaaccaaccaactttc...--- hCoV-19/USA/CA2/2020|EPI_ISL_406036|2020-01-22\n",
      "...\n",
      "attaaaggtttataccttcccaggtaacaaaccaaccaactttc...aaa NC_045512.2\n"
     ]
    }
   ],
   "source": [
    "    \n",
    "#import and look at it\n",
    "new_align = AlignIO.read(\"temp.aligned.fasta\",\"fasta\")\n",
    "print(new_align)"
   ]
  },
  {
   "cell_type": "markdown",
   "metadata": {},
   "source": [
    "see that last sequence name? that's our reference genome! let's see if there are any gaps inserted into the reference. this is important because it will throw off the locations of our annotations (e.g. genes) that we got with our reference sequence. Do do this I'll just use the built in biopython function `count()`"
   ]
  },
  {
   "cell_type": "code",
   "execution_count": 33,
   "metadata": {},
   "outputs": [
    {
     "name": "stdout",
     "output_type": "stream",
     "text": [
      "0\n"
     ]
    }
   ],
   "source": [
    "print(new_align[-1].seq.count(\"-\"))"
   ]
  },
  {
   "cell_type": "markdown",
   "metadata": {},
   "source": [
    "so we are actually good to go here-- things line up well to the reference. Next let's try to apply our annotation to the alignment and pull out specific regions"
   ]
  },
  {
   "cell_type": "code",
   "execution_count": 34,
   "metadata": {},
   "outputs": [
    {
     "name": "stdout",
     "output_type": "stream",
     "text": [
      "index 2 \n",
      " type: CDS\n",
      "location: [21562:25384](+)\n",
      "qualifiers:\n",
      "    Key: codon_start, Value: ['1']\n",
      "    Key: db_xref, Value: ['GeneID:43740568']\n",
      "    Key: gene, Value: ['S']\n",
      "    Key: gene_synonym, Value: ['spike glycoprotein']\n",
      "    Key: locus_tag, Value: ['GU280_gp02']\n",
      "    Key: note, Value: ['structural protein; spike protein']\n",
      "    Key: product, Value: ['surface glycoprotein']\n",
      "    Key: protein_id, Value: ['YP_009724390.1']\n",
      "    Key: translation, Value: ['MFVFLVLLPLVSSQCVNLTTRTQLPPAYTNSFTRGVYYPDKVFRSSVLHSTQDLFLPFFSNVTWFHAIHVSGTNGTKRFDNPVLPFNDGVYFASTEKSNIIRGWIFGTTLDSKTQSLLIVNNATNVVIKVCEFQFCNDPFLGVYYHKNNKSWMESEFRVYSSANNCTFEYVSQPFLMDLEGKQGNFKNLREFVFKNIDGYFKIYSKHTPINLVRDLPQGFSALEPLVDLPIGINITRFQTLLALHRSYLTPGDSSSGWTAGAAAYYVGYLQPRTFLLKYNENGTITDAVDCALDPLSETKCTLKSFTVEKGIYQTSNFRVQPTESIVRFPNITNLCPFGEVFNATRFASVYAWNRKRISNCVADYSVLYNSASFSTFKCYGVSPTKLNDLCFTNVYADSFVIRGDEVRQIAPGQTGKIADYNYKLPDDFTGCVIAWNSNNLDSKVGGNYNYLYRLFRKSNLKPFERDISTEIYQAGSTPCNGVEGFNCYFPLQSYGFQPTNGVGYQPYRVVVLSFELLHAPATVCGPKKSTNLVKNKCVNFNFNGLTGTGVLTESNKKFLPFQQFGRDIADTTDAVRDPQTLEILDITPCSFGGVSVITPGTNTSNQVAVLYQDVNCTEVPVAIHADQLTPTWRVYSTGSNVFQTRAGCLIGAEHVNNSYECDIPIGAGICASYQTQTNSPRRARSVASQSIIAYTMSLGAENSVAYSNNSIAIPTNFTISVTTEILPVSMTKTSVDCTMYICGDSTECSNLLLQYGSFCTQLNRALTGIAVEQDKNTQEVFAQVKQIYKTPPIKDFGGFNFSQILPDPSKPSKRSFIEDLLFNKVTLADAGFIKQYGDCLGDIAARDLICAQKFNGLTVLPPLLTDEMIAQYTSALLAGTITSGWTFGAGAALQIPFAMQMAYRFNGIGVTQNVLYENQKLIANQFNSAIGKIQDSLSSTASALGKLQDVVNQNAQALNTLVKQLSSNFGAISSVLNDILSRLDKVEAEVQIDRLITGRLQSLQTYVTQQLIRAAEIRASANLAATKMSECVLGQSKRVDFCGKGYHLMSFPQSAPHGVVFLHVTYVPAQEKNFTTAPAICHDGKAHFPREGVFVSNGTHWFVTQRNFYEPQIITTDNTFVSGNCDVVIGIVNNTVYDPLQPELDSFKEELDKYFKNHTSPDVDLGDISGINASVVNIQKEIDRLNEVAKNLNESLIDLQELGKYEQYIKWPWYIWLGFIAGLIAIVMVTIMLCCMTSCCSCLKGCCSCGSCCKFDEDDSEPVLKGVKLHYT']\n",
      "\n"
     ]
    }
   ],
   "source": [
    "# find S gene index\n",
    "gene_list = [ x  for x in refseq.features if x.type == 'CDS']\n",
    "for i,x in enumerate(gene_list):\n",
    "    if x.qualifiers['gene'] == ['S']:\n",
    "        print(\"index\",i,\"\\n\",x)\n"
   ]
  },
  {
   "cell_type": "markdown",
   "metadata": {},
   "source": [
    "Cool! so let's get our little slice of the alignment that corresponds to this locus. There are two ways to do this. One is just to take a slice of the original alignment on the basis of the locations of features. The other is to use the SeqFeature extract function. The latter method will be much more convenient if you are trying extract genes with complex intron / exon structures"
   ]
  },
  {
   "cell_type": "code",
   "execution_count": 35,
   "metadata": {},
   "outputs": [
    {
     "data": {
      "text/plain": [
       "'atgtttgtttttcttgttttattgccactagtctctagtcagtgtgttaatcttacaaccagaactcaattaccccctgcatacactaattctttcacacgtggtgtttattaccctgacaaagttttcagatcctcagttttacattcaactcaggacttgttcttacctttcttttccaatgttacttggttccatgctatacatgtctctgggaccaatggtactaagaggtttgataaccctgtcctaccatttaatgatggtgtttattttgcttccactgagaagtctaacataataagaggctggatttttggtactactttagattcgaagacccagtccctacttattgttaataacgctactaatgttgttattaaagtctgtgaatttcaattttgtaatgatccatttttgggtgtttattaccacaaaaacaacaaaagttggatggaaagtgagttcagagtttattctagtgcgaataattgcacttttgaatatgtctctcagccttttcttatggaccttgaaggaaaacagggtaatttcaaaaatcttagggaatttgtgtttaagaatattgatggttattttaaaatatattctaagcacacgcctattaatttagtgcgtgatctccctcagggtttttcggctttagaaccattggtagatttgccaataggtattaacatcactaggtttcaaactttacttgctttacatagaagttatttgactcctggtgattcttcttcaggttggacagctggtgctgcagcttattatgtgggttatcttcaacctaggacttttctattaaaatataatgaaaatggaaccattacagatgctgtagactgtgcacttgaccctctctcagaaacaaagtgtacgttgaaatccttcactgtagaaaaaggaatctatcaaacttctaactttagagtccaaccaacagaatctattgttagatttcctaatattacaaacttgtgcccttttggtgaagtttttaacgccaccagatttgcatctgtttatgcttggaacaggaagagaatcagcaactgtgttgctgattattctgtcctatataattccgcatcattttccacttttaagtgttatggagtgtctcctactaaattaaatgatctctgctttactaatgtctatgcagattcatttgtaattagaggtgatgaagtcagacaaatcgctccagggcaaactggaaagattgctgattataattataaattaccagatgattttacaggctgcgttatagcttggaattctaacaatcttgattctaaggttggtggtaattataattacctgtatagattgtttaggaagtctaatctcaaaccttttgagagagatatttcaactgaaatctatcaggccggtagcacaccttgtaatggtgttgaaggttttaattgttactttcctttacaatcatatggtttccaacccactaatggtgttggttaccaaccatacagagtagtagtactttcttttgaacttctacatgcaccagcaactgtttgtggacctaaaaagtctactaatttggttaaaaacaaatgtgtcaatttcaacttcaatggtttaacaggcacaggtgttcttactgagtctaacaaaaagtttctgcctttccaacaatttggcagagacattgctgacactactgatgctgtccgtgatccacagacacttgagattcttgacattacaccatgttcttttggtggtgtcagtgttataacaccaggaacaaatacttctaaccaggttgctgttctttatcaggatgttaactgcacagaagtccctgttgctattcatgcagatcaacttactcctacttggcgtgtttattctacaggttctaatgtttttcaaacacgtgcaggctgtttaataggggctgaacatgtcaacaactcatatgagtgtgacatacccattggtgcaggtatatgcgctagttatcagactcagactaattctcctcggcgggcacgtagtgtagctagtcaatccatcattgcctacactatgtcacttggtgcagaaaattcagttgcttactctaataactctattgccatacccacaaattttactattagtgttaccacagaaattctaccagtgtctatgaccaagacatcagtagattgtacaatgtacatttgtggtgattcaactgaatgcagcaatcttttgttgcaatatggcagtttttgtacacaattaaaccgtgctttaactggaatagctgttgaacaagacaaaaacacccaagaagtttttgcacaagtcaaacaaatttacaaaacaccaccaattaaagattttggtggttttaatttttcacaaatattaccagatccatcaaaaccaagcaagaggtcatttattgaagatctacttttcaacaaagtgacacttgcagatgctggcttcatcaaacaatatggtgattgccttggtgatattgctgctagagacctcatttgtgcacaaaagtttaacggccttactgttttgccacctttgctcacagatgaaatgattgctcaatacacttctgcactgttagcgggtacaatcacttctggttggacctttggtgcaggtgctgcattacaaataccatttgctatgcaaatggcttataggtttaatggtattggagttacacagaatgttctctatgagaaccaaaaattgattgccaaccaatttaatagtgctattggcaaaattcaagactcactttcttccacagcaagtgcacttggaaaacttcaagatgtggtcaaccaaaatgcacaagctttaaacacgcttgttaaacaacttagctccaattttggtgcaatttcaagtgttttaaatgatatcctttcacgtcttgacaaagttgaggctgaagtgcaaattgataggttgatcacaggcagacttcaaagtttgcagacatatgtgactcaacaattaattagagctgcagaaatcagagcttctgctaatcttgctgctactaaaatgtcagagtgtgtacttggacaatcaaaaagagttgatttttgtggaaagggctatcatcttatgtccttccctcagtcagcacctcatggtgtagtcttcttgcatgtgacttatgtccctgcacaagaaaagaacttcacaactgctcctgccatttgtcatgatggaaaagcacactttcctcgtgaaggtgtctttgtttcaaatggcacacactggtttgtaacacaaaggaatttttatgaaccacaaatcattactacagacaacacatttgtgtctggtaactgtgatgttgtaataggaattgtcaacaacacagtttatgatcctttgcaacctgaattagactcattcaaggaggagttagataaatattttaagaatcatacatcaccagatgttgatttaggtgacatctctggcattaatgcttcagttgtaaacattcaaaaagaaattgaccgcctcaatgaggttgccaagaatttaaatgaatctctcatcgatctccaagaacttggaaagtatgagcagtatataaaatggccatggtacatttggctaggttttatagctggcttgattgccatagtaatggtgacaattatgctttgctgtatgaccagttgctgtagttgtctcaagggctgttgttcttgtggatcctgctgcaaatttgatgaagacgactctgagccagtgctcaaaggagtcaaattacattacacataa'"
      ]
     },
     "execution_count": 35,
     "metadata": {},
     "output_type": "execute_result"
    }
   ],
   "source": [
    "str(gene_list[2].extract(new_align[0].seq))"
   ]
  },
  {
   "cell_type": "code",
   "execution_count": 48,
   "metadata": {},
   "outputs": [
    {
     "ename": "AttributeError",
     "evalue": "'MultipleSeqAlignment' object has no attribute 'add'",
     "output_type": "error",
     "traceback": [
      "\u001b[0;31m---------------------------------------------------------------------------\u001b[0m",
      "\u001b[0;31mAttributeError\u001b[0m                            Traceback (most recent call last)",
      "\u001b[0;32m/var/folders/tx/jz9kjs7x189431ywqgglmjmr0000gn/T/ipykernel_62734/4114934625.py\u001b[0m in \u001b[0;36m<module>\u001b[0;34m\u001b[0m\n\u001b[1;32m      7\u001b[0m \u001b[0mspike_align2\u001b[0m \u001b[0;34m=\u001b[0m \u001b[0malign\u001b[0m \u001b[0;34m=\u001b[0m \u001b[0mMultipleSeqAlignment\u001b[0m\u001b[0;34m(\u001b[0m\u001b[0;34m[\u001b[0m\u001b[0;34m]\u001b[0m\u001b[0;34m)\u001b[0m\u001b[0;34m\u001b[0m\u001b[0;34m\u001b[0m\u001b[0m\n\u001b[1;32m      8\u001b[0m \u001b[0;32mfor\u001b[0m \u001b[0mi\u001b[0m \u001b[0;32min\u001b[0m \u001b[0mrange\u001b[0m\u001b[0;34m(\u001b[0m\u001b[0mlen\u001b[0m\u001b[0;34m(\u001b[0m\u001b[0mnew_align\u001b[0m\u001b[0;34m)\u001b[0m\u001b[0;34m)\u001b[0m\u001b[0;34m:\u001b[0m\u001b[0;34m\u001b[0m\u001b[0;34m\u001b[0m\u001b[0m\n\u001b[0;32m----> 9\u001b[0;31m     \u001b[0mspike_align2\u001b[0m\u001b[0;34m.\u001b[0m\u001b[0madd\u001b[0m\u001b[0;34m(\u001b[0m\u001b[0mgene_list\u001b[0m\u001b[0;34m[\u001b[0m\u001b[0;36m2\u001b[0m\u001b[0;34m]\u001b[0m\u001b[0;34m.\u001b[0m\u001b[0mextract\u001b[0m\u001b[0;34m(\u001b[0m\u001b[0mnew_align\u001b[0m\u001b[0;34m[\u001b[0m\u001b[0mi\u001b[0m\u001b[0;34m]\u001b[0m\u001b[0;34m.\u001b[0m\u001b[0mseq\u001b[0m\u001b[0;34m)\u001b[0m\u001b[0;34m)\u001b[0m\u001b[0;34m\u001b[0m\u001b[0;34m\u001b[0m\u001b[0m\n\u001b[0m",
      "\u001b[0;31mAttributeError\u001b[0m: 'MultipleSeqAlignment' object has no attribute 'add'"
     ]
    }
   ],
   "source": [
    "# first way-- take a slice\n",
    "spike_align = new_align[:,gene_list[2].location.start.position:gene_list[2].location.end.position]\n",
    "\n"
   ]
  },
  {
   "cell_type": "markdown",
   "metadata": {},
   "source": [
    "okay great so we've go the subsection of the alignment that pertains to the Spike locus. now let's do something with it! In particular let's compute the number of nucleotide differences among Spike sequences in our sample, let's build a matrix of them, and let's visualize them. Here is our simple function"
   ]
  },
  {
   "cell_type": "code",
   "execution_count": 37,
   "metadata": {},
   "outputs": [],
   "source": [
    "def count_diffs2(align, seq1, seq2):\n",
    "    diffs = 0\n",
    "    for i in range(len(align[0].seq)):\n",
    "        if align[seq1, i] != align[seq2, i] and align[seq1, i] != '-' \\\n",
    "            and align[seq2, i] != \"-\":\n",
    "            diffs += 1\n",
    "    return(diffs)"
   ]
  },
  {
   "cell_type": "markdown",
   "metadata": {},
   "source": [
    "now let's visualize these as a heatmap. I'll use the `imshow` function as a quick and easy way to do this sort of visualization"
   ]
  },
  {
   "cell_type": "code",
   "execution_count": 38,
   "metadata": {},
   "outputs": [
    {
     "data": {
      "text/plain": [
       "<matplotlib.image.AxesImage at 0x7fc2b1141810>"
      ]
     },
     "execution_count": 38,
     "metadata": {},
     "output_type": "execute_result"
    },
    {
     "data": {
      "image/png": "[encoded data removed]",
      "text/plain": [
       "<Figure size 432x288 with 1 Axes>"
      ]
     },
     "metadata": {
      "needs_background": "light"
     },
     "output_type": "display_data"
    }
   ],
   "source": [
    "from matplotlib import pyplot as plt\n",
    "\n",
    "n = len(spike_align)\n",
    "dist_mat = np.zeros((n,n))\n",
    "for i in range(n):\n",
    "    for j in range(n):\n",
    "        dist_mat[i,j] = count_diffs2(spike_align,i,j)\n",
    "\n",
    "plt.imshow(dist_mat)"
   ]
  },
  {
   "cell_type": "markdown",
   "metadata": {},
   "source": [
    "So here we are visualizing the number of nucleotide differences in pairwise comparisons among genomes. A question then-- why is this figure symmetric about the diagonal? "
   ]
  },
  {
   "cell_type": "markdown",
   "metadata": {},
   "source": [
    "## Digging deeper into the past-- BLAST\n",
    "So now that we've got our alignment of the Spike locus a bit cleaned up, let's see if we can do a quick comparison using BLAST and see what we can pick up. BLAST (basic local alignment search tool) is way to search amino-acid, DNA and/or RNA sequences. A BLAST search enables a researcher to compare a subject protein or nucleotide sequence (called a query) with a library or database of sequences, and identify library sequences that resemble the query sequence above a certain threshold. The web interface to BLAST is [here](https://blast.ncbi.nlm.nih.gov/Blast.cgi)\n",
    "\n",
    "Let's try pulling out the amino acid sequence of SARS-CoV-2 Spike and BLASTing that against the NCBI database. To do that let's pull the sequence feature and translate it\n"
   ]
  },
  {
   "cell_type": "code",
   "execution_count": 39,
   "metadata": {},
   "outputs": [
    {
     "name": "stdout",
     "output_type": "stream",
     "text": [
      "MFVFLVLLPLVSSQCVNLTTRTQLPPAYTNSFTRGVYYPDKVFRSSVLHSTQDLFLPFFSNVTWFHAIHVSGTNGTKRFDNPVLPFNDGVYFASTEKSNIIRGWIFGTTLDSKTQSLLIVNNATNVVIKVCEFQFCNDPFLGVYYHKNNKSWMESEFRVYSSANNCTFEYVSQPFLMDLEGKQGNFKNLREFVFKNIDGYFKIYSKHTPINLVRDLPQGFSALEPLVDLPIGINITRFQTLLALHRSYLTPGDSSSGWTAGAAAYYVGYLQPRTFLLKYNENGTITDAVDCALDPLSETKCTLKSFTVEKGIYQTSNFRVQPTESIVRFPNITNLCPFGEVFNATRFASVYAWNRKRISNCVADYSVLYNSASFSTFKCYGVSPTKLNDLCFTNVYADSFVIRGDEVRQIAPGQTGKIADYNYKLPDDFTGCVIAWNSNNLDSKVGGNYNYLYRLFRKSNLKPFERDISTEIYQAGSTPCNGVEGFNCYFPLQSYGFQPTNGVGYQPYRVVVLSFELLHAPATVCGPKKSTNLVKNKCVNFNFNGLTGTGVLTESNKKFLPFQQFGRDIADTTDAVRDPQTLEILDITPCSFGGVSVITPGTNTSNQVAVLYQDVNCTEVPVAIHADQLTPTWRVYSTGSNVFQTRAGCLIGAEHVNNSYECDIPIGAGICASYQTQTNSPRRARSVASQSIIAYTMSLGAENSVAYSNNSIAIPTNFTISVTTEILPVSMTKTSVDCTMYICGDSTECSNLLLQYGSFCTQLNRALTGIAVEQDKNTQEVFAQVKQIYKTPPIKDFGGFNFSQILPDPSKPSKRSFIEDLLFNKVTLADAGFIKQYGDCLGDIAARDLICAQKFNGLTVLPPLLTDEMIAQYTSALLAGTITSGWTFGAGAALQIPFAMQMAYRFNGIGVTQNVLYENQKLIANQFNSAIGKIQDSLSSTASALGKLQDVVNQNAQALNTLVKQLSSNFGAISSVLNDILSRLDKVEAEVQIDRLITGRLQSLQTYVTQQLIRAAEIRASANLAATKMSECVLGQSKRVDFCGKGYHLMSFPQSAPHGVVFLHVTYVPAQEKNFTTAPAICHDGKAHFPREGVFVSNGTHWFVTQRNFYEPQIITTDNTFVSGNCDVVIGIVNNTVYDPLQPELDSFKEELDKYFKNHTSPDVDLGDISGINASVVNIQKEIDRLNEVAKNLNESLIDLQELGKYEQYIKWPWYIWLGFIAGLIAIVMVTIMLCCMTSCCSCLKGCCSCGSCCKFDEDDSEPVLKGVKLHYT*\n"
     ]
    }
   ],
   "source": [
    "ref_spike_prot = spike_align[-1].seq.translate()\n",
    "print(ref_spike_prot)"
   ]
  },
  {
   "cell_type": "markdown",
   "metadata": {},
   "source": [
    "now let's copy and paste that into the BLAST window... and hit go. We will use the protein BLAST option (blastp). This may take a few minutes depending on traffic to the server. Looking over my results here I get a bunch of high quality hits to SARS-CoV-2 sequences (makes sense) and then one hit to a different sequence\n",
    "\n",
    "<img src=imgs/blast.png>\n",
    "\n",
    "a bat coronoavirus RaTG13!!! \n",
    "\n",
    "so let's do what comes naturally-- let's download that sequence, and align it to what we have right now. In fact this would be a great homework problem for you... to get you started let's use that id to download that sequence using it's unique identifier"
   ]
  },
  {
   "cell_type": "code",
   "execution_count": 40,
   "metadata": {},
   "outputs": [
    {
     "name": "stdout",
     "output_type": "stream",
     "text": [
      "downloaded NC_045512.2 hCoV-19/Wuhan/WIV07/2019|EPI_ISL_402130|2019-12-30\n"
     ]
    }
   ],
   "source": [
    "Entrez.email = \"fake_email@thanks.com\"\n",
    "with Entrez.efetch(db=\"protein\", rettype=\"gb\", retmode=\"text\", id=\"QHR63300.2\") as handle:\n",
    "    bat_spike = SeqIO.read(handle, \"gb\")\n",
    "print(\"downloaded\", refseq.id, seq_record.description)\n",
    "\n"
   ]
  },
  {
   "cell_type": "code",
   "execution_count": 41,
   "metadata": {},
   "outputs": [
    {
     "name": "stdout",
     "output_type": "stream",
     "text": [
      "ID: QHR63300.2\n",
      "Name: QHR63300\n",
      "Description: spike glycoprotein [Bat coronavirus RaTG13]\n",
      "Number of features: 18\n",
      "/topology=linear\n",
      "/data_file_division=VRL\n",
      "/date=24-NOV-2020\n",
      "/accessions=['QHR63300']\n",
      "/sequence_version=2\n",
      "/db_source=accession MN996532.2\n",
      "/keywords=['']\n",
      "/source=Bat coronavirus RaTG13\n",
      "/organism=Bat coronavirus RaTG13\n",
      "/taxonomy=['Viruses', 'Riboviria', 'Orthornavirae', 'Pisuviricota', 'Pisoniviricetes', 'Nidovirales', 'Cornidovirineae', 'Coronaviridae', 'Orthocoronavirinae', 'Betacoronavirus', 'Sarbecovirus']\n",
      "/references=[Reference(title='A pneumonia outbreak associated with a new coronavirus of probable bat origin', ...), Reference(title='Direct Submission', ...)]\n",
      "/comment=On Feb 10, 2020 this sequence version replaced QHR63300.1.\n",
      "/structured_comment=OrderedDict([('Assembly-Data', OrderedDict([('Assembly Method', 'CLC Genomics Workbench v. 12.0'), ('Sequencing Technology', 'Illumina')]))])\n",
      "/molecule_type=protein\n",
      "Seq('MFVFLVLLPLVSSQCVNLTTRTQLPPAYTNSSTRGVYYPDKVFRSSVLHLTQDL...HYT')\n"
     ]
    }
   ],
   "source": [
    "print(bat_spike)"
   ]
  },
  {
   "cell_type": "markdown",
   "metadata": {},
   "source": [
    "awesome! you'll note that i've downloaded the protein sequence here and not the nucleotide sequence of the gene nor the genome. We will play with this further in the homework"
   ]
  },
  {
   "cell_type": "code",
   "execution_count": null,
   "metadata": {},
   "outputs": [],
   "source": []
  }
 ],
 "metadata": {
  "kernelspec": {
   "display_name": "Python 3 (ipykernel)",
   "language": "python",
   "name": "python3"
  },
  "language_info": {
   "codemirror_mode": {
    "name": "ipython",
    "version": 3
   },
   "file_extension": ".py",
   "mimetype": "text/x-python",
   "name": "python",
   "nbconvert_exporter": "python",
   "pygments_lexer": "ipython3",
   "version": "3.10.2"
  }
 },
 "nbformat": 4,
 "nbformat_minor": 4
}
