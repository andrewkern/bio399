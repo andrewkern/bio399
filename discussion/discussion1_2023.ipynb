{
 "cells": [
  {
   "attachments": {},
   "cell_type": "markdown",
   "metadata": {},
   "source": [
    "## Tuples\n",
    "Tuples are list lists, but they are said to be *immutable*. What that means is that once a tuple is assigned, it cannot be changed. This is useful in the context of hashes, which we will come to later."
   ]
  },
  {
   "cell_type": "code",
   "execution_count": null,
   "metadata": {},
   "outputs": [],
   "source": [
    "#make a tuple from a list\n",
    "aTuple = tuple([1,2,3])\n",
    "#print the tuple, print an element from it\n",
    "print(aTuple)\n",
    "print(aTuple[1])"
   ]
  },
  {
   "cell_type": "code",
   "execution_count": null,
   "metadata": {},
   "outputs": [],
   "source": [
    "#try to change a value in it\n",
    "aTuple[1] = 'dog'"
   ]
  },
  {
   "cell_type": "markdown",
   "metadata": {},
   "source": [
    "## Iterating over lists\n",
    "Iterating over the content of lists is something that will come up again and again as you grow in your programming. The basic idea is that you want to go through an array, addressing each object in that list. \n",
    "\n",
    "A simple way to see this is to print the contents of arrays"
   ]
  },
  {
   "cell_type": "code",
   "execution_count": null,
   "metadata": {},
   "outputs": [],
   "source": [
    "aList = [1,3,5,19,-8,0]\n",
    "for element in aList:\n",
    "    print(element)"
   ]
  },
  {
   "cell_type": "markdown",
   "metadata": {},
   "source": [
    "this is our first instance of a `for` loop. in this case we are using `for` to iterate over each of the elements of `aList`, pass them to a temporary variable called `element`, and then print them.\n",
    "\n",
    "**Important-** notice the indentation after the line with `for`? The Python interpretter (the thing that reads your code and translates it to machine instructions) parses according to specific rules of **whitespace**, or basically indentation. Lines where represent code blocks nested within other blocks are indented using four spaces (preferred) or a tab. Bear in mind that programmers who use four spaces have been shown to [make more money than those that use tabs](https://stackoverflow.blog/2017/06/15/developers-use-spaces-make-money-use-tabs/) to indent their python code.  You can read more about whitespace [here](https://docs.python.org/2.0/ref/indentation.html)\n",
    "\n",
    "Let's try interating over the `cList` from above, and then move on to using the very cool `range()` function. "
   ]
  },
  {
   "cell_type": "code",
   "execution_count": null,
   "metadata": {},
   "outputs": [],
   "source": [
    "for x in cList:\n",
    "    print(x)"
   ]
  },
  {
   "cell_type": "markdown",
   "metadata": {},
   "source": [
    "Python has a built-in function called `range()` that we will use over and over for interating. `range()` is special in that it acts like a *generator*, producing new numbers on the fly one after another. It does *not* return a list of number, although we can make it do just that. \n",
    "\n",
    "For instance this example just uses the generator like behavior of `range()`"
   ]
  },
  {
   "cell_type": "code",
   "execution_count": null,
   "metadata": {},
   "outputs": [],
   "source": [
    "#iterate using range()\n",
    "for x in range(10):\n",
    "    print(x)"
   ]
  },
  {
   "cell_type": "code",
   "execution_count": null,
   "metadata": {},
   "outputs": [],
   "source": [
    "#range allows to set the start, stop, and step size\n",
    "for x in range(1,20,2):\n",
    "    print(x)"
   ]
  },
  {
   "cell_type": "code",
   "execution_count": null,
   "metadata": {},
   "outputs": [],
   "source": [
    "#turn range into a list\n",
    "aRange = list(range(10))\n",
    "print(aRange)"
   ]
  },
  {
   "cell_type": "markdown",
   "metadata": {},
   "source": [
    "**Exercise:** Revisit trying to print out your first name vertically, but this time use a for loop."
   ]
  },
  {
   "cell_type": "markdown",
   "metadata": {},
   "source": [
    "## More with lists\n",
    "A lot can be done with lists including, sorting them, reversing, slicing, appending, etc.. Here are a few examples"
   ]
  },
  {
   "cell_type": "code",
   "execution_count": null,
   "metadata": {},
   "outputs": [],
   "source": [
    "aList = [1, 4, 2]\n",
    "print(aList)\n",
    "aList.sort()\n",
    "print(aList)\n",
    "aList.reverse()\n",
    "print(aList)\n",
    "aList.remove(4)\n",
    "print(aList)"
   ]
  },
  {
   "cell_type": "markdown",
   "metadata": {},
   "source": [
    "**Exercise:** using a `for` loop write code that will calculate the sum of the numbers 1 through 100"
   ]
  },
  {
   "cell_type": "markdown",
   "metadata": {},
   "source": [
    "## While loops\n",
    "We've just covered so-called `for` loops, one of the most basic ways to iterate across arrays and make things happen in a program. Next let's look at the `while` loop.\n",
    "\n",
    "`while()` tests whether a condition is true, and while it remains true the inner loop keeps iterating. This is best understood with a simple example"
   ]
  },
  {
   "cell_type": "code",
   "execution_count": null,
   "metadata": {},
   "outputs": [],
   "source": [
    "#set up a variable\n",
    "i = 0\n",
    "while(i < 10):\n",
    "    print(i)\n",
    "    i += 2\n"
   ]
  },
  {
   "cell_type": "code",
   "execution_count": null,
   "metadata": {},
   "outputs": [],
   "source": [
    "print(i)"
   ]
  },
  {
   "cell_type": "markdown",
   "metadata": {},
   "source": [
    "**Exercise:** use a `while` loop to write code to calculate the factorial of a number. i.e., $4! = 4 \\times 3 \\times 2 \\times 1$"
   ]
  },
  {
   "cell_type": "code",
   "execution_count": null,
   "metadata": {},
   "outputs": [],
   "source": []
  },
  {
   "cell_type": "markdown",
   "metadata": {},
   "source": [
    "# Dictionaries-- aka hashes\n",
    "Dictionaries in python are containers that are based on key/value associations. With a list you address it's elements on the basis of their index in the array. With a dictionary you address elements of the container on the basis of a unique identifier, numeric or string valued. Dictionary keys can also be tuples (one of the benefits of being immutable) as long as the tuple contains only strings, numbers, or tuples. \n",
    "\n",
    "An empty dictionaries is instantiated with a curly brace like so `{}` and key:value pairs are added and seperated by commas. Mostly we use Dictionaries to store things that we want fast access to, without having to do any kind of iteration. "
   ]
  },
  {
   "cell_type": "code",
   "execution_count": null,
   "metadata": {},
   "outputs": [],
   "source": [
    "#set up a dict with two key:value pairs\n",
    "aDict = {'dog':'food', 'cat':'box'}\n",
    "print(aDict['dog'], aDict['cat'])"
   ]
  },
  {
   "cell_type": "markdown",
   "metadata": {},
   "source": [
    "We can add elements to the dictionary by giving them a new key, and we can delete elements using `del()`"
   ]
  },
  {
   "cell_type": "code",
   "execution_count": null,
   "metadata": {},
   "outputs": [],
   "source": [
    "aDict['bird'] = 'chow'\n",
    "print(aDict)\n",
    "del(aDict['cat'])\n",
    "print(aDict)"
   ]
  },
  {
   "cell_type": "markdown",
   "metadata": {},
   "source": [
    "If we ever have to iterate over all the elements in a dictionary the best way to do it is using the `keys()` generator"
   ]
  },
  {
   "cell_type": "code",
   "execution_count": null,
   "metadata": {},
   "outputs": [],
   "source": [
    "for aKey in aDict.keys():\n",
    "    print(aKey)"
   ]
  },
  {
   "cell_type": "markdown",
   "metadata": {},
   "source": [
    "and of course we can turn that generator into a list if we would like it in a different form"
   ]
  },
  {
   "cell_type": "code",
   "execution_count": null,
   "metadata": {},
   "outputs": [],
   "source": [
    "keyList = list(aDict.keys())\n",
    "print(keyList)\n",
    "print(len(keyList))"
   ]
  },
  {
   "cell_type": "markdown",
   "metadata": {},
   "source": [
    "**Exercise:** Try building a dictionary using a list as a key. Why doesn't this work? What would the problem be?"
   ]
  },
  {
   "cell_type": "markdown",
   "metadata": {},
   "source": [
    "## Strings\n",
    "It is worth spending a bit of effort on strings as 1) they come up a lot and 2) there are a whole variety of built in functions that python allows you to use on strings. Strings can be declared using single or double quotes. Likewise backslash escapes work within both single and double quoted strings -- e.g. \\n \\' \\\". A double quoted string  can contain single quotes without any issues (e.g. \"I didn't do it\") and similarly single quoted string can contain double quotes.\n",
    "\n",
    "Like tuples, strings are immutable. This means that when we concatenate strings we are producing new objects in memory. Like lists, we can index and slice strings easily."
   ]
  },
  {
   "cell_type": "code",
   "execution_count": null,
   "metadata": {},
   "outputs": [],
   "source": [
    "aStr = 'omg'\n",
    "print(aStr[1])\n",
    "print(aStr[0:2])\n",
    "print(len(aStr)) #print the length\n",
    "bStr = aStr + ' what?' #concatenate two strings\n",
    "print(bStr)"
   ]
  },
  {
   "cell_type": "markdown",
   "metadata": {},
   "source": [
    "some super useful string methods include `lower()`,`upper()`, `split()`, `strip()`, among others. Look at the documentation [here](https://docs.python.org/3/library/stdtypes.html#textseq) for a full list.\n",
    "\n",
    "We will just illustrate a few things below"
   ]
  },
  {
   "cell_type": "code",
   "execution_count": null,
   "metadata": {},
   "outputs": [],
   "source": [
    "s = bStr.upper()\n",
    "print(s)\n",
    "print(s.lower())\n",
    "\n",
    "word_list = s.split(\" \") #split on space\n",
    "print(word_list)"
   ]
  },
  {
   "attachments": {},
   "cell_type": "markdown",
   "metadata": {},
   "source": [
    "## Slicing strings\n",
    "A really convenient thing with python strings is our ability to slice them up to get out substrings. The same ideas are implemented for lists. For instance consider the the string `s = 'Hello'`\n",
    "<img src=\"../imgs/hello.png\">\n",
    "\n",
    "* `s[1:4]` is `'ell'` -- chars starting at index 1 and extending up to but not including index 4\n",
    "* `s[1:]` is `'ello'` -- omitting either index defaults to the start or end of the string \n",
    "* `s[:]` is `'Hello'` -- omitting both always gives us a copy of the whole thing (this is the pythonic way to copy a sequence like a string or list)\n",
    "* `s[1:100]` is `'ello'` -- an index that is too big is truncated down to the string length \n",
    "\n",
    "Alternatively Python allows us to index from the *back* of strings/lists using negative indices. For instance\n",
    "\n",
    "* `s[-1]` is `'o'` -- last char (1st from the end)\n",
    "* `s[-4]` is `'e'` -- 4th from the end\n",
    "* `s[:-3]` is `'He'` -- going up to but not including the last 3 chars.\n",
    "* `s[-3:]` is `'llo'` -- starting with the 3rd char from the end and extending to the end of the string. \n",
    "\n",
    "Please try these out below"
   ]
  },
  {
   "cell_type": "code",
   "execution_count": null,
   "metadata": {},
   "outputs": [],
   "source": [
    "s = 'Hello'\n",
    "s[-3:]"
   ]
  },
  {
   "cell_type": "markdown",
   "metadata": {},
   "source": [
    "# More reading\n",
    "I'm aiming to give you a quick start look into using Python. There are many many great resources online about starting to program in Python and I'd encourage you to find some on your own and read a bit more about the great breadth of the language. A particularly good tutorial is [here](https://www.programiz.com/python-programming)\n"
   ]
  },
  {
   "cell_type": "markdown",
   "metadata": {},
   "source": [
    "# Control Flow\n",
    "Thus far we have gone over nearly all of the major building blocks, with the major exception of what we call Control Flow statements. This isn't quite true as we had a look at `for` and `while` loops, but we will put those in context a bit today.\n",
    "\n",
    "The basic idea is that Control Flow statements tell the program which blocks of code to move between depending on the state of the program (or variables within that program more accurately). \n",
    "\n",
    "## If statements\n",
    "As you might expect, `if` statements only run a block of nested code if a statement evaluates as true. In Python we work with `if`, `elif`, and `else` statements to control conditional flow through execution. For instance let's illustrate this with a while loop."
   ]
  },
  {
   "cell_type": "code",
   "execution_count": null,
   "metadata": {},
   "outputs": [],
   "source": [
    "#simple if statement\n",
    "aBool = True\n",
    "if aBool:\n",
    "    print(aBool)\n",
    "\n",
    "#a second example\n",
    "aBool = False\n",
    "if aBool:\n",
    "    print(\"it was true\")\n",
    "else:\n",
    "    print(\"if was false\")"
   ]
  },
  {
   "cell_type": "markdown",
   "metadata": {},
   "source": [
    "Note there is no need for any `elif` or `else` clauses. \n",
    "\n",
    "Here is a more complex `if` `else` construction, this time nested within a `while` loop. "
   ]
  },
  {
   "cell_type": "code",
   "execution_count": null,
   "metadata": {},
   "outputs": [],
   "source": [
    "x = 0\n",
    "\n",
    "while x <= 10 :\n",
    "    if x < 4 :\n",
    "        print(\"x = \",x,\"; it is < 2\")\n",
    "    elif x < 8:\n",
    "        print(\"x = \",x,\"; 2 <= x < 8\")\n",
    "    else:\n",
    "        print(\"x = \",x,\"; x >= 8\")\n",
    "    x+=1\n",
    "    "
   ]
  },
  {
   "cell_type": "markdown",
   "metadata": {},
   "source": [
    "Note: there can be as many `elif` statements as you want in such a block of code. "
   ]
  },
  {
   "cell_type": "markdown",
   "metadata": {},
   "source": [
    "## Break statement\n",
    "`break` kills a loop in place and exits to code to outside of whatever loop it is in. Generally we use `break` to exit loops prematurely if some condition is met, thus you will almost always see `break` within an `if` clause.\n",
    "\n",
    "For instance consider the following"
   ]
  },
  {
   "cell_type": "code",
   "execution_count": null,
   "metadata": {},
   "outputs": [],
   "source": [
    "x = 0\n",
    "while x < 10:\n",
    "    print(x)\n",
    "    if x > 2:\n",
    "        break\n",
    "    x+=1"
   ]
  },
  {
   "cell_type": "markdown",
   "metadata": {},
   "source": [
    "**Exercise:** what would happen to the while loop above if that break statement were not there? Predict what will happen, change the code above, and make sure that the your prediction matches the reality."
   ]
  },
  {
   "cell_type": "markdown",
   "metadata": {},
   "source": [
    "there are a few other, less used control flow statements available in python including `continue`, `pass`, and `try`. If you are interested you can read about them [here](https://docs.python.org/3/tutorial/controlflow.html)"
   ]
  },
  {
   "cell_type": "markdown",
   "metadata": {},
   "source": []
  }
 ],
 "metadata": {
  "language_info": {
   "name": "python"
  },
  "orig_nbformat": 4
 },
 "nbformat": 4,
 "nbformat_minor": 2
}
