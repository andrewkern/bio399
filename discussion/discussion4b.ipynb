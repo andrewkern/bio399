{
 "cells": [
  {
   "cell_type": "markdown",
   "metadata": {},
   "source": [
    "# Useful websites for PCA and Linear Algebra\n",
    "\n",
    "I highly recommend this youtube channel if you are curious about the mathematics. He has multiple series about different topics like and explains them in an amazingly intuitive manner: [3B1B](https://www.youtube.com/channel/UCYO_jab_esuFRV4b17AJtAw/playlists?view=50&sort=dd&shelf_id=20)\n",
    "\n",
    "This tutorial on PCA does a good job of explaining the math behind the method: [PCA](https://towardsdatascience.com/pca-and-svd-explained-with-numpy-5d13b0d2a4d8)"
   ]
  },
  {
   "cell_type": "markdown",
   "metadata": {},
   "source": [
    "# Import Packages"
   ]
  },
  {
   "cell_type": "code",
   "execution_count": null,
   "metadata": {},
   "outputs": [],
   "source": [
    "import numpy as np\n",
    "import matplotlib.pyplot as plt\n",
    "from pathlib import Path\n",
    "import os, glob, fnmatch\n",
    "import matplotlib.image as mpimg \n"
   ]
  },
  {
   "cell_type": "markdown",
   "metadata": {},
   "source": [
    "## Review of Finding Files and Functions"
   ]
  },
  {
   "cell_type": "code",
   "execution_count": null,
   "metadata": {},
   "outputs": [],
   "source": [
    "# Creates a function to find file of a given type in a path and recursively searches subfolders\n",
    "def find(pattern, path):\n",
    "    result = [] # initialize the list as empty\n",
    "    for root, dirs, files in os.walk(path): # walk though the path directory, and files\n",
    "        for name in files:  # walk to the file in the directory\n",
    "            if fnmatch.fnmatch(name,pattern):  # if the file matches the filetype append to list\n",
    "                result.append(os.path.join(root,name)) \n",
    "    return result # return full list of file of a given type"
   ]
  },
  {
   "cell_type": "code",
   "execution_count": null,
   "metadata": {},
   "outputs": [],
   "source": [
    "source_path = r'./discussion4files'  # Exmaple source path to search : './Teaching/NewLessons/Lesson2Files' where the . means current folder\n",
    "filetype = '*.jpg' # Desired file type to find.  * token enables arbitrary string before the star. \n",
    "fname = sorted(find(filetype,source_path))\n",
    "fname"
   ]
  },
  {
   "cell_type": "markdown",
   "metadata": {},
   "source": [
    "## Linear Algebra Primer"
   ]
  },
  {
   "cell_type": "code",
   "execution_count": null,
   "metadata": {},
   "outputs": [],
   "source": [
    "# Vectors\n",
    "x = np.array([[1],[0]])\n",
    "print('x = \\n', x)\n",
    "print('x dims: ', x.shape,'\\n')\n",
    "y = np.array([[0],[1]])\n",
    "print('y = \\n', y.T)\n",
    "print('y dims: ', y.T.shape)"
   ]
  },
  {
   "cell_type": "code",
   "execution_count": null,
   "metadata": {},
   "outputs": [],
   "source": [
    "# Example of Transpose\n",
    "print(x)\n",
    "print('x Transpose:', x.T) # the .T designates transpose"
   ]
  },
  {
   "cell_type": "code",
   "execution_count": null,
   "metadata": {},
   "outputs": [],
   "source": [
    "# Scalar Multiplication\n",
    "print(2*x,'\\n')\n",
    "\n",
    "# Vector Addition\n",
    "print(x + y)"
   ]
  },
  {
   "cell_type": "code",
   "execution_count": null,
   "metadata": {},
   "outputs": [],
   "source": [
    "x = np.array([[4],[1]])\n",
    "\n",
    "y = np.array([[2],[-1]])\n",
    "\n",
    "# Dot Products\n",
    "# First method\n",
    "print(np.dot(x.T,y))\n",
    "# Second Method through transpose and mat mult.\n",
    "print(x.T@y)\n",
    "# Dot product as the |x||y|cos(theta) finding similarity by finding theta. \n",
    "print(np.arccos(x.T@y/(np.linalg.norm(x)*np.linalg.norm(y)))) #Theta in radians\n"
   ]
  },
  {
   "cell_type": "code",
   "execution_count": null,
   "metadata": {},
   "outputs": [],
   "source": [
    "# Matricies\n",
    "A = np.array([[0,-1],[1,0]])\n",
    "print(A.shape)\n",
    "\n",
    "B = np.array([[-1,0],[0,-1]])\n",
    "print(B.shape)\n",
    "\n",
    "ihat = np.array([[1],[0]])\n",
    "\n",
    "# Matrix multiplication is denoted by the @ symbol\n",
    "y = A@ihat\n",
    "print(y)\n",
    "z = B@ihat"
   ]
  },
  {
   "cell_type": "code",
   "execution_count": null,
   "metadata": {},
   "outputs": [],
   "source": [
    "# Graphical representation of matrix vector multiplication\n",
    "fig,ax = plt.subplots(1,figsize=(10,10))\n",
    "\n",
    "ax.arrow(0,0,ihat[0,0],ihat[1,0], head_width=0.2, head_length=0.2, fc='lightblue', ec='black',label='ihat')\n",
    "ax.arrow(0,0,y[0,0],y[1,0], head_width=0.2, head_length=0.2, fc='red', ec='black',label='y')\n",
    "ax.arrow(0,0,z[0,0],z[1,0], head_width=0.2, head_length=0.2, fc='blue', ec='black',label='z')\n",
    "\n",
    "plt.grid()\n",
    "\n",
    "plt.xlim(-2,2)\n",
    "plt.ylim(-2,2)\n",
    "\n",
    "plt.show()\n"
   ]
  },
  {
   "cell_type": "code",
   "execution_count": null,
   "metadata": {},
   "outputs": [],
   "source": [
    "# Matrix multiplication\n",
    "print(A,'\\n\\n', B)\n",
    "A@B"
   ]
  },
  {
   "cell_type": "code",
   "execution_count": null,
   "metadata": {},
   "outputs": [],
   "source": [
    "# Matrix Multiplication is Associative \n",
    "print((A@B)@ihat)\n",
    "print(A@(B@ihat))\n",
    "\n",
    "# Matrix Multiplaction is not Communative\n",
    "C = np.array([[5,-1],[1,-2]])\n",
    "D = np.array([[0,3],[-4,3]])\n",
    "print(D@C)\n",
    "print(C@D)"
   ]
  },
  {
   "cell_type": "code",
   "execution_count": null,
   "metadata": {},
   "outputs": [],
   "source": [
    "# Determinant \n",
    "print(np.linalg.det(D))\n",
    "print(0*3+3*-4)"
   ]
  },
  {
   "cell_type": "code",
   "execution_count": null,
   "metadata": {},
   "outputs": [],
   "source": [
    "# System of Linear Equations\n",
    "E = np.array([[2,5,3],[4,0,8],[1,3,0]])\n",
    "v = np.array([[-3],[0],[2]])\n",
    "\n",
    "E_inv = np.linalg.inv(E)\n",
    "print(E_inv)\n",
    "x = E_inv@v\n",
    "print(x)\n",
    "\n",
    "# the inverse of matrix exists if det(E) != 0"
   ]
  },
  {
   "cell_type": "markdown",
   "metadata": {},
   "source": [
    "# Eigenvectors and Eigenvalues"
   ]
  },
  {
   "cell_type": "code",
   "execution_count": null,
   "metadata": {},
   "outputs": [],
   "source": [
    "Rot = np.array([[0,-1],[1,0]])\n",
    "A = np.array([[3,1],[0,2]])\n",
    "\n",
    "lam, v = np.linalg.eig(A)\n",
    "\n",
    "ihat = np.array([[1],[0]])\n",
    "jhat = np.array([[0],[1]])\n",
    "\n",
    "v"
   ]
  },
  {
   "cell_type": "code",
   "execution_count": null,
   "metadata": {},
   "outputs": [],
   "source": [
    "# Graphical representation of Eigenvalues\n",
    "fig,ax = plt.subplots(1,figsize=(10,10))\n",
    "\n",
    "\n",
    "ax.arrow(0,0,v[0,0],v[1,0], head_width=0.2, head_length=0.2, fc='red', ec='black',label='y')\n",
    "ax.arrow(0,0,v[0,1],v[1,1], head_width=0.2, head_length=0.2, fc='blue', ec='black',label='z')\n",
    "\n",
    "# Plot ihat and jhat last so they go on top of the transformed vectors\n",
    "ax.arrow(0,0,ihat[0,0],ihat[1,0], head_width=0.1, head_length=0.1, fc='black', ec='black',label='ihat')\n",
    "ax.arrow(0,0,jhat[0,0],jhat[1,0], head_width=0.1, head_length=0.1, fc='black', ec='black',label='ihat')\n",
    "plt.plot(np.linspace(-2,2,100),np.linspace(2,-2,100),'b-')\n",
    "plt.plot(np.linspace(-2,2,100),np.zeros((100)),'r-')\n",
    "\n",
    "plt.grid()\n",
    "\n",
    "plt.xlim(-2,2)\n",
    "plt.ylim(-2,2)\n",
    "\n",
    "plt.show()\n"
   ]
  },
  {
   "cell_type": "markdown",
   "metadata": {},
   "source": [
    "# Example of PCA"
   ]
  },
  {
   "cell_type": "code",
   "execution_count": null,
   "metadata": {},
   "outputs": [],
   "source": [
    "def pca(X):\n",
    "    # Data matrix X, assumes 0-centered\n",
    "    n, m = X.shape\n",
    "    # Compute covariance matrix\n",
    "    C = np.dot(X.T, X) / (n-1)\n",
    "    # Eigen decomposition\n",
    "    eigen_vals, eigen_vecs = np.linalg.eig(C)\n",
    "    # Project X onto PC space\n",
    "    X_pca = np.dot(X, eigen_vecs)\n",
    "    return X_pca,eigen_vecs"
   ]
  },
  {
   "cell_type": "code",
   "execution_count": null,
   "metadata": {},
   "outputs": [],
   "source": [
    "mean = [0, 0]\n",
    "cov = [[1, .8], [.8, 1]]  # diagonal covariance\n",
    "\n",
    "# Create a 2D Gaussian distribution that is rotated\n",
    "x, y = np.random.multivariate_normal(mean, cov, 5000).T\n",
    "\n",
    "\n",
    "A = np.concatenate((x[:,np.newaxis],y[:,np.newaxis]),axis=1)\n",
    "A = A-np.mean(A,axis=0)\n",
    "xproj, V = pca(A)\n",
    "fig, ax = plt.subplots(1,2, figsize=(25,10))\n",
    "\n",
    "ax[0].scatter(x,y)\n",
    "ax[0].arrow(0,0,1,0,color='k', width=.05) # Arrow representing ihat\n",
    "ax[0].arrow(0,0,0,1,color='k', width=.05) # Arrow representing jhat\n",
    "ax[0].arrow(0,0,V[1,0],V[1,1],color='r', width=.05) # Draw new arrows corresponding to the eigenvectors \n",
    "ax[0].arrow(0,0,V[0,0],V[0,1],color='r', width=.05) # Draw new arrows corresponding to the eigenvectors \n",
    "ax[1].scatter(xproj[:,0],xproj[:,1])\n"
   ]
  },
  {
   "cell_type": "markdown",
   "metadata": {},
   "source": [
    "# Example of Singular Value Decomposition"
   ]
  },
  {
   "cell_type": "code",
   "execution_count": null,
   "metadata": {},
   "outputs": [],
   "source": [
    "mean = [0, 0]\n",
    "cov = [[1, .8], [.8, 1]]  # diagonal covariance\n",
    "\n",
    "# Create a 2D Gaussian distribution that is rotated\n",
    "x, y = np.random.multivariate_normal(mean, cov, 5000).T\n",
    "# Create Subplots \n",
    "fig, ax = plt.subplots(1,2,figsize=(20,10))\n",
    "ax[0].scatter(x, y,c='b') # plot the 2D gaussian\n",
    "ax[0].arrow(0,0,1,0,color='r', width=.05) # Arrow representing ihat\n",
    "ax[0].arrow(0,0,0,1,color='g', width=.05) # Arrow representing jhat\n",
    "ax[0].axis('equal') # make the axes equal\n",
    "ax[0].grid() # Add Grid lines\n",
    "\n",
    "A = np.vstack((x,y)).T # Create a matrix out of the x and y points that make up the 2D Gaussian \n",
    "U,S,V = np.linalg.svd(A,full_matrices=False)  # Run the SVD\n",
    "ax[1].scatter(x, y,c='b')  # Plot the same points as above on new subplot\n",
    "ax[1].arrow(0,0,V[1,0],V[1,1],color='r', width=.05) # Draw new arrows corresponding to the eigenvectors \n",
    "ax[1].arrow(0,0,V[0,0],V[0,1],color='g', width=.05) # Draw new arrows corresponding to the eigenvectors \n",
    "ax[1].axis('equal') # make the axes equal\n",
    "ax[1].grid() # add Grid lines\n",
    "\n",
    "plt.show()"
   ]
  },
  {
   "cell_type": "code",
   "execution_count": null,
   "metadata": {},
   "outputs": [],
   "source": [
    "# Example of SVD:  Data Compression\n",
    "image_path = fname[0] # Grab image path based on the function we created above\n",
    "image = mpimg.imread(image_path,0) # Load in the image with opencv (cv2).  The 0 means import as gray scale image\n",
    "plt.figure(figsize=(10,10)) # Create a figure to view the image\n",
    "plt.imshow(image,cmap='gray') # Show the image in grayscale.  cmap is the color map argument we are setting to 'gray'\n",
    "plt.show()"
   ]
  },
  {
   "cell_type": "code",
   "execution_count": null,
   "metadata": {},
   "outputs": [],
   "source": []
  },
  {
   "cell_type": "code",
   "execution_count": null,
   "metadata": {},
   "outputs": [],
   "source": [
    "U,S,V = np.linalg.svd(image[:,:,0],full_matrices=False) # Run the SVD\n",
    "S_mat = np.diag(S) # Make a diagonal matrix out of the singular values\n",
    "\n",
    "print(U.shape,S.shape,V.shape) # print the shapes of the U S, and V arrays\n",
    "\n",
    "# Visualize the magnitude of the singular values to gauge how many to use\n",
    "plt.figure(figsize=(10,10)) \n",
    "plt.plot(S)\n",
    "plt.show()"
   ]
  },
  {
   "cell_type": "code",
   "execution_count": null,
   "metadata": {},
   "outputs": [],
   "source": [
    "# Reconstructing the image with a subset of singular values components\n",
    "\n",
    "vals = [1,2,3,10,20,50] # A list of the number of singular values to use \n",
    "fig, ax = plt.subplots(2,3,figsize=(20,10)) # create 6 subplots, the number of values we chose\n",
    "for axs, n in zip(np.ndenumerate(ax),vals): # Running a for loop over the axes and enumerating them to keep track of location in list\n",
    "    B = U[:,:n]@S_mat[:n,:n]@V[:n,:] # Calculating the reconstruction\n",
    "    axs[1].imshow(B,cmap='gray') # Visualizing the Reconstruction \n",
    "    axs[1].set_title('{} Singular Values Used'.format(n)) # Adding title to show how many components used"
   ]
  },
  {
   "cell_type": "code",
   "execution_count": null,
   "metadata": {},
   "outputs": [],
   "source": []
  }
 ],
 "metadata": {
  "kernelspec": {
   "display_name": "Python 3",
   "language": "python",
   "name": "python3"
  },
  "language_info": {
   "codemirror_mode": {
    "name": "ipython",
    "version": 3
   },
   "file_extension": ".py",
   "mimetype": "text/x-python",
   "name": "python",
   "nbconvert_exporter": "python",
   "pygments_lexer": "ipython3",
   "version": "3.7.3"
  }
 },
 "nbformat": 4,
 "nbformat_minor": 4
}
