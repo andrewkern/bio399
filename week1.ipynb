{
 "cells": [
  {
   "cell_type": "markdown",
   "metadata": {},
   "source": [
    "# COVID-19 sucks\n",
    "\n",
    "<img src=imgs/covid_image.jpg>\n",
    "\n",
    "Welcome to Computational Genomics week 1, python in the time of COVID. As much as this current situation sucks, we can try to make the best of it and turn you all into a gang of whip sharp junior computation biologists. \n",
    "\n",
    "Our first goal along these lines is to jumpstart your programming abilities in Python. I'm going to assume that you the reader has no previous experience with programming, and start from the bottom up. "
   ]
  },
  {
   "cell_type": "markdown",
   "metadata": {},
   "source": [
    "# Python baby steps\n",
    "In this notebook we are going to cover some of the very first steps to using python in the `juptyer notebook` framework. Let's start with a traditional programming first step-- the hallowed \"Hello, world!\" "
   ]
  },
  {
   "cell_type": "code",
   "execution_count": null,
   "metadata": {},
   "outputs": [],
   "source": [
    "print(\"Hello, world!\")"
   ]
  },
  {
   "cell_type": "markdown",
   "metadata": {},
   "source": [
    "here we are using the built-in function `print` that forms one of the most basic tools in python. We will use `print` for making our programs write to the screen. `print` takes as input what we call a string (more later) and then prints that string as output. \n",
    "\n",
    "Congrats-- this is your first bit of python coding.\n",
    "\n",
    "**Exercise:** use `print()` to print your name to the screen. Try to print your first name and last name on separate lines. Is it working? Why or why not?\n",
    "\n",
    "# Variables\n",
    "A name that is used to denote something or a value is called a variable. In python, variables can be declared and values can be assigned to it as follows,\n",
    "\n",
    "For instance let's declare a variable named `x` and set it equal to 2"
   ]
  },
  {
   "cell_type": "code",
   "execution_count": null,
   "metadata": {},
   "outputs": [],
   "source": [
    "x = 2"
   ]
  },
  {
   "cell_type": "markdown",
   "metadata": {},
   "source": [
    "notice there was no output associated with setting the value of `x`. To check if everything went okay we can `print` it"
   ]
  },
  {
   "cell_type": "code",
   "execution_count": null,
   "metadata": {},
   "outputs": [],
   "source": [
    "print(x)\n",
    "x = 5\n",
    "print(x)"
   ]
  },
  {
   "cell_type": "markdown",
   "metadata": {},
   "source": [
    "looks good. let's play more with variables\n"
   ]
  },
  {
   "cell_type": "code",
   "execution_count": null,
   "metadata": {},
   "outputs": [],
   "source": [
    "y = 5\n",
    "xy = 'Hey'\n",
    "\n",
    "print(x+y, xy)"
   ]
  },
  {
   "cell_type": "markdown",
   "metadata": {},
   "source": [
    "Multiple variables can be assigned with the same value. The comma that we are handing (or passing in programming terms) to `print` tells the function that more input is coming."
   ]
  },
  {
   "cell_type": "code",
   "execution_count": null,
   "metadata": {},
   "outputs": [],
   "source": [
    "x = y = 1\n",
    "print(x,y)\n",
    "#set y to something new\n",
    "y = 2\n",
    "print(x,y)"
   ]
  },
  {
   "cell_type": "markdown",
   "metadata": {},
   "source": [
    "# Python data types\n",
    "every programming language has a certain number of built-in data types. These types determine what can be done with objects that have been set to given values. \n",
    "\n",
    "## Integers\n",
    "These are just as the name suggests-- whole number, integers. For instance 1, 2, 3, 154, etc. Let's set a variable to an integer and then check the type of that integer using the built-in function `type`"
   ]
  },
  {
   "cell_type": "code",
   "execution_count": null,
   "metadata": {},
   "outputs": [],
   "source": [
    "x = 1\n",
    "type(x)"
   ]
  },
  {
   "cell_type": "markdown",
   "metadata": {},
   "source": [
    "As you see, python output `int` when we asked what type x was.\n",
    "\n",
    "## Floating-point numbers\n",
    "the `float` type is the way that a computer represents real numbers. We have to deal with them separately from integers and there are a few gotchas associated\n"
   ]
  },
  {
   "cell_type": "code",
   "execution_count": null,
   "metadata": {},
   "outputs": [],
   "source": [
    "x = 1.2\n",
    "type(x)"
   ]
  },
  {
   "cell_type": "markdown",
   "metadata": {},
   "source": [
    "we can specify a `float` just by having a decimal point"
   ]
  },
  {
   "cell_type": "code",
   "execution_count": null,
   "metadata": {},
   "outputs": [],
   "source": [
    ".2"
   ]
  },
  {
   "cell_type": "markdown",
   "metadata": {},
   "source": [
    "we can even use scientific notation to specify a `float`. this is very handy indeed"
   ]
  },
  {
   "cell_type": "code",
   "execution_count": null,
   "metadata": {},
   "outputs": [],
   "source": [
    "1e-03"
   ]
  },
  {
   "cell_type": "markdown",
   "metadata": {},
   "source": [
    "## Strings \n",
    "As I alluded to above there is a type of data called a `string` that we use when we print stuff. We also use them for input, so strings are critical and worth a bit of attention. I'll go very quickly through a few things now, but we will circle back to strings later in the course.\n",
    "\n",
    "Strings are sequences of character data. The string type in Python is called `str`. String may be delimited using either single or double quotes. All the characters between the opening delimiter and matching closing delimiter are part of the string. For instance:"
   ]
  },
  {
   "cell_type": "code",
   "execution_count": null,
   "metadata": {},
   "outputs": [],
   "source": [
    "aString = 'I am a string'\n",
    "type(aString)"
   ]
  },
  {
   "cell_type": "code",
   "execution_count": null,
   "metadata": {},
   "outputs": [],
   "source": [
    "print(aString)\n",
    "print(type(aString))"
   ]
  },
  {
   "cell_type": "markdown",
   "metadata": {},
   "source": [
    "Strings can do some funky stuff using what we call \"escape characters\". I'll delve into those in the next lecture but for the time being I want to show you two kinds of escape characters-- the first is the newline, the second is tab. \n",
    "\n",
    "So how would I get `print` to put a newline in a character string? Well by using a special symbol of course! In this case the special symbol is `\\n`. For instance check out this behavior:"
   ]
  },
  {
   "cell_type": "code",
   "execution_count": null,
   "metadata": {},
   "outputs": [],
   "source": [
    "aString = \"I am a string\"\n",
    "print(aString)\n",
    "aString = \"I am \\na string\"\n",
    "print(aString)"
   ]
  },
  {
   "cell_type": "code",
   "execution_count": null,
   "metadata": {},
   "outputs": [],
   "source": [
    "my_name = \"Andy\"\n",
    "print(my_name)"
   ]
  },
  {
   "cell_type": "code",
   "execution_count": null,
   "metadata": {},
   "outputs": [],
   "source": [
    "my_name = \"A\\nn\\nd\\ny\"\n",
    "print(my_name)"
   ]
  },
  {
   "cell_type": "markdown",
   "metadata": {},
   "source": [
    "See the difference? Do you understand what is happening?\n",
    "\n",
    "**Excerise:** Use print and the `\\n` character to print your first name vertically, rather than horizontally on the screen\n",
    "\n",
    "The next escape character we will use is the tab character `\\t`. These show up all the time in data import and export. For instance check out this bit of code"
   ]
  },
  {
   "cell_type": "code",
   "execution_count": null,
   "metadata": {},
   "outputs": [],
   "source": [
    "aString = \"A\\ttab\\tcreates\\tspace\\tbetween\\twords\"\n",
    "print(aString)"
   ]
  },
  {
   "cell_type": "markdown",
   "metadata": {},
   "source": [
    "There are many more things to learn about strings but we will have to come back to them. If you are impatient to learn more check out [this](https://docs.python.org/3.7/library/stdtypes.html#text-sequence-type-str)"
   ]
  },
  {
   "cell_type": "markdown",
   "metadata": {},
   "source": [
    "## Booleans\n",
    "The boolean data type is to evaluate whether something is logically true or false. We will use these all the time in conditional statements and to control the flow of our programs. As this desciption suggestions, there are only two values for boolean variables, `True` and `False`. Consider the following"
   ]
  },
  {
   "cell_type": "code",
   "execution_count": null,
   "metadata": {},
   "outputs": [],
   "source": [
    "aBool = True\n",
    "type(aBool)"
   ]
  },
  {
   "cell_type": "markdown",
   "metadata": {},
   "source": [
    "There are a few other data types that we will encounter later but this is a great place to start for now."
   ]
  },
  {
   "cell_type": "markdown",
   "metadata": {},
   "source": [
    "# Operators\n",
    "Python has a variety of build in operators that can manipulate so-called opperands. We'll start with what will be more familiar arithmetic operators and go from there"
   ]
  },
  {
   "cell_type": "markdown",
   "metadata": {},
   "source": [
    "## Arithmetic Operators\n",
    "Below is the table of built-in arithmetic operators in Python"
   ]
  },
  {
   "cell_type": "markdown",
   "metadata": {},
   "source": [
    "| Symbol | Task Performed |\n",
    "|----|---|\n",
    "| +  | Addition |\n",
    "| -  | Subtraction |\n",
    "| /  | division |\n",
    "| %  | mod |\n",
    "| *  | multiplication |\n",
    "| //  | floor division |\n",
    "| **  | to the power of |"
   ]
  },
  {
   "cell_type": "markdown",
   "metadata": {},
   "source": [
    "let's play with these a bit"
   ]
  },
  {
   "cell_type": "code",
   "execution_count": null,
   "metadata": {},
   "outputs": [],
   "source": [
    "1+2"
   ]
  },
  {
   "cell_type": "code",
   "execution_count": null,
   "metadata": {},
   "outputs": [],
   "source": [
    "2-1"
   ]
  },
  {
   "cell_type": "code",
   "execution_count": null,
   "metadata": {},
   "outputs": [],
   "source": [
    "1*2"
   ]
  },
  {
   "cell_type": "code",
   "execution_count": null,
   "metadata": {},
   "outputs": [],
   "source": [
    "1/2"
   ]
  },
  {
   "cell_type": "markdown",
   "metadata": {},
   "source": [
    "the modulo operator `%` finds the remainder after dividing the first number by the second\n"
   ]
  },
  {
   "cell_type": "code",
   "execution_count": null,
   "metadata": {},
   "outputs": [],
   "source": [
    "12%10"
   ]
  },
  {
   "cell_type": "markdown",
   "metadata": {},
   "source": [
    "Floor division is nothing but converting the result so obtained to the nearest integer."
   ]
  },
  {
   "cell_type": "code",
   "execution_count": null,
   "metadata": {},
   "outputs": [],
   "source": [
    "2.8//2.0"
   ]
  },
  {
   "cell_type": "code",
   "execution_count": null,
   "metadata": {},
   "outputs": [],
   "source": [
    "2**3"
   ]
  },
  {
   "cell_type": "markdown",
   "metadata": {},
   "source": [
    "## Order of operations-- PEMDAS\n",
    "Python evaluates arithmetic according to the standard order of operations that you learned in middle school-- Parentheses Exponentiation Multiplication Division Addition Subtraction or PEMDAS. Perhaps you remember the mnemonic \"Please excuse my dear aunt Sally\"\n",
    "\n",
    "**Exercise:** predict the output from the following two lines of code. Why are they different?"
   ]
  },
  {
   "cell_type": "code",
   "execution_count": null,
   "metadata": {},
   "outputs": [],
   "source": [
    "1+2*5"
   ]
  },
  {
   "cell_type": "code",
   "execution_count": null,
   "metadata": {},
   "outputs": [],
   "source": [
    "(1+2)*5"
   ]
  },
  {
   "cell_type": "markdown",
   "metadata": {},
   "source": [
    "## Relational Operators"
   ]
  },
  {
   "cell_type": "markdown",
   "metadata": {},
   "source": [
    "| Symbol | Task Performed |\n",
    "|----|---|\n",
    "| == | True, if it is equal |\n",
    "| !=  | True, if not equal to |\n",
    "| < | less than |\n",
    "| > | greater than |\n",
    "| <=  | less than or equal to |\n",
    "| >=  | greater than or equal to |"
   ]
  },
  {
   "cell_type": "code",
   "execution_count": null,
   "metadata": {},
   "outputs": [],
   "source": [
    "z = 1"
   ]
  },
  {
   "cell_type": "code",
   "execution_count": null,
   "metadata": {},
   "outputs": [],
   "source": [
    "z == 1"
   ]
  },
  {
   "cell_type": "markdown",
   "metadata": {},
   "source": [
    "This is an important one-- note what happened. Using the `==` operator checks for equivalence and returns a boolean"
   ]
  },
  {
   "cell_type": "code",
   "execution_count": null,
   "metadata": {},
   "outputs": [],
   "source": [
    "z > 1"
   ]
  },
  {
   "cell_type": "code",
   "execution_count": null,
   "metadata": {},
   "outputs": [],
   "source": [
    "aBool = True\n",
    "anotherBool = False\n",
    "print(aBool == anotherBool)\n",
    "print(aBool != anotherBool)"
   ]
  },
  {
   "cell_type": "markdown",
   "metadata": {},
   "source": [
    "## Casting\n",
    "sometimes we wish to change a variable from one type to another. This is what is called \"casting\". For instance we can cast an integer as a float, or a float into a complex number, etc."
   ]
  },
  {
   "cell_type": "code",
   "execution_count": null,
   "metadata": {},
   "outputs": [],
   "source": [
    "a = 1.0\n",
    "print(int(a)) #casts a as an int\n",
    "print(complex(a)) #casts a as a complex number\n",
    "print(str(a)) #casts a as a string"
   ]
  },
  {
   "cell_type": "markdown",
   "metadata": {},
   "source": [
    "# Data Structures in Python\n",
    "\n",
    "## Sequence types- list and tuples\n",
    "What is we have more than one number we wish to store? Well that's when we start to get into using **container** objects that allow us put variables like numbers or strings into arrays. Each element in a sequence is assigned a number-- its index or position in the sequence. In Python, sequences are zero-indexed meaning the first element is at position 0. \n",
    "\n",
    "There are certain commons things we do with sequences, like get and set elements of the sequence or find whether an element is present in a sequence. We will touch on some of these built in features."
   ]
  },
  {
   "cell_type": "code",
   "execution_count": null,
   "metadata": {},
   "outputs": [],
   "source": [
    "aList = [\"a\", \"small\", \"list of numbers\"] #a list of strings\n",
    "bList = [4, 3, 2, 1]\n",
    "print(type(aList))"
   ]
  },
  {
   "cell_type": "markdown",
   "metadata": {},
   "source": [
    "to get individual elements out of a list we use square brackets to index them. we can even get multiple elements out of a list using a colon in our indexing"
   ]
  },
  {
   "cell_type": "code",
   "execution_count": null,
   "metadata": {},
   "outputs": [],
   "source": [
    "print(aList[2])\n",
    "print(aList[0:2])"
   ]
  },
  {
   "cell_type": "code",
   "execution_count": null,
   "metadata": {},
   "outputs": [],
   "source": [
    "print(bList[1])\n",
    "bList[1] = 666 #change element at index 1\n",
    "print(bList[1])\n",
    "print(bList) #see how only that single element has changed?"
   ]
  },
  {
   "cell_type": "markdown",
   "metadata": {},
   "source": [
    "it's often important to know the length of a list. We can get that information easily using the `len()` built-in function"
   ]
  },
  {
   "cell_type": "code",
   "execution_count": null,
   "metadata": {},
   "outputs": [],
   "source": [
    "aLen = len(aList)\n",
    "bLen = len(bList)\n",
    "print(aLen,bLen)"
   ]
  },
  {
   "cell_type": "markdown",
   "metadata": {},
   "source": [
    "There are lots of things we can do with lists. For example if we want to make a new list from two smaller ones, it's simple to concatenate lists by using the `+` operator"
   ]
  },
  {
   "cell_type": "code",
   "execution_count": null,
   "metadata": {},
   "outputs": [],
   "source": [
    "cList = aList + bList\n",
    "print(cList)"
   ]
  },
  {
   "cell_type": "markdown",
   "metadata": {},
   "source": [
    "now lets delete the 3rd element of `cList` and print it again"
   ]
  },
  {
   "cell_type": "code",
   "execution_count": null,
   "metadata": {},
   "outputs": [],
   "source": [
    "del(cList[2]) #del deletes the element specified\n",
    "print(cList)\n",
    "#let's ask cList how long it is now\n",
    "print(len(cList))"
   ]
  },
  {
   "cell_type": "markdown",
   "metadata": {},
   "source": [
    "One thing that is very useful about lists is asking for element membership, that is to say is some object in a list?"
   ]
  },
  {
   "cell_type": "code",
   "execution_count": null,
   "metadata": {},
   "outputs": [],
   "source": [
    "print(3 in cList)\n",
    "print('small' in cList)\n",
    "print('Snoop Dog' in cList)\n",
    "print(1 in cList)\n",
    "print(1 in cList[0:3])\n"
   ]
  },
  {
   "cell_type": "markdown",
   "metadata": {},
   "source": [
    "## Tuples\n",
    "Tuples are list lists, but they are said to be *immutable*. What that means is that once a tuple is assigned, it cannot be changed. This is useful in the context of hashes, which we will come to later."
   ]
  },
  {
   "cell_type": "code",
   "execution_count": null,
   "metadata": {},
   "outputs": [],
   "source": [
    "#make a tuple from a list\n",
    "aTuple = tuple([1,2,3])\n",
    "#print the tuple, print an element from it\n",
    "print(aTuple)\n",
    "print(aTuple[1])"
   ]
  },
  {
   "cell_type": "code",
   "execution_count": null,
   "metadata": {},
   "outputs": [],
   "source": [
    "#try to change a value in it\n",
    "aTuple[1] = 'dog'"
   ]
  },
  {
   "cell_type": "markdown",
   "metadata": {},
   "source": [
    "## Iterating over lists\n",
    "Iterating over the content of lists is something that will come up again and again as you grow in your programming. The basic idea is that you want to go through an array, addressing each object in that list. \n",
    "\n",
    "A simple way to see this is to print the contents of arrays"
   ]
  },
  {
   "cell_type": "code",
   "execution_count": null,
   "metadata": {},
   "outputs": [],
   "source": [
    "aList = [1,3,5,19,-8,0]\n",
    "for element in aList:\n",
    "    print(element)"
   ]
  },
  {
   "cell_type": "markdown",
   "metadata": {},
   "source": [
    "this is our first instance of a `for` loop. in this case we are using `for` to iterate over each of the elements of `aList`, pass them to a temporary variable called `element`, and then print them.\n",
    "\n",
    "**Important-** notice the indentation after the line with `for`? The Python interpretter (the thing that reads your code and translates it to machine instructions) parses according to specific rules of **whitespace**, or basically indentation. Lines where represent code blocks nested within other blocks are indented using four spaces (preferred) or a tab. Bear in mind that programmers who use four spaces have been shown to [make more money than those that use tabs](https://stackoverflow.blog/2017/06/15/developers-use-spaces-make-money-use-tabs/) to indent their python code.  You can read more about whitespace [here](https://docs.python.org/2.0/ref/indentation.html)\n",
    "\n",
    "Let's try interating over the `cList` from above, and then move on to using the very cool `range()` function. "
   ]
  },
  {
   "cell_type": "code",
   "execution_count": null,
   "metadata": {},
   "outputs": [],
   "source": [
    "for x in cList:\n",
    "    print(x)"
   ]
  },
  {
   "cell_type": "markdown",
   "metadata": {},
   "source": [
    "Python has a built-in function called `range()` that we will use over and over for interating. `range()` is special in that it acts like a *generator*, producing new numbers on the fly one after another. It does *not* return a list of number, although we can make it do just that. \n",
    "\n",
    "For instance this example just uses the generator like behavior of `range()`"
   ]
  },
  {
   "cell_type": "code",
   "execution_count": null,
   "metadata": {},
   "outputs": [],
   "source": [
    "#iterate using range()\n",
    "for x in range(10):\n",
    "    print(x)"
   ]
  },
  {
   "cell_type": "code",
   "execution_count": null,
   "metadata": {},
   "outputs": [],
   "source": [
    "#range allows to set the start, stop, and step size\n",
    "for x in range(1,20,2):\n",
    "    print(x)"
   ]
  },
  {
   "cell_type": "code",
   "execution_count": null,
   "metadata": {},
   "outputs": [],
   "source": [
    "#turn range into a list\n",
    "aRange = list(range(10))\n",
    "print(aRange)"
   ]
  },
  {
   "cell_type": "markdown",
   "metadata": {},
   "source": [
    "**Exercise:** Revisit trying to print out your first name vertically, but this time use a for loop."
   ]
  },
  {
   "cell_type": "markdown",
   "metadata": {},
   "source": [
    "## More with lists\n",
    "A lot can be done with lists including, sorting them, reversing, slicing, appending, etc.. Here are a few examples"
   ]
  },
  {
   "cell_type": "code",
   "execution_count": null,
   "metadata": {},
   "outputs": [],
   "source": [
    "aList = [1, 4, 2]\n",
    "print(aList)\n",
    "aList.sort()\n",
    "print(aList)\n",
    "aList.reverse()\n",
    "print(aList)\n",
    "aList.remove(4)\n",
    "print(aList)"
   ]
  },
  {
   "cell_type": "markdown",
   "metadata": {},
   "source": [
    "**Exercise:** using a `for` loop write code that will calculate the sum of the numbers 1 through 100"
   ]
  },
  {
   "cell_type": "markdown",
   "metadata": {},
   "source": [
    "## While loops\n",
    "We've just covered so-called `for` loops, one of the most basic ways to iterate across arrays and make things happen in a program. Next let's look at the `while` loop.\n",
    "\n",
    "`while()` tests whether a condition is true, and while it remains true the inner loop keeps iterating. This is best understood with a simple example"
   ]
  },
  {
   "cell_type": "code",
   "execution_count": null,
   "metadata": {},
   "outputs": [],
   "source": [
    "#set up a variable\n",
    "i = 0\n",
    "while(i < 10):\n",
    "    print(i)\n",
    "    i += 2\n"
   ]
  },
  {
   "cell_type": "code",
   "execution_count": null,
   "metadata": {},
   "outputs": [],
   "source": [
    "print(i)"
   ]
  },
  {
   "cell_type": "markdown",
   "metadata": {},
   "source": [
    "**Exercise:** use a `while` loop to write code to calculate the factorial of a number. i.e., $4! = 4 \\times 3 \\times 2 \\times 1$"
   ]
  },
  {
   "cell_type": "markdown",
   "metadata": {},
   "source": [
    "# Dictionaries-- aka hashes\n",
    "Dictionaries in python are containers that are based on key/value associations. With a list you address it's elements on the basis of their index in the array. With a dictionary you address elements of the container on the basis of a unique identifier, numeric or string valued. Dictionary keys can also be tuples (one of the benefits of being immutable) as long as the tuple contains only strings, numbers, or tuples. \n",
    "\n",
    "An empty dictionaries is instantiated with a curly brace like so `{}` and key:value pairs are added and seperated by commas. Mostly we use Dictionaries to store things that we want fast access to, without having to do any kind of iteration. "
   ]
  },
  {
   "cell_type": "code",
   "execution_count": null,
   "metadata": {},
   "outputs": [],
   "source": [
    "#set up a dict with two key:value pairs\n",
    "aDict = {'dog':'food', 'cat':'box'}\n",
    "print(aDict['dog'], aDict['cat'])"
   ]
  },
  {
   "cell_type": "markdown",
   "metadata": {},
   "source": [
    "We can add elements to the dictionary by giving them a new key, and we can delete elements using `del()`"
   ]
  },
  {
   "cell_type": "code",
   "execution_count": null,
   "metadata": {},
   "outputs": [],
   "source": [
    "aDict['bird'] = 'chow'\n",
    "print(aDict)\n",
    "del(aDict['cat'])\n",
    "print(aDict)"
   ]
  },
  {
   "cell_type": "markdown",
   "metadata": {},
   "source": [
    "If we ever have to iterate over all the elements in a dictionary the best way to do it is using the `keys()` generator"
   ]
  },
  {
   "cell_type": "code",
   "execution_count": null,
   "metadata": {},
   "outputs": [],
   "source": [
    "for aKey in aDict.keys():\n",
    "    print(aKey)"
   ]
  },
  {
   "cell_type": "markdown",
   "metadata": {},
   "source": [
    "and of course we can turn that generator into a list if we would like it in a different form"
   ]
  },
  {
   "cell_type": "code",
   "execution_count": null,
   "metadata": {},
   "outputs": [],
   "source": [
    "keyList = list(aDict.keys())\n",
    "print(keyList)\n",
    "print(len(keyList))"
   ]
  },
  {
   "cell_type": "markdown",
   "metadata": {},
   "source": [
    "**Exercise:** Try building a dictionary using a list as a key. Why doesn't this work? What would the problem be?"
   ]
  },
  {
   "cell_type": "markdown",
   "metadata": {},
   "source": [
    "## Strings\n",
    "It is worth spending a bit of effort on strings as 1) they come up a lot and 2) there are a whole variety of built in functions that python allows you to use on strings. Strings can be declared using single or double quotes. Likewise backslash escapes work within both single and double quoted strings -- e.g. \\n \\' \\\". A double quoted string  can contain single quotes without any issues (e.g. \"I didn't do it\") and similarly single quoted string can contain double quotes.\n",
    "\n",
    "Like tuples, strings are immutable. This means that when we concatenate strings we are producing new objects in memory. Like lists, we can index and slice strings easily."
   ]
  },
  {
   "cell_type": "code",
   "execution_count": null,
   "metadata": {},
   "outputs": [],
   "source": [
    "aStr = 'omg'\n",
    "print(aStr[1])\n",
    "print(aStr[0:2])\n",
    "print(len(aStr)) #print the length\n",
    "bStr = aStr + ' what?' #concatenate two strings\n",
    "print(bStr)"
   ]
  },
  {
   "cell_type": "markdown",
   "metadata": {},
   "source": [
    "some super useful string methods include `lower()`,`upper()`, `split()`, `strip()`, among others. Look at the documentation [here](https://docs.python.org/3/library/stdtypes.html#textseq) for a full list.\n",
    "\n",
    "We will just illustrate a few things below"
   ]
  },
  {
   "cell_type": "code",
   "execution_count": null,
   "metadata": {},
   "outputs": [],
   "source": [
    "s = bStr.upper()\n",
    "print(s)\n",
    "print(s.lower())\n",
    "\n",
    "word_list = s.split(\" \") #split on space\n",
    "print(word_list)"
   ]
  },
  {
   "cell_type": "markdown",
   "metadata": {},
   "source": [
    "## Slicing strings\n",
    "A really convenient thing with python strings is our ability to slice them up to get out substrings. The same ideas are implemented for lists. For instance consider the the string `s = 'Hello'`\n",
    "<img src=\"files/hello.png\">\n",
    "\n",
    "* `s[1:4]` is `'ell'` -- chars starting at index 1 and extending up to but not including index 4\n",
    "* `s[1:]` is `'ello'` -- omitting either index defaults to the start or end of the string \n",
    "* `s[:]` is `'Hello'` -- omitting both always gives us a copy of the whole thing (this is the pythonic way to copy a sequence like a string or list)\n",
    "* `s[1:100]` is `'ello'` -- an index that is too big is truncated down to the string length \n",
    "\n",
    "Alternatively Python allows us to index from the *back* of strings/lists using negative indices. For instance\n",
    "\n",
    "* `s[-1]` is `'o'` -- last char (1st from the end)\n",
    "* `s[-4]` is `'e'` -- 4th from the end\n",
    "* `s[:-3]` is `'He'` -- going up to but not including the last 3 chars.\n",
    "* `s[-3:]` is `'llo'` -- starting with the 3rd char from the end and extending to the end of the string. \n",
    "\n",
    "Please try these out below"
   ]
  },
  {
   "cell_type": "code",
   "execution_count": null,
   "metadata": {},
   "outputs": [],
   "source": [
    "s = 'Hello'\n",
    "s[-3:]"
   ]
  },
  {
   "cell_type": "markdown",
   "metadata": {},
   "source": [
    "# More reading\n",
    "I'm aiming to give you a quick start look into using Python. There are many many great resources online about starting to program in Python and I'd encourage you to find some on your own and read a bit more about the great breadth of the language. A particularly good tutorial is [here](https://www.programiz.com/python-programming)\n"
   ]
  },
  {
   "cell_type": "markdown",
   "metadata": {},
   "source": [
    "# Control Flow\n",
    "Thus far we have gone over nearly all of the major building blocks, with the major exception of what we call Control Flow statements. This isn't quite true as we had a look at `for` and `while` loops, but we will put those in context a bit today.\n",
    "\n",
    "The basic idea is that Control Flow statements tell the program which blocks of code to move between depending on the state of the program (or variables within that program more accurately). \n",
    "\n",
    "## If statements\n",
    "As you might expect, `if` statements only run a block of nested code if a statement evaluates as true. In Python we work with `if`, `elif`, and `else` statements to control conditional flow through execution. For instance let's illustrate this with a while loop."
   ]
  },
  {
   "cell_type": "code",
   "execution_count": null,
   "metadata": {},
   "outputs": [],
   "source": [
    "#simple if statement\n",
    "aBool = True\n",
    "if aBool:\n",
    "    print(aBool)\n",
    "\n",
    "#a second example\n",
    "aBool = False\n",
    "if aBool:\n",
    "    print(\"it was true\")\n",
    "else:\n",
    "    print(\"if was false\")"
   ]
  },
  {
   "cell_type": "markdown",
   "metadata": {},
   "source": [
    "Note there is no need for any `elif` or `else` clauses. \n",
    "\n",
    "Here is a more complex `if` `else` construction, this time nested within a `while` loop. "
   ]
  },
  {
   "cell_type": "code",
   "execution_count": null,
   "metadata": {},
   "outputs": [],
   "source": [
    "x = 0\n",
    "\n",
    "while x <= 10 :\n",
    "    if x < 4 :\n",
    "        print(\"x = \",x,\"; it is < 2\")\n",
    "    elif x < 8:\n",
    "        print(\"x = \",x,\"; 2 <= x < 8\")\n",
    "    else:\n",
    "        print(\"x = \",x,\"; x >= 8\")\n",
    "    x+=1\n",
    "    "
   ]
  },
  {
   "cell_type": "markdown",
   "metadata": {},
   "source": [
    "Note: there can be as many `elif` statements as you want in such a block of code. "
   ]
  },
  {
   "cell_type": "markdown",
   "metadata": {},
   "source": [
    "## Break statement\n",
    "`break` kills a loop in place and exits to code to outside of whatever loop it is in. Generally we use `break` to exit loops prematurely if some condition is met, thus you will almost always see `break` within an `if` clause.\n",
    "\n",
    "For instance consider the following"
   ]
  },
  {
   "cell_type": "code",
   "execution_count": null,
   "metadata": {},
   "outputs": [],
   "source": [
    "x = 0\n",
    "while x < 10:\n",
    "    print(x)\n",
    "    if x > 2:\n",
    "        break\n",
    "    x+=1"
   ]
  },
  {
   "cell_type": "markdown",
   "metadata": {},
   "source": [
    "**Exercise:** what would happen to the while loop above if that break statement were not there? Predict what will happen, change the code above, and make sure that the your prediction matches the reality."
   ]
  },
  {
   "cell_type": "markdown",
   "metadata": {},
   "source": [
    "## Else clauses after loops\n",
    "There is an option in Python to add an `else` clause after a `for` or `while` loop which is meant to execute only if the loop exits prematurely due to a break. This is a clever way to check to see if a loop has exited early or not.\n",
    "\n",
    "For example:"
   ]
  },
  {
   "cell_type": "code",
   "execution_count": null,
   "metadata": {},
   "outputs": [],
   "source": [
    "x = 0\n",
    "while x < 10:\n",
    "    print(x)\n",
    "    if x > 12:\n",
    "        break\n",
    "    x+=1\n",
    "else:\n",
    "    print(\"did not hit the break statement\")\n"
   ]
  },
  {
   "cell_type": "markdown",
   "metadata": {},
   "source": [
    "there are a few other, less used control flow statements available in python including `continue`, `pass`, and `try`. If you are interested you can read about them [here](https://docs.python.org/3/tutorial/controlflow.html)"
   ]
  },
  {
   "cell_type": "markdown",
   "metadata": {},
   "source": [
    "## Writing Functions\n",
    "One of the key building blocks of programming is writing your own functions. Functions take some input parameters (or none) and produce some output. Functions are defined in the Python world using the `def` keyword. The following function takes no parameters at input (the paratheses are empty) and it will print a bit of text"
   ]
  },
  {
   "cell_type": "code",
   "execution_count": null,
   "metadata": {},
   "outputs": [],
   "source": [
    "def my_function():\n",
    "    print(\"Hello, from my little function\")"
   ]
  },
  {
   "cell_type": "code",
   "execution_count": null,
   "metadata": {},
   "outputs": [],
   "source": [
    "my_function()"
   ]
  },
  {
   "cell_type": "markdown",
   "metadata": {},
   "source": [
    "We can define our function to take parameters for it to use during evaluation simply enough"
   ]
  },
  {
   "cell_type": "code",
   "execution_count": null,
   "metadata": {},
   "outputs": [],
   "source": [
    "def my_function(aName):\n",
    "    print(\"Hello,\",aName,\"from my little function\")\n",
    "\n",
    "my_function(\"Andy\")"
   ]
  },
  {
   "cell_type": "markdown",
   "metadata": {},
   "source": [
    "this can even include more than one parameter\n"
   ]
  },
  {
   "cell_type": "code",
   "execution_count": null,
   "metadata": {},
   "outputs": [],
   "source": [
    "def my_function(aName, bName):\n",
    "    print(\"Hello,\",aName, bName,\"from my little function\")\n",
    "\n",
    "my_function(\"Andy\", \"Kern\")"
   ]
  },
  {
   "cell_type": "markdown",
   "metadata": {},
   "source": [
    "Often when we write functions we want them to return some value. That's done using the `return()` builtin function"
   ]
  },
  {
   "cell_type": "code",
   "execution_count": null,
   "metadata": {},
   "outputs": [],
   "source": [
    "def my_adding_function(num1, num2):\n",
    "    result = num1 + num2\n",
    "    return(result)\n",
    "\n",
    "print(my_adding_function(1,1))\n",
    "\n",
    "print(my_adding_function(2,4))\n"
   ]
  },
  {
   "cell_type": "markdown",
   "metadata": {},
   "source": [
    "Of course functions can be quite complex, but they need not be. Indeed good style in coding means reaching some equilibrium between readability of code and succictness. \n",
    "\n",
    "**Exercise:** write a function that takes as input a list of numbers and returns the sum of that list."
   ]
  },
  {
   "cell_type": "markdown",
   "metadata": {},
   "source": [
    "### The Fibonacci sequence\n",
    "The Fibonacci sequence was famously introduced by a 13th Century Italian mathematician of the same name to describe the growth of rabbit populations. The sequence of Fibonacci numbers goes like this:\n",
    "\n",
    "$F_0 = 0, F_1 = 1$ and $F_n = F_{n-1} + F_{n-2}$\n",
    "\n",
    "as an **exercise** in class, write a function to compute all of the Fibonacci series upto some defined ith term. Your function should take i, the last number in the series to calculate as input and return a list of all the numbers up to that point"
   ]
  },
  {
   "cell_type": "markdown",
   "metadata": {},
   "source": [
    "# Modules\n",
    "In python we organize our code into things called modules. Concretely modules are individual files that have functions and other code bits in them that we can then import into another piece of code to extend our functionality. \n",
    "\n",
    "To illustrate this let's write a very simple module. Using the jupyter notebook homepage, create a new text file and name it `myModule.py`. You can do this the same way you create a new notebook. Then copy and paste the function below into `myModule.py` and save that file."
   ]
  },
  {
   "cell_type": "code",
   "execution_count": null,
   "metadata": {},
   "outputs": [],
   "source": [
    "def my_module_function():\n",
    "    print(\"hello from myModule.py!\")"
   ]
  },
  {
   "cell_type": "markdown",
   "metadata": {},
   "source": [
    "Once that function is in `myModule.py` and saved we are ready to `import` the module to bring that code into the current context. Here's how that will look"
   ]
  },
  {
   "cell_type": "code",
   "execution_count": null,
   "metadata": {},
   "outputs": [],
   "source": [
    "import myModule\n",
    "\n",
    "myModule.my_module_function()"
   ]
  },
  {
   "cell_type": "markdown",
   "metadata": {},
   "source": [
    "Note here that to call the function that I have stored in my module, I need to prefix it with `myModule`. This is because the *namespace* of that function is different than the current context. \n",
    "\n",
    "I can get rid of that hassle a few ways. One way is to import each of the functions from the module directly into the current namespace"
   ]
  },
  {
   "cell_type": "code",
   "execution_count": null,
   "metadata": {},
   "outputs": [],
   "source": [
    "from myModule import *\n",
    "my_module_function()"
   ]
  },
  {
   "cell_type": "markdown",
   "metadata": {},
   "source": [
    "By using `from` here I'm important a particular function(s). In this case I use the `*` symbol to mean \"import all the functions\". I could also change the name of the myModule namespace to make it easier to type like so"
   ]
  },
  {
   "cell_type": "code",
   "execution_count": null,
   "metadata": {},
   "outputs": [],
   "source": [
    "import myModule as mm\n",
    "\n",
    "mm.my_module_function()"
   ]
  },
  {
   "cell_type": "markdown",
   "metadata": {},
   "source": [
    "now `mm` represents the namespace of `myModule` and so it is more convenient to type again and again. We will see this convention quite a bit next week as we move on to using `numpy` and `scipy`."
   ]
  },
  {
   "cell_type": "markdown",
   "metadata": {},
   "source": [
    "## Bringing in code from standard library modules\n",
    "Python has a very large standard library that it ships with. Indeed this is one of the most attractive features of Python-- there is a ton of code available for you to use, rather than having to write it all yourself. Details on the complete standard library can be found [here](https://docs.python.org/3/library/). \n",
    "\n",
    "To illustrate using this code we will start by using the Python `random` module that provides a convenient, but pretty full featured interface to a random number generator. First let's import the `random` module, and then we can use it a bit. We will start by printing out some random numbers."
   ]
  },
  {
   "cell_type": "code",
   "execution_count": null,
   "metadata": {},
   "outputs": [],
   "source": [
    "import random\n",
    "\n",
    "for i in range(5):\n",
    "    print(random.random())"
   ]
  },
  {
   "cell_type": "markdown",
   "metadata": {},
   "source": [
    "`random.random()` returns random floating point numbers between 0 and 1. The `random` module has a lot of other types of random number distributions available, for instances normally distributed random numbers or exponential random numbers. "
   ]
  },
  {
   "cell_type": "code",
   "execution_count": null,
   "metadata": {},
   "outputs": [],
   "source": [
    "#print 5 normal random deviates\n",
    "for i in range(5):\n",
    "    print(random.normalvariate(0,1)) "
   ]
  },
  {
   "cell_type": "code",
   "execution_count": null,
   "metadata": {},
   "outputs": [],
   "source": []
  },
  {
   "cell_type": "markdown",
   "metadata": {},
   "source": [
    "**Exercise:** use `random` to calculate 100 normally distributed random numbers with mean 0 and standard deviation 1. Now calculate the mean of those numbers. Is it indeed close to 0?\n",
    "\n",
    "Another thing that `random` is very useful for is sampling from lists randomly"
   ]
  },
  {
   "cell_type": "code",
   "execution_count": null,
   "metadata": {},
   "outputs": [],
   "source": [
    "#define a list then select one element from it randomly\n",
    "aList = [\"dog\", \"cat\", \"frog\", \"alpaca\", \"potato\"]\n",
    "print(random.choice(aList))"
   ]
  },
  {
   "cell_type": "markdown",
   "metadata": {},
   "source": [
    "We can use a very similar function in `random` to sample with replacement more than one element from our list"
   ]
  },
  {
   "cell_type": "code",
   "execution_count": null,
   "metadata": {},
   "outputs": [],
   "source": [
    "#sample 3 elements from aList\n",
    "random.choices(aList, k=3)"
   ]
  },
  {
   "cell_type": "markdown",
   "metadata": {},
   "source": [
    "Finally a very useful tool in `random` is `shuffle()` which will shuffle the order of elements in a list in-place. i.e., the list will be changed"
   ]
  },
  {
   "cell_type": "code",
   "execution_count": null,
   "metadata": {},
   "outputs": [],
   "source": [
    "#try evaluating this cell more than once\n",
    "random.shuffle(aList)\n",
    "print(aList)"
   ]
  },
  {
   "cell_type": "markdown",
   "metadata": {},
   "source": [
    "There is a whole slew of functions provided by `random` that are useful to scientists. Read about them in the [documentation](https://docs.python.org/3/library/random.html)"
   ]
  },
  {
   "cell_type": "markdown",
   "metadata": {},
   "source": [
    "# Download daily US COVID-19 data\n",
    "to do this I'm *not* going to use python. Instead I'm going to use the underlying unix tools in our dreamy server bio399cloud. I can invoke unix command line tools using an exclamation point, in the following case I'm using something called `wget` to download a file from the internet"
   ]
  },
  {
   "cell_type": "code",
   "execution_count": 7,
   "metadata": {},
   "outputs": [
    {
     "name": "stdout",
     "output_type": "stream",
     "text": [
      "--2020-04-07 11:38:58--  https://covidtracking.com/api/us/daily.csv\n",
      "Resolving covidtracking.com (covidtracking.com)... 104.248.78.24\n",
      "Connecting to covidtracking.com (covidtracking.com)|104.248.78.24|:443... connected.\n",
      "HTTP request sent, awaiting response... 200 OK\n",
      "Length: 5701 (5.6K) [text/csv]\n",
      "Saving to: ‘daily.csv’\n",
      "\n",
      "daily.csv           100%[===================>]   5.57K  --.-KB/s    in 0s      \n",
      "\n",
      "2020-04-07 11:38:59 (47.3 MB/s) - ‘daily.csv’ saved [5701/5701]\n",
      "\n",
      "--2020-04-07 11:38:59--  http://./\n",
      "Resolving . (.)... failed: nodename nor servname provided, or not known.\n",
      "wget: unable to resolve host address ‘.’\n",
      "FINISHED --2020-04-07 11:38:59--\n",
      "Total wall clock time: 0.5s\n",
      "Downloaded: 1 files, 5.6K in 0s (47.3 MB/s)\n"
     ]
    }
   ],
   "source": [
    "! rm daily.csv* && wget https://covidtracking.com/api/us/daily.csv ."
   ]
  },
  {
   "cell_type": "markdown",
   "metadata": {},
   "source": [
    "# Loop through a file\n",
    "A common pattern biological programmers come up on again and again is looking through a text file, extracting information from it. In the present case we have just download daily COVID testing results from the United States. Let's looks at the first three lines of the file using a call the the unix utility `head`"
   ]
  },
  {
   "cell_type": "code",
   "execution_count": 8,
   "metadata": {},
   "outputs": [
    {
     "name": "stdout",
     "output_type": "stream",
     "text": [
      "date,states,positive,negative,pending,hospitalizedCurrently,hospitalizedCumulative,inIcuCurrently,inIcuCumulative,onVentilatorCurrently,onVentilatorCumulative,recovered,hash,dateChecked,death,hospitalized,total,totalTestResults,posNeg,deathIncrease,hospitalizedIncrease,negativeIncrease,positiveIncrease,totalTestResultsIncrease\n",
      "20200406,56,361331,1555764,17292,27675,45168,6607,971,2932,187,16006,206c757b1b311a9be1cd19c90c9782422a421a55,2020-04-06T20:00:00Z,10680,45168,1934387,1917095,1917095,1182,3796,126040,29023,155063\n",
      "20200405,56,332308,1429724,17307,23061,41372,5497,913,612,193,14486,a5f1f58fe74620c89cde687c8beae82629c8b1e0,2020-04-05T20:00:00Z,9498,41372,1779339,1762032,1762032,1184,2970,111672,26553,138225\n"
     ]
    }
   ],
   "source": [
    "! head -n3 daily.csv"
   ]
  },
  {
   "cell_type": "markdown",
   "metadata": {},
   "source": [
    "here we can see that the first line has header information about the columns. These columns have names like date, states, positive, etc., containing all of the CVOID test data that we have downloaded.\n",
    "\n",
    "Let's do something useful with these data. We will go through the file, line by line, and take the \"positive\" number and store it in an array. "
   ]
  },
  {
   "cell_type": "code",
   "execution_count": 9,
   "metadata": {},
   "outputs": [
    {
     "name": "stdout",
     "output_type": "stream",
     "text": [
      "[361331, 332308, 305755, 271988, 239099, 210816, 184683, 160530, 139061, 118234, 99413, 80735, 63928, 51954, 42152, 31879, 23197, 17033, 11719, 7730, 5722, 4019, 3173, 2450, 1922, 1315, 1054, 778, 584, 417, 341, 223, 176, 118]\n"
     ]
    }
   ],
   "source": [
    "#make an array for my numbers\n",
    "pos = []\n",
    "my_file = open(\"daily.csv\",\"r\") #open a handle to the file\n",
    "for line in my_file: #go through every line in file\n",
    "    tokens = line.split(\",\") #split every line by the commas\n",
    "    if tokens[2] != 'positive': #test if equal to header\n",
    "        pos.append(int(tokens[2]))#append value to list as integer \n",
    "\n",
    "print(pos)"
   ]
  },
  {
   "cell_type": "code",
   "execution_count": 11,
   "metadata": {},
   "outputs": [
    {
     "name": "stdout",
     "output_type": "stream",
     "text": [
      "[1]\n"
     ]
    }
   ],
   "source": [
    "a = []\n",
    "a.append(1)\n",
    "print(a)"
   ]
  },
  {
   "cell_type": "markdown",
   "metadata": {},
   "source": [
    "sweet. so there are the values we want. we can now move on to plotting them using python's plotting utilities\n",
    "\n",
    "# Matplotlib\n",
    "The most basic tool for plotting is matplotlib. We will spend more time on it later, but for the time being I want to get us going on plotting these data. To use matplotlib will we `import` it into our notebook"
   ]
  },
  {
   "cell_type": "code",
   "execution_count": null,
   "metadata": {},
   "outputs": [],
   "source": [
    "# going to bring in useful code from a library\n",
    "# called matplotlib\n",
    "# matplotlib exists on nearly all python installs\n",
    "# \n",
    "from matplotlib import pyplot as plt\n",
    "\n",
    "#now plot\n",
    "plt.plot(pos)"
   ]
  },
  {
   "cell_type": "code",
   "execution_count": null,
   "metadata": {},
   "outputs": [],
   "source": [
    "#ack let's reverse this!\n",
    "pos.reverse()\n",
    "#now plot\n",
    "plt.plot(pos)"
   ]
  },
  {
   "cell_type": "code",
   "execution_count": null,
   "metadata": {},
   "outputs": [],
   "source": []
  }
 ],
 "metadata": {
  "kernelspec": {
   "display_name": "Python 3",
   "language": "python",
   "name": "python3"
  },
  "language_info": {
   "codemirror_mode": {
    "name": "ipython",
    "version": 3
   },
   "file_extension": ".py",
   "mimetype": "text/x-python",
   "name": "python",
   "nbconvert_exporter": "python",
   "pygments_lexer": "ipython3",
   "version": "3.7.1"
  }
 },
 "nbformat": 4,
 "nbformat_minor": 4
}
