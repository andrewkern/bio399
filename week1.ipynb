{
 "cells": [
  {
   "cell_type": "markdown",
   "metadata": {},
   "source": [
    "# COVID-19 sucks\n",
    "\n",
    "<img src=imgs/covid_image.jpg>\n",
    "\n",
    "Welcome to Computational Genomics week 1, python in the time of COVID. As much as this current situation sucks, we can try to make the best of it and turn you all into a gang of whip sharp junior computation biologists. \n",
    "\n",
    "Our first goal along these lines is to jumpstart your programming abilities in Python. I'm going to assume that you the reader has no previous experience with programming, and start from the bottom up. "
   ]
  },
  {
   "cell_type": "markdown",
   "metadata": {},
   "source": [
    "# Python baby steps\n",
    "In this notebook we are going to cover some of the very first steps to using python in the `juptyer notebook` framework. Let's start with a traditional programming first step-- the hallowed \"Hello, world!\" "
   ]
  },
  {
   "cell_type": "code",
   "execution_count": 1,
   "metadata": {},
   "outputs": [
    {
     "name": "stdout",
     "output_type": "stream",
     "text": [
      "Hello, world!\n"
     ]
    }
   ],
   "source": [
    "print(\"Hello, world!\")"
   ]
  },
  {
   "cell_type": "markdown",
   "metadata": {},
   "source": [
    "here we are using the built-in function `print` that forms one of the most basic tools in python. We will use `print` for making our programs write to the screen. `print` takes as input what we call a string (more later) and then prints that string as output. \n",
    "\n",
    "Congrats-- this is your first bit of python coding.\n",
    "\n",
    "**Exercise:** use `print()` to print your name to the screen. Try to print your first name and last name on separate lines. Is it working? Why or why not?\n",
    "\n",
    "# Variables\n",
    "A name that is used to denote something or a value is called a variable. In python, variables can be declared and values can be assigned to it as follows,\n",
    "\n",
    "For instance let's declare a variable named `x` and set it equal to 2"
   ]
  },
  {
   "cell_type": "code",
   "execution_count": 2,
   "metadata": {},
   "outputs": [],
   "source": [
    "x = 2"
   ]
  },
  {
   "cell_type": "markdown",
   "metadata": {},
   "source": [
    "notice there was no output associated with setting the value of `x`. To check if everything went okay we can `print` it"
   ]
  },
  {
   "cell_type": "code",
   "execution_count": 3,
   "metadata": {},
   "outputs": [
    {
     "name": "stdout",
     "output_type": "stream",
     "text": [
      "2\n",
      "5\n"
     ]
    }
   ],
   "source": [
    "print(x)\n",
    "x = 5\n",
    "print(x)"
   ]
  },
  {
   "cell_type": "markdown",
   "metadata": {},
   "source": [
    "looks good. let's play more with variables\n"
   ]
  },
  {
   "cell_type": "code",
   "execution_count": 4,
   "metadata": {},
   "outputs": [
    {
     "name": "stdout",
     "output_type": "stream",
     "text": [
      "10 Hey\n"
     ]
    }
   ],
   "source": [
    "y = 5\n",
    "xy = 'Hey'\n",
    "\n",
    "print(x+y, xy)"
   ]
  },
  {
   "cell_type": "markdown",
   "metadata": {},
   "source": [
    "Multiple variables can be assigned with the same value. The comma that we are handing (or passing in programming terms) to `print` tells the function that more input is coming."
   ]
  },
  {
   "cell_type": "code",
   "execution_count": 5,
   "metadata": {},
   "outputs": [
    {
     "name": "stdout",
     "output_type": "stream",
     "text": [
      "1 1\n",
      "1 2\n"
     ]
    }
   ],
   "source": [
    "x = y = 1\n",
    "print(x,y)\n",
    "#set y to something new\n",
    "y = 2\n",
    "print(x,y)"
   ]
  },
  {
   "cell_type": "markdown",
   "metadata": {},
   "source": [
    "# Python data types\n",
    "every programming language has a certain number of built-in data types. These types determine what can be done with objects that have been set to given values. \n",
    "\n",
    "## Integers\n",
    "These are just as the name suggests-- whole number, integers. For instance 1, 2, 3, 154, etc. Let's set a variable to an integer and then check the type of that integer using the built-in function `type`"
   ]
  },
  {
   "cell_type": "code",
   "execution_count": 6,
   "metadata": {},
   "outputs": [
    {
     "data": {
      "text/plain": [
       "int"
      ]
     },
     "execution_count": 6,
     "metadata": {},
     "output_type": "execute_result"
    }
   ],
   "source": [
    "x = 1\n",
    "type(x)"
   ]
  },
  {
   "cell_type": "markdown",
   "metadata": {},
   "source": [
    "As you see, python output `int` when we asked what type x was.\n",
    "\n",
    "## Floating-point numbers\n",
    "the `float` type is the way that a computer represents real numbers. We have to deal with them separately from integers and there are a few gotchas associated\n"
   ]
  },
  {
   "cell_type": "code",
   "execution_count": 7,
   "metadata": {},
   "outputs": [
    {
     "data": {
      "text/plain": [
       "float"
      ]
     },
     "execution_count": 7,
     "metadata": {},
     "output_type": "execute_result"
    }
   ],
   "source": [
    "x = 1.2\n",
    "type(x)"
   ]
  },
  {
   "cell_type": "markdown",
   "metadata": {},
   "source": [
    "we can specify a `float` just by having a decimal point"
   ]
  },
  {
   "cell_type": "code",
   "execution_count": 8,
   "metadata": {},
   "outputs": [
    {
     "data": {
      "text/plain": [
       "0.2"
      ]
     },
     "execution_count": 8,
     "metadata": {},
     "output_type": "execute_result"
    }
   ],
   "source": [
    ".2"
   ]
  },
  {
   "cell_type": "markdown",
   "metadata": {},
   "source": [
    "we can even use scientific notation to specify a `float`. this is very handy indeed"
   ]
  },
  {
   "cell_type": "code",
   "execution_count": 9,
   "metadata": {},
   "outputs": [
    {
     "data": {
      "text/plain": [
       "0.001"
      ]
     },
     "execution_count": 9,
     "metadata": {},
     "output_type": "execute_result"
    }
   ],
   "source": [
    "1e-03"
   ]
  },
  {
   "cell_type": "markdown",
   "metadata": {},
   "source": [
    "## Strings \n",
    "As I alluded to above there is a type of data called a `string` that we use when we print stuff. We also use them for input, so strings are critical and worth a bit of attention. I'll go very quickly through a few things now, but we will circle back to strings later in the course.\n",
    "\n",
    "Strings are sequences of character data. The string type in Python is called `str`. String may be delimited using either single or double quotes. All the characters between the opening delimiter and matching closing delimiter are part of the string. For instance:"
   ]
  },
  {
   "cell_type": "code",
   "execution_count": 10,
   "metadata": {},
   "outputs": [
    {
     "data": {
      "text/plain": [
       "str"
      ]
     },
     "execution_count": 10,
     "metadata": {},
     "output_type": "execute_result"
    }
   ],
   "source": [
    "aString = 'I am a string'\n",
    "type(aString)"
   ]
  },
  {
   "cell_type": "code",
   "execution_count": 11,
   "metadata": {},
   "outputs": [
    {
     "name": "stdout",
     "output_type": "stream",
     "text": [
      "I am a string\n",
      "<class 'str'>\n"
     ]
    }
   ],
   "source": [
    "print(aString)\n",
    "print(type(aString))"
   ]
  },
  {
   "cell_type": "markdown",
   "metadata": {},
   "source": [
    "Strings can do some funky stuff using what we call \"escape characters\". I'll delve into those in the next lecture but for the time being I want to show you two kinds of escape characters-- the first is the newline, the second is tab. \n",
    "\n",
    "So how would I get `print` to put a newline in a character string? Well by using a special symbol of course! In this case the special symbol is `\\n`. For instance check out this behavior:"
   ]
  },
  {
   "cell_type": "code",
   "execution_count": 12,
   "metadata": {},
   "outputs": [
    {
     "name": "stdout",
     "output_type": "stream",
     "text": [
      "I am a string\n",
      "I am \n",
      "a string\n"
     ]
    }
   ],
   "source": [
    "aString = \"I am a string\"\n",
    "print(aString)\n",
    "aString = \"I am \\na string\"\n",
    "print(aString)"
   ]
  },
  {
   "cell_type": "code",
   "execution_count": 13,
   "metadata": {},
   "outputs": [
    {
     "name": "stdout",
     "output_type": "stream",
     "text": [
      "Andy\n"
     ]
    }
   ],
   "source": [
    "my_name = \"Andy\"\n",
    "print(my_name)"
   ]
  },
  {
   "cell_type": "code",
   "execution_count": 14,
   "metadata": {},
   "outputs": [
    {
     "name": "stdout",
     "output_type": "stream",
     "text": [
      "A\n",
      "n\n",
      "d\n",
      "y\n"
     ]
    }
   ],
   "source": [
    "my_name = \"A\\nn\\nd\\ny\"\n",
    "print(my_name)"
   ]
  },
  {
   "cell_type": "markdown",
   "metadata": {},
   "source": [
    "See the difference? Do you understand what is happening?\n",
    "\n",
    "**Excerise:** Use print and the `\\n` character to print your first name vertically, rather than horizontally on the screen\n",
    "\n",
    "The next escape character we will use is the tab character `\\t`. These show up all the time in data import and export. For instance check out this bit of code"
   ]
  },
  {
   "cell_type": "code",
   "execution_count": 15,
   "metadata": {},
   "outputs": [
    {
     "name": "stdout",
     "output_type": "stream",
     "text": [
      "A\ttab\tcreates\tspace\tbetween\twords\n"
     ]
    }
   ],
   "source": [
    "aString = \"A\\ttab\\tcreates\\tspace\\tbetween\\twords\"\n",
    "print(aString)"
   ]
  },
  {
   "cell_type": "markdown",
   "metadata": {},
   "source": [
    "There are many more things to learn about strings but we will have to come back to them. If you are impatient to learn more check out [this](https://docs.python.org/3.7/library/stdtypes.html#text-sequence-type-str)"
   ]
  },
  {
   "cell_type": "markdown",
   "metadata": {},
   "source": [
    "## Booleans\n",
    "The boolean data type is to evaluate whether something is logically true or false. We will use these all the time in conditional statements and to control the flow of our programs. As this desciption suggestions, there are only two values for boolean variables, `True` and `False`. Consider the following"
   ]
  },
  {
   "cell_type": "code",
   "execution_count": 16,
   "metadata": {},
   "outputs": [
    {
     "data": {
      "text/plain": [
       "bool"
      ]
     },
     "execution_count": 16,
     "metadata": {},
     "output_type": "execute_result"
    }
   ],
   "source": [
    "aBool = True\n",
    "type(aBool)"
   ]
  },
  {
   "cell_type": "markdown",
   "metadata": {},
   "source": [
    "There are a few other data types that we will encounter later but this is a great place to start for now."
   ]
  },
  {
   "cell_type": "markdown",
   "metadata": {},
   "source": [
    "# Operators\n",
    "Python has a variety of build in operators that can manipulate so-called opperands. We'll start with what will be more familiar arithmetic operators and go from there"
   ]
  },
  {
   "cell_type": "markdown",
   "metadata": {},
   "source": [
    "## Arithmetic Operators\n",
    "Below is the table of built-in arithmetic operators in Python"
   ]
  },
  {
   "cell_type": "markdown",
   "metadata": {},
   "source": [
    "| Symbol | Task Performed |\n",
    "|----|---|\n",
    "| +  | Addition |\n",
    "| -  | Subtraction |\n",
    "| /  | division |\n",
    "| %  | mod |\n",
    "| *  | multiplication |\n",
    "| //  | floor division |\n",
    "| **  | to the power of |"
   ]
  },
  {
   "cell_type": "markdown",
   "metadata": {},
   "source": [
    "let's play with these a bit"
   ]
  },
  {
   "cell_type": "code",
   "execution_count": 17,
   "metadata": {},
   "outputs": [
    {
     "data": {
      "text/plain": [
       "3"
      ]
     },
     "execution_count": 17,
     "metadata": {},
     "output_type": "execute_result"
    }
   ],
   "source": [
    "1+2"
   ]
  },
  {
   "cell_type": "code",
   "execution_count": 18,
   "metadata": {},
   "outputs": [
    {
     "data": {
      "text/plain": [
       "1"
      ]
     },
     "execution_count": 18,
     "metadata": {},
     "output_type": "execute_result"
    }
   ],
   "source": [
    "2-1"
   ]
  },
  {
   "cell_type": "code",
   "execution_count": 19,
   "metadata": {},
   "outputs": [
    {
     "data": {
      "text/plain": [
       "2"
      ]
     },
     "execution_count": 19,
     "metadata": {},
     "output_type": "execute_result"
    }
   ],
   "source": [
    "1*2"
   ]
  },
  {
   "cell_type": "code",
   "execution_count": 20,
   "metadata": {},
   "outputs": [
    {
     "data": {
      "text/plain": [
       "0.5"
      ]
     },
     "execution_count": 20,
     "metadata": {},
     "output_type": "execute_result"
    }
   ],
   "source": [
    "1/2"
   ]
  },
  {
   "cell_type": "markdown",
   "metadata": {},
   "source": [
    "the modulo operator `%` finds the remainder after dividing the first number by the second\n"
   ]
  },
  {
   "cell_type": "code",
   "execution_count": 21,
   "metadata": {},
   "outputs": [
    {
     "data": {
      "text/plain": [
       "2"
      ]
     },
     "execution_count": 21,
     "metadata": {},
     "output_type": "execute_result"
    }
   ],
   "source": [
    "12%10"
   ]
  },
  {
   "cell_type": "markdown",
   "metadata": {},
   "source": [
    "Floor division is nothing but converting the result so obtained to the nearest integer."
   ]
  },
  {
   "cell_type": "code",
   "execution_count": 22,
   "metadata": {},
   "outputs": [
    {
     "data": {
      "text/plain": [
       "1.0"
      ]
     },
     "execution_count": 22,
     "metadata": {},
     "output_type": "execute_result"
    }
   ],
   "source": [
    "2.8//2.0"
   ]
  },
  {
   "cell_type": "code",
   "execution_count": 23,
   "metadata": {},
   "outputs": [
    {
     "data": {
      "text/plain": [
       "8"
      ]
     },
     "execution_count": 23,
     "metadata": {},
     "output_type": "execute_result"
    }
   ],
   "source": [
    "2**3"
   ]
  },
  {
   "cell_type": "markdown",
   "metadata": {},
   "source": [
    "## Order of operations-- PEMDAS\n",
    "Python evaluates arithmetic according to the standard order of operations that you learned in middle school-- Parentheses Exponentiation Multiplication Division Addition Subtraction or PEMDAS. Perhaps you remember the mnemonic \"Please excuse my dear aunt Sally\"\n",
    "\n",
    "**Exercise:** predict the output from the following two lines of code. Why are they different?"
   ]
  },
  {
   "cell_type": "code",
   "execution_count": 24,
   "metadata": {},
   "outputs": [
    {
     "data": {
      "text/plain": [
       "11"
      ]
     },
     "execution_count": 24,
     "metadata": {},
     "output_type": "execute_result"
    }
   ],
   "source": [
    "1+2*5"
   ]
  },
  {
   "cell_type": "code",
   "execution_count": 25,
   "metadata": {},
   "outputs": [
    {
     "data": {
      "text/plain": [
       "15"
      ]
     },
     "execution_count": 25,
     "metadata": {},
     "output_type": "execute_result"
    }
   ],
   "source": [
    "(1+2)*5"
   ]
  },
  {
   "cell_type": "markdown",
   "metadata": {},
   "source": [
    "## Relational Operators"
   ]
  },
  {
   "cell_type": "markdown",
   "metadata": {},
   "source": [
    "| Symbol | Task Performed |\n",
    "|----|---|\n",
    "| == | True, if it is equal |\n",
    "| !=  | True, if not equal to |\n",
    "| < | less than |\n",
    "| > | greater than |\n",
    "| <=  | less than or equal to |\n",
    "| >=  | greater than or equal to |"
   ]
  },
  {
   "cell_type": "code",
   "execution_count": 26,
   "metadata": {},
   "outputs": [],
   "source": [
    "z = 1"
   ]
  },
  {
   "cell_type": "code",
   "execution_count": 27,
   "metadata": {},
   "outputs": [
    {
     "data": {
      "text/plain": [
       "True"
      ]
     },
     "execution_count": 27,
     "metadata": {},
     "output_type": "execute_result"
    }
   ],
   "source": [
    "z == 1"
   ]
  },
  {
   "cell_type": "markdown",
   "metadata": {},
   "source": [
    "This is an important one-- note what happened. Using the `==` operator checks for equivalence and returns a boolean"
   ]
  },
  {
   "cell_type": "code",
   "execution_count": 28,
   "metadata": {},
   "outputs": [
    {
     "data": {
      "text/plain": [
       "False"
      ]
     },
     "execution_count": 28,
     "metadata": {},
     "output_type": "execute_result"
    }
   ],
   "source": [
    "z > 1"
   ]
  },
  {
   "cell_type": "code",
   "execution_count": 29,
   "metadata": {},
   "outputs": [
    {
     "name": "stdout",
     "output_type": "stream",
     "text": [
      "False\n",
      "True\n"
     ]
    }
   ],
   "source": [
    "aBool = True\n",
    "anotherBool = False\n",
    "print(aBool == anotherBool)\n",
    "print(aBool != anotherBool)"
   ]
  },
  {
   "cell_type": "markdown",
   "metadata": {},
   "source": [
    "## Casting\n",
    "sometimes we wish to change a variable from one type to another. This is what is called \"casting\". For instance we can cast an integer as a float, or a float into a complex number, etc."
   ]
  },
  {
   "cell_type": "code",
   "execution_count": 30,
   "metadata": {},
   "outputs": [
    {
     "name": "stdout",
     "output_type": "stream",
     "text": [
      "1\n",
      "(1+0j)\n",
      "1.0\n"
     ]
    }
   ],
   "source": [
    "a = 1.0\n",
    "print(int(a)) #casts a as an int\n",
    "print(complex(a)) #casts a as a complex number\n",
    "print(str(a)) #casts a as a string"
   ]
  },
  {
   "cell_type": "markdown",
   "metadata": {},
   "source": [
    "# Data Structures in Python\n",
    "\n",
    "## Sequence types- list and tuples\n",
    "What is we have more than one number we wish to store? Well that's when we start to get into using **container** objects that allow us put variables like numbers or strings into arrays. Each element in a sequence is assigned a number-- its index or position in the sequence. In Python, sequences are zero-indexed meaning the first element is at position 0. \n",
    "\n",
    "There are certain commons things we do with sequences, like get and set elements of the sequence or find whether an element is present in a sequence. We will touch on some of these built in features."
   ]
  },
  {
   "cell_type": "code",
   "execution_count": 31,
   "metadata": {},
   "outputs": [
    {
     "name": "stdout",
     "output_type": "stream",
     "text": [
      "<class 'list'>\n"
     ]
    }
   ],
   "source": [
    "aList = [\"a\", \"small\", \"list of numbers\"] #a list of strings\n",
    "bList = [4, 3, 2, 1]\n",
    "print(type(aList))"
   ]
  },
  {
   "cell_type": "markdown",
   "metadata": {},
   "source": [
    "to get individual elements out of a list we use square brackets to index them. we can even get multiple elements out of a list using a colon in our indexing"
   ]
  },
  {
   "cell_type": "code",
   "execution_count": 32,
   "metadata": {},
   "outputs": [
    {
     "name": "stdout",
     "output_type": "stream",
     "text": [
      "list of numbers\n",
      "['a', 'small']\n"
     ]
    }
   ],
   "source": [
    "print(aList[2])\n",
    "print(aList[0:2])"
   ]
  },
  {
   "cell_type": "code",
   "execution_count": 33,
   "metadata": {},
   "outputs": [
    {
     "name": "stdout",
     "output_type": "stream",
     "text": [
      "3\n",
      "666\n",
      "[4, 666, 2, 1]\n"
     ]
    }
   ],
   "source": [
    "print(bList[1])\n",
    "bList[1] = 666 #change element at index 1\n",
    "print(bList[1])\n",
    "print(bList) #see how only that single element has changed?"
   ]
  },
  {
   "cell_type": "markdown",
   "metadata": {},
   "source": [
    "it's often important to know the length of a list. We can get that information easily using the `len()` built-in function"
   ]
  },
  {
   "cell_type": "code",
   "execution_count": 34,
   "metadata": {},
   "outputs": [
    {
     "name": "stdout",
     "output_type": "stream",
     "text": [
      "3 4\n"
     ]
    }
   ],
   "source": [
    "aLen = len(aList)\n",
    "bLen = len(bList)\n",
    "print(aLen,bLen)"
   ]
  },
  {
   "cell_type": "markdown",
   "metadata": {},
   "source": [
    "There are lots of things we can do with lists. For example if we want to make a new list from two smaller ones, it's simple to concatenate lists by using the `+` operator"
   ]
  },
  {
   "cell_type": "code",
   "execution_count": 35,
   "metadata": {},
   "outputs": [
    {
     "name": "stdout",
     "output_type": "stream",
     "text": [
      "['a', 'small', 'list of numbers', 4, 666, 2, 1]\n"
     ]
    }
   ],
   "source": [
    "cList = aList + bList\n",
    "print(cList)"
   ]
  },
  {
   "cell_type": "markdown",
   "metadata": {},
   "source": [
    "now lets delete the 3rd element of `cList` and print it again"
   ]
  },
  {
   "cell_type": "code",
   "execution_count": 36,
   "metadata": {},
   "outputs": [
    {
     "name": "stdout",
     "output_type": "stream",
     "text": [
      "['a', 'small', 4, 666, 2, 1]\n",
      "6\n"
     ]
    }
   ],
   "source": [
    "del(cList[2]) #del deletes the element specified\n",
    "print(cList)\n",
    "#let's ask cList how long it is now\n",
    "print(len(cList))"
   ]
  },
  {
   "cell_type": "markdown",
   "metadata": {},
   "source": [
    "One thing that is very useful about lists is asking for element membership, that is to say is some object in a list?"
   ]
  },
  {
   "cell_type": "code",
   "execution_count": 37,
   "metadata": {},
   "outputs": [
    {
     "name": "stdout",
     "output_type": "stream",
     "text": [
      "False\n",
      "True\n",
      "False\n",
      "True\n",
      "False\n"
     ]
    }
   ],
   "source": [
    "print(3 in cList)\n",
    "print('small' in cList)\n",
    "print('Snoop Dog' in cList)\n",
    "print(1 in cList)\n",
    "print(1 in cList[0:3])\n"
   ]
  },
  {
   "cell_type": "markdown",
   "metadata": {},
   "source": [
    "## Tuples\n",
    "Tuples are list lists, but they are said to be *immutable*. What that means is that once a tuple is assigned, it cannot be changed. This is useful in the context of hashes, which we will come to later."
   ]
  },
  {
   "cell_type": "code",
   "execution_count": 38,
   "metadata": {},
   "outputs": [
    {
     "name": "stdout",
     "output_type": "stream",
     "text": [
      "(1, 2, 3)\n",
      "2\n"
     ]
    }
   ],
   "source": [
    "#make a tuple from a list\n",
    "aTuple = tuple([1,2,3])\n",
    "#print the tuple, print an element from it\n",
    "print(aTuple)\n",
    "print(aTuple[1])"
   ]
  },
  {
   "cell_type": "code",
   "execution_count": 39,
   "metadata": {},
   "outputs": [
    {
     "ename": "TypeError",
     "evalue": "'tuple' object does not support item assignment",
     "output_type": "error",
     "traceback": [
      "\u001b[0;31m---------------------------------------------------------------------------\u001b[0m",
      "\u001b[0;31mTypeError\u001b[0m                                 Traceback (most recent call last)",
      "\u001b[0;32m<ipython-input-39-ae2b84067965>\u001b[0m in \u001b[0;36m<module>\u001b[0;34m\u001b[0m\n\u001b[1;32m      1\u001b[0m \u001b[0;31m#try to change a value in it\u001b[0m\u001b[0;34m\u001b[0m\u001b[0;34m\u001b[0m\u001b[0;34m\u001b[0m\u001b[0m\n\u001b[0;32m----> 2\u001b[0;31m \u001b[0maTuple\u001b[0m\u001b[0;34m[\u001b[0m\u001b[0;36m1\u001b[0m\u001b[0;34m]\u001b[0m \u001b[0;34m=\u001b[0m \u001b[0;34m'dog'\u001b[0m\u001b[0;34m\u001b[0m\u001b[0;34m\u001b[0m\u001b[0m\n\u001b[0m",
      "\u001b[0;31mTypeError\u001b[0m: 'tuple' object does not support item assignment"
     ]
    }
   ],
   "source": [
    "#try to change a value in it\n",
    "aTuple[1] = 'dog'"
   ]
  },
  {
   "cell_type": "markdown",
   "metadata": {},
   "source": [
    "## Iterating over lists\n",
    "Iterating over the content of lists is something that will come up again and again as you grow in your programming. The basic idea is that you want to go through an array, addressing each object in that list. \n",
    "\n",
    "A simple way to see this is to print the contents of arrays"
   ]
  },
  {
   "cell_type": "code",
   "execution_count": 40,
   "metadata": {},
   "outputs": [
    {
     "name": "stdout",
     "output_type": "stream",
     "text": [
      "1\n",
      "3\n",
      "5\n",
      "19\n",
      "-8\n",
      "0\n"
     ]
    }
   ],
   "source": [
    "aList = [1,3,5,19,-8,0]\n",
    "for element in aList:\n",
    "    print(element)"
   ]
  },
  {
   "cell_type": "markdown",
   "metadata": {},
   "source": [
    "this is our first instance of a `for` loop. in this case we are using `for` to iterate over each of the elements of `aList`, pass them to a temporary variable called `element`, and then print them.\n",
    "\n",
    "**Important-** notice the indentation after the line with `for`? The Python interpretter (the thing that reads your code and translates it to machine instructions) parses according to specific rules of **whitespace**, or basically indentation. Lines where represent code blocks nested within other blocks are indented using four spaces (preferred) or a tab. Bear in mind that programmers who use four spaces have been shown to [make more money than those that use tabs](https://stackoverflow.blog/2017/06/15/developers-use-spaces-make-money-use-tabs/) to indent their python code.  You can read more about whitespace [here](https://docs.python.org/2.0/ref/indentation.html)\n",
    "\n",
    "Let's try interating over the `cList` from above, and then move on to using the very cool `range()` function. "
   ]
  },
  {
   "cell_type": "code",
   "execution_count": 41,
   "metadata": {},
   "outputs": [
    {
     "name": "stdout",
     "output_type": "stream",
     "text": [
      "a\n",
      "small\n",
      "4\n",
      "666\n",
      "2\n",
      "1\n"
     ]
    }
   ],
   "source": [
    "for x in cList:\n",
    "    print(x)"
   ]
  },
  {
   "cell_type": "markdown",
   "metadata": {},
   "source": [
    "Python has a built-in function called `range()` that we will use over and over for interating. `range()` is special in that it acts like a *generator*, producing new numbers on the fly one after another. It does *not* return a list of number, although we can make it do just that. \n",
    "\n",
    "For instance this example just uses the generator like behavior of `range()`"
   ]
  },
  {
   "cell_type": "code",
   "execution_count": 42,
   "metadata": {},
   "outputs": [
    {
     "name": "stdout",
     "output_type": "stream",
     "text": [
      "0\n",
      "1\n",
      "2\n",
      "3\n",
      "4\n",
      "5\n",
      "6\n",
      "7\n",
      "8\n",
      "9\n"
     ]
    }
   ],
   "source": [
    "#iterate using range()\n",
    "for x in range(10):\n",
    "    print(x)"
   ]
  },
  {
   "cell_type": "code",
   "execution_count": 43,
   "metadata": {},
   "outputs": [
    {
     "name": "stdout",
     "output_type": "stream",
     "text": [
      "1\n",
      "3\n",
      "5\n",
      "7\n",
      "9\n",
      "11\n",
      "13\n",
      "15\n",
      "17\n",
      "19\n"
     ]
    }
   ],
   "source": [
    "#range allows to set the start, stop, and step size\n",
    "for x in range(1,20,2):\n",
    "    print(x)"
   ]
  },
  {
   "cell_type": "code",
   "execution_count": 44,
   "metadata": {},
   "outputs": [
    {
     "name": "stdout",
     "output_type": "stream",
     "text": [
      "[0, 1, 2, 3, 4, 5, 6, 7, 8, 9]\n"
     ]
    }
   ],
   "source": [
    "#turn range into a list\n",
    "aRange = list(range(10))\n",
    "print(aRange)"
   ]
  },
  {
   "cell_type": "markdown",
   "metadata": {},
   "source": [
    "**Exercise:** Revisit trying to print out your first name vertically, but this time use a for loop."
   ]
  },
  {
   "cell_type": "markdown",
   "metadata": {},
   "source": [
    "## More with lists\n",
    "A lot can be done with lists including, sorting them, reversing, slicing, appending, etc.. Here are a few examples"
   ]
  },
  {
   "cell_type": "code",
   "execution_count": 45,
   "metadata": {},
   "outputs": [
    {
     "name": "stdout",
     "output_type": "stream",
     "text": [
      "[1, 4, 2]\n",
      "[1, 2, 4]\n",
      "[4, 2, 1]\n",
      "[2, 1]\n"
     ]
    }
   ],
   "source": [
    "aList = [1, 4, 2]\n",
    "print(aList)\n",
    "aList.sort()\n",
    "print(aList)\n",
    "aList.reverse()\n",
    "print(aList)\n",
    "aList.remove(4)\n",
    "print(aList)"
   ]
  },
  {
   "cell_type": "markdown",
   "metadata": {},
   "source": [
    "**Exercise:** using a `for` loop write code that will calculate the sum of the numbers 1 through 100"
   ]
  },
  {
   "cell_type": "markdown",
   "metadata": {},
   "source": [
    "## While loops\n",
    "We've just covered so-called `for` loops, one of the most basic ways to iterate across arrays and make things happen in a program. Next let's look at the `while` loop.\n",
    "\n",
    "`while()` tests whether a condition is true, and while it remains true the inner loop keeps iterating. This is best understood with a simple example"
   ]
  },
  {
   "cell_type": "code",
   "execution_count": 46,
   "metadata": {},
   "outputs": [
    {
     "name": "stdout",
     "output_type": "stream",
     "text": [
      "0\n",
      "2\n",
      "4\n",
      "6\n",
      "8\n"
     ]
    }
   ],
   "source": [
    "#set up a variable\n",
    "i = 0\n",
    "while(i < 10):\n",
    "    print(i)\n",
    "    i += 2\n"
   ]
  },
  {
   "cell_type": "code",
   "execution_count": 47,
   "metadata": {},
   "outputs": [
    {
     "name": "stdout",
     "output_type": "stream",
     "text": [
      "10\n"
     ]
    }
   ],
   "source": [
    "print(i)"
   ]
  },
  {
   "cell_type": "markdown",
   "metadata": {},
   "source": [
    "**Exercise:** use a `while` loop to write code to calculate the factorial of a number. i.e., $4! = 4 \\times 3 \\times 2 \\times 1$"
   ]
  },
  {
   "cell_type": "markdown",
   "metadata": {},
   "source": [
    "# Dictionaries-- aka hashes\n",
    "Dictionaries in python are containers that are based on key/value associations. With a list you address it's elements on the basis of their index in the array. With a dictionary you address elements of the container on the basis of a unique identifier, numeric or string valued. Dictionary keys can also be tuples (one of the benefits of being immutable) as long as the tuple contains only strings, numbers, or tuples. \n",
    "\n",
    "An empty dictionaries is instantiated with a curly brace like so `{}` and key:value pairs are added and seperated by commas. Mostly we use Dictionaries to store things that we want fast access to, without having to do any kind of iteration. "
   ]
  },
  {
   "cell_type": "code",
   "execution_count": 48,
   "metadata": {},
   "outputs": [
    {
     "name": "stdout",
     "output_type": "stream",
     "text": [
      "food box\n"
     ]
    }
   ],
   "source": [
    "#set up a dict with two key:value pairs\n",
    "aDict = {'dog':'food', 'cat':'box'}\n",
    "print(aDict['dog'], aDict['cat'])"
   ]
  },
  {
   "cell_type": "markdown",
   "metadata": {},
   "source": [
    "We can add elements to the dictionary by giving them a new key, and we can delete elements using `del()`"
   ]
  },
  {
   "cell_type": "code",
   "execution_count": 49,
   "metadata": {},
   "outputs": [
    {
     "name": "stdout",
     "output_type": "stream",
     "text": [
      "{'dog': 'food', 'cat': 'box', 'bird': 'chow'}\n",
      "{'dog': 'food', 'bird': 'chow'}\n"
     ]
    }
   ],
   "source": [
    "aDict['bird'] = 'chow'\n",
    "print(aDict)\n",
    "del(aDict['cat'])\n",
    "print(aDict)"
   ]
  },
  {
   "cell_type": "markdown",
   "metadata": {},
   "source": [
    "If we ever have to iterate over all the elements in a dictionary the best way to do it is using the `keys()` generator"
   ]
  },
  {
   "cell_type": "code",
   "execution_count": 50,
   "metadata": {},
   "outputs": [
    {
     "name": "stdout",
     "output_type": "stream",
     "text": [
      "dog\n",
      "bird\n"
     ]
    }
   ],
   "source": [
    "for aKey in aDict.keys():\n",
    "    print(aKey)"
   ]
  },
  {
   "cell_type": "markdown",
   "metadata": {},
   "source": [
    "and of course we can turn that generator into a list if we would like it in a different form"
   ]
  },
  {
   "cell_type": "code",
   "execution_count": 51,
   "metadata": {},
   "outputs": [
    {
     "name": "stdout",
     "output_type": "stream",
     "text": [
      "['dog', 'bird']\n",
      "2\n"
     ]
    }
   ],
   "source": [
    "keyList = list(aDict.keys())\n",
    "print(keyList)\n",
    "print(len(keyList))"
   ]
  },
  {
   "cell_type": "markdown",
   "metadata": {},
   "source": [
    "**Exercise:** Try building a dictionary using a list as a key. Why doesn't this work? What would the problem be?"
   ]
  },
  {
   "cell_type": "markdown",
   "metadata": {},
   "source": [
    "## Strings\n",
    "It is worth spending a bit of effort on strings as 1) they come up a lot and 2) there are a whole variety of built in functions that python allows you to use on strings. Strings can be declared using single or double quotes. Likewise backslash escapes work within both single and double quoted strings -- e.g. \\n \\' \\\". A double quoted string  can contain single quotes without any issues (e.g. \"I didn't do it\") and similarly single quoted string can contain double quotes.\n",
    "\n",
    "Like tuples, strings are immutable. This means that when we concatenate strings we are producing new objects in memory. Like lists, we can index and slice strings easily."
   ]
  },
  {
   "cell_type": "code",
   "execution_count": 52,
   "metadata": {},
   "outputs": [
    {
     "name": "stdout",
     "output_type": "stream",
     "text": [
      "m\n",
      "om\n",
      "3\n",
      "omg what?\n"
     ]
    }
   ],
   "source": [
    "aStr = 'omg'\n",
    "print(aStr[1])\n",
    "print(aStr[0:2])\n",
    "print(len(aStr)) #print the length\n",
    "bStr = aStr + ' what?' #concatenate two strings\n",
    "print(bStr)"
   ]
  },
  {
   "cell_type": "markdown",
   "metadata": {},
   "source": [
    "some super useful string methods include `lower()`,`upper()`, `split()`, `strip()`, among others. Look at the documentation [here](https://docs.python.org/3/library/stdtypes.html#textseq) for a full list.\n",
    "\n",
    "We will just illustrate a few things below"
   ]
  },
  {
   "cell_type": "code",
   "execution_count": 53,
   "metadata": {},
   "outputs": [
    {
     "name": "stdout",
     "output_type": "stream",
     "text": [
      "OMG WHAT?\n",
      "omg what?\n",
      "['OMG', 'WHAT?']\n"
     ]
    }
   ],
   "source": [
    "s = bStr.upper()\n",
    "print(s)\n",
    "print(s.lower())\n",
    "\n",
    "word_list = s.split(\" \") #split on space\n",
    "print(word_list)"
   ]
  },
  {
   "cell_type": "markdown",
   "metadata": {},
   "source": [
    "## Slicing strings\n",
    "A really convenient thing with python strings is our ability to slice them up to get out substrings. The same ideas are implemented for lists. For instance consider the the string `s = 'Hello'`\n",
    "<img src=\"files/hello.png\">\n",
    "\n",
    "* `s[1:4]` is `'ell'` -- chars starting at index 1 and extending up to but not including index 4\n",
    "* `s[1:]` is `'ello'` -- omitting either index defaults to the start or end of the string \n",
    "* `s[:]` is `'Hello'` -- omitting both always gives us a copy of the whole thing (this is the pythonic way to copy a sequence like a string or list)\n",
    "* `s[1:100]` is `'ello'` -- an index that is too big is truncated down to the string length \n",
    "\n",
    "Alternatively Python allows us to index from the *back* of strings/lists using negative indices. For instance\n",
    "\n",
    "* `s[-1]` is `'o'` -- last char (1st from the end)\n",
    "* `s[-4]` is `'e'` -- 4th from the end\n",
    "* `s[:-3]` is `'He'` -- going up to but not including the last 3 chars.\n",
    "* `s[-3:]` is `'llo'` -- starting with the 3rd char from the end and extending to the end of the string. \n",
    "\n",
    "Please try these out below"
   ]
  },
  {
   "cell_type": "code",
   "execution_count": 54,
   "metadata": {},
   "outputs": [
    {
     "data": {
      "text/plain": [
       "'llo'"
      ]
     },
     "execution_count": 54,
     "metadata": {},
     "output_type": "execute_result"
    }
   ],
   "source": [
    "s = 'Hello'\n",
    "s[-3:]"
   ]
  },
  {
   "cell_type": "markdown",
   "metadata": {},
   "source": [
    "# More reading\n",
    "I'm aiming to give you a quick start look into using Python. There are many many great resources online about starting to program in Python and I'd encourage you to find some on your own and read a bit more about the great breadth of the language. A particularly good tutorial is [here](https://www.programiz.com/python-programming)\n"
   ]
  },
  {
   "cell_type": "markdown",
   "metadata": {},
   "source": [
    "# Control Flow\n",
    "Thus far we have gone over nearly all of the major building blocks, with the major exception of what we call Control Flow statements. This isn't quite true as we had a look at `for` and `while` loops, but we will put those in context a bit today.\n",
    "\n",
    "The basic idea is that Control Flow statements tell the program which blocks of code to move between depending on the state of the program (or variables within that program more accurately). \n",
    "\n",
    "## If statements\n",
    "As you might expect, `if` statements only run a block of nested code if a statement evaluates as true. In Python we work with `if`, `elif`, and `else` statements to control conditional flow through execution. For instance let's illustrate this with a while loop."
   ]
  },
  {
   "cell_type": "code",
   "execution_count": 55,
   "metadata": {},
   "outputs": [
    {
     "name": "stdout",
     "output_type": "stream",
     "text": [
      "True\n",
      "if was false\n"
     ]
    }
   ],
   "source": [
    "#simple if statement\n",
    "aBool = True\n",
    "if aBool:\n",
    "    print(aBool)\n",
    "\n",
    "#a second example\n",
    "aBool = False\n",
    "if aBool:\n",
    "    print(\"it was true\")\n",
    "else:\n",
    "    print(\"if was false\")"
   ]
  },
  {
   "cell_type": "markdown",
   "metadata": {},
   "source": [
    "Note there is no need for any `elif` or `else` clauses. \n",
    "\n",
    "Here is a more complex `if` `else` construction, this time nested within a `while` loop. "
   ]
  },
  {
   "cell_type": "code",
   "execution_count": 56,
   "metadata": {},
   "outputs": [
    {
     "name": "stdout",
     "output_type": "stream",
     "text": [
      "x =  0 ; it is < 2\n",
      "x =  1 ; it is < 2\n",
      "x =  2 ; it is < 2\n",
      "x =  3 ; it is < 2\n",
      "x =  4 ; 2 <= x < 8\n",
      "x =  5 ; 2 <= x < 8\n",
      "x =  6 ; 2 <= x < 8\n",
      "x =  7 ; 2 <= x < 8\n",
      "x =  8 ; x >= 8\n",
      "x =  9 ; x >= 8\n",
      "x =  10 ; x >= 8\n"
     ]
    }
   ],
   "source": [
    "x = 0\n",
    "\n",
    "while x <= 10 :\n",
    "    if x < 4 :\n",
    "        print(\"x = \",x,\"; it is < 2\")\n",
    "    elif x < 8:\n",
    "        print(\"x = \",x,\"; 2 <= x < 8\")\n",
    "    else:\n",
    "        print(\"x = \",x,\"; x >= 8\")\n",
    "    x+=1\n",
    "    "
   ]
  },
  {
   "cell_type": "markdown",
   "metadata": {},
   "source": [
    "Note: there can be as many `elif` statements as you want in such a block of code. "
   ]
  },
  {
   "cell_type": "markdown",
   "metadata": {},
   "source": [
    "## Break statement\n",
    "`break` kills a loop in place and exits to code to outside of whatever loop it is in. Generally we use `break` to exit loops prematurely if some condition is met, thus you will almost always see `break` within an `if` clause.\n",
    "\n",
    "For instance consider the following"
   ]
  },
  {
   "cell_type": "code",
   "execution_count": 57,
   "metadata": {},
   "outputs": [
    {
     "name": "stdout",
     "output_type": "stream",
     "text": [
      "0\n",
      "1\n",
      "2\n",
      "3\n"
     ]
    }
   ],
   "source": [
    "x = 0\n",
    "while x < 10:\n",
    "    print(x)\n",
    "    if x > 2:\n",
    "        break\n",
    "    x+=1"
   ]
  },
  {
   "cell_type": "markdown",
   "metadata": {},
   "source": [
    "**Exercise:** what would happen to the while loop above if that break statement were not there? Predict what will happen, change the code above, and make sure that the your prediction matches the reality."
   ]
  },
  {
   "cell_type": "markdown",
   "metadata": {},
   "source": [
    "there are a few other, less used control flow statements available in python including `continue`, `pass`, and `try`. If you are interested you can read about them [here](https://docs.python.org/3/tutorial/controlflow.html)"
   ]
  },
  {
   "cell_type": "markdown",
   "metadata": {},
   "source": [
    "## Writing Functions\n",
    "One of the key building blocks of programming is writing your own functions. Functions take some input parameters (or none) and produce some output. Functions are defined in the Python world using the `def` keyword. The following function takes no parameters at input (the paratheses are empty) and it will print a bit of text"
   ]
  },
  {
   "cell_type": "code",
   "execution_count": 59,
   "metadata": {},
   "outputs": [],
   "source": [
    "def my_function():\n",
    "    print(\"Hello, from my little function\")"
   ]
  },
  {
   "cell_type": "code",
   "execution_count": 60,
   "metadata": {},
   "outputs": [
    {
     "name": "stdout",
     "output_type": "stream",
     "text": [
      "Hello, from my little function\n"
     ]
    }
   ],
   "source": [
    "my_function()"
   ]
  },
  {
   "cell_type": "markdown",
   "metadata": {},
   "source": [
    "We can define our function to take parameters for it to use during evaluation simply enough"
   ]
  },
  {
   "cell_type": "code",
   "execution_count": 61,
   "metadata": {},
   "outputs": [
    {
     "name": "stdout",
     "output_type": "stream",
     "text": [
      "Hello, Andy from my little function\n"
     ]
    }
   ],
   "source": [
    "def my_function(aName):\n",
    "    print(\"Hello,\",aName,\"from my little function\")\n",
    "\n",
    "my_function(\"Andy\")"
   ]
  },
  {
   "cell_type": "markdown",
   "metadata": {},
   "source": [
    "this can even include more than one parameter\n"
   ]
  },
  {
   "cell_type": "code",
   "execution_count": 62,
   "metadata": {},
   "outputs": [
    {
     "name": "stdout",
     "output_type": "stream",
     "text": [
      "Hello, Andy Kern from my little function\n"
     ]
    }
   ],
   "source": [
    "def my_function(aName, bName):\n",
    "    print(\"Hello,\",aName, bName,\"from my little function\")\n",
    "\n",
    "my_function(\"Andy\", \"Kern\")"
   ]
  },
  {
   "cell_type": "markdown",
   "metadata": {},
   "source": [
    "Often when we write functions we want them to return some value. That's done using the `return()` builtin function"
   ]
  },
  {
   "cell_type": "code",
   "execution_count": 63,
   "metadata": {},
   "outputs": [
    {
     "name": "stdout",
     "output_type": "stream",
     "text": [
      "2\n",
      "6\n"
     ]
    }
   ],
   "source": [
    "def my_adding_function(num1, num2):\n",
    "    result = num1 + num2\n",
    "    return(result)\n",
    "\n",
    "print(my_adding_function(1,1))\n",
    "\n",
    "print(my_adding_function(2,4))\n"
   ]
  },
  {
   "cell_type": "markdown",
   "metadata": {},
   "source": [
    "Of course functions can be quite complex, but they need not be. Indeed good style in coding means reaching some equilibrium between readability of code and succictness. \n",
    "\n",
    "**Exercise:** write a function that takes as input a list of numbers and returns the sum of that list."
   ]
  },
  {
   "cell_type": "markdown",
   "metadata": {},
   "source": [
    "# Modules\n",
    "In python we organize our code into things called modules. Concretely modules are individual files that have functions and other code bits in them that we can then import into another piece of code to extend our functionality. \n",
    "\n",
    "To illustrate this let's write a very simple module. Using the jupyter notebook homepage, create a new text file and name it `myModule.py`. You can do this the same way you create a new notebook. Then copy and paste the function below into `myModule.py` and save that file."
   ]
  },
  {
   "cell_type": "code",
   "execution_count": 64,
   "metadata": {},
   "outputs": [],
   "source": [
    "def my_module_function():\n",
    "    print(\"hello from myModule.py!\")"
   ]
  },
  {
   "cell_type": "markdown",
   "metadata": {},
   "source": [
    "Once that function is in `myModule.py` and saved we are ready to `import` the module to bring that code into the current context. Here's how that will look"
   ]
  },
  {
   "cell_type": "code",
   "execution_count": 65,
   "metadata": {},
   "outputs": [
    {
     "ename": "ModuleNotFoundError",
     "evalue": "No module named 'myModule'",
     "output_type": "error",
     "traceback": [
      "\u001b[0;31m---------------------------------------------------------------------------\u001b[0m",
      "\u001b[0;31mModuleNotFoundError\u001b[0m                       Traceback (most recent call last)",
      "\u001b[0;32m<ipython-input-65-8ce1d441825a>\u001b[0m in \u001b[0;36m<module>\u001b[0;34m\u001b[0m\n\u001b[0;32m----> 1\u001b[0;31m \u001b[0;32mimport\u001b[0m \u001b[0mmyModule\u001b[0m\u001b[0;34m\u001b[0m\u001b[0;34m\u001b[0m\u001b[0m\n\u001b[0m\u001b[1;32m      2\u001b[0m \u001b[0;34m\u001b[0m\u001b[0m\n\u001b[1;32m      3\u001b[0m \u001b[0mmyModule\u001b[0m\u001b[0;34m.\u001b[0m\u001b[0mmy_module_function\u001b[0m\u001b[0;34m(\u001b[0m\u001b[0;34m)\u001b[0m\u001b[0;34m\u001b[0m\u001b[0;34m\u001b[0m\u001b[0m\n",
      "\u001b[0;31mModuleNotFoundError\u001b[0m: No module named 'myModule'"
     ]
    }
   ],
   "source": [
    "import myModule\n",
    "\n",
    "myModule.my_module_function()"
   ]
  },
  {
   "cell_type": "markdown",
   "metadata": {},
   "source": [
    "Note here that to call the function that I have stored in my module, I need to prefix it with `myModule`. This is because the *namespace* of that function is different than the current context. \n",
    "\n",
    "I can get rid of that hassle a few ways. One way is to import each of the functions from the module directly into the current namespace"
   ]
  },
  {
   "cell_type": "code",
   "execution_count": null,
   "metadata": {},
   "outputs": [],
   "source": [
    "from myModule import *\n",
    "my_module_function()"
   ]
  },
  {
   "cell_type": "markdown",
   "metadata": {},
   "source": [
    "By using `from` here I'm important a particular function(s). In this case I use the `*` symbol to mean \"import all the functions\". I could also change the name of the myModule namespace to make it easier to type like so"
   ]
  },
  {
   "cell_type": "code",
   "execution_count": null,
   "metadata": {},
   "outputs": [],
   "source": [
    "import myModule as mm\n",
    "\n",
    "mm.my_module_function()"
   ]
  },
  {
   "cell_type": "markdown",
   "metadata": {},
   "source": [
    "now `mm` represents the namespace of `myModule` and so it is more convenient to type again and again. We will see this convention quite a bit next week as we move on to using `numpy` and `scipy`."
   ]
  },
  {
   "cell_type": "markdown",
   "metadata": {},
   "source": [
    "## Bringing in code from standard library modules\n",
    "Python has a very large standard library that it ships with. Indeed this is one of the most attractive features of Python-- there is a ton of code available for you to use, rather than having to write it all yourself. Details on the complete standard library can be found [here](https://docs.python.org/3/library/). \n",
    "\n",
    "To illustrate using this code we will start by using the Python `random` module that provides a convenient, but pretty full featured interface to a random number generator. First let's import the `random` module, and then we can use it a bit. We will start by printing out some random numbers."
   ]
  },
  {
   "cell_type": "code",
   "execution_count": null,
   "metadata": {},
   "outputs": [],
   "source": [
    "import random\n",
    "\n",
    "for i in range(5):\n",
    "    print(random.random())"
   ]
  },
  {
   "cell_type": "markdown",
   "metadata": {},
   "source": [
    "`random.random()` returns random floating point numbers between 0 and 1. The `random` module has a lot of other types of random number distributions available, for instances normally distributed random numbers or exponential random numbers. "
   ]
  },
  {
   "cell_type": "code",
   "execution_count": null,
   "metadata": {},
   "outputs": [],
   "source": [
    "#print 5 normal random deviates\n",
    "for i in range(5):\n",
    "    print(random.normalvariate(0,1)) "
   ]
  },
  {
   "cell_type": "code",
   "execution_count": null,
   "metadata": {},
   "outputs": [],
   "source": []
  },
  {
   "cell_type": "markdown",
   "metadata": {},
   "source": [
    "**Exercise:** use `random` to calculate 100 normally distributed random numbers with mean 0 and standard deviation 1. Now calculate the mean of those numbers. Is it indeed close to 0?\n",
    "\n",
    "Another thing that `random` is very useful for is sampling from lists randomly"
   ]
  },
  {
   "cell_type": "code",
   "execution_count": null,
   "metadata": {},
   "outputs": [],
   "source": [
    "#define a list then select one element from it randomly\n",
    "aList = [\"dog\", \"cat\", \"frog\", \"alpaca\", \"potato\"]\n",
    "print(random.choice(aList))"
   ]
  },
  {
   "cell_type": "markdown",
   "metadata": {},
   "source": [
    "We can use a very similar function in `random` to sample with replacement more than one element from our list"
   ]
  },
  {
   "cell_type": "code",
   "execution_count": null,
   "metadata": {},
   "outputs": [],
   "source": [
    "#sample 3 elements from aList\n",
    "random.choices(aList, k=3)"
   ]
  },
  {
   "cell_type": "markdown",
   "metadata": {},
   "source": [
    "Finally a very useful tool in `random` is `shuffle()` which will shuffle the order of elements in a list in-place. i.e., the list will be changed"
   ]
  },
  {
   "cell_type": "code",
   "execution_count": null,
   "metadata": {},
   "outputs": [],
   "source": [
    "#try evaluating this cell more than once\n",
    "random.shuffle(aList)\n",
    "print(aList)"
   ]
  },
  {
   "cell_type": "markdown",
   "metadata": {},
   "source": [
    "There is a whole slew of functions provided by `random` that are useful to scientists. Read about them in the [documentation](https://docs.python.org/3/library/random.html)"
   ]
  },
  {
   "cell_type": "code",
   "execution_count": null,
   "metadata": {},
   "outputs": [],
   "source": []
  },
  {
   "cell_type": "markdown",
   "metadata": {},
   "source": [
    "# Daily US COVID-19 data\n",
    "I've gone ahead and downloaded daily COVID cases numbers from the CDC from [this website](https://covid.cdc.gov/covid-data-tracker/#trends_dailytrendscases) and included it in our `data` directory. Those data can be found in `/data/case_daily_trends__united_states.csv`\n",
    "\n",
    "First let's look at the data file. We could open it in Excel or a text editor, but instead I'm going to look at the first ten lines using the unix utility `head`"
   ]
  },
  {
   "cell_type": "code",
   "execution_count": 6,
   "metadata": {},
   "outputs": [
    {
     "name": "stdout",
     "output_type": "stream",
     "text": [
      "﻿Case Daily Trends - United States\n",
      "Date generated: Fri Apr 02 2021 05:13:27 GMT-0700 (Pacific Daylight Time)\n",
      "\n",
      "Date,New Cases,7-Day Moving Avg\n",
      "Mar 31 2021,64149,62167\n",
      "Mar 30 2021,62726,62542\n",
      "Mar 29 2021,60522,61998\n",
      "Mar 28 2021,47151,61245\n",
      "Mar 27 2021,62964,60084\n",
      "Mar 26 2021,69037,59724\n"
     ]
    }
   ],
   "source": [
    "! head data/case_daily_trends__united_states.csv"
   ]
  },
  {
   "cell_type": "markdown",
   "metadata": {},
   "source": [
    "# Loop through a file\n",
    "A common pattern biological programmers come up on again and again is looking through a text file, extracting information from it. In the present case we have just download daily COVID testing results from the United States. "
   ]
  },
  {
   "cell_type": "markdown",
   "metadata": {},
   "source": [
    "here we can see that the first two lines have information about the file and date, then a blank line appears, and then a header with information about the columns. These columns have names like Date, New Cases, and 7-day Moving Avg containing all of the CVOID test data that we have downloaded.\n",
    "\n",
    "Let's do something useful with these data. We will go through the file, line by line, and take the \"New Cases\" number and store it in an array. "
   ]
  },
  {
   "cell_type": "code",
   "execution_count": 15,
   "metadata": {},
   "outputs": [
    {
     "name": "stdout",
     "output_type": "stream",
     "text": [
      "[64149, 62726, 60522, 47151, 62964, 69037, 68620, 66778, 58920, 55247, 39026, 60444, 61913, 59074, 58260, 52192, 46027, 40380, 52740, 63131, 61351, 57577, 52135, 41848, 41679, 57972, 66880, 67063, 63300, 54693, 49366, 50176, 69935, 73510, 74337, 75401, 70566, 55686, 53813, 70002, 73199, 68385, 69631, 58098, 56073, 65897, 88902, 98127, 102234, 97122, 91873, 87263, 90420, 107582, 126482, 127702, 120287, 118484, 126434, 112724, 141231, 165168, 159379, 157049, 149981, 134538, 140048, 171761, 193335, 189794, 188496, 149515, 148831, 185161, 214723, 248148, 225790, 225864, 222003, 201857, 219963, 249013, 315163, 283313, 251192, 232619, 177280, 206303, 285694, 172055, 233293, 235867, 204521, 175145, 147284, 180790, 142032, 194101, 229439, 200835, 184903, 199294, 201398, 235301, 250704, 243596, 207010, 209636, 180704, 216280, 248910, 209252, 236998, 223973, 191194, 172822, 208609, 224024, 220806, 202465, 183106, 153493, 155278, 144809, 172696, 149687, 187251, 169338, 159737, 153408, 182314, 195495, 188745, 168092, 166822, 154302, 106285, 198537, 180290, 161206, 147871, 139846, 122834, 106512, 100402, 132006, 121602, 111401, 92774, 87289, 140455, 89321, 98074, 91019, 84123, 73858, 66364, 63579, 81598, 84581, 75551, 64999, 61308, 60606, 48887, 53810, 68597, 64380, 57989, 49921, 48359, 47542, 50434, 59115, 56121, 54243, 40665, 40262, 36335, 48309, 50742, 47788, 46567, 38997, 35947, 36486, 49636, 46882, 43241, 41648, 48562, 39601, 37738, 42856, 49238, 43711, 42785, 35009, 34516, 33918, 41309, 46414, 38615, 33322, 24174, 26171, 34162, 45108, 50266, 45529, 40584, 43869, 32750, 38089, 43996, 44818, 47976, 47150, 37971, 33517, 38896, 45263, 47479, 45447, 46730, 40316, 38978, 42360, 54945, 56705, 53595, 56546, 56321, 40952, 48135, 55272, 62358, 56321, 53863, 50351, 50166, 48024, 58627, 68718, 67842, 66761, 60338, 55213, 61596, 64750, 75100, 72841, 70635, 63509, 58728, 62833, 67495, 75319, 72533, 67435, 61154, 59521, 60548, 62771, 66527, 59336, 65068, 50188, 46716, 44359, 51984, 57373, 53393, 54610, 43756, 35961, 41267, 44604, 44670, 40745, 38200, 34030, 26992, 27563, 32250, 32573, 27872, 23137, 28581, 18643, 22052, 25466, 22693, 21875, 20512, 17516, 17711, 17929, 29067, 29130, 20549, 14795, 25000, 15067, 26146, 23797, 18306, 21364, 19713, 16545, 24975, 15277, 26547, 24330, 20592, 22739, 23546, 24746, 13451, 32030, 22894, 27071, 20894, 21564, 17595, 24148, 27026, 25349, 31058, 23051, 22536, 19094, 29955, 29447, 29637, 31643, 25655, 23731, 23680, 28276, 33869, 29929, 37308, 26564, 26211, 29489, 24696, 29847, 29776, 29056, 27207, 25971, 24674, 28584, 32682, 34184, 31720, 31610, 22060, 42568, 25941, 30561, 35038, 26081, 27325, 22728, 22132, 18132, 19208, 18161, 16972, 13943, 10190, 10842, 8831, 5834, 3558, 4788, 3425, 2802, 770, 1203, 373, 302, 431, 289, 303, 218, 150, 64, 52, 63, 22, 24, 25, 6, 10, 0, 1, 0, 0, 0, 0, 0, 2, 0, 0, 0, 0, 0, 0, 0, 1, 0, 1, 0, 0, 0, 0, 0, 0, 0, 3, 0, 1, 2, 0, 0, 0, 0, 3, 0, 1, 0, 1]\n"
     ]
    }
   ],
   "source": [
    "#make an array for my numbers\n",
    "cases = []\n",
    "my_file = open(\"data/case_daily_trends__united_states.csv\",\"r\") #open a handle to the file\n",
    "for line in my_file: #go through every line in file\n",
    "    tokens = line.split(\",\") #split every line by the commas\n",
    "    if len(tokens) == 3:\n",
    "        if tokens[0] != 'Case' and tokens[0] != 'Date' : #test if equal to header\n",
    "            cases.append(int(tokens[1]))#append value to list as integer \n",
    "\n",
    "print(cases)"
   ]
  },
  {
   "cell_type": "markdown",
   "metadata": {},
   "source": [
    "sweet. so there are the values we want. we can now move on to plotting them using python's plotting utilities\n",
    "\n",
    "# Matplotlib\n",
    "The most basic tool for plotting is matplotlib. We will spend more time on it later, but for the time being I want to get us going on plotting these data. To use matplotlib will we `import` it into our notebook"
   ]
  },
  {
   "cell_type": "code",
   "execution_count": 17,
   "metadata": {},
   "outputs": [
    {
     "data": {
      "text/plain": [
       "[<matplotlib.lines.Line2D at 0x7fefa9034fd0>]"
      ]
     },
     "execution_count": 17,
     "metadata": {},
     "output_type": "execute_result"
    },
    {
     "data": {
      "image/png": "[encoded data removed]",
      "text/plain": [
       "<Figure size 432x288 with 1 Axes>"
      ]
     },
     "metadata": {
      "needs_background": "light"
     },
     "output_type": "display_data"
    }
   ],
   "source": [
    "# going to bring in useful code from a library\n",
    "# called matplotlib\n",
    "# matplotlib exists on nearly all python installs\n",
    "# \n",
    "from matplotlib import pyplot as plt\n",
    "\n",
    "#now plot\n",
    "plt.plot(cases)"
   ]
  },
  {
   "cell_type": "code",
   "execution_count": 19,
   "metadata": {},
   "outputs": [
    {
     "data": {
      "text/plain": [
       "[<matplotlib.lines.Line2D at 0x7fef705bf290>]"
      ]
     },
     "execution_count": 19,
     "metadata": {},
     "output_type": "execute_result"
    },
    {
     "data": {
      "image/png": "[encoded data removed]",
      "text/plain": [
       "<Figure size 432x288 with 1 Axes>"
      ]
     },
     "metadata": {
      "needs_background": "light"
     },
     "output_type": "display_data"
    }
   ],
   "source": [
    "#ack let's reverse this!\n",
    "cases.reverse()\n",
    "#now plot\n",
    "plt.plot(cases)"
   ]
  },
  {
   "cell_type": "code",
   "execution_count": null,
   "metadata": {},
   "outputs": [],
   "source": []
  }
 ],
 "metadata": {
  "kernelspec": {
   "display_name": "Python 3 (ipykernel)",
   "language": "python",
   "name": "python3"
  },
  "language_info": {
   "codemirror_mode": {
    "name": "ipython",
    "version": 3
   },
   "file_extension": ".py",
   "mimetype": "text/x-python",
   "name": "python",
   "nbconvert_exporter": "python",
   "pygments_lexer": "ipython3",
   "version": "3.7.12"
  }
 },
 "nbformat": 4,
 "nbformat_minor": 4
}
