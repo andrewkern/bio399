{
 "cells": [
  {
   "cell_type": "markdown",
   "metadata": {},
   "source": [
    "# COVID-19 sucks\n",
    "\n",
    "<img src=imgs/covid_image.jpg>"
   ]
  },
  {
   "cell_type": "markdown",
   "metadata": {},
   "source": [
    "# Python baby steps\n",
    "In this notebook we are going to cover some of the very first steps to using python in the `juptyer notebook` framework. Let's start with a traditional programming first step-- the hallowed \"Hello, world!\" "
   ]
  },
  {
   "cell_type": "code",
   "execution_count": 2,
   "metadata": {},
   "outputs": [
    {
     "name": "stdout",
     "output_type": "stream",
     "text": [
      "Hello, world!\n"
     ]
    }
   ],
   "source": [
    "print(\"Hello, world!\")"
   ]
  },
  {
   "cell_type": "markdown",
   "metadata": {},
   "source": [
    "here we are using the built-in function `print` that forms one of the most basic tools in python. We will use `print` for making our programs write to the screen. `print` takes as input what we call a string (more later) and then prints that string as output. \n",
    "\n",
    "Congrats-- this is your first bit of python coding.\n",
    "\n",
    "# Variables\n",
    "A name that is used to denote something or a value is called a variable. In python, variables can be declared and values can be assigned to it as follows,\n",
    "\n",
    "For instance let's declare a variable named `x` and set it equal to 2"
   ]
  },
  {
   "cell_type": "code",
   "execution_count": 3,
   "metadata": {},
   "outputs": [],
   "source": [
    "x = 2"
   ]
  },
  {
   "cell_type": "markdown",
   "metadata": {},
   "source": [
    "notice there was no output associated with setting the value of `x`. To check if everything went okay we can `print` it"
   ]
  },
  {
   "cell_type": "code",
   "execution_count": null,
   "metadata": {},
   "outputs": [],
   "source": [
    "print(x)\n",
    "x = 5\n",
    "print(x)"
   ]
  },
  {
   "cell_type": "markdown",
   "metadata": {},
   "source": [
    "looks good. let's play more with variables\n"
   ]
  },
  {
   "cell_type": "code",
   "execution_count": 4,
   "metadata": {},
   "outputs": [],
   "source": [
    "y = 5\n",
    "xy = 'Hey'"
   ]
  },
  {
   "cell_type": "code",
   "execution_count": 5,
   "metadata": {},
   "outputs": [
    {
     "name": "stdout",
     "output_type": "stream",
     "text": [
      "7 Hey\n"
     ]
    }
   ],
   "source": [
    "print(x+y, xy)"
   ]
  },
  {
   "cell_type": "markdown",
   "metadata": {},
   "source": [
    "Multiple variables can be assigned with the same value. The comma that we are handing (or passing in programming terms) to `print` tells the function that more input is coming."
   ]
  },
  {
   "cell_type": "code",
   "execution_count": 9,
   "metadata": {},
   "outputs": [],
   "source": [
    "x = y = 1"
   ]
  },
  {
   "cell_type": "code",
   "execution_count": 11,
   "metadata": {},
   "outputs": [
    {
     "name": "stdout",
     "output_type": "stream",
     "text": [
      "1 1\n",
      "1 2\n"
     ]
    }
   ],
   "source": [
    "print(x,y)\n",
    "y = 2\n",
    "print(x,y)"
   ]
  },
  {
   "cell_type": "code",
   "execution_count": 12,
   "metadata": {},
   "outputs": [
    {
     "name": "stdout",
     "output_type": "stream",
     "text": [
      "Hello, world!\n"
     ]
    }
   ],
   "source": [
    "hello_world = \"Hello, world!\"\n",
    "print(hello_world)"
   ]
  },
  {
   "cell_type": "markdown",
   "metadata": {},
   "source": [
    "# Python data types\n",
    "every programming language has a certain number of built-in data types. These types determine what can be done with objects that have been set to given values. \n",
    "\n",
    "## Integers\n",
    "These are just as the name suggests-- whole number, integers. For instance 1, 2, 3, 154, etc. Let's set a variable to an integer and then check the type of that integer using the built-in function `type`"
   ]
  },
  {
   "cell_type": "code",
   "execution_count": 13,
   "metadata": {},
   "outputs": [
    {
     "data": {
      "text/plain": [
       "int"
      ]
     },
     "execution_count": 13,
     "metadata": {},
     "output_type": "execute_result"
    }
   ],
   "source": [
    "x = 1\n",
    "type(x)"
   ]
  },
  {
   "cell_type": "markdown",
   "metadata": {},
   "source": [
    "As you see, python output `int` when we asked what type x was.\n",
    "\n",
    "## Floating-point numbers\n",
    "the `float` type is the way that a computer represents real numbers. We have to deal with them separately from integers and there are a few gotchas associated\n"
   ]
  },
  {
   "cell_type": "code",
   "execution_count": 14,
   "metadata": {},
   "outputs": [
    {
     "data": {
      "text/plain": [
       "float"
      ]
     },
     "execution_count": 14,
     "metadata": {},
     "output_type": "execute_result"
    }
   ],
   "source": [
    "x = 1.2\n",
    "type(x)"
   ]
  },
  {
   "cell_type": "markdown",
   "metadata": {},
   "source": [
    "we can specify a `float` just by having a decimal point"
   ]
  },
  {
   "cell_type": "code",
   "execution_count": 15,
   "metadata": {},
   "outputs": [
    {
     "data": {
      "text/plain": [
       "0.2"
      ]
     },
     "execution_count": 15,
     "metadata": {},
     "output_type": "execute_result"
    }
   ],
   "source": [
    ".2"
   ]
  },
  {
   "cell_type": "markdown",
   "metadata": {},
   "source": [
    "we can even use scientific notation to specify a `float`. this is very handy indeed"
   ]
  },
  {
   "cell_type": "code",
   "execution_count": 16,
   "metadata": {},
   "outputs": [
    {
     "data": {
      "text/plain": [
       "0.001"
      ]
     },
     "execution_count": 16,
     "metadata": {},
     "output_type": "execute_result"
    }
   ],
   "source": [
    "1e-03"
   ]
  },
  {
   "cell_type": "markdown",
   "metadata": {},
   "source": [
    "## Complex numbers\n",
    "Python has a data type for complex numbers as well, for instance"
   ]
  },
  {
   "cell_type": "code",
   "execution_count": 17,
   "metadata": {},
   "outputs": [
    {
     "name": "stdout",
     "output_type": "stream",
     "text": [
      "<class 'complex'>\n",
      "(2+3j)\n"
     ]
    }
   ],
   "source": [
    "x = 2+3j\n",
    "print(type(x))\n",
    "print(x)"
   ]
  },
  {
   "cell_type": "markdown",
   "metadata": {},
   "source": [
    "## Strings \n",
    "As I alluded to above there is a type of data called a `string` that we use when we print stuff. We also use them for input, so strings are critical and worth a bit of attention. I'll go very quickly through a few things now, but we will circle back to strings later in the course.\n",
    "\n",
    "Strings are sequences of character data. The string type in Python is called `str`. String may be delimited using either single or double quotes. All the characters between the opening delimiter and matching closing delimiter are part of the string. For instance:"
   ]
  },
  {
   "cell_type": "code",
   "execution_count": 21,
   "metadata": {},
   "outputs": [
    {
     "data": {
      "text/plain": [
       "str"
      ]
     },
     "execution_count": 21,
     "metadata": {},
     "output_type": "execute_result"
    }
   ],
   "source": [
    "aString = 'I am a string'\n",
    "type(aString)"
   ]
  },
  {
   "cell_type": "code",
   "execution_count": 22,
   "metadata": {},
   "outputs": [
    {
     "name": "stdout",
     "output_type": "stream",
     "text": [
      "I am a string\n",
      "<class 'str'>\n"
     ]
    }
   ],
   "source": [
    "print(aString)\n",
    "print(type(aString))"
   ]
  },
  {
   "cell_type": "markdown",
   "metadata": {},
   "source": [
    "Strings can do some funky stuff using what we call \"escape characters\". I'll delve into those in the next lecture but for the time being I want to show you two kinds of escape characters-- the first is the newline, the second is tab. \n",
    "\n",
    "So how would I get `print` to put a newline in a character string? Well by using a special symbol of course! In this case the special symbol is `\\n`. For instance check out this behavior:"
   ]
  },
  {
   "cell_type": "code",
   "execution_count": 23,
   "metadata": {},
   "outputs": [
    {
     "name": "stdout",
     "output_type": "stream",
     "text": [
      "I am a string\n",
      "I am \n",
      "a string\n"
     ]
    }
   ],
   "source": [
    "aString = \"I am a string\"\n",
    "print(aString)\n",
    "aString = \"I am \\na string\"\n",
    "print(aString)"
   ]
  },
  {
   "cell_type": "code",
   "execution_count": 24,
   "metadata": {},
   "outputs": [
    {
     "name": "stdout",
     "output_type": "stream",
     "text": [
      "Andy\n"
     ]
    }
   ],
   "source": [
    "my_name = \"Andy\"\n",
    "print(my_name)"
   ]
  },
  {
   "cell_type": "code",
   "execution_count": 25,
   "metadata": {},
   "outputs": [
    {
     "name": "stdout",
     "output_type": "stream",
     "text": [
      "A\n",
      "n\n",
      "d\n",
      "y\n"
     ]
    }
   ],
   "source": [
    "my_name = \"A\\nn\\nd\\ny\"\n",
    "print(my_name)"
   ]
  },
  {
   "cell_type": "markdown",
   "metadata": {},
   "source": [
    "See the difference? Do you understand what is happening?\n",
    "\n",
    "**Excerise:** Use print and the `\\n` character to print your first name vertically, rather than horizontally on the screen\n",
    "\n",
    "The next escape character we will use is the tab character `\\t`. These show up all the time in data import and export. For instance check out this bit of code"
   ]
  },
  {
   "cell_type": "code",
   "execution_count": 26,
   "metadata": {},
   "outputs": [
    {
     "name": "stdout",
     "output_type": "stream",
     "text": [
      "A\ttab\tcreates\tspace\tbetween\twords\n"
     ]
    }
   ],
   "source": [
    "aString = \"A\\ttab\\tcreates\\tspace\\tbetween\\twords\"\n",
    "print(aString)"
   ]
  },
  {
   "cell_type": "markdown",
   "metadata": {},
   "source": [
    "There are many more things to learn about strings but we will have to come back to them. If you are impatient to learn more check out [this](https://docs.python.org/3.7/library/stdtypes.html#text-sequence-type-str)"
   ]
  },
  {
   "cell_type": "markdown",
   "metadata": {},
   "source": [
    "## Booleans\n",
    "The boolean data type is to evaluate whether something is logically true or false. We will use these all the time in conditional statements and to control the flow of our programs. As this desciption suggestions, there are only two values for boolean variables, `True` and `False`. Consider the following"
   ]
  },
  {
   "cell_type": "code",
   "execution_count": null,
   "metadata": {},
   "outputs": [],
   "source": [
    "aBool = True\n",
    "type(aBool)"
   ]
  },
  {
   "cell_type": "markdown",
   "metadata": {},
   "source": [
    "There are a few other data types that we will encounter later but this is a great place to start for now."
   ]
  },
  {
   "cell_type": "markdown",
   "metadata": {},
   "source": [
    "# Operators\n",
    "Python has a variety of build in operators that can manipulate so-called opperands. We'll start with what will be more familiar arithmetic operators and go from there"
   ]
  },
  {
   "cell_type": "markdown",
   "metadata": {},
   "source": [
    "## Arithmetic Operators\n",
    "Below is the table of built-in arithmetic operators in Python"
   ]
  },
  {
   "cell_type": "markdown",
   "metadata": {},
   "source": [
    "| Symbol | Task Performed |\n",
    "|----|---|\n",
    "| +  | Addition |\n",
    "| -  | Subtraction |\n",
    "| /  | division |\n",
    "| %  | mod |\n",
    "| *  | multiplication |\n",
    "| //  | floor division |\n",
    "| **  | to the power of |"
   ]
  },
  {
   "cell_type": "markdown",
   "metadata": {},
   "source": [
    "let's play with these a bit"
   ]
  },
  {
   "cell_type": "code",
   "execution_count": null,
   "metadata": {},
   "outputs": [],
   "source": [
    "1+2"
   ]
  },
  {
   "cell_type": "code",
   "execution_count": null,
   "metadata": {},
   "outputs": [],
   "source": [
    "2-1"
   ]
  },
  {
   "cell_type": "code",
   "execution_count": null,
   "metadata": {},
   "outputs": [],
   "source": [
    "1*2"
   ]
  },
  {
   "cell_type": "code",
   "execution_count": null,
   "metadata": {},
   "outputs": [],
   "source": [
    "1/2"
   ]
  },
  {
   "cell_type": "markdown",
   "metadata": {},
   "source": [
    "the modulo operator `%` finds the remainder after dividing the first number by the second\n"
   ]
  },
  {
   "cell_type": "code",
   "execution_count": null,
   "metadata": {},
   "outputs": [],
   "source": [
    "12%10"
   ]
  },
  {
   "cell_type": "markdown",
   "metadata": {},
   "source": [
    "Floor division is nothing but converting the result so obtained to the nearest integer."
   ]
  },
  {
   "cell_type": "code",
   "execution_count": null,
   "metadata": {},
   "outputs": [],
   "source": [
    "2.8//2.0"
   ]
  },
  {
   "cell_type": "code",
   "execution_count": null,
   "metadata": {},
   "outputs": [],
   "source": [
    "2**3"
   ]
  },
  {
   "cell_type": "markdown",
   "metadata": {},
   "source": [
    "## Order of operations-- PEMDAS\n",
    "Python evaluates arithmetic according to the standard order of operations that you learned in middle school-- Parentheses Exponentiation Multiplication Division Addition Subtraction or PEMDAS. Perhaps you remember the mnemonic \"Please excuse my dear aunt Sally\"\n",
    "\n",
    "**Exercise:** predict the output from the following two lines of code. Why are they different?"
   ]
  },
  {
   "cell_type": "code",
   "execution_count": null,
   "metadata": {},
   "outputs": [],
   "source": [
    "1+2*5"
   ]
  },
  {
   "cell_type": "code",
   "execution_count": null,
   "metadata": {},
   "outputs": [],
   "source": [
    "(1+2)*5"
   ]
  },
  {
   "cell_type": "markdown",
   "metadata": {},
   "source": [
    "## Relational Operators"
   ]
  },
  {
   "cell_type": "markdown",
   "metadata": {},
   "source": [
    "| Symbol | Task Performed |\n",
    "|----|---|\n",
    "| == | True, if it is equal |\n",
    "| !=  | True, if not equal to |\n",
    "| < | less than |\n",
    "| > | greater than |\n",
    "| <=  | less than or equal to |\n",
    "| >=  | greater than or equal to |"
   ]
  },
  {
   "cell_type": "code",
   "execution_count": null,
   "metadata": {},
   "outputs": [],
   "source": [
    "z = 1"
   ]
  },
  {
   "cell_type": "code",
   "execution_count": null,
   "metadata": {},
   "outputs": [],
   "source": [
    "z == 1"
   ]
  },
  {
   "cell_type": "markdown",
   "metadata": {},
   "source": [
    "This is an important one-- note what happened. Using the `==` operator checks for equivalence and returns a boolean"
   ]
  },
  {
   "cell_type": "code",
   "execution_count": null,
   "metadata": {},
   "outputs": [],
   "source": [
    "z > 1"
   ]
  },
  {
   "cell_type": "code",
   "execution_count": null,
   "metadata": {},
   "outputs": [],
   "source": [
    "aBool = True\n",
    "anotherBool = False\n",
    "print(aBool == anotherBool)\n",
    "print(aBool != anotherBool)"
   ]
  },
  {
   "cell_type": "markdown",
   "metadata": {},
   "source": [
    "## Casting\n",
    "sometimes we wish to change a variable from one type to another. This is what is called \"casting\". For instance we can cast an integer as a float, or a float into a complex number, etc."
   ]
  },
  {
   "cell_type": "code",
   "execution_count": null,
   "metadata": {},
   "outputs": [],
   "source": [
    "a = 1.0\n",
    "print(int(a)) #casts a as an int\n",
    "print(complex(a)) #casts a as a complex number\n",
    "print(str(a)) #casts a as a string"
   ]
  },
  {
   "cell_type": "markdown",
   "metadata": {},
   "source": [
    "## Simplifying Arithmetic Operations"
   ]
  },
  {
   "cell_type": "markdown",
   "metadata": {},
   "source": [
    "`round()` function rounds the input value to a specified number of places or to the nearest integer. "
   ]
  },
  {
   "cell_type": "code",
   "execution_count": null,
   "metadata": {
    "scrolled": false
   },
   "outputs": [],
   "source": [
    "print(round(5.6231))\n",
    "print(round(4.55892, 2))"
   ]
  },
  {
   "cell_type": "markdown",
   "metadata": {},
   "source": [
    "`complex()` is used to define a complex number and `abs()` outputs the absolute value of the same."
   ]
  },
  {
   "cell_type": "code",
   "execution_count": null,
   "metadata": {},
   "outputs": [],
   "source": [
    "c =complex('5+2j')\n",
    "print(abs(c))"
   ]
  },
  {
   "cell_type": "markdown",
   "metadata": {},
   "source": [
    "# Data Structures in Python\n",
    "\n",
    "## Sequence types- list and tuples\n",
    "What is we have more than one number we wish to store? Well that's when we start to get into using **container** objects that allow us put variables like numbers or strings into arrays. Each element in a sequence is assigned a number-- its index or position in the sequence. In Python, sequences are zero-indexed meaning the first element is at position 0. \n",
    "\n",
    "There are certain commons things we do with sequences, like get and set elements of the sequence or find whether an element is present in a sequence. We will touch on some of these built in features."
   ]
  },
  {
   "cell_type": "code",
   "execution_count": null,
   "metadata": {},
   "outputs": [],
   "source": [
    "aList = [\"a\", \"small\", \"list of numbers\"] #a list of strings\n",
    "bList = [4, 3, 2, 1]\n",
    "print(type(aList))"
   ]
  },
  {
   "cell_type": "markdown",
   "metadata": {},
   "source": [
    "to get individual elements out of a list we use square brackets to index them. we can even get multiple elements out of a list using a colon in our indexing"
   ]
  },
  {
   "cell_type": "code",
   "execution_count": null,
   "metadata": {},
   "outputs": [],
   "source": [
    "print(aList[2])\n",
    "print(aList[0:2])"
   ]
  },
  {
   "cell_type": "code",
   "execution_count": null,
   "metadata": {},
   "outputs": [],
   "source": [
    "print(bList[1])\n",
    "bList[1] = 666 #change element at index 1\n",
    "print(bList[1])\n",
    "print(bList) #see how only that single element has changed?"
   ]
  },
  {
   "cell_type": "markdown",
   "metadata": {},
   "source": [
    "it's often important to know the length of a list. We can get that information easily using the `len()` built-in function"
   ]
  },
  {
   "cell_type": "code",
   "execution_count": null,
   "metadata": {},
   "outputs": [],
   "source": [
    "aLen = len(aList)\n",
    "bLen = len(bList)\n",
    "print(aLen,bLen)"
   ]
  },
  {
   "cell_type": "markdown",
   "metadata": {},
   "source": [
    "There are lots of things we can do with lists. For example if we want to make a new list from two smaller ones, it's simple to concatenate lists by using the `+` operator"
   ]
  },
  {
   "cell_type": "code",
   "execution_count": null,
   "metadata": {},
   "outputs": [],
   "source": [
    "cList = aList + bList\n",
    "print(cList)"
   ]
  },
  {
   "cell_type": "markdown",
   "metadata": {},
   "source": [
    "now lets delete the 3rd element of `cList` and print it again"
   ]
  },
  {
   "cell_type": "code",
   "execution_count": null,
   "metadata": {},
   "outputs": [],
   "source": [
    "del(cList[2]) #del deletes the element specified\n",
    "print(cList)\n",
    "#let's ask cList how long it is now\n",
    "print(len(cList))"
   ]
  },
  {
   "cell_type": "markdown",
   "metadata": {},
   "source": [
    "One thing that is very useful about lists is asking for element membership, that is to say is some object in a list?"
   ]
  },
  {
   "cell_type": "code",
   "execution_count": null,
   "metadata": {},
   "outputs": [],
   "source": [
    "print(3 in cList)\n",
    "print('small' in cList)\n",
    "print('Snoop Dog' in cList)\n",
    "print(1 in cList)\n",
    "print(1 in cList[0:3])\n"
   ]
  },
  {
   "cell_type": "markdown",
   "metadata": {},
   "source": [
    "## Tuples\n",
    "Tuples are list lists, but they are said to be *immutable*. What that means is that once a tuple is assigned, it cannot be changed. This is useful in the context of hashes, which we will come to later."
   ]
  },
  {
   "cell_type": "code",
   "execution_count": null,
   "metadata": {},
   "outputs": [],
   "source": [
    "#make a tuple from a list\n",
    "aTuple = tuple([1,2,3])\n",
    "#print the tuple, print an element from it\n",
    "print(aTuple)\n",
    "print(aTuple[1])"
   ]
  },
  {
   "cell_type": "code",
   "execution_count": null,
   "metadata": {},
   "outputs": [],
   "source": [
    "#try to change a value in it\n",
    "aTuple[1] = 'dog'"
   ]
  },
  {
   "cell_type": "markdown",
   "metadata": {},
   "source": [
    "## Iterating over lists\n",
    "Iterating over the content of lists is something that will come up again and again as you grow in your programming. The basic idea is that you want to go through an array, addressing each object in that list. \n",
    "\n",
    "A simple way to see this is to print the contents of arrays"
   ]
  },
  {
   "cell_type": "code",
   "execution_count": null,
   "metadata": {},
   "outputs": [],
   "source": [
    "aList = [1,3,5,19,-8,0]\n",
    "for element in aList:\n",
    "    print(element)"
   ]
  },
  {
   "cell_type": "markdown",
   "metadata": {},
   "source": [
    "this is our first instance of a `for` loop. in this case we are using `for` to iterate over each of the elements of `aList`, pass them to a temporary variable called `element`, and then print them.\n",
    "\n",
    "**Important-** notice the indentation after the line with `for`? The Python interpretter (the thing that reads your code and translates it to machine instructions) parses according to specific rules of **whitespace**, or basically indentation. Lines where represent code blocks nested within other blocks are indented using four spaces (preferred) or a tab. Bear in mind that programmers who use four spaces have been shown to [make more money than those that use tabs](https://stackoverflow.blog/2017/06/15/developers-use-spaces-make-money-use-tabs/) to indent their python code.  You can read more about whitespace [here](https://docs.python.org/2.0/ref/indentation.html)\n",
    "\n",
    "Let's try interating over the `cList` from above, and then move on to using the very cool `range()` function. "
   ]
  },
  {
   "cell_type": "code",
   "execution_count": null,
   "metadata": {},
   "outputs": [],
   "source": [
    "for x in cList:\n",
    "    print(x)"
   ]
  },
  {
   "cell_type": "markdown",
   "metadata": {},
   "source": [
    "Python has a built-in function called `range()` that we will use over and over for interating. `range()` is special in that it acts like a *generator*, producing new numbers on the fly one after another. It does *not* return a list of number, although we can make it do just that. \n",
    "\n",
    "For instance this example just uses the generator like behavior of `range()`"
   ]
  },
  {
   "cell_type": "code",
   "execution_count": null,
   "metadata": {},
   "outputs": [],
   "source": [
    "#iterate using range()\n",
    "for x in range(10):\n",
    "    print(x)"
   ]
  },
  {
   "cell_type": "code",
   "execution_count": null,
   "metadata": {},
   "outputs": [],
   "source": [
    "#range allows to set the start, stop, and step size\n",
    "for x in range(1,20,2):\n",
    "    print(x)"
   ]
  },
  {
   "cell_type": "code",
   "execution_count": null,
   "metadata": {},
   "outputs": [],
   "source": [
    "#turn range into a list\n",
    "aRange = list(range(10))\n",
    "print(aRange)"
   ]
  },
  {
   "cell_type": "markdown",
   "metadata": {},
   "source": [
    "**Exercise:** Revisit trying to print out your first name vertically, but this time use a for loop."
   ]
  },
  {
   "cell_type": "markdown",
   "metadata": {},
   "source": [
    "# Dictionaries-- aka hashes\n",
    "Dictionaries in python are containers that are based on key/value associations. With a list you address it's elements on the basis of their index in the array. With a dictionary you address elements of the container on the basis of a unique identifier, numeric or string valued. Dictionary keys can also be tuples (one of the benefits of being immutable) as long as the tuple contains only strings, numbers, or tuples. \n",
    "\n",
    "An empty dictionaries is instantiated with a curly brace like so `{}` and key:value pairs are added and seperated by commas. Mostly we use Dictionaries to store things that we want fast access to, without having to do any kind of iteration. "
   ]
  },
  {
   "cell_type": "code",
   "execution_count": 118,
   "metadata": {},
   "outputs": [
    {
     "name": "stdout",
     "output_type": "stream",
     "text": [
      "food box\n"
     ]
    }
   ],
   "source": [
    "#set up a dict with two key:value pairs\n",
    "aDict = {'dog':'food', 'cat':'box'}\n",
    "print(aDict['dog'], aDict['cat'])"
   ]
  },
  {
   "cell_type": "markdown",
   "metadata": {},
   "source": [
    "We can add elements to the dictionary by giving them a new key, and we can delete elements using `del()`"
   ]
  },
  {
   "cell_type": "code",
   "execution_count": null,
   "metadata": {},
   "outputs": [],
   "source": [
    "aDict['bird'] = 'chow'\n",
    "print(aDict)\n",
    "del(aDict['cat'])\n",
    "print(aDict)"
   ]
  },
  {
   "cell_type": "markdown",
   "metadata": {},
   "source": [
    "If we ever have to iterate over all the elements in a dictionary the best way to do it is using the `keys()` generator"
   ]
  },
  {
   "cell_type": "code",
   "execution_count": null,
   "metadata": {},
   "outputs": [],
   "source": [
    "for aKey in aDict.keys():\n",
    "    print(aKey)"
   ]
  },
  {
   "cell_type": "markdown",
   "metadata": {},
   "source": [
    "and of course we can turn that generator into a list if we would like it in a different form"
   ]
  },
  {
   "cell_type": "code",
   "execution_count": null,
   "metadata": {},
   "outputs": [],
   "source": [
    "keyList = list(aDict.keys())\n",
    "print(keyList)\n",
    "print(len(keyList))"
   ]
  },
  {
   "cell_type": "markdown",
   "metadata": {},
   "source": [
    "**Exercise:** Try building a dictionary using a list as a key. Why doesn't this work? What would the problem be?"
   ]
  },
  {
   "cell_type": "markdown",
   "metadata": {},
   "source": [
    "# More reading\n",
    "I'm aiming to give you a quick start look into using Python. There are many many great resources online about starting to program in Python and I'd encourage you to find some on your own and read a bit more about the great breadth of the language. A particularly good tutorial is [here](https://www.programiz.com/python-programming)\n"
   ]
  },
  {
   "cell_type": "markdown",
   "metadata": {},
   "source": [
    "# Download daily US COVID-19 data\n",
    "to do this I'm *not* going to use python. Instead I'm going to use the underlying unix tools in our dreamy server bio399cloud. I can invoke unix command line tools using an exclamation point, in the following case I'm using something called `wget` to download a file from the internet"
   ]
  },
  {
   "cell_type": "code",
   "execution_count": 1,
   "metadata": {},
   "outputs": [
    {
     "name": "stdout",
     "output_type": "stream",
     "text": [
      "--2020-03-24 22:15:07--  https://covidtracking.com/api/us/daily.csv\n",
      "Resolving covidtracking.com (covidtracking.com)... 167.172.221.254\n",
      "Connecting to covidtracking.com (covidtracking.com)|167.172.221.254|:443... connected.\n",
      "HTTP request sent, awaiting response... 200 OK\n",
      "Cookie coming from covidtracking.com attempted to set domain to cape.io\n",
      "Length: 980 [text/csv]\n",
      "Saving to: ‘daily.csv’\n",
      "\n",
      "daily.csv           100%[===================>]     980  --.-KB/s    in 0s      \n",
      "\n",
      "2020-03-24 22:15:07 (14.8 MB/s) - ‘daily.csv’ saved [980/980]\n",
      "\n",
      "--2020-03-24 22:15:07--  http://./\n",
      "Resolving . (.)... failed: nodename nor servname provided, or not known.\n",
      "wget: unable to resolve host address ‘.’\n",
      "FINISHED --2020-03-24 22:15:07--\n",
      "Total wall clock time: 0.5s\n",
      "Downloaded: 1 files, 980 in 0s (14.8 MB/s)\n"
     ]
    }
   ],
   "source": [
    "! wget https://covidtracking.com/api/us/daily.csv ."
   ]
  },
  {
   "cell_type": "code",
   "execution_count": 15,
   "metadata": {},
   "outputs": [],
   "source": [
    "import pandas as pd\n",
    "import matplotlib.pyplot as plt"
   ]
  },
  {
   "cell_type": "code",
   "execution_count": 45,
   "metadata": {},
   "outputs": [],
   "source": [
    "x = pd.read_csv(\"daily.csv\")\n",
    "x['date']=pd.to_datetime(x['date'],format='%Y%m%d')\n",
    "x.set_index(['date'],inplace=True)"
   ]
  },
  {
   "cell_type": "code",
   "execution_count": 55,
   "metadata": {},
   "outputs": [
    {
     "data": {
      "text/plain": [
       "<matplotlib.axes._subplots.AxesSubplot at 0x119529a20>"
      ]
     },
     "execution_count": 55,
     "metadata": {},
     "output_type": "execute_result"
    },
    {
     "data": {
      "image/png": "[encoded data removed]",
      "text/plain": [
       "<Figure size 432x288 with 1 Axes>"
      ]
     },
     "metadata": {
      "needs_background": "light"
     },
     "output_type": "display_data"
    }
   ],
   "source": [
    "x['death'].plot()"
   ]
  },
  {
   "cell_type": "code",
   "execution_count": 42,
   "metadata": {},
   "outputs": [
    {
     "data": {
      "text/plain": [
       "[<matplotlib.lines.Line2D at 0x114995860>]"
      ]
     },
     "execution_count": 42,
     "metadata": {},
     "output_type": "execute_result"
    },
    {
     "data": {
      "image/png": "[encoded data removed]",
      "text/plain": [
       "<Figure size 432x288 with 1 Axes>"
      ]
     },
     "metadata": {
      "needs_background": "light"
     },
     "output_type": "display_data"
    }
   ],
   "source": [
    "plt.plot(x.date,x.positive)"
   ]
  },
  {
   "cell_type": "code",
   "execution_count": 22,
   "metadata": {},
   "outputs": [
    {
     "data": {
      "text/plain": [
       "DatetimeIndex(['1970-01-01 00:00:00.020200324',\n",
       "               '1970-01-01 00:00:00.020200323',\n",
       "               '1970-01-01 00:00:00.020200322',\n",
       "               '1970-01-01 00:00:00.020200321',\n",
       "               '1970-01-01 00:00:00.020200320',\n",
       "               '1970-01-01 00:00:00.020200319',\n",
       "               '1970-01-01 00:00:00.020200318',\n",
       "               '1970-01-01 00:00:00.020200317',\n",
       "               '1970-01-01 00:00:00.020200316',\n",
       "               '1970-01-01 00:00:00.020200315',\n",
       "               '1970-01-01 00:00:00.020200314',\n",
       "               '1970-01-01 00:00:00.020200313',\n",
       "               '1970-01-01 00:00:00.020200312',\n",
       "               '1970-01-01 00:00:00.020200311',\n",
       "               '1970-01-01 00:00:00.020200310',\n",
       "               '1970-01-01 00:00:00.020200309',\n",
       "               '1970-01-01 00:00:00.020200308',\n",
       "               '1970-01-01 00:00:00.020200307',\n",
       "               '1970-01-01 00:00:00.020200306',\n",
       "               '1970-01-01 00:00:00.020200305',\n",
       "               '1970-01-01 00:00:00.020200304'],\n",
       "              dtype='datetime64[ns]', name='date', freq=None)"
      ]
     },
     "execution_count": 22,
     "metadata": {},
     "output_type": "execute_result"
    }
   ],
   "source": []
  },
  {
   "cell_type": "code",
   "execution_count": null,
   "metadata": {},
   "outputs": [],
   "source": []
  }
 ],
 "metadata": {
  "kernelspec": {
   "display_name": "Python 3",
   "language": "python",
   "name": "python3"
  },
  "language_info": {
   "codemirror_mode": {
    "name": "ipython",
    "version": 3
   },
   "file_extension": ".py",
   "mimetype": "text/x-python",
   "name": "python",
   "nbconvert_exporter": "python",
   "pygments_lexer": "ipython3",
   "version": "3.7.1"
  }
 },
 "nbformat": 4,
 "nbformat_minor": 4
}
