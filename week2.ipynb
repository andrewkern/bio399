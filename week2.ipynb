{
 "cells": [
  {
   "cell_type": "code",
   "execution_count": null,
   "metadata": {},
   "outputs": [],
   "source": [
    "! rm daily.csv* && wget https://covidtracking.com/api/us/daily.csv ."
   ]
  },
  {
   "cell_type": "code",
   "execution_count": 3,
   "metadata": {},
   "outputs": [],
   "source": [
    "import pandas as pd\n",
    "import matplotlib.pyplot as plt"
   ]
  },
  {
   "cell_type": "code",
   "execution_count": 4,
   "metadata": {
    "jupyter": {
     "source_hidden": true
    }
   },
   "outputs": [],
   "source": [
    "x = pd.read_csv(\"daily.csv\")\n",
    "x['date']=pd.to_datetime(x['date'],format='%Y%m%d')\n",
    "x.set_index(['date'],inplace=True)"
   ]
  },
  {
   "cell_type": "code",
   "execution_count": 6,
   "metadata": {
    "jupyter": {
     "source_hidden": true
    }
   },
   "outputs": [
    {
     "data": {
      "text/plain": [
       "<matplotlib.axes._subplots.AxesSubplot at 0x11bf8cf60>"
      ]
     },
     "execution_count": 6,
     "metadata": {},
     "output_type": "execute_result"
    },
    {
     "data": {
      "image/png": "[encoded data removed]",
      "text/plain": [
       "<Figure size 432x288 with 1 Axes>"
      ]
     },
     "metadata": {
      "needs_background": "light"
     },
     "output_type": "display_data"
    }
   ],
   "source": [
    "x['positive'].plot()"
   ]
  },
  {
   "cell_type": "code",
   "execution_count": 7,
   "metadata": {
    "jupyter": {
     "source_hidden": true
    }
   },
   "outputs": [
    {
     "data": {
      "text/html": [
       "<div>\n",
       "<style scoped>\n",
       "    .dataframe tbody tr th:only-of-type {\n",
       "        vertical-align: middle;\n",
       "    }\n",
       "\n",
       "    .dataframe tbody tr th {\n",
       "        vertical-align: top;\n",
       "    }\n",
       "\n",
       "    .dataframe thead th {\n",
       "        text-align: right;\n",
       "    }\n",
       "</style>\n",
       "<table border=\"1\" class=\"dataframe\">\n",
       "  <thead>\n",
       "    <tr style=\"text-align: right;\">\n",
       "      <th></th>\n",
       "      <th>states</th>\n",
       "      <th>positive</th>\n",
       "      <th>negative</th>\n",
       "      <th>posNeg</th>\n",
       "      <th>pending</th>\n",
       "      <th>hospitalized</th>\n",
       "      <th>death</th>\n",
       "      <th>total</th>\n",
       "      <th>hash</th>\n",
       "      <th>dateChecked</th>\n",
       "      <th>totalTestResults</th>\n",
       "      <th>fips</th>\n",
       "      <th>deathIncrease</th>\n",
       "      <th>hospitalizedIncrease</th>\n",
       "      <th>negativeIncrease</th>\n",
       "      <th>positiveIncrease</th>\n",
       "      <th>totalTestResultsIncrease</th>\n",
       "    </tr>\n",
       "    <tr>\n",
       "      <th>date</th>\n",
       "      <th></th>\n",
       "      <th></th>\n",
       "      <th></th>\n",
       "      <th></th>\n",
       "      <th></th>\n",
       "      <th></th>\n",
       "      <th></th>\n",
       "      <th></th>\n",
       "      <th></th>\n",
       "      <th></th>\n",
       "      <th></th>\n",
       "      <th></th>\n",
       "      <th></th>\n",
       "      <th></th>\n",
       "      <th></th>\n",
       "      <th></th>\n",
       "      <th></th>\n",
       "    </tr>\n",
       "  </thead>\n",
       "  <tbody>\n",
       "    <tr>\n",
       "      <th>2020-03-27</th>\n",
       "      <td>56</td>\n",
       "      <td>99447</td>\n",
       "      <td>527220</td>\n",
       "      <td>626667</td>\n",
       "      <td>60094</td>\n",
       "      <td>13718.0</td>\n",
       "      <td>1530.0</td>\n",
       "      <td>686761</td>\n",
       "      <td>5eaba901381e06e821ea5e2d8806a84e3cfd1eb0</td>\n",
       "      <td>2020-03-27T20:00:00Z</td>\n",
       "      <td>626667</td>\n",
       "      <td>NaN</td>\n",
       "      <td>367.0</td>\n",
       "      <td>3587.0</td>\n",
       "      <td>88617.0</td>\n",
       "      <td>18712.0</td>\n",
       "      <td>107329.0</td>\n",
       "    </tr>\n",
       "    <tr>\n",
       "      <th>2020-03-26</th>\n",
       "      <td>56</td>\n",
       "      <td>80735</td>\n",
       "      <td>438603</td>\n",
       "      <td>519338</td>\n",
       "      <td>60251</td>\n",
       "      <td>10131.0</td>\n",
       "      <td>1163.0</td>\n",
       "      <td>579589</td>\n",
       "      <td>77e73bd9ca5316e76685e4fd31fd7adbd7ba4f45</td>\n",
       "      <td>2020-03-26T20:00:00Z</td>\n",
       "      <td>519338</td>\n",
       "      <td>NaN</td>\n",
       "      <td>263.0</td>\n",
       "      <td>3995.0</td>\n",
       "      <td>80999.0</td>\n",
       "      <td>16807.0</td>\n",
       "      <td>97806.0</td>\n",
       "    </tr>\n",
       "    <tr>\n",
       "      <th>2020-03-25</th>\n",
       "      <td>56</td>\n",
       "      <td>63928</td>\n",
       "      <td>357604</td>\n",
       "      <td>421532</td>\n",
       "      <td>51235</td>\n",
       "      <td>6136.0</td>\n",
       "      <td>900.0</td>\n",
       "      <td>472767</td>\n",
       "      <td>99e1bdff6a809d12b2e76a9e7c8a678d32a6f670</td>\n",
       "      <td>2020-03-25T20:00:00Z</td>\n",
       "      <td>421532</td>\n",
       "      <td>NaN</td>\n",
       "      <td>225.0</td>\n",
       "      <td>1668.0</td>\n",
       "      <td>64846.0</td>\n",
       "      <td>11974.0</td>\n",
       "      <td>76820.0</td>\n",
       "    </tr>\n",
       "    <tr>\n",
       "      <th>2020-03-24</th>\n",
       "      <td>56</td>\n",
       "      <td>51954</td>\n",
       "      <td>292758</td>\n",
       "      <td>344712</td>\n",
       "      <td>14433</td>\n",
       "      <td>4468.0</td>\n",
       "      <td>675.0</td>\n",
       "      <td>359145</td>\n",
       "      <td>eaedae24caa3d2c2dcbad823b248b729972e9960</td>\n",
       "      <td>2020-03-24T20:00:00Z</td>\n",
       "      <td>344712</td>\n",
       "      <td>NaN</td>\n",
       "      <td>204.0</td>\n",
       "      <td>1143.0</td>\n",
       "      <td>55437.0</td>\n",
       "      <td>9802.0</td>\n",
       "      <td>65239.0</td>\n",
       "    </tr>\n",
       "    <tr>\n",
       "      <th>2020-03-23</th>\n",
       "      <td>56</td>\n",
       "      <td>42152</td>\n",
       "      <td>237321</td>\n",
       "      <td>279473</td>\n",
       "      <td>14571</td>\n",
       "      <td>3325.0</td>\n",
       "      <td>471.0</td>\n",
       "      <td>294044</td>\n",
       "      <td>cca0aa4d7ad5221bf9e3b542fb56c03418b79874</td>\n",
       "      <td>2020-03-23T20:00:00Z</td>\n",
       "      <td>279473</td>\n",
       "      <td>NaN</td>\n",
       "      <td>73.0</td>\n",
       "      <td>771.0</td>\n",
       "      <td>43858.0</td>\n",
       "      <td>10273.0</td>\n",
       "      <td>54131.0</td>\n",
       "    </tr>\n",
       "  </tbody>\n",
       "</table>\n",
       "</div>"
      ],
      "text/plain": [
       "            states  positive  negative  posNeg  pending  hospitalized   death  \\\n",
       "date                                                                            \n",
       "2020-03-27      56     99447    527220  626667    60094       13718.0  1530.0   \n",
       "2020-03-26      56     80735    438603  519338    60251       10131.0  1163.0   \n",
       "2020-03-25      56     63928    357604  421532    51235        6136.0   900.0   \n",
       "2020-03-24      56     51954    292758  344712    14433        4468.0   675.0   \n",
       "2020-03-23      56     42152    237321  279473    14571        3325.0   471.0   \n",
       "\n",
       "             total                                      hash  \\\n",
       "date                                                           \n",
       "2020-03-27  686761  5eaba901381e06e821ea5e2d8806a84e3cfd1eb0   \n",
       "2020-03-26  579589  77e73bd9ca5316e76685e4fd31fd7adbd7ba4f45   \n",
       "2020-03-25  472767  99e1bdff6a809d12b2e76a9e7c8a678d32a6f670   \n",
       "2020-03-24  359145  eaedae24caa3d2c2dcbad823b248b729972e9960   \n",
       "2020-03-23  294044  cca0aa4d7ad5221bf9e3b542fb56c03418b79874   \n",
       "\n",
       "                     dateChecked  totalTestResults  fips  deathIncrease  \\\n",
       "date                                                                      \n",
       "2020-03-27  2020-03-27T20:00:00Z            626667   NaN          367.0   \n",
       "2020-03-26  2020-03-26T20:00:00Z            519338   NaN          263.0   \n",
       "2020-03-25  2020-03-25T20:00:00Z            421532   NaN          225.0   \n",
       "2020-03-24  2020-03-24T20:00:00Z            344712   NaN          204.0   \n",
       "2020-03-23  2020-03-23T20:00:00Z            279473   NaN           73.0   \n",
       "\n",
       "            hospitalizedIncrease  negativeIncrease  positiveIncrease  \\\n",
       "date                                                                   \n",
       "2020-03-27                3587.0           88617.0           18712.0   \n",
       "2020-03-26                3995.0           80999.0           16807.0   \n",
       "2020-03-25                1668.0           64846.0           11974.0   \n",
       "2020-03-24                1143.0           55437.0            9802.0   \n",
       "2020-03-23                 771.0           43858.0           10273.0   \n",
       "\n",
       "            totalTestResultsIncrease  \n",
       "date                                  \n",
       "2020-03-27                  107329.0  \n",
       "2020-03-26                   97806.0  \n",
       "2020-03-25                   76820.0  \n",
       "2020-03-24                   65239.0  \n",
       "2020-03-23                   54131.0  "
      ]
     },
     "execution_count": 7,
     "metadata": {},
     "output_type": "execute_result"
    }
   ],
   "source": [
    "x.head()"
   ]
  }
 ],
 "metadata": {
  "kernelspec": {
   "display_name": "Python 3",
   "language": "python",
   "name": "python3"
  },
  "language_info": {
   "name": ""
  }
 },
 "nbformat": 4,
 "nbformat_minor": 4
}
