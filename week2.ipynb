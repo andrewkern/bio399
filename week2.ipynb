{
 "cells": [
  {
   "cell_type": "markdown",
   "metadata": {},
   "source": [
    "# Doing your homework the easy way\n",
    "The code we wrote for the homework involved 1) looping line by line through a file, 2) splitting each line up into parts, 3) checking to make sure that we weren't in a header line and that we were in the correct state-- basically a lot of stuff, that it seems like one might have to do over and over again when analyzing biological, or really any, data. \n",
    "\n",
    "Accordingly, there are good tools available to us when programming in python for dealing with these tasks. The one we will focus on will be `pandas` which is a free to use library of code that specializes in data analysis. \n",
    "\n",
    "Let's redo your homework then in using `pandas`. First we will download the up to date data"
   ]
  },
  {
   "cell_type": "code",
   "execution_count": 94,
   "metadata": {},
   "outputs": [
    {
     "name": "stdout",
     "output_type": "stream",
     "text": [
      "--2020-04-06 15:55:06--  https://covidtracking.com/api/states/daily.csv\n",
      "Resolving covidtracking.com (covidtracking.com)... 104.248.78.24\n",
      "Connecting to covidtracking.com (covidtracking.com)|104.248.78.24|:443... connected.\n",
      "HTTP request sent, awaiting response... 200 OK\n",
      "Length: 222050 (217K) [text/csv]\n",
      "Saving to: ‘daily.csv’\n",
      "\n",
      "daily.csv           100%[===================>] 216.85K  1.26MB/s    in 0.2s    \n",
      "\n",
      "2020-04-06 15:55:06 (1.26 MB/s) - ‘daily.csv’ saved [222050/222050]\n",
      "\n",
      "--2020-04-06 15:55:06--  http://./\n",
      "Resolving . (.)... failed: nodename nor servname provided, or not known.\n",
      "wget: unable to resolve host address ‘.’\n",
      "FINISHED --2020-04-06 15:55:06--\n",
      "Total wall clock time: 0.5s\n",
      "Downloaded: 1 files, 217K in 0.2s (1.26 MB/s)\n"
     ]
    }
   ],
   "source": [
    "! rm daily.csv* && wget https://covidtracking.com/api/states/daily.csv ."
   ]
  },
  {
   "cell_type": "markdown",
   "metadata": {},
   "source": [
    "# Pandas\n",
    "The `pandas` library provides an amazingly rich set of tools for data inport, export, cleaning, and more. We will use it here for bringing in and dealing with all the covid data from covidtracking.com\n",
    "\n",
    "We start with import `pandas` and call it `pd` and also import the `matplotlib.pyplot` code as `plt`"
   ]
  },
  {
   "cell_type": "code",
   "execution_count": null,
   "metadata": {},
   "outputs": [],
   "source": [
    "import pandas as pd\n",
    "import matplotlib.pyplot as plt"
   ]
  },
  {
   "cell_type": "markdown",
   "metadata": {},
   "source": [
    "## DataFrames\n",
    "What makes pandas useful is that it provides an object called a DataFrame. DataFrames represent spreadsheet-like data for us by containing an ordered collection of columns, each of which can be of it's own data type. DataFrames have an index on rows and columns, and are loosely a dict of lists."
   ]
  },
  {
   "cell_type": "markdown",
   "metadata": {},
   "source": [
    "## read in data using pandas\n",
    "checkout how easy it is to import the data from a `.csv` file it is using pandas"
   ]
  },
  {
   "cell_type": "code",
   "execution_count": 72,
   "metadata": {},
   "outputs": [],
   "source": [
    "x = pd.read_csv(\"daily.csv\")"
   ]
  },
  {
   "cell_type": "markdown",
   "metadata": {},
   "source": [
    "these `pandas` objects are pretty smart, so when you ask then to do stuff like print, they know what's up. evaluate the cell below, first just returning `x` and then uncommenting `x.head()`. this is a super helfpful way to look at a new dataset that you have imported."
   ]
  },
  {
   "cell_type": "code",
   "execution_count": 65,
   "metadata": {},
   "outputs": [
    {
     "data": {
      "text/html": [
       "<div>\n",
       "<style scoped>\n",
       "    .dataframe tbody tr th:only-of-type {\n",
       "        vertical-align: middle;\n",
       "    }\n",
       "\n",
       "    .dataframe tbody tr th {\n",
       "        vertical-align: top;\n",
       "    }\n",
       "\n",
       "    .dataframe thead th {\n",
       "        text-align: right;\n",
       "    }\n",
       "</style>\n",
       "<table border=\"1\" class=\"dataframe\">\n",
       "  <thead>\n",
       "    <tr style=\"text-align: right;\">\n",
       "      <th></th>\n",
       "      <th>date</th>\n",
       "      <th>state</th>\n",
       "      <th>positive</th>\n",
       "      <th>negative</th>\n",
       "      <th>pending</th>\n",
       "      <th>hospitalizedCurrently</th>\n",
       "      <th>hospitalizedCumulative</th>\n",
       "      <th>inIcuCurrently</th>\n",
       "      <th>inIcuCumulative</th>\n",
       "      <th>onVentilatorCurrently</th>\n",
       "      <th>...</th>\n",
       "      <th>hospitalized</th>\n",
       "      <th>total</th>\n",
       "      <th>totalTestResults</th>\n",
       "      <th>posNeg</th>\n",
       "      <th>fips</th>\n",
       "      <th>deathIncrease</th>\n",
       "      <th>hospitalizedIncrease</th>\n",
       "      <th>negativeIncrease</th>\n",
       "      <th>positiveIncrease</th>\n",
       "      <th>totalTestResultsIncrease</th>\n",
       "    </tr>\n",
       "  </thead>\n",
       "  <tbody>\n",
       "    <tr>\n",
       "      <th>0</th>\n",
       "      <td>20200405</td>\n",
       "      <td>AK</td>\n",
       "      <td>185.0</td>\n",
       "      <td>6099.0</td>\n",
       "      <td>NaN</td>\n",
       "      <td>NaN</td>\n",
       "      <td>20.0</td>\n",
       "      <td>NaN</td>\n",
       "      <td>NaN</td>\n",
       "      <td>NaN</td>\n",
       "      <td>...</td>\n",
       "      <td>20.0</td>\n",
       "      <td>6284</td>\n",
       "      <td>6284</td>\n",
       "      <td>6284</td>\n",
       "      <td>2</td>\n",
       "      <td>1.0</td>\n",
       "      <td>4.0</td>\n",
       "      <td>230.0</td>\n",
       "      <td>14.0</td>\n",
       "      <td>244.0</td>\n",
       "    </tr>\n",
       "    <tr>\n",
       "      <th>1</th>\n",
       "      <td>20200405</td>\n",
       "      <td>AL</td>\n",
       "      <td>1796.0</td>\n",
       "      <td>11282.0</td>\n",
       "      <td>NaN</td>\n",
       "      <td>NaN</td>\n",
       "      <td>231.0</td>\n",
       "      <td>NaN</td>\n",
       "      <td>NaN</td>\n",
       "      <td>NaN</td>\n",
       "      <td>...</td>\n",
       "      <td>231.0</td>\n",
       "      <td>13078</td>\n",
       "      <td>13078</td>\n",
       "      <td>13078</td>\n",
       "      <td>1</td>\n",
       "      <td>2.0</td>\n",
       "      <td>19.0</td>\n",
       "      <td>2009.0</td>\n",
       "      <td>216.0</td>\n",
       "      <td>2225.0</td>\n",
       "    </tr>\n",
       "    <tr>\n",
       "      <th>2</th>\n",
       "      <td>20200405</td>\n",
       "      <td>AR</td>\n",
       "      <td>830.0</td>\n",
       "      <td>10412.0</td>\n",
       "      <td>NaN</td>\n",
       "      <td>67.0</td>\n",
       "      <td>130.0</td>\n",
       "      <td>NaN</td>\n",
       "      <td>43.0</td>\n",
       "      <td>27.0</td>\n",
       "      <td>...</td>\n",
       "      <td>130.0</td>\n",
       "      <td>11242</td>\n",
       "      <td>11242</td>\n",
       "      <td>11242</td>\n",
       "      <td>5</td>\n",
       "      <td>2.0</td>\n",
       "      <td>130.0</td>\n",
       "      <td>785.0</td>\n",
       "      <td>87.0</td>\n",
       "      <td>872.0</td>\n",
       "    </tr>\n",
       "    <tr>\n",
       "      <th>3</th>\n",
       "      <td>20200405</td>\n",
       "      <td>AS</td>\n",
       "      <td>0.0</td>\n",
       "      <td>20.0</td>\n",
       "      <td>6.0</td>\n",
       "      <td>NaN</td>\n",
       "      <td>NaN</td>\n",
       "      <td>NaN</td>\n",
       "      <td>NaN</td>\n",
       "      <td>NaN</td>\n",
       "      <td>...</td>\n",
       "      <td>NaN</td>\n",
       "      <td>26</td>\n",
       "      <td>20</td>\n",
       "      <td>20</td>\n",
       "      <td>60</td>\n",
       "      <td>0.0</td>\n",
       "      <td>0.0</td>\n",
       "      <td>0.0</td>\n",
       "      <td>0.0</td>\n",
       "      <td>0.0</td>\n",
       "    </tr>\n",
       "    <tr>\n",
       "      <th>4</th>\n",
       "      <td>20200405</td>\n",
       "      <td>AZ</td>\n",
       "      <td>2269.0</td>\n",
       "      <td>25141.0</td>\n",
       "      <td>NaN</td>\n",
       "      <td>NaN</td>\n",
       "      <td>310.0</td>\n",
       "      <td>NaN</td>\n",
       "      <td>108.0</td>\n",
       "      <td>NaN</td>\n",
       "      <td>...</td>\n",
       "      <td>310.0</td>\n",
       "      <td>27410</td>\n",
       "      <td>27410</td>\n",
       "      <td>27410</td>\n",
       "      <td>4</td>\n",
       "      <td>12.0</td>\n",
       "      <td>13.0</td>\n",
       "      <td>0.0</td>\n",
       "      <td>250.0</td>\n",
       "      <td>250.0</td>\n",
       "    </tr>\n",
       "  </tbody>\n",
       "</table>\n",
       "<p>5 rows × 25 columns</p>\n",
       "</div>"
      ],
      "text/plain": [
       "       date state  positive  negative  pending  hospitalizedCurrently  \\\n",
       "0  20200405    AK     185.0    6099.0      NaN                    NaN   \n",
       "1  20200405    AL    1796.0   11282.0      NaN                    NaN   \n",
       "2  20200405    AR     830.0   10412.0      NaN                   67.0   \n",
       "3  20200405    AS       0.0      20.0      6.0                    NaN   \n",
       "4  20200405    AZ    2269.0   25141.0      NaN                    NaN   \n",
       "\n",
       "   hospitalizedCumulative  inIcuCurrently  inIcuCumulative  \\\n",
       "0                    20.0             NaN              NaN   \n",
       "1                   231.0             NaN              NaN   \n",
       "2                   130.0             NaN             43.0   \n",
       "3                     NaN             NaN              NaN   \n",
       "4                   310.0             NaN            108.0   \n",
       "\n",
       "   onVentilatorCurrently  ...  hospitalized  total totalTestResults posNeg  \\\n",
       "0                    NaN  ...          20.0   6284             6284   6284   \n",
       "1                    NaN  ...         231.0  13078            13078  13078   \n",
       "2                   27.0  ...         130.0  11242            11242  11242   \n",
       "3                    NaN  ...           NaN     26               20     20   \n",
       "4                    NaN  ...         310.0  27410            27410  27410   \n",
       "\n",
       "   fips  deathIncrease  hospitalizedIncrease  negativeIncrease  \\\n",
       "0     2            1.0                   4.0             230.0   \n",
       "1     1            2.0                  19.0            2009.0   \n",
       "2     5            2.0                 130.0             785.0   \n",
       "3    60            0.0                   0.0               0.0   \n",
       "4     4           12.0                  13.0               0.0   \n",
       "\n",
       "   positiveIncrease  totalTestResultsIncrease  \n",
       "0              14.0                     244.0  \n",
       "1             216.0                    2225.0  \n",
       "2              87.0                     872.0  \n",
       "3               0.0                       0.0  \n",
       "4             250.0                     250.0  \n",
       "\n",
       "[5 rows x 25 columns]"
      ]
     },
     "execution_count": 65,
     "metadata": {},
     "output_type": "execute_result"
    }
   ],
   "source": [
    "x\n",
    "#x.head()"
   ]
  },
  {
   "cell_type": "markdown",
   "metadata": {},
   "source": [
    "`pandas` is also smart about date formats. Let's let `pandas` know that we are using a date in the date column. Then I'm going to set the names of the rows to the dates using the `set_index()` function. This will make my plot prettier in a minute"
   ]
  },
  {
   "cell_type": "code",
   "execution_count": 73,
   "metadata": {},
   "outputs": [
    {
     "data": {
      "text/html": [
       "<div>\n",
       "<style scoped>\n",
       "    .dataframe tbody tr th:only-of-type {\n",
       "        vertical-align: middle;\n",
       "    }\n",
       "\n",
       "    .dataframe tbody tr th {\n",
       "        vertical-align: top;\n",
       "    }\n",
       "\n",
       "    .dataframe thead th {\n",
       "        text-align: right;\n",
       "    }\n",
       "</style>\n",
       "<table border=\"1\" class=\"dataframe\">\n",
       "  <thead>\n",
       "    <tr style=\"text-align: right;\">\n",
       "      <th></th>\n",
       "      <th>state</th>\n",
       "      <th>positive</th>\n",
       "      <th>negative</th>\n",
       "      <th>pending</th>\n",
       "      <th>hospitalizedCurrently</th>\n",
       "      <th>hospitalizedCumulative</th>\n",
       "      <th>inIcuCurrently</th>\n",
       "      <th>inIcuCumulative</th>\n",
       "      <th>onVentilatorCurrently</th>\n",
       "      <th>onVentilatorCumulative</th>\n",
       "      <th>...</th>\n",
       "      <th>hospitalized</th>\n",
       "      <th>total</th>\n",
       "      <th>totalTestResults</th>\n",
       "      <th>posNeg</th>\n",
       "      <th>fips</th>\n",
       "      <th>deathIncrease</th>\n",
       "      <th>hospitalizedIncrease</th>\n",
       "      <th>negativeIncrease</th>\n",
       "      <th>positiveIncrease</th>\n",
       "      <th>totalTestResultsIncrease</th>\n",
       "    </tr>\n",
       "    <tr>\n",
       "      <th>date</th>\n",
       "      <th></th>\n",
       "      <th></th>\n",
       "      <th></th>\n",
       "      <th></th>\n",
       "      <th></th>\n",
       "      <th></th>\n",
       "      <th></th>\n",
       "      <th></th>\n",
       "      <th></th>\n",
       "      <th></th>\n",
       "      <th></th>\n",
       "      <th></th>\n",
       "      <th></th>\n",
       "      <th></th>\n",
       "      <th></th>\n",
       "      <th></th>\n",
       "      <th></th>\n",
       "      <th></th>\n",
       "      <th></th>\n",
       "      <th></th>\n",
       "      <th></th>\n",
       "    </tr>\n",
       "  </thead>\n",
       "  <tbody>\n",
       "    <tr>\n",
       "      <th>2020-04-05</th>\n",
       "      <td>AK</td>\n",
       "      <td>185.0</td>\n",
       "      <td>6099.0</td>\n",
       "      <td>NaN</td>\n",
       "      <td>NaN</td>\n",
       "      <td>20.0</td>\n",
       "      <td>NaN</td>\n",
       "      <td>NaN</td>\n",
       "      <td>NaN</td>\n",
       "      <td>NaN</td>\n",
       "      <td>...</td>\n",
       "      <td>20.0</td>\n",
       "      <td>6284</td>\n",
       "      <td>6284</td>\n",
       "      <td>6284</td>\n",
       "      <td>2</td>\n",
       "      <td>1.0</td>\n",
       "      <td>4.0</td>\n",
       "      <td>230.0</td>\n",
       "      <td>14.0</td>\n",
       "      <td>244.0</td>\n",
       "    </tr>\n",
       "    <tr>\n",
       "      <th>2020-04-05</th>\n",
       "      <td>AL</td>\n",
       "      <td>1796.0</td>\n",
       "      <td>11282.0</td>\n",
       "      <td>NaN</td>\n",
       "      <td>NaN</td>\n",
       "      <td>231.0</td>\n",
       "      <td>NaN</td>\n",
       "      <td>NaN</td>\n",
       "      <td>NaN</td>\n",
       "      <td>NaN</td>\n",
       "      <td>...</td>\n",
       "      <td>231.0</td>\n",
       "      <td>13078</td>\n",
       "      <td>13078</td>\n",
       "      <td>13078</td>\n",
       "      <td>1</td>\n",
       "      <td>2.0</td>\n",
       "      <td>19.0</td>\n",
       "      <td>2009.0</td>\n",
       "      <td>216.0</td>\n",
       "      <td>2225.0</td>\n",
       "    </tr>\n",
       "    <tr>\n",
       "      <th>2020-04-05</th>\n",
       "      <td>AR</td>\n",
       "      <td>830.0</td>\n",
       "      <td>10412.0</td>\n",
       "      <td>NaN</td>\n",
       "      <td>67.0</td>\n",
       "      <td>130.0</td>\n",
       "      <td>NaN</td>\n",
       "      <td>43.0</td>\n",
       "      <td>27.0</td>\n",
       "      <td>39.0</td>\n",
       "      <td>...</td>\n",
       "      <td>130.0</td>\n",
       "      <td>11242</td>\n",
       "      <td>11242</td>\n",
       "      <td>11242</td>\n",
       "      <td>5</td>\n",
       "      <td>2.0</td>\n",
       "      <td>130.0</td>\n",
       "      <td>785.0</td>\n",
       "      <td>87.0</td>\n",
       "      <td>872.0</td>\n",
       "    </tr>\n",
       "    <tr>\n",
       "      <th>2020-04-05</th>\n",
       "      <td>AS</td>\n",
       "      <td>0.0</td>\n",
       "      <td>20.0</td>\n",
       "      <td>6.0</td>\n",
       "      <td>NaN</td>\n",
       "      <td>NaN</td>\n",
       "      <td>NaN</td>\n",
       "      <td>NaN</td>\n",
       "      <td>NaN</td>\n",
       "      <td>NaN</td>\n",
       "      <td>...</td>\n",
       "      <td>NaN</td>\n",
       "      <td>26</td>\n",
       "      <td>20</td>\n",
       "      <td>20</td>\n",
       "      <td>60</td>\n",
       "      <td>0.0</td>\n",
       "      <td>0.0</td>\n",
       "      <td>0.0</td>\n",
       "      <td>0.0</td>\n",
       "      <td>0.0</td>\n",
       "    </tr>\n",
       "    <tr>\n",
       "      <th>2020-04-05</th>\n",
       "      <td>AZ</td>\n",
       "      <td>2269.0</td>\n",
       "      <td>25141.0</td>\n",
       "      <td>NaN</td>\n",
       "      <td>NaN</td>\n",
       "      <td>310.0</td>\n",
       "      <td>NaN</td>\n",
       "      <td>108.0</td>\n",
       "      <td>NaN</td>\n",
       "      <td>NaN</td>\n",
       "      <td>...</td>\n",
       "      <td>310.0</td>\n",
       "      <td>27410</td>\n",
       "      <td>27410</td>\n",
       "      <td>27410</td>\n",
       "      <td>4</td>\n",
       "      <td>12.0</td>\n",
       "      <td>13.0</td>\n",
       "      <td>0.0</td>\n",
       "      <td>250.0</td>\n",
       "      <td>250.0</td>\n",
       "    </tr>\n",
       "  </tbody>\n",
       "</table>\n",
       "<p>5 rows × 24 columns</p>\n",
       "</div>"
      ],
      "text/plain": [
       "           state  positive  negative  pending  hospitalizedCurrently  \\\n",
       "date                                                                   \n",
       "2020-04-05    AK     185.0    6099.0      NaN                    NaN   \n",
       "2020-04-05    AL    1796.0   11282.0      NaN                    NaN   \n",
       "2020-04-05    AR     830.0   10412.0      NaN                   67.0   \n",
       "2020-04-05    AS       0.0      20.0      6.0                    NaN   \n",
       "2020-04-05    AZ    2269.0   25141.0      NaN                    NaN   \n",
       "\n",
       "            hospitalizedCumulative  inIcuCurrently  inIcuCumulative  \\\n",
       "date                                                                  \n",
       "2020-04-05                    20.0             NaN              NaN   \n",
       "2020-04-05                   231.0             NaN              NaN   \n",
       "2020-04-05                   130.0             NaN             43.0   \n",
       "2020-04-05                     NaN             NaN              NaN   \n",
       "2020-04-05                   310.0             NaN            108.0   \n",
       "\n",
       "            onVentilatorCurrently  onVentilatorCumulative  ...  hospitalized  \\\n",
       "date                                                       ...                 \n",
       "2020-04-05                    NaN                     NaN  ...          20.0   \n",
       "2020-04-05                    NaN                     NaN  ...         231.0   \n",
       "2020-04-05                   27.0                    39.0  ...         130.0   \n",
       "2020-04-05                    NaN                     NaN  ...           NaN   \n",
       "2020-04-05                    NaN                     NaN  ...         310.0   \n",
       "\n",
       "            total totalTestResults  posNeg  fips  deathIncrease  \\\n",
       "date                                                              \n",
       "2020-04-05   6284             6284    6284     2            1.0   \n",
       "2020-04-05  13078            13078   13078     1            2.0   \n",
       "2020-04-05  11242            11242   11242     5            2.0   \n",
       "2020-04-05     26               20      20    60            0.0   \n",
       "2020-04-05  27410            27410   27410     4           12.0   \n",
       "\n",
       "            hospitalizedIncrease  negativeIncrease  positiveIncrease  \\\n",
       "date                                                                   \n",
       "2020-04-05                   4.0             230.0              14.0   \n",
       "2020-04-05                  19.0            2009.0             216.0   \n",
       "2020-04-05                 130.0             785.0              87.0   \n",
       "2020-04-05                   0.0               0.0               0.0   \n",
       "2020-04-05                  13.0               0.0             250.0   \n",
       "\n",
       "            totalTestResultsIncrease  \n",
       "date                                  \n",
       "2020-04-05                     244.0  \n",
       "2020-04-05                    2225.0  \n",
       "2020-04-05                     872.0  \n",
       "2020-04-05                       0.0  \n",
       "2020-04-05                     250.0  \n",
       "\n",
       "[5 rows x 24 columns]"
      ]
     },
     "execution_count": 73,
     "metadata": {},
     "output_type": "execute_result"
    }
   ],
   "source": [
    "x['date']=pd.to_datetime(x['date'],format='%Y%m%d')\n",
    "x.set_index(['date'],inplace=True)\n",
    "x.head()"
   ]
  },
  {
   "cell_type": "code",
   "execution_count": 82,
   "metadata": {},
   "outputs": [
    {
     "data": {
      "text/plain": [
       "<matplotlib.legend.Legend at 0x1200ed4e0>"
      ]
     },
     "execution_count": 82,
     "metadata": {},
     "output_type": "execute_result"
    },
    {
     "data": {
      "image/png": "[encoded data removed]",
      "text/plain": [
       "<Figure size 432x288 with 1 Axes>"
      ]
     },
     "metadata": {
      "needs_background": "light"
     },
     "output_type": "display_data"
    }
   ],
   "source": [
    "state1 = \"CA\"\n",
    "state2 = \"WA\"\n",
    "state3 = \"OR\"\n",
    "ax = x[x['state'] == state1]['death'].plot()\n",
    "x[x['state'] == state2]['death'].plot()\n",
    "x[x['state'] == state3]['death'].plot()\n",
    "ax.set_title(\"positive cases\")\n",
    "ax.legend([state1,state2,state3])"
   ]
  },
  {
   "cell_type": "markdown",
   "metadata": {},
   "source": [
    "### A quick note about plot and axes\n",
    "note the line above where i said `ax = x[x['state'] == state1]['death'].plot()`. Here I'm\n",
    "grabbing the output of `plot()` and saving it in a variable called `ax` which stands in my mind for Axes. [Axes](https://matplotlib.org/api/axes_api.html#matplotlib.axes.Axes) objects are the things that hold all the information about the aesthetics of a plot, like how x-tick marks are displayed, titles, legends, etc.. By way of example notice how lower down in the code cell I set the title and legend with the calls\n",
    "```\n",
    "ax.set_title(\"positive cases\")\n",
    "ax.legend([state1,state2,state3])\n",
    "```"
   ]
  },
  {
   "cell_type": "markdown",
   "metadata": {},
   "source": [
    "# Exponential growth\n",
    "Epidemics, such as the Spanish flu in 1918 and COVID-19 right now, grow in number sensationally quickly. Indeed because humans in the population are immunologically naive, novel viruses can increase in number nearly free from hinderences, particularly at the early stages of an epidemic when infections are rare. \n",
    "\n",
    "<img src=imgs/E.coli-colony-growth.gif>\n",
    "\n",
    "Imagine the following scenario-- imagine that each infected individual in a population infects two other uninfected individuals, and each of them goes on to infect two others, and so on. Imagine that this series of infections would happenly _discreetly_ in time, such that the number of infected individuals on day $t$, call it $N(t)$, starts on day 0 as $N(0) = 1$, and increases such that $N(1) = 2, N(2) = 4,$ etc.\n",
    "\n",
    "With discrete time steps we call this sort of progression a geometric series where the number of infected individuals in the next time step $N(t+1)$\n",
    "\n",
    "\\begin{equation*}\n",
    "N(t+1) = N(t)r \n",
    "\\end{equation*}\n",
    "\n",
    "where r is the growth rate per step. Let's plot such a series quickly"
   ]
  },
  {
   "cell_type": "code",
   "execution_count": 84,
   "metadata": {},
   "outputs": [
    {
     "data": {
      "text/plain": [
       "<matplotlib.legend.Legend at 0x11ff4f780>"
      ]
     },
     "execution_count": 84,
     "metadata": {},
     "output_type": "execute_result"
    },
    {
     "data": {
      "image/png": "[encoded data removed]",
      "text/plain": [
       "<Figure size 432x288 with 1 Axes>"
      ]
     },
     "metadata": {
      "needs_background": "light"
     },
     "output_type": "display_data"
    }
   ],
   "source": [
    "# geometric gowth function\n",
    "# note i added a default number of timesteps\n",
    "def geom_growth(init_size, r, timesteps=50):\n",
    "    res = np.zeros(timesteps)\n",
    "    res[0] = init_size\n",
    "    for i in range(1,timesteps):\n",
    "        res[i] = res[i-1] * r\n",
    "    return res\n",
    "\n",
    "\n",
    "plt.plot(geom_growth(1,1.1,10))\n",
    "plt.plot(geom_growth(1,1.2,10))\n",
    "plt.legend(labels=('r=1.1','r=1.2'))"
   ]
  },
  {
   "cell_type": "markdown",
   "metadata": {},
   "source": [
    "so here we have two populations growing at different rates. the first thing to notice is how quickly these are growing. let's plot them for 200 days rather than 10"
   ]
  },
  {
   "cell_type": "code",
   "execution_count": 85,
   "metadata": {},
   "outputs": [
    {
     "data": {
      "text/plain": [
       "<matplotlib.legend.Legend at 0x11fb594a8>"
      ]
     },
     "execution_count": 85,
     "metadata": {},
     "output_type": "execute_result"
    },
    {
     "data": {
      "image/png": "[encoded data removed]",
      "text/plain": [
       "<Figure size 432x288 with 1 Axes>"
      ]
     },
     "metadata": {
      "needs_background": "light"
     },
     "output_type": "display_data"
    }
   ],
   "source": [
    "plt.plot(geom_growth(1, 1.1, 200))\n",
    "plt.plot(geom_growth(1, 1.2, 200))\n",
    "plt.legend(labels=('r=1.1', 'r=1.2'))"
   ]
  },
  {
   "cell_type": "markdown",
   "metadata": {},
   "source": [
    "now you can barely see the smaller growth rate population, and the numbers of the blue population have gotten astromonical ($N \\sim 10^{15}$)! These sorts of geometric growth processes quickly get out of hand.\n",
    "\n",
    "## Continuous time\n",
    "This will come as a shock to you but wild populations don't often have perfectly discrete generations. Instead there's distribution of times at which individuals might reproduce. So let's generalize our model above to one in which we don't need discrete time and instead allow time and use some calculus. \n",
    "\n",
    "As above we imagine that $N(t)$ describes the size of our population at time $t$ and that $r$ is the rate of increase in our population size (i.e. the difference between the instantaneous rate of births and the rate of deaths)"
   ]
  },
  {
   "cell_type": "markdown",
   "metadata": {},
   "source": [
    "In continuous time we write down the differential equation which describes the rate of change of the population such that\n",
    "\n",
    "\\begin{equation*}\n",
    "\\frac{dN}{dt} = rN\n",
    "\\end{equation*}\n",
    "\n",
    "We can integrate this directly to obtain \n",
    "\n",
    "\\begin{equation}\n",
    "N(t) = N(0)e^{rt}\n",
    "\\end{equation}\n",
    "\n",
    "the last equation is the continuous time analogue of what we got above. Let's write  a quick function for it and plot"
   ]
  },
  {
   "cell_type": "code",
   "execution_count": 93,
   "metadata": {},
   "outputs": [
    {
     "data": {
      "text/plain": [
       "[<matplotlib.lines.Line2D at 0x11ec506d8>]"
      ]
     },
     "execution_count": 93,
     "metadata": {},
     "output_type": "execute_result"
    },
    {
     "data": {
      "image/png": "[encoded data removed]",
      "text/plain": [
       "<Figure size 432x288 with 1 Axes>"
      ]
     },
     "metadata": {
      "needs_background": "light"
     },
     "output_type": "display_data"
    }
   ],
   "source": [
    "import numpy as np\n",
    "\n",
    "def exp_growth(init_size, r, timesteps=50):\n",
    "    x = np.linspace(0,timesteps,100)\n",
    "    res = np.zeros(100)\n",
    "    for i in range(0,len(res)):\n",
    "        res[i] = init_size * np.exp(r*x[i])\n",
    "    return res\n",
    "plt.plot(exp_growth(1, 1.1, 5))\n",
    "plt.plot(geom_growth(1, 1.1, 5))\n"
   ]
  },
  {
   "cell_type": "markdown",
   "metadata": {},
   "source": [
    "\n",
    "so our new exponential growth model looks just like our discrete one. that's good because the new equation makes the math really easy!\n",
    "\n",
    "For a mathematician, the natural thing to do with an exponential function is take it's logarithm. Let's take the log of both sides of the growth model above in equation 1\n",
    "\n",
    "\n",
    "\\begin{equation*}\n",
    "\\log N(t) = \\log N(0) + rt\n",
    "\\end{equation*}\n",
    "\n",
    "if $N(0) = 1$ then $\\log 1 = 0$ and we can ignore the first term on the right hand side. then $\\log N(t) = rt$ and taking the derivative of both sides with respect to time we obtain the provocative\n",
    "\n",
    "\n",
    "\n",
    "\\begin{equation*}\n",
    "\\frac{d\\log N(t)}{dt} = r \n",
    "\\end{equation*}\n",
    "\n"
   ]
  },
  {
   "cell_type": "markdown",
   "metadata": {},
   "source": [
    "so this is saying that the slope of the log of the population size should be a constant and that slope should be the growth rate itself! \n",
    "\n",
    "Math is cool.\n",
    "\n",
    "### Estimate the growth rate from exponential data\n",
    "Let's try to estimate the growth rate, $r$, by fitting a line to the numbers spit out from out `exp_growth()` function. We might pretend that these data are real data, say from a pandemic"
   ]
  },
  {
   "cell_type": "code",
   "execution_count": 61,
   "metadata": {},
   "outputs": [
    {
     "name": "stdout",
     "output_type": "stream",
     "text": [
      "slope estimate 1.0999999999999999 vs true 1.1)\n"
     ]
    },
    {
     "data": {
      "text/plain": [
       "[<matplotlib.lines.Line2D at 0x119e36ef0>]"
      ]
     },
     "execution_count": 61,
     "metadata": {},
     "output_type": "execute_result"
    },
    {
     "data": {
      "image/png": "[encoded data removed]",
      "text/plain": [
       "<Figure size 432x288 with 1 Axes>"
      ]
     },
     "metadata": {
      "needs_background": "light"
     },
     "output_type": "display_data"
    }
   ],
   "source": [
    "ln = np.log(exp_growth(1, 1.1,100)) #get growth trajectory, take log\n",
    "x = np.linspace(0,len(ln),len(ln)) # make array for X dimension\n",
    "slope, intercept = np.polyfit(x,ln,1) #fit a line, y = ax+b\n",
    "y = (slope * x) + intercept #back calculate y\n",
    "print(f\"slope estimate {slope} vs true 1.1)\")\n",
    "plt.plot(ln)\n",
    "plt.plot(y)"
   ]
  },
  {
   "cell_type": "code",
   "execution_count": 109,
   "metadata": {},
   "outputs": [
    {
     "data": {
      "text/plain": [
       "Text(0.5, 1.0, 'exp growth rate for NY: 0.29995813933217796\\n estimated doubling time for NY: 2.300320976574281')"
      ]
     },
     "execution_count": 109,
     "metadata": {},
     "output_type": "execute_result"
    },
    {
     "data": {
      "image/png": "[encoded data removed]",
      "text/plain": [
       "<Figure size 432x288 with 1 Axes>"
      ]
     },
     "metadata": {
      "needs_background": "light"
     },
     "output_type": "display_data"
    }
   ],
   "source": [
    "state = 'NY'\n",
    "ca_log = np.log(x[x['state'] == state]['positive']) # log tranform counts\n",
    "day = np.linspace(len(ca_log),1,len(ca_log)) # make array of day numbers\n",
    "slope, intercept = np.polyfit(day,ca_log,1) # fit log(cases) ~ ax+b\n",
    "y = (slope * day) + intercept # get best fit line from estimates above\n",
    "plt.plot(ca_log.index,ca_log) # plot log(cases)\n",
    "plt.plot(ca_log.index,y) # plot best fit line\n",
    "plt.xticks(rotation=70) # adjust tick marks on x-axis to look nice\n",
    "plt.title(f\"exp growth rate for {state}: {slope}\\n estimated doubling time for {state}: {0.69/slope}\")"
   ]
  },
  {
   "cell_type": "code",
   "execution_count": 92,
   "metadata": {},
   "outputs": [
    {
     "data": {
      "image/png": "[encoded data removed]",
      "text/plain": [
       "<Figure size 576x432 with 1 Axes>"
      ]
     },
     "metadata": {
      "needs_background": "light"
     },
     "output_type": "display_data"
    }
   ],
   "source": [
    "#x['death'].plot(hue=x['state'])\n",
    "fig, ax = plt.subplots(figsize=(8,6))\n",
    "bp = x.groupby(['state'])['positive'].plot(ax=ax)"
   ]
  },
  {
   "cell_type": "code",
   "execution_count": 127,
   "metadata": {},
   "outputs": [
    {
     "data": {
      "image/png": "[encoded data removed]",
      "text/plain": [
       "<Figure size 432x288 with 2 Axes>"
      ]
     },
     "metadata": {
      "needs_background": "light"
     },
     "output_type": "display_data"
    }
   ],
   "source": [
    "older = x['2020-04-01':]\n",
    "recent = x[:'2020-04-01']\n",
    "state = 'NY'\n",
    "data = [older, recent]\n",
    "fig, ax = plt.subplots(nrows=1, ncols=2)\n",
    "i = 0\n",
    "for z in data:\n",
    "    ca_log = np.log(z[z['state'] == state]['positive']) # log tranform counts\n",
    "    day = np.linspace(len(ca_log),1,len(ca_log)) # make array of day numbers\n",
    "    slope, intercept = np.polyfit(day,ca_log,1) # fit log(cases) ~ ax+b\n",
    "    y = (slope * day) + intercept # get best fit line from estimates above\n",
    "    ax[i].plot(ca_log.index,ca_log) # plot log(cases)\n",
    "    ax[i].plot(ca_log.index,y) # plot best fit line\n",
    "    for tick in ax[i].get_xticklabels():\n",
    "        tick.set_rotation(70)\n",
    "    ax[i].set_title(f\"doubling time for {state}: {round(0.69/slope, 2)}\")\n",
    "    i+=1"
   ]
  },
  {
   "cell_type": "code",
   "execution_count": null,
   "metadata": {},
   "outputs": [],
   "source": []
  }
 ],
 "metadata": {
  "kernelspec": {
   "display_name": "Python 3",
   "language": "python",
   "name": "python3"
  },
  "language_info": {
   "codemirror_mode": {
    "name": "ipython",
    "version": 3
   },
   "file_extension": ".py",
   "mimetype": "text/x-python",
   "name": "python",
   "nbconvert_exporter": "python",
   "pygments_lexer": "ipython3",
   "version": "3.7.1"
  }
 },
 "nbformat": 4,
 "nbformat_minor": 4
}
