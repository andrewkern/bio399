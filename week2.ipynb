{
 "cells": [
  {
   "cell_type": "markdown",
   "metadata": {},
   "source": [
    "# Exponential growth\n",
    "Epidemics, such as the Spanish flu in 1918 and COVID-19 right now, grow in number sensationally quickly. Indeed because humans in the population are immunologically naive, novel viruses can increase in number nearly free from hinderences, particularly at the early stages of an epidemic when infections are rare. \n",
    "\n",
    "<img src=imgs/E.coli-colony-growth.gif>\n",
    "\n",
    "Imagine the following scenario-- imagine that each infected individual in a population infects two other uninfected individuals, and each of them goes on to infect two others, and so on. Imagine that this series of infections would happenly _discretely_ in time, such that the number of infected individuals on day $t$, call it $N(t)$, starts on day 0 as $N(0) = 1$, and increases such that $N(1) = 2, N(2) = 4,$ etc.\n",
    "\n",
    "With discrete time steps we call this sort of progression a geometric series where the number of infected individuals in the next time step $N(t+1)$\n",
    "\n",
    "\\begin{equation*}\n",
    "N(t+1) = N(t)r \n",
    "\\end{equation*}\n",
    "\n",
    "where r is the growth rate per step. Let's plot such a series quickly"
   ]
  },
  {
   "cell_type": "code",
   "execution_count": null,
   "metadata": {},
   "outputs": [],
   "source": [
    "from matplotlib import pyplot as plt\n",
    "\n",
    "# geometric gowth function\n",
    "# note i added a default number of timesteps\n",
    "def geom_growth(init_size, r, timesteps=50):\n",
    "    # create list of zeros with length = timesteps\n",
    "    res = [0] * timesteps\n",
    "    # set first element to initial size\n",
    "    res[0] = init_size\n",
    "    # loop over all other elements\n",
    "    for i in range(1,timesteps):\n",
    "        res[i] = res[i-1] * r\n",
    "    return res\n",
    "\n",
    "\n",
    "plt.plot(geom_growth(1,1.1,10))\n",
    "plt.plot(geom_growth(1,1.2,10))\n",
    "plt.legend(labels=('r=1.1','r=1.2'))"
   ]
  },
  {
   "cell_type": "markdown",
   "metadata": {},
   "source": [
    "so here we have two populations growing at different rates. the first thing to notice is how quickly these are growing. let's plot them for 200 days rather than 10"
   ]
  },
  {
   "cell_type": "code",
   "execution_count": null,
   "metadata": {},
   "outputs": [],
   "source": [
    "plt.plot(geom_growth(1, 1.1, 200))\n",
    "plt.plot(geom_growth(1, 1.2, 200))\n",
    "plt.legend(labels=('r=1.1', 'r=1.2'))"
   ]
  },
  {
   "cell_type": "markdown",
   "metadata": {},
   "source": [
    "now you can barely see the smaller growth rate population, and the numbers of the blue population have gotten astromonical ($N \\sim 10^{15}$)! These sorts of geometric growth processes quickly get out of hand.\n",
    "\n",
    "## Continuous time\n",
    "This will come as a shock to you but wild populations don't often have perfectly discrete generations. Instead there's distribution of times at which individuals might reproduce. So let's generalize our model above to one in which we don't need discrete time and instead allow time and use some calculus. \n",
    "\n",
    "As above we imagine that $N(t)$ describes the size of our population at time $t$ and that $r$ is the rate of increase in our population size (i.e. the difference between the instantaneous rate of births and the rate of deaths)"
   ]
  },
  {
   "cell_type": "markdown",
   "metadata": {},
   "source": [
    "In continuous time we write down the differential equation which describes the rate of change of the population such that\n",
    "\n",
    "\\begin{equation*}\n",
    "\\frac{dN}{dt} = rN\n",
    "\\end{equation*}\n",
    "\n",
    "We can integrate this directly to obtain \n",
    "\n",
    "\\begin{equation}\n",
    "N(t) = N(0)e^{rt}\n",
    "\\end{equation}\n",
    "\n",
    "the last equation is the continuous time analogue of what we got above. Let's write  a quick function for it and plot"
   ]
  },
  {
   "cell_type": "code",
   "execution_count": null,
   "metadata": {},
   "outputs": [],
   "source": [
    "import numpy as np\n",
    "\n",
    "def exp_growth(init_size, r, timesteps=50):\n",
    "    t = np.linspace(0,timesteps,100)\n",
    "    res = np.zeros(100)\n",
    "    for i in range(0,len(res)):\n",
    "        res[i] = init_size * np.exp(r*t[i])\n",
    "    return res\n",
    "plt.plot(exp_growth(1, 1.1, 5))\n",
    "plt.plot(geom_growth(1, 1.1, 5))\n"
   ]
  },
  {
   "cell_type": "markdown",
   "metadata": {},
   "source": [
    "\n",
    "so our new exponential growth model looks just like our discrete one. that's good because the new equation makes the math really easy!\n",
    "\n",
    "For a mathematician, the natural thing to do with an exponential function is take it's logarithm. Let's take the log of both sides of the growth model above in equation 1\n",
    "\n",
    "\n",
    "\\begin{equation*}\n",
    "\\log N(t) = \\log N(0) + rt\n",
    "\\end{equation*}\n",
    "\n",
    "if $N(0) = 1$ then $\\log 1 = 0$ and we can ignore the first term on the right hand side. then $\\log N(t) = rt$ and taking the derivative of both sides with respect to time we obtain the provocative\n",
    "\n",
    "\n",
    "\n",
    "\\begin{equation*}\n",
    "\\frac{d\\log N(t)}{dt} = r \n",
    "\\end{equation*}\n",
    "\n"
   ]
  },
  {
   "cell_type": "markdown",
   "metadata": {},
   "source": [
    "so this is saying that the slope of the log of the population size should be a constant and that slope should be the growth rate itself! \n",
    "\n",
    "Math is cool.\n",
    "\n",
    "### Estimate the growth rate from exponential data\n",
    "Let's try to estimate the growth rate, $r$, by fitting a line to the numbers spit out from out `exp_growth()` function. We might pretend that these data are real data, say from a pandemic"
   ]
  },
  {
   "cell_type": "code",
   "execution_count": null,
   "metadata": {},
   "outputs": [],
   "source": [
    "ln = np.log(exp_growth(1, 1.1,100)) #get growth trajectory, take log\n",
    "x = np.linspace(0,len(ln),len(ln)) # make array for X dimension\n",
    "slope, intercept = np.polyfit(x,ln,1) #fit a line, y = ax+b\n",
    "y = (slope * x) + intercept #back calculate y\n",
    "print(f\"slope estimate {slope} vs true 1.1)\")\n",
    "plt.plot(ln)\n",
    "plt.plot(y, linestyle='-.')"
   ]
  },
  {
   "cell_type": "markdown",
   "metadata": {},
   "source": [
    "so that looks perfect! we are able to recover the parameter of interest by fitting a line using `np.polyfit()` to data and estimating the slope. Let's do this on real data next.\n",
    "\n",
    "# Estimate doubling time of COVID-19 case number from data\n",
    "Let's work on the CDC data that we brought in earlier. We will restrict ourselves to one state at a time"
   ]
  },
  {
   "cell_type": "code",
   "execution_count": null,
   "metadata": {},
   "outputs": [],
   "source": [
    "from matplotlib import pyplot as plt\n",
    "import numpy as np\n",
    "import pandas as pd\n",
    "query = (\"https://data.cdc.gov/api/views/9mfq-cb36/rows.csv?accessType=DOWNLOAD\")\n",
    "x = pd.read_csv(query)\n",
    "x['date']=pd.to_datetime(x['submission_date'])\n",
    "x = x.sort_values(by='date')\n",
    "x.set_index(['date'],inplace=True)\n",
    "# clean data, replace zeros / negatives with 'None'\n",
    "# this will represent missing data for us\n",
    "mask = x['new_case'] < 1\n",
    "x.loc[mask, 'new_case'] = None\n",
    "x.head()"
   ]
  },
  {
   "cell_type": "code",
   "execution_count": null,
   "metadata": {},
   "outputs": [],
   "source": [
    "state = 'CA'\n",
    "march_2020 = x.loc['2020-03-01':'2020-03-31']\n",
    "ca_log = np.log(march_2020[march_2020['state'] == state]['new_case']) # log tranform counts\n",
    "day = np.linspace(1,len(ca_log), len(ca_log)) # make array of day numbers\n",
    "idx = np.isfinite(ca_log) # find locations of missing data to mask out\n",
    "slope, intercept = np.polyfit(day[idx],ca_log[idx],1) # fit log(cases) ~ ax+b; note masking missing vals\n",
    "y = (slope * day) + intercept # get best fit line from estimates above\n",
    "plt.plot(ca_log.index,ca_log) # plot log(cases)\n",
    "plt.plot(ca_log.index,y) # plot best fit line\n",
    "plt.title(f\"exp growth rate for {state}: {slope}\\n estimated doubling time for {state}: {0.69/slope}\")\n",
    "t = plt.xticks(rotation=70) # adjust tick marks on x-axis to look nice\n"
   ]
  },
  {
   "cell_type": "markdown",
   "metadata": {},
   "source": [
    "**Exercise:** change the code block above to look at individual states. What is the estimated doubling time in California? In Oregon?\n",
    "\n",
    "\n",
    "## What a diference a year makes\n",
    "It's been a wild year of social distancing, facial coverings, and hand washing. Has it made a difference? Well let's compare estimated rates of COVID case growth between March 2020 and March 2021. Below I've done this for California.\n",
    "\n",
    "Note the super convenient index below that works with dates"
   ]
  },
  {
   "cell_type": "code",
   "execution_count": null,
   "metadata": {},
   "outputs": [],
   "source": [
    "march_2020 = x.loc['2020-03-01':'2020-03-31']\n",
    "march_2021 = x.loc['2021-03-01':'2021-03-31']\n",
    "march_2022 = x.loc['2022-03-01':'2022-03-31']\n",
    "state = 'CA'\n",
    "data = [march_2020, march_2021, march_2022]\n",
    "fig, ax = plt.subplots(nrows=1, ncols=3, figsize=(15,4))\n",
    "i = 0\n",
    "for z in data:\n",
    "    ca_log = np.log(z[z['state'] == state]['new_case']) # log tranform counts\n",
    "    idx = np.isfinite(ca_log) \n",
    "    day = np.linspace(1,len(ca_log),len(ca_log)) # make array of day numbers\n",
    "    slope, intercept = np.polyfit(day[idx],ca_log[idx],1) # fit log(cases) ~ ax+b\n",
    "    y = (slope * day) + intercept # get best fit line from estimates above\n",
    "    ax[i].plot(ca_log.index,ca_log) # plot log(cases)\n",
    "    ax[i].plot(ca_log.index,y) # plot best fit line\n",
    "    for tick in ax[i].get_xticklabels():\n",
    "        tick.set_rotation(70)\n",
    "    ax[i].set_title(f\"exp growth rate for {state}: {round(slope,2)}\\ndoubling time for {state}: {round(0.69/slope, 2)}\")\n",
    "    i+=1"
   ]
  },
  {
   "cell_type": "markdown",
   "metadata": {},
   "source": [
    "# Numpy and Matplotlib-- essentials of scientific programming in python"
   ]
  },
  {
   "cell_type": "markdown",
   "metadata": {},
   "source": [
    "Let's dive a little deeper now into our tools before we move on\n"
   ]
  },
  {
   "cell_type": "markdown",
   "metadata": {},
   "source": [
    "## Numpy\n",
    "Numpy is *the* core numerical library for technical programming in Python. In particular it implements fast routines for multidimensional arrays (think matrices or tensors). Much of our work for the remainder of this class will depend on numpy but in an indirect way, so you will not need to become an expert. I will not delve too deep into the weeds of numpy but if you are interested in tackling it head on, go have a look at the [official numpy user guide](https://docs.scipy.org/doc/numpy/user/index.html)\n",
    "\n",
    "### Numpy Arrays\n",
    "The whole reason we use numpy is because it provides an amazing datatype--- a multidimensional array or n-dimensional array called `ndarray`. These numpy arrays are sort of like lists, in that you can index in to them to find elements, but they are much, much more efficient. /As part of this efficiency we need to define the datatype of an array, or as the opbject calls it the `dtype`. Arrays can only take elements of a particular data type (all `int64` for instance) and they can be of arbitrary shape. For instance:"
   ]
  },
  {
   "cell_type": "code",
   "execution_count": null,
   "metadata": {},
   "outputs": [],
   "source": [
    "import numpy as np\n",
    "\n",
    "x = np.array([1,3,4])\n",
    "print(type(x),x.dtype)\n",
    "\n",
    "print(x[0],x[2])\n",
    "\n",
    "print(x.shape)"
   ]
  },
  {
   "cell_type": "markdown",
   "metadata": {},
   "source": [
    "here `.shape` is returning the dimensions of the array. in this case we have a column vector of 3 rows"
   ]
  },
  {
   "cell_type": "code",
   "execution_count": null,
   "metadata": {
    "scrolled": true
   },
   "outputs": [],
   "source": [
    "## input the matrix\n",
    "##\n",
    "## 1 2 3\n",
    "## 4 5 6\n",
    "#\n",
    "y = np.array([[1,2,3],[4,5,6]])\n",
    "print(y.shape) # two rows, three columns\n",
    "print(y[0,0],y[1,1])\n"
   ]
  },
  {
   "cell_type": "markdown",
   "metadata": {},
   "source": [
    "Initializing numpy arrays is easy and there are many functions available to give common kinds of matrices."
   ]
  },
  {
   "cell_type": "code",
   "execution_count": null,
   "metadata": {},
   "outputs": [],
   "source": [
    "\n",
    "a = np.zeros((2,2))   # Create an array of all zeros\n",
    "print(a)              # Prints \"[[ 0.  0.]\n",
    "print(\"--------\")     #          [ 0.  0.]]\"\n",
    "\n",
    "b = np.ones((1,3))    # Create an array of all ones\n",
    "print(b)              # Prints \"[[ 1.  1. 1.]]\"\n",
    "print(\"--------\")\n",
    "c = np.full((2,2), 7)  # Create a constant array\n",
    "print(c)               # Prints \"[[ 7.  7.]\n",
    "                       #          [ 7.  7.]]\"\n",
    "print(\"--------\")\n",
    "d = np.eye(4)         # Create a 2x2 identity matrix\n",
    "print(d)              # Prints \"[[ 1.  0. 0. 0.]\n",
    "                      #          [ 0.  1. 0. 0.]\n",
    "                      #          [ 0.  0. 1. 0.]\n",
    "                      #          [ 0.  0. 0. 1.]]\"\n",
    "print(\"--------\")\n",
    "e = np.random.random((2,2))  # Create an array filled with random values\n",
    "print(e)                     # Might print \"[[ 0.91940167  0.08143941]\n",
    "                             #               [ 0.68744134  0.87236687]]\""
   ]
  },
  {
   "cell_type": "code",
   "execution_count": null,
   "metadata": {},
   "outputs": [],
   "source": [
    "print(b)\n",
    "b2 = np.ones((3))\n",
    "b[0,0]\n",
    "b2[0]\n",
    "b2.shape"
   ]
  },
  {
   "cell_type": "markdown",
   "metadata": {},
   "source": [
    "# Buit in numpy functions\n",
    "One of the most useful parts of numpy are the built in functions. We can leverage these for all kinds of things, saving us from writing code and speeding up things as we go along. \n",
    "\n",
    "A classic that you will use again and again will be things like `sum` or `mean`. For instance"
   ]
  },
  {
   "cell_type": "code",
   "execution_count": null,
   "metadata": {},
   "outputs": [],
   "source": [
    "x = np.array([11, 12])\n",
    "print(x.sum())\n",
    "print(x.mean())"
   ]
  },
  {
   "cell_type": "code",
   "execution_count": null,
   "metadata": {},
   "outputs": [],
   "source": [
    "# make array of 1000 normally distributed random\n",
    "# numbers with mean -0.5, and stdev 1.\n",
    "# note we are using numpy's random number library\n",
    "x = np.random.normal(-0.5,1,1000)\n",
    "print(x.mean())\n",
    "print(x.std())"
   ]
  },
  {
   "cell_type": "markdown",
   "metadata": {},
   "source": [
    "**Exercise:** change the mean of the normal distribution above and confirm that numpy is giving you the correct mean back. If you store the new array in a variable called `y` you can plot a histogram comparing the new and old arrays using the code below"
   ]
  },
  {
   "cell_type": "code",
   "execution_count": null,
   "metadata": {},
   "outputs": [],
   "source": [
    "from matplotlib import pyplot as plt\n",
    "\n",
    "bins = np.linspace(-5, 5, 40)\n",
    "# y = np.random.normal(0.5,1,1000) # comment out if you have your own y\n",
    "plt.hist(x, bins, alpha=0.5, label='x')\n",
    "h= plt.hist(y, bins, alpha=0.5, label='y')"
   ]
  },
  {
   "cell_type": "markdown",
   "metadata": {},
   "source": [
    "this brings us to a very important point in any computational work that until this point we've been mostly skirting-- the visual display of quantitative information."
   ]
  },
  {
   "cell_type": "markdown",
   "metadata": {},
   "source": [
    "## \"Above all else show the data\" -- Edward Tufte\n",
    "For the remainder of this lesson we are going to spend time with creating plots using the main tool in python `matplotlib`.  "
   ]
  },
  {
   "cell_type": "markdown",
   "metadata": {},
   "source": [
    "We can use it, in combination with numpy, pandas, and other libraries to create beautiful, publication quality images right in our jupyter notebooks. Here we will use it mainly with numbers generated via numpy, but you've already used it a bit for last week's problem set. The full documentation for matplotlib can be found [here](https://matplotlib.org/)"
   ]
  },
  {
   "cell_type": "code",
   "execution_count": null,
   "metadata": {},
   "outputs": [],
   "source": [
    "import numpy as np\n",
    "from matplotlib import pyplot as plt "
   ]
  },
  {
   "cell_type": "markdown",
   "metadata": {},
   "source": [
    "The main interface to matplotlib is via `pyplot` which wraps the matplotlib code into an interface that behaves like Matlab (a popular coding language/environment). Frankly, all of this is a bit opaque, but for much of what we will do we will work through the pyplot paradigm. \n",
    "\n",
    "Let's start by ploting the sine and cosine functions"
   ]
  },
  {
   "cell_type": "code",
   "execution_count": null,
   "metadata": {},
   "outputs": [],
   "source": [
    "x = np.linspace(-np.pi,np.pi,256) #get an array of 256 evenly spaced values between -pi and pi\n",
    "c = np.cos(x) # calculate cos(x)\n",
    "s = np.sin(x) # calculate sin(x)\n",
    "\n",
    "plt.plot(x,s) # create plot\n",
    "plt.plot(x,c)\n",
    "plt.show()  # show the plot"
   ]
  },
  {
   "cell_type": "markdown",
   "metadata": {},
   "source": [
    "We can very simply change the color of the lines if we like, and their thickness, etc."
   ]
  },
  {
   "cell_type": "code",
   "execution_count": null,
   "metadata": {},
   "outputs": [],
   "source": [
    "plt.plot(x, c, color=\"pink\", linewidth=3.5, linestyle=\"-\")\n",
    "plt.plot(x, s, color=\"cyan\",  linewidth=5.5, linestyle=\"--\")\n",
    "plt.show()"
   ]
  },
  {
   "cell_type": "markdown",
   "metadata": {},
   "source": [
    "Perhaps we are interested in limiting the range of the plot. We can do this using using the `xlim()` or `ylim()` functions which take as input a min and a max value for the limitation. Let's add a bit of space to our plot on the y-axis to make the curves a bit smaller in their framing (note we could of course do this on the x-axis too)"
   ]
  },
  {
   "cell_type": "code",
   "execution_count": null,
   "metadata": {},
   "outputs": [],
   "source": [
    "plt.plot(x, c, color=\"pink\", linewidth=3.5, linestyle=\"-\")\n",
    "plt.plot(x, s, color=\"cyan\",  linewidth=5.5, linestyle=\"--\")\n",
    "plt.ylim(-2,2)\n",
    "plt.show()"
   ]
  },
  {
   "cell_type": "markdown",
   "metadata": {},
   "source": [
    "Matplotlib offers a TON of flexibility for our images. Let's add to this pretty x-tick labels that show coordinates in units of $\\pi$. To do this we will rely upon matplotlib's built in `mathtext` mode which will render TeX like markup into pretty images. The full documentation for `mathtext` can be found [here](https://matplotlib.org/users/mathtext.html#mathtext-tutorial)"
   ]
  },
  {
   "cell_type": "code",
   "execution_count": null,
   "metadata": {},
   "outputs": [],
   "source": [
    "plt.plot(x, c, color=\"orange\", linewidth=3.5, linestyle=\"-\")\n",
    "plt.plot(x, s, color=\"blue\",  linewidth=3.5, linestyle=\"--\")\n",
    "plt.xticks([-np.pi, -np.pi/2, 0, np.pi/2, np.pi],\n",
    "       [r'$-\\pi$', r'$-\\pi/2$', r'$0$', r'$+\\pi/2$', r'$+\\pi$']) #here is the mathtext format\n",
    "plt.show()"
   ]
  },
  {
   "cell_type": "markdown",
   "metadata": {},
   "source": [
    "Let's add a legend to the figure above"
   ]
  },
  {
   "cell_type": "code",
   "execution_count": null,
   "metadata": {},
   "outputs": [],
   "source": [
    "plt.plot(x, c, color=\"orange\", linewidth=3.5, linestyle=\"-\", label=\"cosine\")\n",
    "plt.plot(x, s, color=\"blue\",  linewidth=3.5, linestyle=\"--\", label=\"sine\")\n",
    "plt.legend(loc='lower left', frameon=True)\n",
    "plt.xticks([-np.pi, -np.pi/2, 0, np.pi/2, np.pi],\n",
    "       [r'$-\\pi$', r'$-\\pi/2$', r'$0$', r'$+\\pi/2$', r'$+\\pi$']) #here is the mathtext format\n",
    "plt.show()"
   ]
  },
  {
   "cell_type": "markdown",
   "metadata": {},
   "source": [
    "A neat thing that matplotlib will allow us to do is change the position of the \"spines\" of our plot, the lines that delineate the axes that we are plotting. Let's move the spines to positions that might be more familiar in the setting of a math class. You can read about spines [here](https://matplotlib.org/api/spines_api.html#matplotlib.spines)"
   ]
  },
  {
   "cell_type": "code",
   "execution_count": null,
   "metadata": {},
   "outputs": [],
   "source": [
    "plt.plot(x, c, color=\"orange\", linewidth=3.5, linestyle=\"-\", label=\"cosine\")\n",
    "plt.plot(x, s, color=\"blue\",  linewidth=3.5, linestyle=\"--\", label=\"sine\")\n",
    "plt.legend(loc='upper left', frameon=False)\n",
    "plt.xticks([-np.pi, -np.pi/2, 0, np.pi/2, np.pi],\n",
    "       [r'$-\\pi$', r'$-\\pi/2$', r'$0$', r'$+\\pi/2$', r'$+\\pi$']) #here is the mathtext format\n",
    "\n",
    "### move the spines\n",
    "ax = plt.gca()  # gca stands for 'get current axis'\n",
    "ax.spines['right'].set_color('none')\n",
    "ax.spines['top'].set_color('none')\n",
    "ax.xaxis.set_ticks_position('bottom')\n",
    "ax.spines['bottom'].set_position(('data',0))\n",
    "ax.yaxis.set_ticks_position('left')\n",
    "ax.spines['left'].set_position(('data',0))\n",
    "\n",
    "plt.savefig(\"myimg.pdf\")"
   ]
  },
  {
   "cell_type": "markdown",
   "metadata": {},
   "source": [
    "## Some examples of the kinds of plots we can make\n",
    "Now that we've gone through some of the basics, I'd like to do just a quick whirlwind tour of some of the basic plot types that we can create with matplotlib alone (we will eventually get to the seaborn package which opens up further possibilities)\n",
    "\n",
    "### Scatter plots\n",
    "The most common sort of plot you might make is a scatter plot. Let's use the `numpy.random` module to create multivariate normal random numbers and plot those. We will do this for two covariance matrices, one more correlated than the other\n"
   ]
  },
  {
   "cell_type": "code",
   "execution_count": null,
   "metadata": {},
   "outputs": [],
   "source": [
    "mean = np.array([0,0])\n",
    "cov1 = np.array([[1.0,0.1],[0.1,1.0]]) #low covariance between x & y\n",
    "x = np.random.multivariate_normal(mean, cov1, size=1000)\n",
    "plt.scatter(x[:,0],x[:,1])\n",
    "plt.show()"
   ]
  },
  {
   "cell_type": "code",
   "execution_count": null,
   "metadata": {},
   "outputs": [],
   "source": [
    "mean = np.array([0,0])\n",
    "cov1 = np.array([[1.0,0.9],[0.9,1.0]]) # high covariance between x & y\n",
    "x = np.random.multivariate_normal(mean, cov1, size=1000)\n",
    "plt.scatter(x[:,0],x[:,1],alpha=0.3) # I've set alpha < 1 so that points are a bit transparent\n",
    "plt.show()"
   ]
  },
  {
   "cell_type": "markdown",
   "metadata": {},
   "source": [
    "## Contour plots"
   ]
  },
  {
   "cell_type": "code",
   "execution_count": null,
   "metadata": {},
   "outputs": [],
   "source": [
    "def banana_function(x, y):\n",
    "    a = 1\n",
    "    b = 2\n",
    "    return((a-x)**2 + (b*(y - x**2)**2))\n",
    "\n",
    "n = 512\n",
    "x = np.linspace(-3, 3, n)\n",
    "y = np.linspace(-10, 1, n)\n",
    "X, Y = np.meshgrid(x, y)\n",
    "plt.contourf(X, Y, banana_function(X, Y), 8, alpha=.75, cmap='viridis')\n",
    "#C = plt.contour(X, Y, banana_function(X, Y), 8, colors='black')\n",
    "plt.show()"
   ]
  },
  {
   "cell_type": "markdown",
   "metadata": {},
   "source": [
    "### histograms"
   ]
  },
  {
   "cell_type": "code",
   "execution_count": null,
   "metadata": {},
   "outputs": [],
   "source": [
    "# choose 1000 normal RVs\n",
    "x = np.random.normal(0,1,1000)\n",
    "plt.hist(x)\n",
    "plt.show()"
   ]
  },
  {
   "cell_type": "markdown",
   "metadata": {},
   "source": [
    "## subplots\n",
    "subplots in matplotlib take some care. in particular subplots are 1-indexed rather than the familiar zero indexing in the rest of the python language (why would you do this? I have no idea). the basic function `subplots()` takes two integers specifying the *number of rows* in the array of plots, the *number of columns* in the array, and returns a fig and an Axes object just like `plot()`. I'll give two examples, a simple one and a more complex one.\n",
    "\n",
    "First lets plot two scatterplots side by side"
   ]
  },
  {
   "cell_type": "code",
   "execution_count": null,
   "metadata": {},
   "outputs": [],
   "source": [
    "fig,ax = plt.subplots(2,2) #returns 1 row and 2 columns of plots\n",
    "cov = np.array([[1.0,0.85],[0.85,1.0]]) #low covariance between x & y\n",
    "x = np.random.multivariate_normal([0,0], cov, size=1000)\n",
    "ax[0,0].scatter(x[:,0],x[:,1], alpha= 0.3)\n",
    "\n",
    "cov[0,1]=cov[1,0]=-0.5\n",
    "x = np.random.multivariate_normal([0,0], cov, size=1000)\n",
    "ax[0,1].scatter(x[:,0],x[:,1], alpha= 0.3,color=\"orange\")\n",
    "ax[1,0].scatter(x[:,0],x[:,1], alpha= 0.3,color=\"pink\")\n",
    "ax[1,1].scatter(x[:,0],x[:,1], alpha= 0.3,color=\"green\")\n",
    "plt.show()"
   ]
  },
  {
   "cell_type": "markdown",
   "metadata": {},
   "source": [
    "the second more complex example uses `plt.Gridspec()` to lay out a grid of subplots and the the of so subtlely different `subplot()` to call each of the positions laid out in our grid."
   ]
  },
  {
   "cell_type": "code",
   "execution_count": null,
   "metadata": {},
   "outputs": [],
   "source": [
    "## quiver plot on the bottom\n",
    "\n",
    "#scatter on the top left\n",
    "grid = plt.GridSpec(3, 3, hspace=0.2, wspace=0.2)\n",
    "for i in range(3):\n",
    "    for j in range(3):\n",
    "        plt.subplot(grid[i, j])\n",
    "        if i == j:\n",
    "            col = \"red\"\n",
    "        else:\n",
    "            col = \"blue\"\n",
    "        plt.scatter(np.random.normal(0,1,100),np.random.normal(0,1,100),color=col)\n",
    "#hist on the top right\n",
    "#plt.subplot(grid[0, 1])\n",
    "#plt.hist(x)\n",
    "#plt.subplot(grid[1,0:2:2])\n",
    "#X, Y = np.meshgrid(range(0,6), range(8))\n",
    "#plt.quiver(X, Y)\n",
    "plt.show()"
   ]
  },
  {
   "cell_type": "markdown",
   "metadata": {},
   "source": [
    "### IMSHOW\n",
    "`imshow` allows us to display images, like .jpg files. Because images are represented as numerical arrays in practice we can use the same tool to create visualizations of any sort of data"
   ]
  },
  {
   "cell_type": "code",
   "execution_count": null,
   "metadata": {},
   "outputs": [],
   "source": [
    "def f(x, y):\n",
    "     return(np.sin(x**2 + y**2) / (x**2 + y**2))\n",
    "n = 10\n",
    "x = np.linspace(-3, 3, 4 * n)\n",
    "y = np.linspace(-3, 3, 3 * n)\n",
    "X, Y = np.meshgrid(x, y)\n",
    "plt.imshow(f(X, Y))"
   ]
  },
  {
   "cell_type": "code",
   "execution_count": null,
   "metadata": {},
   "outputs": [],
   "source": []
  }
 ],
 "metadata": {
  "kernelspec": {
   "display_name": "Python 3 (ipykernel)",
   "language": "python",
   "name": "python3"
  },
  "language_info": {
   "codemirror_mode": {
    "name": "ipython",
    "version": 3
   },
   "file_extension": ".py",
   "mimetype": "text/x-python",
   "name": "python",
   "nbconvert_exporter": "python",
   "pygments_lexer": "ipython3",
   "version": "3.7.12"
  }
 },
 "nbformat": 4,
 "nbformat_minor": 4
}
